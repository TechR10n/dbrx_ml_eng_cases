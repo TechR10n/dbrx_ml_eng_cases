{
 "cells": [
  {
   "metadata": {},
   "cell_type": "markdown",
   "source": [
    "## Task 1\n",
    "### Read Data from Delta Table\n",
    "Use Spark to read data from the Delta table into a DataFrame."
   ],
   "id": "6063f17c1282d18f"
  },
  {
   "metadata": {
    "ExecuteTime": {
     "end_time": "2024-08-06T18:39:29.722149Z",
     "start_time": "2024-08-06T18:39:26.910814Z"
    }
   },
   "cell_type": "code",
   "source": [
    "from databricks.sdk.runtime import *\n",
    "from databricks.connect import DatabricksSession\n",
    "\n",
    "spark = DatabricksSession.builder.profile(\"dbrx_connect\").getOrCreate()"
   ],
   "id": "4a5de60d39d0a376",
   "outputs": [
    {
     "name": "stderr",
     "output_type": "stream",
     "text": [
      "/Users/ryan/Developer/e2e_mlops_aws/.venv/lib/python3.11/site-packages/databricks/connect/session.py:433: UserWarning: Ignoring the default notebook Spark session and creating a new Spark Connect session. To use the default notebook Spark session, use DatabricksSession.builder.getOrCreate() with no additional parameters.\n",
      "  warnings.warn(new_notebook_session_msg)\n"
     ]
    }
   ],
   "execution_count": 4
  },
  {
   "metadata": {
    "ExecuteTime": {
     "end_time": "2024-08-06T18:40:23.227237Z",
     "start_time": "2024-08-06T18:40:18.582291Z"
    }
   },
   "cell_type": "code",
   "source": [
    "# TODO\n",
    "dataset_path = \"/Volumes/dt_analytics/analytics_volumes/rhammang/telco\"\n",
    "\n",
    "# Read dataset with spark\n",
    "\n",
    "schema_string = \"\"\"\n",
    "    customerID string,\n",
    "    gender string,\n",
    "    SeniorCitizen double,\n",
    "    Partner string,\n",
    "    Dependents string,\n",
    "    tenure double,\n",
    "    phoneService string,\n",
    "    MultipleLines string,\n",
    "    internetService string,\n",
    "    OnlineSecurity string,\n",
    "    OnlineBackup string,\n",
    "    DeviceProtection string,\n",
    "    TechSupport string,\n",
    "    StreamingTV string,\n",
    "    StreamingMovies string,\n",
    "    Contract string,\n",
    "    PaperlessBilling string,\n",
    "    PaymentMethod string,\n",
    "    MonthlyCharges double,\n",
    "    TotalCharges double,\n",
    "    Churn string\n",
    "\"\"\"\n",
    "\n",
    "telco_df = spark.read.csv(dataset_path,\n",
    "                          header=True,\n",
    "                          schema=schema_string,\n",
    "                          multiLine=True,\n",
    "                          escape='\"')\n",
    "\n",
    "table_name = \"telco_missing\"\n",
    "table_name_bronze = f\"{table_name}_bronze\"\n",
    "\n",
    "# Write it as delta table\n",
    "# telco_df.write.<FILL_IN>\n",
    "telco_df.show()"
   ],
   "id": "ee53f6582a0160ad",
   "outputs": [
    {
     "name": "stdout",
     "output_type": "stream",
     "text": [
      "+----------+------+-------------+-------+----------+------+------------+----------------+---------------+-------------------+-------------------+-------------------+-------------------+-------------------+-------------------+--------------+----------------+--------------------+--------------+------------+-----+\n",
      "|customerID|gender|SeniorCitizen|Partner|Dependents|tenure|phoneService|   MultipleLines|internetService|     OnlineSecurity|       OnlineBackup|   DeviceProtection|        TechSupport|        StreamingTV|    StreamingMovies|      Contract|PaperlessBilling|       PaymentMethod|MonthlyCharges|TotalCharges|Churn|\n",
      "+----------+------+-------------+-------+----------+------+------------+----------------+---------------+-------------------+-------------------+-------------------+-------------------+-------------------+-------------------+--------------+----------------+--------------------+--------------+------------+-----+\n",
      "|7590-VHVEG|Female|          0.0|    Yes|        No|   1.0|          No|No phone service|            DSL|                 No|                Yes|                 No|                 No|                 No|                 No|Month-to-month|             Yes|    Electronic check|         29.85|       29.85|   No|\n",
      "|5575-GNVDE|  Male|          0.0|     No|        No|  34.0|         Yes|              No|            DSL|                Yes|                 No|                Yes|                 No|                 No|                 No|      One year|              No|        Mailed check|         56.95|      1889.5|   No|\n",
      "|3668-QPYBK|  Male|          0.0|     No|        No|   2.0|         Yes|              No|            DSL|                Yes|                Yes|                 No|                 No|                 No|                 No|Month-to-month|             Yes|        Mailed check|         53.85|      108.15|  Yes|\n",
      "|7795-CFOCW|  Male|          0.0|     No|        No|  45.0|          No|No phone service|            DSL|                Yes|                 No|                Yes|                Yes|                 No|                 No|      One year|              No|Bank transfer (au...|          42.3|     1840.75|   No|\n",
      "|9237-HQITU|Female|          0.0|     No|        No|   2.0|         Yes|              No|    Fiber optic|                 No|                 No|                 No|                 No|                 No|                 No|Month-to-month|             Yes|    Electronic check|          70.7|      151.65|  Yes|\n",
      "|9305-CDSKC|Female|          0.0|     No|        No|   8.0|         Yes|             Yes|    Fiber optic|                 No|                 No|                Yes|                 No|                Yes|                Yes|Month-to-month|             Yes|    Electronic check|         99.65|       820.5|  Yes|\n",
      "|1452-KIOVK|  Male|          0.0|     No|       Yes|  22.0|         Yes|             Yes|    Fiber optic|                 No|                Yes|                 No|                 No|                Yes|                 No|Month-to-month|             Yes|Credit card (auto...|          89.1|      1949.4|   No|\n",
      "|6713-OKOMC|Female|          0.0|     No|        No|  10.0|          No|No phone service|            DSL|                Yes|                 No|                 No|                 No|                 No|                 No|Month-to-month|              No|        Mailed check|         29.75|       301.9|   No|\n",
      "|7892-POOKP|Female|          0.0|    Yes|        No|  28.0|         Yes|             Yes|    Fiber optic|                 No|                 No|                Yes|                Yes|                Yes|                Yes|Month-to-month|             Yes|    Electronic check|         104.8|     3046.05|  Yes|\n",
      "|6388-TABGU|  Male|          0.0|     No|       Yes|  62.0|         Yes|              No|            DSL|                Yes|                Yes|                 No|                 No|                 No|                 No|      One year|              No|Bank transfer (au...|         56.15|     3487.95|   No|\n",
      "|9763-GRSKD|  Male|          0.0|    Yes|       Yes|  13.0|         Yes|              No|            DSL|                Yes|                 No|                 No|                 No|                 No|                 No|Month-to-month|             Yes|        Mailed check|         49.95|      587.45|   No|\n",
      "|7469-LKBCI|  Male|          0.0|     No|        No|  16.0|         Yes|              No|             No|No internet service|No internet service|No internet service|No internet service|No internet service|No internet service|      Two year|              No|Credit card (auto...|         18.95|       326.8|   No|\n",
      "|8091-TTVAX|  Male|          0.0|    Yes|        No|  58.0|         Yes|             Yes|    Fiber optic|                 No|                 No|                Yes|                 No|                Yes|                Yes|      One year|              No|Credit card (auto...|        100.35|      5681.1|   No|\n",
      "|0280-XJGEX|  Male|          0.0|     No|        No|  49.0|         Yes|             Yes|    Fiber optic|                 No|                Yes|                Yes|                 No|                Yes|                Yes|Month-to-month|             Yes|Bank transfer (au...|         103.7|      5036.3|  Yes|\n",
      "|5129-JLPIS|  Male|          0.0|     No|        No|  25.0|         Yes|              No|    Fiber optic|                Yes|                 No|                Yes|                Yes|                Yes|                Yes|Month-to-month|             Yes|    Electronic check|         105.5|     2686.05|   No|\n",
      "|3655-SNQYZ|Female|          0.0|    Yes|       Yes|  69.0|         Yes|             Yes|    Fiber optic|                Yes|                Yes|                Yes|                Yes|                Yes|                Yes|      Two year|              No|Credit card (auto...|        113.25|     7895.15|   No|\n",
      "|8191-XWSZG|Female|          0.0|     No|        No|  52.0|         Yes|              No|             No|No internet service|No internet service|No internet service|No internet service|No internet service|No internet service|      One year|              No|        Mailed check|         20.65|     1022.95|   No|\n",
      "|9959-WOFKT|  Male|          0.0|     No|       Yes|  71.0|         Yes|             Yes|    Fiber optic|                Yes|                 No|                Yes|                 No|                Yes|                Yes|      Two year|              No|Bank transfer (au...|         106.7|     7382.25|   No|\n",
      "|4190-MFLUW|Female|          0.0|    Yes|       Yes|  10.0|         Yes|              No|            DSL|                 No|                 No|                Yes|                Yes|                 No|                 No|Month-to-month|              No|Credit card (auto...|          55.2|      528.35|  Yes|\n",
      "|4183-MYFRB|Female|          0.0|     No|        No|  21.0|         Yes|              No|    Fiber optic|                 No|                Yes|                Yes|                 No|                 No|                Yes|Month-to-month|             Yes|    Electronic check|         90.05|      1862.9|   No|\n",
      "+----------+------+-------------+-------+----------+------+------------+----------------+---------------+-------------------+-------------------+-------------------+-------------------+-------------------+-------------------+--------------+----------------+--------------------+--------------+------------+-----+\n",
      "only showing top 20 rows\n",
      "\n"
     ]
    }
   ],
   "execution_count": 5
  },
  {
   "metadata": {},
   "cell_type": "markdown",
   "source": [
    "## Task 2\n",
    "### Manage Data Permissions\n",
    "Establish controlled access to the Telco Delta table by granting specific permissions for essential actions.\n",
    "\n",
    "Grant permissions for specific actions (e.g., read, write) on the Delta table."
   ],
   "id": "b7e205dfba9c44be"
  },
  {
   "metadata": {
    "ExecuteTime": {
     "end_time": "2024-07-31T15:45:21.598784Z",
     "start_time": "2024-07-31T15:45:21.595738Z"
    }
   },
   "cell_type": "code",
   "source": [
    "%sql\n",
    "-- TODO\n",
    "Write query to Grant Permission to all the users to access Delta Table\n",
    "<FILL_IN>;"
   ],
   "id": "fe2e267a6a2d78b5",
   "outputs": [
    {
     "ename": "SyntaxError",
     "evalue": "invalid syntax (3326353103.py, line 3)",
     "output_type": "error",
     "traceback": [
      "\u001B[0;36m  Cell \u001B[0;32mIn[6], line 3\u001B[0;36m\u001B[0m\n\u001B[0;31m    Write query to Grant Permission to all the users to access Delta Table\u001B[0m\n\u001B[0m          ^\u001B[0m\n\u001B[0;31mSyntaxError\u001B[0m\u001B[0;31m:\u001B[0m invalid syntax\n"
     ]
    }
   ],
   "execution_count": 6
  },
  {
   "metadata": {},
   "cell_type": "markdown",
   "source": [
    "## Task 3: Show Summary Statistics\n",
    "Compute and present key statistical metrics to gain a comprehensive understanding of the Telco dataset.\n",
    "- Utilize PySpark to compute and display summary statistics for the Telco dataset.\n",
    "+ Include key metrics such as mean, standard deviation, min, max, etc."
   ],
   "id": "48ddb83670069ff9"
  },
  {
   "metadata": {
    "ExecuteTime": {
     "end_time": "2024-07-31T15:45:21.896231Z",
     "start_time": "2024-07-31T15:45:21.894057Z"
    }
   },
   "cell_type": "code",
   "source": [
    "# TODO\n",
    "Show summary of the Data\n",
    "<FILL_IN> "
   ],
   "id": "2b8405fc6fe16fe3",
   "outputs": [
    {
     "ename": "SyntaxError",
     "evalue": "invalid syntax (2973398001.py, line 2)",
     "output_type": "error",
     "traceback": [
      "\u001B[0;36m  Cell \u001B[0;32mIn[7], line 2\u001B[0;36m\u001B[0m\n\u001B[0;31m    Show summary of the Data\u001B[0m\n\u001B[0m         ^\u001B[0m\n\u001B[0;31mSyntaxError\u001B[0m\u001B[0;31m:\u001B[0m invalid syntax\n"
     ]
    }
   ],
   "execution_count": 7
  },
  {
   "metadata": {},
   "cell_type": "markdown",
   "source": [
    "Task 4: Use Data Profiler to Explore DataFrame\n",
    "Use the Data Profiler and Visualization Editor tools.\n",
    "\n",
    "Use the Data Profiler to explore the structure, data types, and basic statistics of the DataFrame.\n",
    "- Task 4.1.1: Identify columns with missing values and analyze the percentage of missing data for each column.\n",
    "- Task 4.1.2: Review the data types of each column to ensure they match expectations. Identify any columns that might need type conversion.\n",
    "- Use Visualization Editor to Check Outliers and Data Distributions:\n",
    "- Task 4.2.1: Create a bar chart to visualize the distribution of churned and non-churned customers.\n",
    "- Task 4.2.2: Generate a pie chart to visualize the distribution of different contract types.\n",
    "- Task 4.2.3: Create a scatter plot to explore the relationship between monthly charges and total charges.\n",
    "- Task 4.2.4: Visualize the count of customers for each payment method using a bar chart.\n",
    "- Task 4.2.5: Compare monthly charges for different contract types using a box plot."
   ],
   "id": "7f41ef882f21c26a"
  },
  {
   "metadata": {
    "ExecuteTime": {
     "end_time": "2024-07-31T15:45:22.190398Z",
     "start_time": "2024-07-31T15:45:22.188801Z"
    }
   },
   "cell_type": "code",
   "source": [
    "# Display the data and Explore the Data Profiler and Visualization Editor\n",
    "#<FILL_IN>"
   ],
   "id": "b39001b7f1022c0a",
   "outputs": [],
   "execution_count": 8
  },
  {
   "metadata": {
    "ExecuteTime": {
     "end_time": "2024-07-31T15:45:22.405360Z",
     "start_time": "2024-07-31T15:45:22.374006Z"
    }
   },
   "cell_type": "code",
   "source": [
    "# Display the data and Explore the Data Profiler and Visualization Editor\n",
    "display(telco_df)"
   ],
   "id": "f0cf25f4aeafa4b6",
   "outputs": [
    {
     "ename": "NameError",
     "evalue": "name 'telco_df' is not defined",
     "output_type": "error",
     "traceback": [
      "\u001B[0;31m---------------------------------------------------------------------------\u001B[0m",
      "\u001B[0;31mNameError\u001B[0m                                 Traceback (most recent call last)",
      "Cell \u001B[0;32mIn[9], line 2\u001B[0m\n\u001B[1;32m      1\u001B[0m \u001B[38;5;66;03m# Display the data and Explore the Data Profiler and Visualization Editor\u001B[39;00m\n\u001B[0;32m----> 2\u001B[0m display(\u001B[43mtelco_df\u001B[49m)\n",
      "\u001B[0;31mNameError\u001B[0m: name 'telco_df' is not defined"
     ]
    }
   ],
   "execution_count": 9
  },
  {
   "metadata": {},
   "cell_type": "markdown",
   "source": [
    "## Task 5\n",
    "### Drop the Column\n",
    "Remove a specific column, enhancing data cleanliness and focus.\n",
    "Identify the column that needs to be dropped. For example, let's say we want to drop the 'SeniorCitizen' column.\n",
    "Use the appropriate command or method to drop the identified column from the Telco dataset.\n",
    "Verify that the column has been successfully dropped by displaying the updated dataset."
   ],
   "id": "92124a814c6757b5"
  },
  {
   "metadata": {
    "ExecuteTime": {
     "end_time": "2024-07-31T15:45:22.644387Z",
     "start_time": "2024-07-31T15:45:22.642127Z"
    }
   },
   "cell_type": "code",
   "source": [
    "# TODO\n",
    "Drop SeniorCitizen Column \n",
    "telco_dropped_df = <FILL_IN>\n",
    "\n",
    "Overwrite the Delta table\n",
    "telco_dropped_df.write.mode(\"overwrite\")<FILL_IN>"
   ],
   "id": "706166857b9091b4",
   "outputs": [
    {
     "ename": "SyntaxError",
     "evalue": "invalid syntax (1580584074.py, line 2)",
     "output_type": "error",
     "traceback": [
      "\u001B[0;36m  Cell \u001B[0;32mIn[10], line 2\u001B[0;36m\u001B[0m\n\u001B[0;31m    Drop SeniorCitizen Column\u001B[0m\n\u001B[0m         ^\u001B[0m\n\u001B[0;31mSyntaxError\u001B[0m\u001B[0;31m:\u001B[0m invalid syntax\n"
     ]
    }
   ],
   "execution_count": 10
  },
  {
   "metadata": {},
   "cell_type": "markdown",
   "source": [
    "## Task 6\n",
    "### Time-Travel to First\n",
    "- Revert the Telco dataset back to its initial state, exploring the characteristics of the first version.\n",
    "- Utilize time-travel capabilities to revert the dataset to its initial version.\n",
    "- Display and analyze the first version of the Telco dataset to understand its original structure and content."
   ],
   "id": "c3ac90caf7e61687"
  },
  {
   "metadata": {
    "ExecuteTime": {
     "end_time": "2024-07-31T15:45:22.946244Z",
     "start_time": "2024-07-31T15:45:22.943984Z"
    }
   },
   "cell_type": "code",
   "source": [
    "# TODO\n",
    "Extract timestamp of first version (can also be set manually)\n",
    "timestamp_v0 = spark.sql(<FILL_IN>)\n",
    "(spark\n",
    "        .read\n",
    "        .option(<FILL_IN>)\n",
    "        .table(<FILL_IN>)\n",
    "        .printSchema()\n",
    ")"
   ],
   "id": "4c460a80baecdef0",
   "outputs": [
    {
     "ename": "SyntaxError",
     "evalue": "invalid syntax (1745600628.py, line 2)",
     "output_type": "error",
     "traceback": [
      "\u001B[0;36m  Cell \u001B[0;32mIn[11], line 2\u001B[0;36m\u001B[0m\n\u001B[0;31m    Extract timestamp of first version (can also be set manually)\u001B[0m\n\u001B[0m            ^\u001B[0m\n\u001B[0;31mSyntaxError\u001B[0m\u001B[0;31m:\u001B[0m invalid syntax\n"
     ]
    }
   ],
   "execution_count": 11
  },
  {
   "metadata": {},
   "cell_type": "markdown",
   "source": [
    "## Task 7\n",
    "### Read previous versions of the delta table\n",
    "Demonstrate the ability to read data from a specific version of the Delta table.\n",
    "Replace the timestamp in the code with the actual version or timestamp of interest."
   ],
   "id": "863b76cbc50267f1"
  },
  {
   "metadata": {},
   "cell_type": "markdown",
   "source": [
    "Conclusion\n",
    "In this lab, you demonstrated how to explore and manipulate the dataset using Databricks, focusing on data exploration, management, and time-travel capabilities."
   ],
   "id": "b5d500ca85b11c6a"
  },
  {
   "metadata": {
    "ExecuteTime": {
     "end_time": "2024-07-31T15:45:23.429194Z",
     "start_time": "2024-07-31T15:45:23.426428Z"
    }
   },
   "cell_type": "code",
   "source": [
    "%sql\n",
    "-- TODO\n",
    "Show table versions\n",
    "<FILL_IN>"
   ],
   "id": "602c5511129cf4e6",
   "outputs": [
    {
     "ename": "SyntaxError",
     "evalue": "invalid syntax (4224220345.py, line 3)",
     "output_type": "error",
     "traceback": [
      "\u001B[0;36m  Cell \u001B[0;32mIn[12], line 3\u001B[0;36m\u001B[0m\n\u001B[0;31m    Show table versions\u001B[0m\n\u001B[0m         ^\u001B[0m\n\u001B[0;31mSyntaxError\u001B[0m\u001B[0;31m:\u001B[0m invalid syntax\n"
     ]
    }
   ],
   "execution_count": 12
  },
  {
   "metadata": {},
   "cell_type": "code",
   "outputs": [],
   "execution_count": null,
   "source": "",
   "id": "ca7ce188f25ab250"
  }
 ],
 "metadata": {
  "kernelspec": {
   "display_name": "Python 3",
   "language": "python",
   "name": "python3"
  },
  "language_info": {
   "codemirror_mode": {
    "name": "ipython",
    "version": 2
   },
   "file_extension": ".py",
   "mimetype": "text/x-python",
   "name": "python",
   "nbconvert_exporter": "python",
   "pygments_lexer": "ipython2",
   "version": "2.7.6"
  }
 },
 "nbformat": 4,
 "nbformat_minor": 5
}
