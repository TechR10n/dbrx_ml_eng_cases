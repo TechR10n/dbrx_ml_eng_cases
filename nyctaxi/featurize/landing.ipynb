{
 "cells": [
  {
   "cell_type": "code",
   "execution_count": null,
   "id": "initial_id",
   "metadata": {
    "collapsed": true
   },
   "outputs": [],
   "source": [
    ""
   ]
  },
  {
   "metadata": {
    "ExecuteTime": {
     "end_time": "2024-08-08T17:39:42.467808Z",
     "start_time": "2024-08-08T17:12:51.688085Z"
    }
   },
   "cell_type": "code",
   "source": [
    "import os, pathlib\n",
    "import pandas as pd\n",
    "trip_fare_path = \"/Users/ryan/Library/Mobile Documents/com~apple~CloudDocs/datasets/nyctaxi/trip_fare\"\n",
    "trip_fare_file_list = os.listdir(trip_fare_path)\n",
    "print(trip_fare_file_list)\n",
    "\n",
    "for file in trip_fare_file_list:\n",
    "    print(\"Processing file: \", file)\n",
    "    df = pd.concat([df, pd.read_csv(trip_fare_path + \"/\" + file)])\n",
    "    print(df.count())"
   ],
   "id": "5f8a511201fc7ee9",
   "outputs": [
    {
     "name": "stdout",
     "output_type": "stream",
     "text": [
      "['trip_fare_8.csv', 'trip_fare_9.csv', 'trip_fare_11.csv', 'trip_fare_10.csv', 'trip_fare_12.csv', 'trip_fare_1.csv', 'trip_fare_2.csv', 'trip_fare_3.csv', 'trip_fare_7.csv', 'trip_fare_6.csv', 'trip_fare_4.csv', 'trip_fare_5.csv']\n",
      "Processing file:  trip_fare_8.csv\n",
      "medallion           153603004\n",
      " hack_license       153603004\n",
      " vendor_id          153603004\n",
      " pickup_datetime    153603004\n",
      " payment_type       153603004\n",
      " fare_amount        153603004\n",
      " surcharge          153603004\n",
      " mta_tax            153603004\n",
      " tip_amount         153603004\n",
      " tolls_amount       153603004\n",
      " total_amount       153603004\n",
      "dtype: int64\n",
      "Processing file:  trip_fare_9.csv\n",
      "medallion           167710697\n",
      " hack_license       167710697\n",
      " vendor_id          167710697\n",
      " pickup_datetime    167710697\n",
      " payment_type       167710697\n",
      " fare_amount        167710697\n",
      " surcharge          167710697\n",
      " mta_tax            167710697\n",
      " tip_amount         167710697\n",
      " tolls_amount       167710697\n",
      " total_amount       167710697\n",
      "dtype: int64\n",
      "Processing file:  trip_fare_11.csv\n",
      "medallion           182099148\n",
      " hack_license       182099148\n",
      " vendor_id          182099148\n",
      " pickup_datetime    182099148\n",
      " payment_type       182099148\n",
      " fare_amount        182099148\n",
      " surcharge          182099148\n",
      " mta_tax            182099148\n",
      " tip_amount         182099148\n",
      " tolls_amount       182099148\n",
      " total_amount       182099148\n",
      "dtype: int64\n",
      "Processing file:  trip_fare_10.csv\n",
      "medallion           197103704\n",
      " hack_license       197103704\n",
      " vendor_id          197103704\n",
      " pickup_datetime    197103704\n",
      " payment_type       197103704\n",
      " fare_amount        197103704\n",
      " surcharge          197103704\n",
      " mta_tax            197103704\n",
      " tip_amount         197103704\n",
      " tolls_amount       197103704\n",
      " total_amount       197103704\n",
      "dtype: int64\n",
      "Processing file:  trip_fare_12.csv\n",
      "medallion           211074822\n",
      " hack_license       211074822\n",
      " vendor_id          211074822\n",
      " pickup_datetime    211074822\n",
      " payment_type       211074822\n",
      " fare_amount        211074822\n",
      " surcharge          211074822\n",
      " mta_tax            211074822\n",
      " tip_amount         211074822\n",
      " tolls_amount       211074822\n",
      " total_amount       211074822\n",
      "dtype: int64\n",
      "Processing file:  trip_fare_1.csv\n",
      "medallion           225851437\n",
      " hack_license       225851437\n",
      " vendor_id          225851437\n",
      " pickup_datetime    225851437\n",
      " payment_type       225851437\n",
      " fare_amount        225851437\n",
      " surcharge          225851437\n",
      " mta_tax            225851437\n",
      " tip_amount         225851437\n",
      " tolls_amount       225851437\n",
      " total_amount       225851437\n",
      "dtype: int64\n",
      "Processing file:  trip_fare_2.csv\n",
      "medallion           239841613\n",
      " hack_license       239841613\n",
      " vendor_id          239841613\n",
      " pickup_datetime    239841613\n",
      " payment_type       239841613\n",
      " fare_amount        239841613\n",
      " surcharge          239841613\n",
      " mta_tax            239841613\n",
      " tip_amount         239841613\n",
      " tolls_amount       239841613\n",
      " total_amount       239841613\n",
      "dtype: int64\n",
      "Processing file:  trip_fare_3.csv\n",
      "medallion           255590841\n",
      " hack_license       255590841\n",
      " vendor_id          255590841\n",
      " pickup_datetime    255590841\n",
      " payment_type       255590841\n",
      " fare_amount        255590841\n",
      " surcharge          255590841\n",
      " mta_tax            255590841\n",
      " tip_amount         255590841\n",
      " tolls_amount       255590841\n",
      " total_amount       255590841\n",
      "dtype: int64\n",
      "Processing file:  trip_fare_7.csv\n",
      "medallion           269414681\n",
      " hack_license       269414681\n",
      " vendor_id          269414681\n",
      " pickup_datetime    269414681\n",
      " payment_type       269414681\n",
      " fare_amount        269414681\n",
      " surcharge          269414681\n",
      " mta_tax            269414681\n",
      " tip_amount         269414681\n",
      " tolls_amount       269414681\n",
      " total_amount       269414681\n",
      "dtype: int64\n",
      "Processing file:  trip_fare_6.csv\n",
      "medallion           283800137\n",
      " hack_license       283800137\n",
      " vendor_id          283800137\n",
      " pickup_datetime    283800137\n",
      " payment_type       283800137\n",
      " fare_amount        283800137\n",
      " surcharge          283800137\n",
      " mta_tax            283800137\n",
      " tip_amount         283800137\n",
      " tolls_amount       283800137\n",
      " total_amount       283800137\n",
      "dtype: int64\n",
      "Processing file:  trip_fare_4.csv\n",
      "medallion           298900605\n",
      " hack_license       298900605\n",
      " vendor_id          298900605\n",
      " pickup_datetime    298900605\n",
      " payment_type       298900605\n",
      " fare_amount        298900605\n",
      " surcharge          298900605\n",
      " mta_tax            298900605\n",
      " tip_amount         298900605\n",
      " tolls_amount       298900605\n",
      " total_amount       298900605\n",
      "dtype: int64\n",
      "Processing file:  trip_fare_5.csv\n",
      "medallion           314185654\n",
      " hack_license       314185654\n",
      " vendor_id          314185654\n",
      " pickup_datetime    314185654\n",
      " payment_type       314185654\n",
      " fare_amount        314185654\n",
      " surcharge          314185654\n",
      " mta_tax            314185654\n",
      " tip_amount         314185654\n",
      " tolls_amount       314185654\n",
      " total_amount       314185654\n",
      "dtype: int64\n"
     ]
    }
   ],
   "execution_count": 4
  },
  {
   "metadata": {
    "ExecuteTime": {
     "end_time": "2024-08-08T17:45:30.914135Z",
     "start_time": "2024-08-08T17:40:03.837927Z"
    }
   },
   "cell_type": "code",
   "source": [
    "save_parquet_path = \"/Users/ryan/Library/Mobile Documents/com~apple~CloudDocs/datasets/nyctaxi/trip_fare.parquet\"\n",
    "df.to_parquet(save_parquet_path)"
   ],
   "id": "4a4278f8e07c9ac",
   "outputs": [],
   "execution_count": 5
  },
  {
   "metadata": {
    "ExecuteTime": {
     "end_time": "2024-08-08T17:48:21.434372Z",
     "start_time": "2024-08-08T17:48:21.429993Z"
    }
   },
   "cell_type": "code",
   "source": [
    "trip_data_path = \"/Users/ryan/Library/Mobile Documents/com~apple~CloudDocs/datasets/nyctaxi/trip_data\"\n",
    "trip_data_file_list = os.listdir(trip_data_path)\n",
    "print(trip_data_file_list)"
   ],
   "id": "25e6d2d9bf34c714",
   "outputs": [
    {
     "name": "stdout",
     "output_type": "stream",
     "text": [
      "['trip_data_2.csv', 'trip_data_3.csv', 'trip_data_1.csv', 'trip_data_4.csv', 'trip_data_10.csv', 'trip_data_11.csv', 'trip_data_5.csv', 'trip_data_7.csv', 'trip_data_12.csv', 'trip_data_6.csv', 'trip_data_8.csv', 'trip_data_9.csv']\n"
     ]
    }
   ],
   "execution_count": 6
  },
  {
   "metadata": {
    "jupyter": {
     "is_executing": true
    },
    "ExecuteTime": {
     "start_time": "2024-08-08T17:48:21.818533Z"
    }
   },
   "cell_type": "code",
   "source": [
    "for file in trip_data_file_list:\n",
    "    print(\"Processing file: \", file)\n",
    "    df = pd.concat([df, pd.read_csv(trip_data_path + \"/\" + file)])\n",
    "    print(df.count())"
   ],
   "id": "334e2a219e4feab2",
   "outputs": [
    {
     "name": "stdout",
     "output_type": "stream",
     "text": [
      "Processing file:  trip_data_2.csv\n"
     ]
    },
    {
     "name": "stderr",
     "output_type": "stream",
     "text": [
      "/var/folders/ps/w0lhnvdx18q56b22jssvm70w0000gn/T/ipykernel_92587/3929083724.py:3: DtypeWarning: Columns (4) have mixed types. Specify dtype option on import or set low_memory=False.\n",
      "  df = pd.concat([df, pd.read_csv(trip_data_path + \"/\" + file)])\n"
     ]
    }
   ],
   "execution_count": null
  },
  {
   "metadata": {
    "jupyter": {
     "is_executing": true
    }
   },
   "cell_type": "code",
   "source": [
    "save_parquet_path = \"/Users/ryan/Library/Mobile Documents/com~apple~CloudDocs/datasets/nyctaxi/trip_data.parquet\"\n",
    "df.to_parquet(save_parquet_path)"
   ],
   "id": "8d6a2ce2e3fbf6b3",
   "outputs": [],
   "execution_count": null
  },
  {
   "metadata": {},
   "cell_type": "code",
   "outputs": [],
   "execution_count": null,
   "source": "",
   "id": "e82b9be11a2117a7"
  }
 ],
 "metadata": {
  "kernelspec": {
   "display_name": "Python 3",
   "language": "python",
   "name": "python3"
  },
  "language_info": {
   "codemirror_mode": {
    "name": "ipython",
    "version": 2
   },
   "file_extension": ".py",
   "mimetype": "text/x-python",
   "name": "python",
   "nbconvert_exporter": "python",
   "pygments_lexer": "ipython2",
   "version": "2.7.6"
  }
 },
 "nbformat": 4,
 "nbformat_minor": 5
}
