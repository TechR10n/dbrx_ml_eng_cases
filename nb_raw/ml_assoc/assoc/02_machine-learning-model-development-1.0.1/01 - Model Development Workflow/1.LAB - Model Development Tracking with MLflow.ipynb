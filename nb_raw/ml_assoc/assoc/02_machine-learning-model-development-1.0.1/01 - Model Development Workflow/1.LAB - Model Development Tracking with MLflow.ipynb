{
 "cells": [
  {
   "cell_type": "markdown",
   "metadata": {
    "application/vnd.databricks.v1+cell": {
     "cellMetadata": {},
     "inputWidgets": {},
     "nuid": "d5d966b2-cc7b-4db2-9e3e-00818a35760d",
     "showTitle": false,
     "title": ""
    }
   },
   "source": [
    "\n",
    "<div style=\"text-align: center; line-height: 0; padding-top: 9px;\">\n",
    "  <img src=\"https://databricks.com/wp-content/uploads/2018/03/db-academy-rgb-1200px.png\" alt=\"Databricks Learning\">\n",
    "</div>\n"
   ]
  },
  {
   "cell_type": "markdown",
   "metadata": {
    "application/vnd.databricks.v1+cell": {
     "cellMetadata": {},
     "inputWidgets": {},
     "nuid": "f4ded621-3f44-439f-aa86-8869bd35ef7b",
     "showTitle": false,
     "title": ""
    }
   },
   "source": [
    "\n",
    "# LAB - Model Development Tracking with *MLflow* \n",
    "\n",
    "In this lab, you will learn how to leverage MLflow to track and manage the model development process. First, you will load data from a feature table and create train and test splits. Then, you train a classification model and track the training process with MLflow. While MLflow automatically logs all metadata and artifacts with autologging, you will do it manually to learn how to use logging API.\n",
    "\n",
    "**Lab Outline:**\n",
    "\n",
    "* **Task 1.** Load dataset from feature store table\n",
    "* **Task 2.** Define model hyperparameters\n",
    "* **Task 3.** Track the model with MLflow \n",
    "* **Task 4.** Log custom figure\n",
    "* **Task 5.** Review the model details via the UI in the Experiment runs.\n",
    "\n"
   ]
  },
  {
   "cell_type": "markdown",
   "metadata": {
    "application/vnd.databricks.v1+cell": {
     "cellMetadata": {},
     "inputWidgets": {},
     "nuid": "f6420c7f-c7f9-4091-acab-142e73dcf4ee",
     "showTitle": false,
     "title": ""
    }
   },
   "source": [
    "## Requirements\n",
    "\n",
    "Please review the following requirements before starting the lesson:\n",
    "\n",
    "* To run this notebook, you need to use one of the following Databricks runtime(s): **13.3.x-cpu-ml-scala2.12 13.3.x-scala2.12**"
   ]
  },
  {
   "cell_type": "markdown",
   "metadata": {
    "application/vnd.databricks.v1+cell": {
     "cellMetadata": {},
     "inputWidgets": {},
     "nuid": "a929cc60-6538-4d72-a72f-bfb1c05bdc8d",
     "showTitle": false,
     "title": ""
    }
   },
   "source": [
    "\n",
    "## Classroom Setup\n",
    "\n",
    "Before starting the demo, run the provided classroom setup scripts. \n",
    "\n",
    "**📌 Note:** In this lab you will register MLflow models with Unity Catalog. Therefore, you will need to run the next code block to **set model registery URI to UC**. \n"
   ]
  },
  {
   "cell_type": "code",
   "execution_count": 0,
   "metadata": {
    "application/vnd.databricks.v1+cell": {
     "cellMetadata": {},
     "inputWidgets": {},
     "nuid": "eb2197e8-4d0c-4c27-97ae-f6532b02c320",
     "showTitle": false,
     "title": ""
    }
   },
   "outputs": [],
   "source": [
    "%pip install --upgrade 'mlflow-skinny[databricks]'\n",
    "dbutils.library.restartPython()"
   ]
  },
  {
   "cell_type": "markdown",
   "metadata": {
    "application/vnd.databricks.v1+cell": {
     "cellMetadata": {},
     "inputWidgets": {},
     "nuid": "e9fe9eb6-5f3c-4cd8-aaee-c148ad7d3eb8",
     "showTitle": false,
     "title": ""
    }
   },
   "source": [
    "Next, this script will define configuration variables necessary for the demo. Execute the following cell:"
   ]
  },
  {
   "cell_type": "code",
   "execution_count": 0,
   "metadata": {
    "application/vnd.databricks.v1+cell": {
     "cellMetadata": {},
     "inputWidgets": {},
     "nuid": "0a9036d4-fa3c-4025-8601-b9846613c091",
     "showTitle": false,
     "title": ""
    }
   },
   "outputs": [],
   "source": [
    "%run ../Includes/Classroom-Setup-1.LAB"
   ]
  },
  {
   "cell_type": "markdown",
   "metadata": {
    "application/vnd.databricks.v1+cell": {
     "cellMetadata": {},
     "inputWidgets": {},
     "nuid": "421b9bd9-4e5d-4ea2-9007-823c09f3cc76",
     "showTitle": false,
     "title": ""
    }
   },
   "source": [
    "**Other Conventions:**\n",
    "\n",
    "Throughout this demo, we'll refer to the object `DA`. This object, provided by Databricks Academy, contains variables such as your username, catalog name, schema name, working directory, and dataset locations. Run the code block below to view these details:"
   ]
  },
  {
   "cell_type": "code",
   "execution_count": 0,
   "metadata": {
    "application/vnd.databricks.v1+cell": {
     "cellMetadata": {},
     "inputWidgets": {},
     "nuid": "a8fa3cfb-dd7f-449b-9f16-1c018c1a5f10",
     "showTitle": false,
     "title": ""
    }
   },
   "outputs": [],
   "source": [
    "print(f\"Username:          {DA.username}\")\n",
    "print(f\"Catalog Name:      {DA.catalog_name}\")\n",
    "print(f\"Schema Name:       {DA.schema_name}\")\n",
    "print(f\"Working Directory: {DA.paths.working_dir}\")\n",
    "print(f\"User DB Location:  {DA.paths.datasets}\")"
   ]
  },
  {
   "cell_type": "markdown",
   "metadata": {
    "application/vnd.databricks.v1+cell": {
     "cellMetadata": {},
     "inputWidgets": {},
     "nuid": "69b60eff-8189-429b-9f01-1048d9e77ef8",
     "showTitle": false,
     "title": ""
    }
   },
   "source": [
    "## Tasks 1 - Load Dataset from Feature Store Table\n",
    "\n",
    "Use the feature store to load a dataset from a specific table.\n",
    "   - **Load Dataset:** Utilize MLflow's `load_delta` function to seamlessly retrieve and load the dataset from the Feature Store table named **`\"telco\"`** in the specified catalog and schema `(\"DA.catalog_name\" and \"DA.schema_name\")`. \n",
    "   - Convert dataset to `pandas` dataframe and explore the loaded dataset."
   ]
  },
  {
   "cell_type": "markdown",
   "metadata": {
    "application/vnd.databricks.v1+cell": {
     "cellMetadata": {},
     "inputWidgets": {},
     "nuid": "f3604085-d025-4041-b3b9-91243e1eb1d7",
     "showTitle": false,
     "title": ""
    }
   },
   "source": [
    "### Load Data"
   ]
  },
  {
   "cell_type": "code",
   "execution_count": 0,
   "metadata": {
    "application/vnd.databricks.v1+cell": {
     "cellMetadata": {},
     "inputWidgets": {},
     "nuid": "2452f5db-02fb-4e6f-91fc-11f66c14f2be",
     "showTitle": false,
     "title": ""
    }
   },
   "outputs": [],
   "source": [
    "# Import the necessary library for MLflow\n",
    "import mlflow\n",
    "\n",
    "# Load the feature dataset using mlflow.data\n",
    "feature_dataset = mlflow.<FILL_IN>(\n",
    "    table_name=<FILL_IN>,\n",
    "    name=<FILL_IN>\n",
    ")\n",
    "\n",
    "# convert the dataset to pandas df and drop the customerID column\n",
    "feature_data_pd = <FILL_IN>\n",
    "\n",
    "# Convert all feature_data_pd columns to float\n",
    "feature_data_pd = feature_data_pd.astype(float)\n",
    "\n",
    "# inspect final dataset\n",
    "display(<FILL_IN>)"
   ]
  },
  {
   "cell_type": "markdown",
   "metadata": {
    "application/vnd.databricks.v1+cell": {
     "cellMetadata": {},
     "inputWidgets": {},
     "nuid": "f7ce49cb-1e6d-4284-a589-c387a55363dc",
     "showTitle": false,
     "title": ""
    }
   },
   "source": [
    "### Train / Test Split\n",
    "\n",
    "Split the dataset into training and testing sets."
   ]
  },
  {
   "cell_type": "code",
   "execution_count": 0,
   "metadata": {
    "application/vnd.databricks.v1+cell": {
     "cellMetadata": {},
     "inputWidgets": {},
     "nuid": "5f5bd077-4f4f-4076-aad8-5d427e6d868f",
     "showTitle": false,
     "title": ""
    }
   },
   "outputs": [],
   "source": [
    "# Import necessary libraries\n",
    "import mlflow.sklearn  # For MLflow integration\n",
    "from sklearn.model_selection import train_test_split  # For splitting the dataset into training and testing sets\n",
    "\n",
    "# Split the dataset into training and testing sets\n",
    "target_col = <FILL_IN>\n",
    "X_all = <FILL_IN>\n",
    "y_all = <FILL_IN>\n",
    "X_train, X_test, y_train, y_test = <FILL_IN>"
   ]
  },
  {
   "cell_type": "markdown",
   "metadata": {
    "application/vnd.databricks.v1+cell": {
     "cellMetadata": {},
     "inputWidgets": {},
     "nuid": "323e5ac0-4208-47cd-9835-1f3e1bd14f51",
     "showTitle": false,
     "title": ""
    }
   },
   "source": [
    "## Task 2 - Define Model Hyperparameters\n",
    "\n",
    "In this lab, you will train a classification model. In this task define parameters for a Decision Tree Model."
   ]
  },
  {
   "cell_type": "code",
   "execution_count": 0,
   "metadata": {
    "application/vnd.databricks.v1+cell": {
     "cellMetadata": {},
     "inputWidgets": {},
     "nuid": "2ebc1621-6571-43df-95a2-935c9889763a",
     "showTitle": false,
     "title": ""
    }
   },
   "outputs": [],
   "source": [
    "# Define Decision Tree Classifier parameters\n",
    "dtc_params = {\n",
    "  'criterion': <FILL_IN>,\n",
    "  'max_depth': <FILL_IN>,\n",
    "  'min_samples_split': <FILL_IN>,\n",
    "  'min_samples_leaf': <FILL_IN>\n",
    "}"
   ]
  },
  {
   "cell_type": "markdown",
   "metadata": {
    "application/vnd.databricks.v1+cell": {
     "cellMetadata": {},
     "inputWidgets": {},
     "nuid": "cb402152-d4dd-4a9a-bba5-9780eb95dc7e",
     "showTitle": false,
     "title": ""
    }
   },
   "source": [
    "##Task 3 - Track the Model Development  with MLflow\n",
    "\n",
    "Initialize an MLflow run.\n",
    "   - **Initialize MLflow Run:** Start an MLflow run to track the model development process. This allows for systematic recording of parameters, metrics, and artifacts associated with the model.\n",
    "\n",
    "   - **Logging Model Details:** Utilize MLflow tracking to log essential information about the model, including parameters, metrics, and other relevant artifacts."
   ]
  },
  {
   "cell_type": "code",
   "execution_count": 0,
   "metadata": {
    "application/vnd.databricks.v1+cell": {
     "cellMetadata": {},
     "inputWidgets": {},
     "nuid": "2de609fe-7f4b-4207-be3f-42309fc95082",
     "showTitle": false,
     "title": ""
    }
   },
   "outputs": [],
   "source": [
    "import mlflow\n",
    "mlflow.set_registry_uri(\"databricks-uc\")"
   ]
  },
  {
   "cell_type": "code",
   "execution_count": 0,
   "metadata": {
    "application/vnd.databricks.v1+cell": {
     "cellMetadata": {},
     "inputWidgets": {},
     "nuid": "c05aeed6-236c-4e0e-942c-0ea0db77e2a1",
     "showTitle": false,
     "title": ""
    }
   },
   "outputs": [],
   "source": [
    "# TODO  \n",
    "\n",
    "from sklearn.metrics import confusion_matrix, ConfusionMatrixDisplay, accuracy_score, precision_score, recall_score, f1_score\n",
    "from sklearn.tree import DecisionTreeClassifier\n",
    "from mlflow.models.signature import infer_signature\n",
    "\n",
    "# set the path for mlflow experiment\n",
    "mlflow.set_experiment(f\"/Users/{DA.username}/LAB-1-Model-Development-Tracking-with-MLflow\")\n",
    "\n",
    "# Turn off autologging as we want to log the model manually\n",
    "mlflow.autolog(disable=True)\n",
    "\n",
    "# Start an MLFlow run\n",
    "with mlflow.start_run(run_name=\"Model Developing Tracking with MLflow Lab\") as run:\n",
    "   # Log the dataset\n",
    "   mlflow.log_input(feature_dataset, context=\"source\")\n",
    "   mlflow.log_input(mlflow.data.from_pandas(<FILL_IN>, source=feature_dataset.source), context=\"training\")\n",
    "   mlflow.log_input(mlflow.data.from_pandas(<FILL_IN> source=feature_dataset.source), context=\"test\")\n",
    "\n",
    "   # Log parameters\n",
    "   mlflow.log_params(<FILL_IN>)\n",
    "\n",
    "   # Fit the model\n",
    "   dtc = DecisionTreeClassifier(<FILL_IN>)\n",
    "   dtc_mdl = dtc.fit(<FILL_IN>)\n",
    "\n",
    "   # Define model signature\n",
    "   signature = infer_signature(X_all, y_all)\n",
    "    \n",
    "   # Log the model\n",
    "   # Define the model name based on the feature store catalog and schema\n",
    "   model_name = f\"{DA.catalog_name}.{DA.schema_name}.churnmodel\"\n",
    "   mlflow.sklearn.log_model(\n",
    "       sk_model=<FILL_IN>,\n",
    "       artifact_path=\"model-artifacts\",\n",
    "       signature=<FILL_IN>,\n",
    "       registered_model_name=<FILL_IN>\n",
    "   )\n",
    "\n",
    "   # Evaluate on the training set\n",
    "   y_pred_train = <FILL_IN>\n",
    "   mlflow.log_metric(\"train_accuracy\", <FILL_IN>)\n",
    "   mlflow.log_metric(\"train_precision\", <FILL_IN>)\n",
    "   mlflow.log_metric(\"train_recall\", <FILL_IN>)\n",
    "   mlflow.log_metric(\"train_f1\", <FILL_IN>)\n",
    "\n",
    "   # Evaluate on the test set\n",
    "   y_pred_test = dtc_mdl.predict(X_test)\n",
    "   mlflow.log_metric(\"test_accuracy\", <FILL_IN>)\n",
    "   mlflow.log_metric(\"test_precision\", <FILL_IN>)\n",
    "   mlflow.log_metric(\"test_recall\", <FILL_IN>)\n",
    "   mlflow.log_metric(\"test_f1\", <FILL_IN>)"
   ]
  },
  {
   "cell_type": "markdown",
   "metadata": {
    "application/vnd.databricks.v1+cell": {
     "cellMetadata": {},
     "inputWidgets": {},
     "nuid": "0fa353a1-f3c7-41c5-bb5e-76e6a4462160",
     "showTitle": false,
     "title": ""
    }
   },
   "source": [
    "## Task 4 - Log Custom Figure\n",
    "\n",
    "**Log Custom Figure/Visualization:** Include the logging of a custom figure, such as a confusion matrix or any relevant visualization, to further illustrate the model's behavior. This visual representation can be valuable for model evaluation and interpretation."
   ]
  },
  {
   "cell_type": "code",
   "execution_count": 0,
   "metadata": {
    "application/vnd.databricks.v1+cell": {
     "cellMetadata": {},
     "inputWidgets": {},
     "nuid": "daefa87d-d8af-4436-b11c-225d2d7caab4",
     "showTitle": false,
     "title": ""
    }
   },
   "outputs": [],
   "source": [
    "# TODO    \n",
    "# Import necessary libraries for creating and displaying a confusion matrix\n",
    "import matplotlib.pyplot as plt\n",
    "from sklearn.metrics import confusion_matrix, ConfusionMatrixDisplay\n",
    "\n",
    "from mlflow.client import MlflowClient\n",
    "client = MlflowClient()\n",
    "\n",
    "# Compute the confusion matrix\n",
    "cm = confusion_matrix(<FILL_IN>)\n",
    "\n",
    "# Create a figure object and axes for the confusion matrix plot\n",
    "fig, ax = plt.subplots(figsize=(8, 6))\n",
    "\n",
    "# Create a ConfusionMatrixDisplay object with the computed confusion matrix\n",
    "disp = ConfusionMatrixDisplay(<FILL_IN>)\n",
    "\n",
    "# Plot the confusion matrix using the created axes and specified color map\n",
    "disp.plot(<FILL_IN>)\n",
    "\n",
    "# Set the title of the plot\n",
    "ax.set_title('Confusion Matrix')\n",
    "\n",
    "# Log the confusion matrix figure to MLflow\n",
    "client.log_figure(<FILL_IN>)"
   ]
  },
  {
   "cell_type": "markdown",
   "metadata": {
    "application/vnd.databricks.v1+cell": {
     "cellMetadata": {},
     "inputWidgets": {},
     "nuid": "c0ec807a-1bfe-4cdb-a3d4-8e1211b1e79e",
     "showTitle": false,
     "title": ""
    }
   },
   "source": [
    "## Task 5 - Review model details via the UI\n",
    "To review the model details via the MLflow UI in the Experiment runs, follow these steps:\n",
    "\n",
    "+ Step 1: Go to the \"Experiments\" Section\n",
    "\n",
    "+ Step 2: Locate Your Experiment\n",
    "\n",
    "+ Step 3: Review Run Details\n",
    "\n",
    "+ Step 4: Reviewing Artifacts and Metrics\n",
    "\n",
    "+ Step 5: Viewing Confusion Matrix Image\n",
    "\n",
    "+ Step 6: Retrieve Model Details"
   ]
  },
  {
   "cell_type": "markdown",
   "metadata": {
    "application/vnd.databricks.v1+cell": {
     "cellMetadata": {},
     "inputWidgets": {},
     "nuid": "28a119be-39c1-4e06-a1ba-23d626a66384",
     "showTitle": false,
     "title": ""
    }
   },
   "source": [
    "\n",
    "## Clean up Classroom\n",
    "\n",
    "Run the following cell to remove lessons-specific assets created during this lesson."
   ]
  },
  {
   "cell_type": "code",
   "execution_count": 0,
   "metadata": {
    "application/vnd.databricks.v1+cell": {
     "cellMetadata": {},
     "inputWidgets": {},
     "nuid": "6a143acb-6bfe-4e8e-9abc-9ea2622dce16",
     "showTitle": false,
     "title": ""
    }
   },
   "outputs": [],
   "source": [
    "DA.cleanup()"
   ]
  },
  {
   "cell_type": "markdown",
   "metadata": {
    "application/vnd.databricks.v1+cell": {
     "cellMetadata": {},
     "inputWidgets": {},
     "nuid": "24686c1a-387b-4701-b98d-7bd86372e4e0",
     "showTitle": false,
     "title": ""
    }
   },
   "source": [
    "\n",
    "## Conclusion\n",
    "\n",
    "\n",
    "In conclusion, this lab showcased the effectiveness of MLflow in seamlessly managing the model development process. Leveraging MLflow's features, such as experiment tracking, custom metric logging, and artifact storage, enhances collaboration and ensures reproducibility. The ability to review model details through the MLflow UI provides valuable insights into model performance and aids in making informed decisions."
   ]
  },
  {
   "cell_type": "markdown",
   "metadata": {
    "application/vnd.databricks.v1+cell": {
     "cellMetadata": {},
     "inputWidgets": {},
     "nuid": "44f18c58-b476-46ab-a5c8-4f56f9fae48d",
     "showTitle": false,
     "title": ""
    }
   },
   "source": [
    "\n",
    "&copy; 2024 Databricks, Inc. All rights reserved.<br/>\n",
    "Apache, Apache Spark, Spark and the Spark logo are trademarks of the \n",
    "<a href=\"https://www.apache.org/\">Apache Software Foundation</a>.<br/>\n",
    "<br/><a href=\"https://databricks.com/privacy-policy\">Privacy Policy</a> | \n",
    "<a href=\"https://databricks.com/terms-of-use\">Terms of Use</a> | \n",
    "<a href=\"https://help.databricks.com/\">Support</a>"
   ]
  }
 ],
 "metadata": {
  "application/vnd.databricks.v1+notebook": {
   "dashboards": [],
   "environmentMetadata": null,
   "language": "python",
   "notebookMetadata": {
    "pythonIndentUnit": 4
   },
   "notebookName": "1.LAB - Model Development Tracking with MLflow",
   "widgets": {}
  }
 },
 "nbformat": 4,
 "nbformat_minor": 0
}
