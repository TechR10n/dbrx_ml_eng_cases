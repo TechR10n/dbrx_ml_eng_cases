{
 "cells": [
  {
   "cell_type": "markdown",
   "metadata": {
    "application/vnd.databricks.v1+cell": {
     "cellMetadata": {},
     "inputWidgets": {},
     "nuid": "708c5155-f940-4ebb-8f55-85f0394bb0e0",
     "showTitle": false,
     "title": ""
    }
   },
   "source": [
    "\n",
    "<div style=\"text-align: center; line-height: 0; padding-top: 9px;\">\n",
    "  <img src=\"https://databricks.com/wp-content/uploads/2018/03/db-academy-rgb-1200px.png\" alt=\"Databricks Learning\">\n",
    "</div>\n"
   ]
  },
  {
   "cell_type": "markdown",
   "metadata": {
    "application/vnd.databricks.v1+cell": {
     "cellMetadata": {},
     "inputWidgets": {},
     "nuid": "31c97835-3335-4a8f-b6d2-fd0111285f67",
     "showTitle": false,
     "title": ""
    }
   },
   "source": [
    "\n",
    "# Model Tracking with *MLflow*\n",
    "\n",
    "In this demo, we will explore the capabilities of MLflow, a comprehensive framework for the complete machine learning lifecycle. MLflow provides tools for tracking experiments, packaging code into reproducible runs, and sharing and deploying models.\n",
    "\n",
    "In this demo, **we will focus on tracking and logging components of MLflow**. First, we will demonstrate how to track an experiment with MLflow and show various custom logging features including logging parameters, metrics, figures and arbitrary artifacts.\n",
    "\n",
    "**Learning Objectives:**\n",
    "\n",
    "*By the end of this demo, you will be able to*;\n",
    "\n",
    "* Manually log parameters, metrics, models, and figures with MLflow tracking.\n",
    "\n",
    "* Review an experiment using the MLflow UI.\n",
    "\n",
    "* Train a model using a Feature Store table as the modeling set.\n",
    "\n",
    "* Log training dataset with model in MLFlow\n",
    "\n"
   ]
  },
  {
   "cell_type": "markdown",
   "metadata": {
    "application/vnd.databricks.v1+cell": {
     "cellMetadata": {},
     "inputWidgets": {},
     "nuid": "fbf4015c-3016-409d-933f-4fe4a4103917",
     "showTitle": false,
     "title": ""
    }
   },
   "source": [
    "## Requirements\n",
    "\n",
    "Please review the following requirements before starting the lesson:\n",
    "\n",
    "* To run this notebook, you need to use one of the following Databricks runtime(s): **13.3.x-cpu-ml-scala2.12 13.3.x-scala2.12**"
   ]
  },
  {
   "cell_type": "markdown",
   "metadata": {
    "application/vnd.databricks.v1+cell": {
     "cellMetadata": {},
     "inputWidgets": {},
     "nuid": "663a2492-57f7-4f18-ad7b-8aee0cb6313b",
     "showTitle": false,
     "title": ""
    }
   },
   "source": [
    "## MLFlow with Unity Catalog\n",
    "\n",
    "Databricks has support for MLflow with Unity Catalog (UC) integration and workspace based classic version. Although we won't go into the details of MLflow with UC in this demo, we will enable it. This means **models will be registered to UC**."
   ]
  },
  {
   "cell_type": "code",
   "execution_count": 0,
   "metadata": {
    "application/vnd.databricks.v1+cell": {
     "cellMetadata": {},
     "inputWidgets": {},
     "nuid": "ada360d6-3ccb-42b4-878c-5e17f4b197d5",
     "showTitle": false,
     "title": ""
    }
   },
   "outputs": [],
   "source": [
    "%pip install --upgrade 'mlflow-skinny[databricks]'\n",
    "dbutils.library.restartPython()"
   ]
  },
  {
   "cell_type": "markdown",
   "metadata": {
    "application/vnd.databricks.v1+cell": {
     "cellMetadata": {},
     "inputWidgets": {},
     "nuid": "1f968f60-02f4-4f17-abba-5a5c53ea25f0",
     "showTitle": false,
     "title": ""
    }
   },
   "source": [
    "\n",
    "## Classroom Setup\n",
    "\n",
    "Before starting the demo, run the provided classroom setup script. This script will define configuration variables necessary for the demo. Execute the following cell:"
   ]
  },
  {
   "cell_type": "code",
   "execution_count": 0,
   "metadata": {
    "application/vnd.databricks.v1+cell": {
     "cellMetadata": {},
     "inputWidgets": {},
     "nuid": "001960a3-7670-4923-be1c-eb7987cd9f06",
     "showTitle": false,
     "title": ""
    }
   },
   "outputs": [],
   "source": [
    "%run ../Includes/Classroom-Setup-01.2"
   ]
  },
  {
   "cell_type": "markdown",
   "metadata": {
    "application/vnd.databricks.v1+cell": {
     "cellMetadata": {},
     "inputWidgets": {},
     "nuid": "e19097c0-540d-42ca-a080-b0232125fa30",
     "showTitle": false,
     "title": ""
    }
   },
   "source": [
    "**Other Conventions:**\n",
    "\n",
    "Throughout this demo, we'll refer to the object `DA`. This object, provided by Databricks Academy, contains variables such as your username, catalog name, schema name, working directory, and dataset locations. Run the code block below to view these details:"
   ]
  },
  {
   "cell_type": "code",
   "execution_count": 0,
   "metadata": {
    "application/vnd.databricks.v1+cell": {
     "cellMetadata": {},
     "inputWidgets": {},
     "nuid": "8276a9ea-47b9-4c9e-ad0f-6f187b4c0a54",
     "showTitle": false,
     "title": ""
    }
   },
   "outputs": [],
   "source": [
    "print(f\"Username:          {DA.username}\")\n",
    "print(f\"Catalog Name:      {DA.catalog_name}\")\n",
    "print(f\"Schema Name:       {DA.schema_name}\")\n",
    "print(f\"Working Directory: {DA.paths.working_dir}\")\n",
    "print(f\"User DB Location:  {DA.paths.datasets}\")"
   ]
  },
  {
   "cell_type": "markdown",
   "metadata": {
    "application/vnd.databricks.v1+cell": {
     "cellMetadata": {},
     "inputWidgets": {},
     "nuid": "c9bc3b70-6006-49cb-85a7-3fd0e593c094",
     "showTitle": false,
     "title": ""
    }
   },
   "source": [
    "## Prepare Dataset\n"
   ]
  },
  {
   "cell_type": "markdown",
   "metadata": {
    "application/vnd.databricks.v1+cell": {
     "cellMetadata": {},
     "inputWidgets": {},
     "nuid": "2d323309-1407-4ecc-9382-b1662bdddf68",
     "showTitle": false,
     "title": ""
    }
   },
   "source": [
    "### Load Dataset\n",
    "In this section, we will leverage the Feature Store to load the dataset for our machine learning experiment. Instead of directly reading from a CSV file, we will use the Feature Store setup to create a feature table and then read the data from it. This approach enhances reproducibility and ensures consistency in the datasets used for training and testing.\n",
    "\n"
   ]
  },
  {
   "cell_type": "code",
   "execution_count": 0,
   "metadata": {
    "application/vnd.databricks.v1+cell": {
     "cellMetadata": {},
     "inputWidgets": {},
     "nuid": "c14d8ffa-b012-484c-86cd-27d0850a75ad",
     "showTitle": false,
     "title": ""
    }
   },
   "outputs": [],
   "source": [
    "import mlflow\n",
    "feature_dataset = mlflow.data.load_delta(\n",
    "    table_name = f\"{DA.catalog_name}.{DA.schema_name}.diabetes_binary\", \n",
    "    name = \"diabetes_binary\"\n",
    ")   \n",
    "feature_data_pd = feature_dataset.df.toPandas()\n",
    "# Drop the 'unique_id' column\n",
    "feature_data_pd = feature_data_pd.drop(\"unique_id\", axis=1)"
   ]
  },
  {
   "cell_type": "code",
   "execution_count": 0,
   "metadata": {
    "application/vnd.databricks.v1+cell": {
     "cellMetadata": {},
     "inputWidgets": {},
     "nuid": "7033318b-3716-4a73-8a52-9abdb8bbec04",
     "showTitle": false,
     "title": ""
    }
   },
   "outputs": [],
   "source": [
    "display(feature_data_pd)"
   ]
  },
  {
   "cell_type": "code",
   "execution_count": 0,
   "metadata": {
    "application/vnd.databricks.v1+cell": {
     "cellMetadata": {},
     "inputWidgets": {},
     "nuid": "4dc97c37-ae6c-40bc-8ce0-84f912231a38",
     "showTitle": false,
     "title": ""
    }
   },
   "outputs": [],
   "source": [
    "import pandas as pd\n",
    "\n",
    "# Convert all columns in the DataFrame to the 'double' data type\n",
    "for column in feature_data_pd.columns:\n",
    "    feature_data_pd[column] = feature_data_pd[column].astype(\"double\")\n",
    "\n",
    "# If you want to see the updated types\n",
    "print(feature_data_pd.dtypes)"
   ]
  },
  {
   "cell_type": "markdown",
   "metadata": {
    "application/vnd.databricks.v1+cell": {
     "cellMetadata": {},
     "inputWidgets": {},
     "nuid": "f9155d55-9f5e-4755-b25c-1671de7a33d1",
     "showTitle": false,
     "title": ""
    }
   },
   "source": [
    "### Train / Test Split\n",
    "\n",
    "Before proceeding with model training, it's essential to split the dataset into training and testing sets. This step ensures that the model is trained on one subset of the data and evaluated on an independent subset, providing a reliable estimate of its performance on new, unseen data."
   ]
  },
  {
   "cell_type": "code",
   "execution_count": 0,
   "metadata": {
    "application/vnd.databricks.v1+cell": {
     "cellMetadata": {},
     "inputWidgets": {},
     "nuid": "16549d02-da1a-43b5-90fc-5dcf6c8394e5",
     "showTitle": false,
     "title": ""
    }
   },
   "outputs": [],
   "source": [
    "from sklearn.model_selection import train_test_split\n",
    "\n",
    "print(f\"We have {feature_data_pd.shape[0]} records in our source dataset\")\n",
    "\n",
    "# split target variable into it's own dataset\n",
    "target_col = \"Diabetes_binary\"\n",
    "X_all = feature_data_pd.drop(labels=target_col, axis=1)\n",
    "y_all = feature_data_pd[target_col]\n",
    "\n",
    "# test / train split\n",
    "X_train, X_test, y_train, y_test = train_test_split(X_all, y_all, train_size=0.95, random_state=42)\n",
    "print(f\"We have {X_train.shape[0]} records in our training dataset\")\n",
    "print(f\"We have {X_test.shape[0]} records in our test dataset\")"
   ]
  },
  {
   "cell_type": "markdown",
   "metadata": {
    "application/vnd.databricks.v1+cell": {
     "cellMetadata": {},
     "inputWidgets": {},
     "nuid": "118b49c0-228d-46a4-9be4-887f87dc2f34",
     "showTitle": false,
     "title": ""
    }
   },
   "source": [
    "\n",
    "## Fit and Log the Model\n",
    "\n",
    "Now that we have our training and testing sets, let's fit a Decision Tree model to the training data. During this process, we will use MLflow to log various aspects of the model, including parameters, metrics, and the resulting model itself."
   ]
  },
  {
   "cell_type": "code",
   "execution_count": 0,
   "metadata": {
    "application/vnd.databricks.v1+cell": {
     "cellMetadata": {},
     "inputWidgets": {},
     "nuid": "c9cb7487-4298-421f-bc3e-5bb351236911",
     "showTitle": false,
     "title": ""
    }
   },
   "outputs": [],
   "source": [
    "dtc_params = {\n",
    "  'criterion': 'gini',\n",
    "  'max_depth': 50,\n",
    "  'min_samples_split': 20,\n",
    "  'min_samples_leaf': 5\n",
    "}"
   ]
  },
  {
   "cell_type": "markdown",
   "metadata": {
    "application/vnd.databricks.v1+cell": {
     "cellMetadata": {},
     "inputWidgets": {},
     "nuid": "e25f8e42-8d3b-4afe-8945-e50445a7eb79",
     "showTitle": false,
     "title": ""
    }
   },
   "source": [
    "In this code, we use MLflow to start a run and log parameters such as the criterion and max_depth of the Decision Tree model. After fitting the model on the training data, we evaluate its performance on the test set and log the accuracy as a metric.\n",
    "\n",
    "**🚨 Important:** MLflow autologging is **enabled by default on Databricks**. This means you don't need to do anything for supported libraries. In the next section, we are disabling it and manually log params, metrics etc. just demonstrate how to do it manually when you need to log any custom model info.\n",
    "\n",
    "**💡 Note: We won't define the `experiment name`, all *runs* generated in this notebook will be logged under the notebook title.**"
   ]
  },
  {
   "cell_type": "code",
   "execution_count": 0,
   "metadata": {
    "application/vnd.databricks.v1+cell": {
     "cellMetadata": {},
     "inputWidgets": {},
     "nuid": "d3238219-0099-455b-9d8b-4d8fc27204f0",
     "showTitle": false,
     "title": ""
    }
   },
   "outputs": [],
   "source": [
    "import mlflow\n",
    "\n",
    "# register models in UC\n",
    "mlflow.set_registry_uri(\"databricks-uc\")"
   ]
  },
  {
   "cell_type": "code",
   "execution_count": 0,
   "metadata": {
    "application/vnd.databricks.v1+cell": {
     "cellMetadata": {},
     "inputWidgets": {},
     "nuid": "92a01597-265b-441d-b15d-3eca894fc08a",
     "showTitle": false,
     "title": ""
    }
   },
   "outputs": [],
   "source": [
    "from math import sqrt\n",
    "\n",
    "import mlflow\n",
    "import mlflow.data\n",
    "import mlflow.sklearn\n",
    "from mlflow.models.signature import infer_signature\n",
    "\n",
    "from sklearn.tree import DecisionTreeClassifier\n",
    "from sklearn.metrics import accuracy_score, precision_score, recall_score, f1_score\n",
    "\n",
    "# set the path for mlflow experiment\n",
    "mlflow.set_experiment(f\"/Users/{DA.username}/Demo-1.2-Model-Tracking-with-MLflow\")\n",
    "\n",
    "# turn off autologging\n",
    "mlflow.sklearn.autolog(disable=True)\n",
    "model_name = f\"{DA.catalog_name}.{DA.schema_name}.diabetes-predictions\"\n",
    "\n",
    "# start an MLFlow run\n",
    "with mlflow.start_run(run_name=\"Model Tracking Demo\") as run:\n",
    "  # log the dataset\n",
    "  mlflow.log_input(feature_dataset, context=\"source\")\n",
    "  mlflow.log_input(mlflow.data.from_pandas(X_train, source=feature_dataset.source), context=\"training\")\n",
    "  mlflow.log_input(mlflow.data.from_pandas(X_test, source=feature_dataset.source), context=\"test\")\n",
    "\n",
    "  # log our parameters\n",
    "  mlflow.log_params(dtc_params)\n",
    "\n",
    "  # fit our model\n",
    "  dtc = DecisionTreeClassifier(**dtc_params)\n",
    "  dtc_mdl = dtc.fit(X_train, y_train)\n",
    "\n",
    "  # define model signiture\n",
    "  signature = infer_signature(X_all, y_all)\n",
    "\n",
    "  # log the model\n",
    "  mlflow.sklearn.log_model(\n",
    "    sk_model = dtc_mdl, \n",
    "    artifact_path=\"model-artifacts\",\n",
    "    signature=signature,\n",
    "    registered_model_name=model_name)\n",
    "  \n",
    "  # evaluate on the training set\n",
    "  y_pred = dtc_mdl.predict(X_train)\n",
    "  mlflow.log_metric(\"train_accuracy\", accuracy_score(y_train, y_pred))\n",
    "  mlflow.log_metric(\"train_precision\", precision_score(y_train, y_pred))\n",
    "  mlflow.log_metric(\"train_recall\", recall_score(y_train, y_pred))\n",
    "  mlflow.log_metric(\"train_f1\", f1_score(y_train, y_pred))\n",
    "\n",
    "  # evaluate on the test set\n",
    "  y_pred = dtc_mdl.predict(X_test)\n",
    "  mlflow.log_metric(\"test_accuracy\", accuracy_score(y_test, y_pred))\n",
    "  mlflow.log_metric(\"test_precision\", precision_score(y_test, y_pred))\n",
    "  mlflow.log_metric(\"test_recall\", recall_score(y_test, y_pred))\n",
    "  mlflow.log_metric(\"test_f1\", f1_score(y_test, y_pred))"
   ]
  },
  {
   "cell_type": "markdown",
   "metadata": {
    "application/vnd.databricks.v1+cell": {
     "cellMetadata": {},
     "inputWidgets": {},
     "nuid": "cdeddbb5-5e93-48aa-bcc3-c8c91d9e54ab",
     "showTitle": false,
     "title": ""
    }
   },
   "source": [
    "At this point we can access all model details using the **`run.info`** class."
   ]
  },
  {
   "cell_type": "code",
   "execution_count": 0,
   "metadata": {
    "application/vnd.databricks.v1+cell": {
     "cellMetadata": {},
     "inputWidgets": {},
     "nuid": "90f4d3ef-46b6-40f2-9549-1a3226453f73",
     "showTitle": false,
     "title": ""
    }
   },
   "outputs": [],
   "source": [
    "run.info"
   ]
  },
  {
   "cell_type": "markdown",
   "metadata": {
    "application/vnd.databricks.v1+cell": {
     "cellMetadata": {},
     "inputWidgets": {},
     "nuid": "2e2ce50b-2305-4419-a163-2c366d0272c9",
     "showTitle": false,
     "title": ""
    }
   },
   "source": [
    "## Log Model Artifacts\n",
    "\n",
    "**In addition to logging parameters, metrics, and the model itself, we can also log artifacts—any files or data relevant to the run.** Let's set up an MLflow client to log artifacts after the run is completed."
   ]
  },
  {
   "cell_type": "code",
   "execution_count": 0,
   "metadata": {
    "application/vnd.databricks.v1+cell": {
     "cellMetadata": {},
     "inputWidgets": {},
     "nuid": "db9e43c8-d943-4ca5-aa0c-a0b45f761c5f",
     "showTitle": false,
     "title": ""
    }
   },
   "outputs": [],
   "source": [
    "from mlflow.client import MlflowClient\n",
    "\n",
    "client = MlflowClient()"
   ]
  },
  {
   "cell_type": "markdown",
   "metadata": {
    "application/vnd.databricks.v1+cell": {
     "cellMetadata": {},
     "inputWidgets": {},
     "nuid": "478332b0-3192-45c2-aee9-64fa0310fb21",
     "showTitle": false,
     "title": ""
    }
   },
   "source": [
    "#### Log Confusion Matrix\n",
    "\n",
    "The confusion matrix is a useful tool to visualize the classification performance of the model. It provides insights into the true positive, true negative, false positive, and false negative predictions. \n",
    "\n",
    "Let's create the confusion matrix and **log it with MLflow** using **`log_figure`** function."
   ]
  },
  {
   "cell_type": "code",
   "execution_count": 0,
   "metadata": {
    "application/vnd.databricks.v1+cell": {
     "cellMetadata": {},
     "inputWidgets": {},
     "nuid": "fc5b7a2b-d6ee-406f-b38b-cda511195f0f",
     "showTitle": false,
     "title": ""
    }
   },
   "outputs": [],
   "source": [
    "import matplotlib.pyplot as plt\n",
    "from sklearn.metrics import confusion_matrix, ConfusionMatrixDisplay\n",
    "\n",
    "# Computing the confusion matrix\n",
    "cm = confusion_matrix(y_test, y_pred, labels=[1, 0])\n",
    "\n",
    "# Creating a figure object and axes for the confusion matrix\n",
    "fig, ax = plt.subplots(figsize=(8, 6))\n",
    "\n",
    "# Plotting the confusion matrix using the created axes\n",
    "disp = ConfusionMatrixDisplay(confusion_matrix=cm, display_labels=[1, 0])\n",
    "disp.plot(cmap=plt.cm.Blues, ax=ax)\n",
    "\n",
    "# Setting the title of the plot\n",
    "ax.set_title('Confusion Matrix')\n",
    "\n",
    "# Now 'fig' can be used with MLFlow's log_figure function\n",
    "client.log_figure(run.info.run_id, figure=fig, artifact_file=\"confusion_matrix.png\")\n",
    "\n",
    "# Showing the plot here for demonstration\n",
    "plt.show()"
   ]
  },
  {
   "cell_type": "markdown",
   "metadata": {
    "application/vnd.databricks.v1+cell": {
     "cellMetadata": {},
     "inputWidgets": {},
     "nuid": "950dcb7f-6998-446a-8920-a05052106633",
     "showTitle": false,
     "title": ""
    }
   },
   "source": [
    "#### Log Feature Importance\n",
    "\n",
    "Now, **let's examine and log the resulting model**. We'll extract and plot the feature importances inferred from the Decision Tree model to understand which data features are most critical for successful prediction.\n",
    "\n",
    "Similar to the previous figure, we will use **`log_figure`** function."
   ]
  },
  {
   "cell_type": "code",
   "execution_count": 0,
   "metadata": {
    "application/vnd.databricks.v1+cell": {
     "cellMetadata": {},
     "inputWidgets": {},
     "nuid": "2e4ef737-40ec-443d-96e5-4136ffacfb0e",
     "showTitle": false,
     "title": ""
    }
   },
   "outputs": [],
   "source": [
    "import numpy as np\n",
    "\n",
    "# Retrieving feature importances\n",
    "feature_importances = dtc_mdl.feature_importances_\n",
    "feature_names = X_train.columns.to_list()\n",
    "\n",
    "# Plotting the feature importances\n",
    "fig, ax = plt.subplots(figsize=(10, 6))\n",
    "y_pos = np.arange(len(feature_names))\n",
    "ax.bar(y_pos, feature_importances, align='center', alpha=0.7)\n",
    "ax.set_xticks(y_pos)\n",
    "ax.set_xticklabels(feature_names, rotation=45)\n",
    "ax.set_ylabel('Importance')\n",
    "ax.set_title('Feature Importances in Decision Tree Classifier')\n",
    "\n",
    "# log to mlflow\n",
    "client.log_figure(run.info.run_id, figure=fig, artifact_file=\"feature_importances.png\")\n",
    "\n",
    "# display here\n",
    "plt.show()"
   ]
  },
  {
   "cell_type": "markdown",
   "metadata": {
    "application/vnd.databricks.v1+cell": {
     "cellMetadata": {},
     "inputWidgets": {},
     "nuid": "b8ac8c15-8fd9-4cc0-a49c-96743fe016b7",
     "showTitle": false,
     "title": ""
    }
   },
   "source": [
    "#### Log Tree Structure\n",
    "\n",
    "Decision trees make splitting decisions on different features at different critical values, and visualizing the tree structure helps us understand the decision logic. We'll plot the branching tree structure for better interpretation.\n",
    "\n",
    "We can get the tree in text format or as a graph. **To log the text format we will use `log_artifact` function.**"
   ]
  },
  {
   "cell_type": "code",
   "execution_count": 0,
   "metadata": {
    "application/vnd.databricks.v1+cell": {
     "cellMetadata": {},
     "inputWidgets": {},
     "nuid": "17c5969c-740a-4190-a549-c2d1aff943d3",
     "showTitle": false,
     "title": ""
    }
   },
   "outputs": [],
   "source": [
    "print(f\"The fitted DecisionTreeClassifier model has {dtc_mdl.tree_.node_count} nodes and is up to {dtc_mdl.tree_.max_depth} levels deep.\")"
   ]
  },
  {
   "cell_type": "markdown",
   "metadata": {
    "application/vnd.databricks.v1+cell": {
     "cellMetadata": {},
     "inputWidgets": {},
     "nuid": "42c43f37-adad-47a1-b6a7-8b675d58df80",
     "showTitle": false,
     "title": ""
    }
   },
   "source": [
    "This is a very large decision tree, printing out the full tree logic, we can see it is vast and sprawling:"
   ]
  },
  {
   "cell_type": "code",
   "execution_count": 0,
   "metadata": {
    "application/vnd.databricks.v1+cell": {
     "cellMetadata": {},
     "inputWidgets": {},
     "nuid": "97a556e3-de1c-40da-9591-7bb66e79d3ba",
     "showTitle": false,
     "title": ""
    }
   },
   "outputs": [],
   "source": [
    "from sklearn.tree import export_text\n",
    "\n",
    "text_representation = export_text(dtc_mdl, feature_names=feature_names)\n",
    "print(text_representation)\n",
    "\n",
    "# save this to a local file\n",
    "tree_struct_filename = \"tree_structure.txt\"\n",
    "with open(tree_struct_filename,'w') as f:\n",
    "  f.write(text_representation)\n",
    "\n",
    "# log it to mlflow\n",
    "client.log_artifact(run.info.run_id, tree_struct_filename)"
   ]
  },
  {
   "cell_type": "markdown",
   "metadata": {
    "application/vnd.databricks.v1+cell": {
     "cellMetadata": {},
     "inputWidgets": {},
     "nuid": "94e9a07b-c66e-45aa-9273-4ff2d3771028",
     "showTitle": false,
     "title": ""
    }
   },
   "source": [
    "Let's create a visually better looking version of this tree and log it with MLflow."
   ]
  },
  {
   "cell_type": "code",
   "execution_count": 0,
   "metadata": {
    "application/vnd.databricks.v1+cell": {
     "cellMetadata": {},
     "inputWidgets": {},
     "nuid": "7189501d-0d7a-43d1-8a9c-24b790f9be89",
     "showTitle": false,
     "title": ""
    }
   },
   "outputs": [],
   "source": [
    "from sklearn.tree import plot_tree\n",
    "\n",
    "# plot the tree structure\n",
    "fig, ax = plt.subplots(figsize=(20,20))\n",
    "plot_tree(dtc_mdl, \n",
    "          feature_names=feature_names,\n",
    "          max_depth=2,\n",
    "          class_names=['0', '1'], \n",
    "          filled=True,\n",
    "          ax=ax)\n",
    "ax.set_title('Decision Tree Structure')\n",
    "\n",
    "# log it to mlflow\n",
    "client.log_figure(run.info.run_id, fig, \"decision_tree_structure.png\")\n",
    "\n",
    "# display it here\n",
    "plt.show()"
   ]
  },
  {
   "cell_type": "markdown",
   "metadata": {
    "application/vnd.databricks.v1+cell": {
     "cellMetadata": {},
     "inputWidgets": {},
     "nuid": "bf029c6d-ee08-4ed4-84a0-81605cac1940",
     "showTitle": false,
     "title": ""
    }
   },
   "source": [
    "## Review the Model via the UI\n",
    "\n",
    "\n",
    "To review the model and its details, follow these step-by-step instructions:\n",
    "\n",
    "+ **Step 1: Go to the \"Experiments\" Section:**\n",
    "  - Click the Experiment icon <img src= \"https://docs.databricks.com/en/_images/experiment.png\" width=10> in the notebook’s right sidebar\n",
    "\n",
    "  - In the Experiment Runs sidebar, click the <img src= \"https://docs.databricks.com/en/_images/external-link.png\" width=10> icon next to the date of the run. The MLflow Run page displays, showing details of the run, including parameters, metrics, tags, and a list of artifacts.\n",
    "\n",
    "  <div style=\"overflow: hidden; width: 200px; height: 200px;\">\n",
    "    <img src=\"https://docs.databricks.com/en/_images/quick-start-nb-experiment.png\" width=1000\">\n",
    "</div>\n",
    "\n",
    "\n",
    "+ **Step 2: Locate Your Experiment:**\n",
    "\n",
    "    - Find the experiment name you specified in your MLflow run.\n",
    "\n",
    "+ **Step 3: Review Run Details:**\n",
    "\n",
    "  - Click on the experiment name to view the runs within that experiment.\n",
    "  - Locate the specific run you want to review.\n",
    "\n",
    "+ **Step 4: Reviewing Artifacts and Metrics:**\n",
    "\n",
    "  - Click on the run to see detailed information.\n",
    "  - Navigate to the \"Artifacts\" tab to view logged artifacts.\n",
    "  - Navigate to the \"Metrics\" tab to view logged metrics.\n",
    "\n",
    "+ **Step 5: Viewing Confusion Matrix Image:**\n",
    "\n",
    "  - If you logged the confusion matrix as an artifact, you can find it in the \"Artifacts\" tab.\n",
    "  - You may find a file named \"confusion_matrix.png\" (or the specified artifact file name).\n",
    "  - Download or view the confusion matrix image.\n",
    "\n",
    "+ **Step 6: View models in the UI:**\n",
    "  - You can find details about the logged model under the <img src = \"https://docs.databricks.com/en/_images/models-icon.png\" width = 20> **Models** tab.\n",
    "  - Look for the model name you specified in your MLflow run (e.g., \"decision_tree_model\").\n",
    "\n",
    "+ **Explore Additional Options:**\n",
    "\n",
    "  - You can explore other tabs and options in the MLflow UI to gather more insights, such as \"Parameters,\" \"Tags,\" and \"Source.\"\n",
    "These instructions will guide you through reviewing and exploring the tracked models using the MLflow UI, providing valuable insights into the experiment results and registered models."
   ]
  },
  {
   "cell_type": "markdown",
   "metadata": {
    "application/vnd.databricks.v1+cell": {
     "cellMetadata": {},
     "inputWidgets": {},
     "nuid": "ac1b33bf-d321-40b6-a732-1e0b7892f85b",
     "showTitle": false,
     "title": ""
    }
   },
   "source": [
    "\n",
    "## Clean up Classroom\n",
    "\n",
    "Run the following cell to remove lessons-specific assets created during this lesson."
   ]
  },
  {
   "cell_type": "code",
   "execution_count": 0,
   "metadata": {
    "application/vnd.databricks.v1+cell": {
     "cellMetadata": {},
     "inputWidgets": {},
     "nuid": "e7dcc515-f442-4a0d-a04b-2be390b69a6e",
     "showTitle": false,
     "title": ""
    }
   },
   "outputs": [],
   "source": [
    "DA.cleanup()"
   ]
  },
  {
   "cell_type": "markdown",
   "metadata": {
    "application/vnd.databricks.v1+cell": {
     "cellMetadata": {},
     "inputWidgets": {},
     "nuid": "db1ea031-5cb3-4192-8cb1-161b7b914274",
     "showTitle": false,
     "title": ""
    }
   },
   "source": [
    "\n",
    "## Conclusion\n",
    "\n",
    "This demo guided us through the process of building, evaluating, and interpreting a Decision Tree model for classification tasks. We started by preparing and splitting the dataset, then proceeded to train the model using a Feature Store table. We manually logged key parameters, metrics, and artifacts using MLflow tracking, facilitating comprehensive experiment tracking and reproducibility. We examined and logged the model's performance through a confusion matrix, analyzed feature importances, and visualized the resulting tree structure. By leveraging MLflow, we demonstrated effective model tracking and experimentation management, contributing to a more informed and accountable machine learning workflow."
   ]
  },
  {
   "cell_type": "markdown",
   "metadata": {
    "application/vnd.databricks.v1+cell": {
     "cellMetadata": {},
     "inputWidgets": {},
     "nuid": "bf17887f-041e-4957-8fb4-50fb9c3636ae",
     "showTitle": false,
     "title": ""
    }
   },
   "source": [
    "\n",
    "&copy; 2024 Databricks, Inc. All rights reserved.<br/>\n",
    "Apache, Apache Spark, Spark and the Spark logo are trademarks of the \n",
    "<a href=\"https://www.apache.org/\">Apache Software Foundation</a>.<br/>\n",
    "<br/><a href=\"https://databricks.com/privacy-policy\">Privacy Policy</a> | \n",
    "<a href=\"https://databricks.com/terms-of-use\">Terms of Use</a> | \n",
    "<a href=\"https://help.databricks.com/\">Support</a>"
   ]
  }
 ],
 "metadata": {
  "application/vnd.databricks.v1+notebook": {
   "dashboards": [],
   "environmentMetadata": null,
   "language": "python",
   "notebookMetadata": {
    "pythonIndentUnit": 4
   },
   "notebookName": "1.2 - Model Tracking with MLflow",
   "widgets": {}
  }
 },
 "nbformat": 4,
 "nbformat_minor": 0
}
