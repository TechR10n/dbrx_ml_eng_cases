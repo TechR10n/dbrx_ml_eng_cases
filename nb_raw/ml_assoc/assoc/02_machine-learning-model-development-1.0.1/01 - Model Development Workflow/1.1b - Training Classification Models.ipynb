{
 "cells": [
  {
   "cell_type": "markdown",
   "metadata": {
    "application/vnd.databricks.v1+cell": {
     "cellMetadata": {},
     "inputWidgets": {},
     "nuid": "090e93a7-1999-4df2-9056-7b8aadb7ffd3",
     "showTitle": false,
     "title": ""
    }
   },
   "source": [
    "\n",
    "<div style=\"text-align: center; line-height: 0; padding-top: 9px;\">\n",
    "  <img src=\"https://databricks.com/wp-content/uploads/2018/03/db-academy-rgb-1200px.png\" alt=\"Databricks Learning\">\n",
    "</div>\n"
   ]
  },
  {
   "cell_type": "markdown",
   "metadata": {
    "application/vnd.databricks.v1+cell": {
     "cellMetadata": {},
     "inputWidgets": {},
     "nuid": "452a43c6-e450-4640-b265-5f0037a46fb5",
     "showTitle": false,
     "title": ""
    }
   },
   "source": [
    "\n",
    "# Training Regression and Classification Models\n",
    "\n",
    "In this demo, we will explore the process of training a classification model using the sklearn API. In addition to fitting the model, we will inspect the model details and show how the decision tree is constructed.\n",
    "\n",
    "**Learning Objectives:**\n",
    "\n",
    "*By the end of this demo, you will be able to;*\n",
    "\n",
    "* Fit a classification model on modeling data using the sklearn API.\n",
    "\n",
    "* Interpret a fit sklearn linear model’s coefficients and intercept.\n",
    "\n",
    "* Fit a decision tree model using sklearn API and training data.\n",
    "\n",
    "+ Visualize a sklearn tree’s split points.\n",
    "\n",
    "* Identify which metrics are tracked by MLflow.\n",
    "\n"
   ]
  },
  {
   "cell_type": "markdown",
   "metadata": {
    "application/vnd.databricks.v1+cell": {
     "cellMetadata": {},
     "inputWidgets": {},
     "nuid": "75c863da-c38c-4e46-96a8-f75846808ae4",
     "showTitle": false,
     "title": ""
    }
   },
   "source": [
    "## Requirements\n",
    "\n",
    "Please review the following requirements before starting the lesson:\n",
    "\n",
    "* To run this notebook, you need to use one of the following Databricks runtime(s): **13.3.x-cpu-ml-scala2.12 13.3.x-scala2.12**"
   ]
  },
  {
   "cell_type": "markdown",
   "metadata": {
    "application/vnd.databricks.v1+cell": {
     "cellMetadata": {},
     "inputWidgets": {},
     "nuid": "e15ab8c9-388b-4c78-a6d7-66c8c3b6c1ed",
     "showTitle": false,
     "title": ""
    }
   },
   "source": [
    "\n",
    "## Classroom Setup\n",
    "\n",
    "Before starting the demo, run the provided classroom setup script. This script will define configuration variables necessary for the demo. Execute the following cell:"
   ]
  },
  {
   "cell_type": "code",
   "execution_count": 0,
   "metadata": {
    "application/vnd.databricks.v1+cell": {
     "cellMetadata": {},
     "inputWidgets": {},
     "nuid": "38e6e487-ffaf-4a05-9077-3435d0aff9d2",
     "showTitle": false,
     "title": ""
    }
   },
   "outputs": [],
   "source": [
    "%run ../Includes/Classroom-Setup-01.1b"
   ]
  },
  {
   "cell_type": "markdown",
   "metadata": {
    "application/vnd.databricks.v1+cell": {
     "cellMetadata": {},
     "inputWidgets": {},
     "nuid": "b3028294-3f29-432b-bf7b-e010b997453c",
     "showTitle": false,
     "title": ""
    }
   },
   "source": [
    "**Other Conventions:**\n",
    "\n",
    "Throughout this demo, we'll refer to the object `DA`. This object, provided by Databricks Academy, contains variables such as your username, catalog name, schema name, working directory, and dataset locations. Run the code block below to view these details:"
   ]
  },
  {
   "cell_type": "code",
   "execution_count": 0,
   "metadata": {
    "application/vnd.databricks.v1+cell": {
     "cellMetadata": {},
     "inputWidgets": {},
     "nuid": "48521118-9544-4cd1-9468-e4118a478a15",
     "showTitle": false,
     "title": ""
    }
   },
   "outputs": [],
   "source": [
    "print(f\"Username:          {DA.username}\")\n",
    "print(f\"Catalog Name:      {DA.catalog_name}\")\n",
    "print(f\"Schema Name:       {DA.schema_name}\")\n",
    "print(f\"Working Directory: {DA.paths.working_dir}\")\n",
    "print(f\"Dataset Location:  {DA.paths.datasets}\")"
   ]
  },
  {
   "cell_type": "markdown",
   "metadata": {
    "application/vnd.databricks.v1+cell": {
     "cellMetadata": {},
     "inputWidgets": {},
     "nuid": "0e4bee09-5b72-4918-a236-1970cf132d33",
     "showTitle": false,
     "title": ""
    }
   },
   "source": [
    "## Prepare Dataset\n",
    "Before training any machine learning models, it's crucial to prepare the dataset. In the previous section, we have covered the steps to load, clean, and preprocess the data, ensuring it's in a suitable format for model training."
   ]
  },
  {
   "cell_type": "markdown",
   "metadata": {
    "application/vnd.databricks.v1+cell": {
     "cellMetadata": {},
     "inputWidgets": {},
     "nuid": "2276d786-831f-4a46-bb80-3bb8d6c59529",
     "showTitle": false,
     "title": ""
    }
   },
   "source": [
    "### Load Dataset\n",
    "\n",
    "In this section, we aim to optimize the process of loading the dataset by leveraging Delta Lake's feature table functionality. Instead of directly reading from the CSV file, **we created a feature table during the setup phase**. A feature table is a structured repository that organizes data for efficient retrieval and analysis. By creating a feature table, we enhance data management and simplify subsequent operations. We can then seamlessly read the data from this feature table during our analysis, promoting a more organized and scalable approach to handling datasets. This setup enhances traceability and facilitates collaboration across different stages of the data science workflow."
   ]
  },
  {
   "cell_type": "code",
   "execution_count": 0,
   "metadata": {
    "application/vnd.databricks.v1+cell": {
     "cellMetadata": {},
     "inputWidgets": {},
     "nuid": "4df1bbe1-ecd5-4357-b415-7db27b417663",
     "showTitle": false,
     "title": ""
    }
   },
   "outputs": [],
   "source": [
    "import pandas as pd\n",
    "from databricks.feature_engineering import FeatureEngineeringClient\n",
    "\n",
    "# Read dataset from the feature store table\n",
    "fe = FeatureEngineeringClient()\n",
    "table_name = f\"{DA.catalog_name}.{DA.schema_name}.diabetes_binary\"\n",
    "feature_data_pd = fe.read_table(name=table_name).toPandas()\n",
    "feature_data_pd = feature_data_pd.drop(columns=['unique_id'])\n",
    "\n",
    "# Convert all columns in the DataFrame to the 'double' data type\n",
    "for column in feature_data_pd.columns:\n",
    "    feature_data_pd[column] = feature_data_pd[column].astype(\"double\")\n",
    "\n",
    "# Display the Pandas DataFrame with updated data types\n",
    "display(feature_data_pd)"
   ]
  },
  {
   "cell_type": "markdown",
   "metadata": {
    "application/vnd.databricks.v1+cell": {
     "cellMetadata": {},
     "inputWidgets": {},
     "nuid": "a211ab16-cb10-4332-9d92-86e819ae4f71",
     "showTitle": false,
     "title": ""
    }
   },
   "source": [
    "### Train / Test Split\n",
    "\n",
    "The \"train_test_split\" function from the scikit-learn library is commonly used to split a dataset into training and testing sets. This is a crucial step in machine learning to **evaluate how well a trained model generalizes to new, unseen data**."
   ]
  },
  {
   "cell_type": "code",
   "execution_count": 0,
   "metadata": {
    "application/vnd.databricks.v1+cell": {
     "cellMetadata": {},
     "inputWidgets": {},
     "nuid": "3c4eb129-9225-48b9-bfaf-866652deaf84",
     "showTitle": false,
     "title": ""
    }
   },
   "outputs": [],
   "source": [
    "from sklearn.model_selection import train_test_split\n",
    "\n",
    "print(f\"We have {feature_data_pd.shape[0]} records in our source dataset\")\n",
    "\n",
    "# split target variable into it's own dataset\n",
    "target_col = \"Diabetes_binary\" \n",
    "X_all = feature_data_pd.drop(labels=target_col, axis=1)\n",
    "y_all = feature_data_pd[target_col]\n",
    "\n",
    "# test / train split\n",
    "X_train, X_test, y_train, y_test = train_test_split(X_all, y_all, train_size=0.95, random_state=42)\n",
    "print(f\"We have {X_train.shape[0]} records in our training dataset\")\n",
    "print(f\"We have {X_test.shape[0]} records in our test dataset\")"
   ]
  },
  {
   "cell_type": "markdown",
   "metadata": {
    "application/vnd.databricks.v1+cell": {
     "cellMetadata": {},
     "inputWidgets": {},
     "nuid": "1a305faa-30ba-48c5-9848-7213411e8c3e",
     "showTitle": false,
     "title": ""
    }
   },
   "source": [
    "## Fit a Classification Model\n",
    "\n",
    "Let's go ahead and fit a Decision Tree model!"
   ]
  },
  {
   "cell_type": "code",
   "execution_count": 0,
   "metadata": {
    "application/vnd.databricks.v1+cell": {
     "cellMetadata": {},
     "inputWidgets": {},
     "nuid": "85d15905-9641-47e1-9df2-aaff0033b1e8",
     "showTitle": false,
     "title": ""
    }
   },
   "outputs": [],
   "source": [
    "from math import sqrt\n",
    "import mlflow.sklearn\n",
    "from sklearn.tree import DecisionTreeClassifier\n",
    "from sklearn.metrics import accuracy_score, precision_score, recall_score, f1_score\n",
    "\n",
    "# turn on autologging\n",
    "mlflow.sklearn.autolog(log_input_examples=True)\n",
    "\n",
    "# fit our model\n",
    "dtc = DecisionTreeClassifier()\n",
    "dtc_mdl = dtc.fit(X_train, y_train)\n",
    "\n",
    "# evaluate the test set\n",
    "y_predicted = dtc_mdl.predict(X_test)\n",
    "test_acc = accuracy_score(y_test, y_predicted)\n",
    "test_prec = precision_score(y_test, y_predicted)\n",
    "test_rec = recall_score(y_test, y_predicted)\n",
    "test_f1 = f1_score(y_test, y_predicted)\n",
    "print(\"Test evaluation summary:\")\n",
    "print(f\"Accuracy: {test_acc}\")\n",
    "print(f\"Precision: {test_prec}\")\n",
    "print(f\"Recall: {test_rec}\")\n",
    "print(f\"F1: {test_f1}\")"
   ]
  },
  {
   "cell_type": "markdown",
   "metadata": {
    "application/vnd.databricks.v1+cell": {
     "cellMetadata": {},
     "inputWidgets": {},
     "nuid": "88dec730-7a8f-411d-83a3-273ba33d9aa7",
     "showTitle": false,
     "title": ""
    }
   },
   "source": [
    "## Examine Model Result\n",
    "\n",
    "Examine the **confusion matrix** to visualize the model's classification performance.\n",
    "\n",
    "The confusion matrix provides insights into the model's performance, showing how many instances were correctly or incorrectly classified for each class."
   ]
  },
  {
   "cell_type": "code",
   "execution_count": 0,
   "metadata": {
    "application/vnd.databricks.v1+cell": {
     "cellMetadata": {},
     "inputWidgets": {},
     "nuid": "12f627b7-e7f4-451b-9fc5-7de1806aed44",
     "showTitle": false,
     "title": ""
    }
   },
   "outputs": [],
   "source": [
    "import matplotlib.pyplot as plt\n",
    "from sklearn.metrics import confusion_matrix, ConfusionMatrixDisplay\n",
    "\n",
    "# Computing the confusion matrix\n",
    "cm = confusion_matrix(y_test, y_predicted, labels=[1, 0])\n",
    "\n",
    "# Plotting the confusion matrix\n",
    "plt.figure(figsize=(8, 6))\n",
    "disp = ConfusionMatrixDisplay(confusion_matrix=cm, display_labels=[1, 0])\n",
    "disp.plot(cmap=plt.cm.Blues)\n",
    "plt.title('Confusion Matrix')\n",
    "plt.show()"
   ]
  },
  {
   "cell_type": "markdown",
   "metadata": {
    "application/vnd.databricks.v1+cell": {
     "cellMetadata": {},
     "inputWidgets": {},
     "nuid": "c0bd8068-00bb-4629-bf7f-decfd3d9b9d5",
     "showTitle": false,
     "title": ""
    }
   },
   "source": [
    "\n",
    "**Now we examine the resulting model**\n",
    "\n",
    "We can extract and plot the `feature_importances_` inferred from this model to examine which data features are **the most critical for successful prediction**."
   ]
  },
  {
   "cell_type": "code",
   "execution_count": 0,
   "metadata": {
    "application/vnd.databricks.v1+cell": {
     "cellMetadata": {},
     "inputWidgets": {},
     "nuid": "a8123c0f-651b-4a3d-96eb-d8ffce881746",
     "showTitle": false,
     "title": ""
    }
   },
   "outputs": [],
   "source": [
    "import numpy as np\n",
    "\n",
    "# Retrieving feature importances\n",
    "feature_importances = dtc_mdl.feature_importances_\n",
    "feature_names = X_train.columns.to_list()\n",
    "\n",
    "# Plotting the feature importances\n",
    "plt.figure(figsize=(10, 6))\n",
    "y_pos = np.arange(len(feature_names))\n",
    "plt.bar(y_pos, feature_importances, align='center', alpha=0.7)\n",
    "plt.xticks(y_pos, feature_names, rotation=45)\n",
    "plt.ylabel('Importance')\n",
    "plt.title('Feature Importances in Decision Tree Classifier')\n",
    "\n",
    "plt.show()"
   ]
  },
  {
   "cell_type": "markdown",
   "metadata": {
    "application/vnd.databricks.v1+cell": {
     "cellMetadata": {},
     "inputWidgets": {},
     "nuid": "9052158e-ad8e-44aa-89f8-702546857d19",
     "showTitle": false,
     "title": ""
    }
   },
   "source": [
    "**We can also examine the resulting tree structure**\n",
    "\n",
    "**Decision trees make splitting decisions on different features at different critical values**, so we can visualize the resulting decision logic by plotting that branching tree structure."
   ]
  },
  {
   "cell_type": "code",
   "execution_count": 0,
   "metadata": {
    "application/vnd.databricks.v1+cell": {
     "cellMetadata": {},
     "inputWidgets": {},
     "nuid": "63acba55-20ee-4feb-8125-719f8c374076",
     "showTitle": false,
     "title": ""
    }
   },
   "outputs": [],
   "source": [
    "print(f\"The fitted DecisionTreeClassifier model has {dtc_mdl.tree_.node_count} nodes and is up to {dtc_mdl.tree_.max_depth} levels deep.\")"
   ]
  },
  {
   "cell_type": "markdown",
   "metadata": {
    "application/vnd.databricks.v1+cell": {
     "cellMetadata": {},
     "inputWidgets": {},
     "nuid": "c8030f85-e366-4df0-911f-0d893344e79c",
     "showTitle": false,
     "title": ""
    }
   },
   "source": [
    "This is a very large decision tree, printing out the full tree logic, we can see it is vast and sprawling:"
   ]
  },
  {
   "cell_type": "code",
   "execution_count": 0,
   "metadata": {
    "application/vnd.databricks.v1+cell": {
     "cellMetadata": {},
     "inputWidgets": {},
     "nuid": "08c0d6fa-bffe-4662-825b-3a0ab236000e",
     "showTitle": false,
     "title": ""
    }
   },
   "outputs": [],
   "source": [
    "from sklearn.tree import export_text\n",
    "\n",
    "text_representation = export_text(dtc_mdl, feature_names=feature_names)\n",
    "print(text_representation)"
   ]
  },
  {
   "cell_type": "markdown",
   "metadata": {
    "application/vnd.databricks.v1+cell": {
     "cellMetadata": {},
     "inputWidgets": {},
     "nuid": "d6575af8-36e8-4fee-95c7-7009f1a33846",
     "showTitle": false,
     "title": ""
    }
   },
   "source": [
    "This plot will give you a visual representation of the decision tree structure, helping us to understand how the model makes predictions based on different features and their critical values."
   ]
  },
  {
   "cell_type": "markdown",
   "metadata": {
    "application/vnd.databricks.v1+cell": {
     "cellMetadata": {},
     "inputWidgets": {},
     "nuid": "19d4927c-4375-4488-9587-584122ea394b",
     "showTitle": false,
     "title": ""
    }
   },
   "source": [
    "Since it is so big, we can only reasonably visualize a small portion of the tree at any given time. Here is the root and first 2 levels:"
   ]
  },
  {
   "cell_type": "code",
   "execution_count": 0,
   "metadata": {
    "application/vnd.databricks.v1+cell": {
     "cellMetadata": {},
     "inputWidgets": {},
     "nuid": "a7c26e2b-8bd7-4be7-8d2d-d8edbde18796",
     "showTitle": false,
     "title": ""
    }
   },
   "outputs": [],
   "source": [
    "from sklearn.tree import plot_tree\n",
    "\n",
    "plt.figure(figsize=(20,20))\n",
    "plot_tree(dtc_mdl, \n",
    "          feature_names=feature_names,\n",
    "          max_depth=2,\n",
    "          class_names=['0', '1'], \n",
    "          filled=True)\n",
    "plt.title('Decision Tree Structure')\n",
    "plt.show()"
   ]
  },
  {
   "cell_type": "markdown",
   "metadata": {
    "application/vnd.databricks.v1+cell": {
     "cellMetadata": {},
     "inputWidgets": {},
     "nuid": "3bd684d5-b69a-42fc-bef6-d652c22afcf9",
     "showTitle": false,
     "title": ""
    }
   },
   "source": [
    "\n",
    "## Clean up Classroom\n",
    "\n",
    "Run the following cell to remove lessons-specific assets created during this lesson."
   ]
  },
  {
   "cell_type": "code",
   "execution_count": 0,
   "metadata": {
    "application/vnd.databricks.v1+cell": {
     "cellMetadata": {},
     "inputWidgets": {},
     "nuid": "a1160bd7-968d-479e-b268-83f44ff794b9",
     "showTitle": false,
     "title": ""
    }
   },
   "outputs": [],
   "source": [
    "DA.cleanup()"
   ]
  },
  {
   "cell_type": "markdown",
   "metadata": {
    "application/vnd.databricks.v1+cell": {
     "cellMetadata": {},
     "inputWidgets": {},
     "nuid": "6f1bb18a-cd6a-4fad-b1dc-55083f218542",
     "showTitle": false,
     "title": ""
    }
   },
   "source": [
    "\n",
    "## Conclusion\n",
    "\n",
    "This demonstration guided us through the process of training and evaluating a Decision Tree classification model for predicting diabetes. We started by preparing the dataset, conducting a train/test split, and fitting the model. The examination of the confusion matrix provided insights into the model's classification performance, and the visualization of the decision tree's structure and feature importances offered a deeper understanding of the underlying decision-making process."
   ]
  },
  {
   "cell_type": "markdown",
   "metadata": {
    "application/vnd.databricks.v1+cell": {
     "cellMetadata": {},
     "inputWidgets": {},
     "nuid": "76586fda-df31-43d0-b625-4aaf016d3997",
     "showTitle": false,
     "title": ""
    }
   },
   "source": [
    "\n",
    "&copy; 2024 Databricks, Inc. All rights reserved.<br/>\n",
    "Apache, Apache Spark, Spark and the Spark logo are trademarks of the \n",
    "<a href=\"https://www.apache.org/\">Apache Software Foundation</a>.<br/>\n",
    "<br/><a href=\"https://databricks.com/privacy-policy\">Privacy Policy</a> | \n",
    "<a href=\"https://databricks.com/terms-of-use\">Terms of Use</a> | \n",
    "<a href=\"https://help.databricks.com/\">Support</a>"
   ]
  }
 ],
 "metadata": {
  "application/vnd.databricks.v1+notebook": {
   "dashboards": [],
   "environmentMetadata": null,
   "language": "python",
   "notebookMetadata": {
    "pythonIndentUnit": 4
   },
   "notebookName": "1.1b - Training Classification Models",
   "widgets": {}
  }
 },
 "nbformat": 4,
 "nbformat_minor": 0
}
