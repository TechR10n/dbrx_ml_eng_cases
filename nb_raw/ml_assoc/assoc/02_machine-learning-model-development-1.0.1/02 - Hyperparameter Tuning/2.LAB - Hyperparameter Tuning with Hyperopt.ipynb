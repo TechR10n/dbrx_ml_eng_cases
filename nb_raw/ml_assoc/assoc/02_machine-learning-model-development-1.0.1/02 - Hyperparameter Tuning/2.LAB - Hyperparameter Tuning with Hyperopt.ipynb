{
 "cells": [
  {
   "cell_type": "markdown",
   "metadata": {
    "application/vnd.databricks.v1+cell": {
     "cellMetadata": {},
     "inputWidgets": {},
     "nuid": "cb2366a8-33d9-49b6-a76b-4ccb40b9ed13",
     "showTitle": false,
     "title": ""
    }
   },
   "source": [
    "\n",
    "<div style=\"text-align: center; line-height: 0; padding-top: 9px;\">\n",
    "  <img src=\"https://databricks.com/wp-content/uploads/2018/03/db-academy-rgb-1200px.png\" alt=\"Databricks Learning\">\n",
    "</div>\n"
   ]
  },
  {
   "cell_type": "markdown",
   "metadata": {
    "application/vnd.databricks.v1+cell": {
     "cellMetadata": {},
     "inputWidgets": {},
     "nuid": "8a6c7dfe-f841-4cb3-b3f2-eea218b7aa9e",
     "showTitle": false,
     "title": ""
    }
   },
   "source": [
    "\n",
    "# LAB - Hyperparameter Tuning with Hyperopt\n",
    "\n",
    "Welcome to the Hyperparameter Tuning with Hyperopt lab! In this hands-on session, you'll gain practical insights into **optimizing machine learning models using Hyperopt**. Throughout the lab, we'll cover key steps, from loading the dataset and creating training/test sets to **defining a hyperparameter search space and running optimization trials with Spark**. The primary objective is to equip you with the skills to fine-tune models effectively using Spark, hyperopt and MLflow.\n",
    "\n",
    "**Lab Outline:**\n",
    "1. Load the dataset and create training/test sets.\n",
    "\n",
    "1. Define the hyperparameter search space for optimization.\n",
    "\n",
    "1. Define the optimization function to fine-tune the model.\n",
    "\n",
    "1. Run hyperparameter tuning trials using Spark.\n",
    "\n",
    "1. Show the best run's info.\n",
    "\n",
    "1. Search for runs using the MLflow API.\n",
    "\n",
    "1. Search for runs using the MLflow UI."
   ]
  },
  {
   "cell_type": "markdown",
   "metadata": {
    "application/vnd.databricks.v1+cell": {
     "cellMetadata": {},
     "inputWidgets": {},
     "nuid": "553a603b-67bf-4fc5-a554-fc94a2ce3a8c",
     "showTitle": false,
     "title": ""
    }
   },
   "source": [
    "## Requirements\n",
    "\n",
    "Please review the following requirements before starting the lesson:\n",
    "\n",
    "* To run this notebook, you need to use one of the following Databricks runtime(s): **13.3.x-cpu-ml-scala2.12 13.3.x-scala2.12**"
   ]
  },
  {
   "cell_type": "markdown",
   "metadata": {
    "application/vnd.databricks.v1+cell": {
     "cellMetadata": {},
     "inputWidgets": {},
     "nuid": "d29f190a-fc94-4a54-8287-b2525ed902d3",
     "showTitle": false,
     "title": ""
    }
   },
   "source": [
    "\n",
    "## Classroom Setup\n",
    "\n",
    "Before starting the demo, run the provided classroom setup script. This script will define configuration variables necessary for the demo. Execute the following cell:"
   ]
  },
  {
   "cell_type": "code",
   "execution_count": 0,
   "metadata": {
    "application/vnd.databricks.v1+cell": {
     "cellMetadata": {},
     "inputWidgets": {},
     "nuid": "ee80bf15-3d21-429b-85ef-d92d5ef41922",
     "showTitle": false,
     "title": ""
    }
   },
   "outputs": [],
   "source": [
    "%run ../Includes/Classroom-Setup-02.LAB"
   ]
  },
  {
   "cell_type": "markdown",
   "metadata": {
    "application/vnd.databricks.v1+cell": {
     "cellMetadata": {},
     "inputWidgets": {},
     "nuid": "29f2e58f-ff5b-4aed-8cff-7a3794c6dcca",
     "showTitle": false,
     "title": ""
    }
   },
   "source": [
    "**Other Conventions:**\n",
    "\n",
    "Throughout this demo, we'll refer to the object `DA`. This object, provided by Databricks Academy, contains variables such as your username, catalog name, schema name, working directory, and dataset locations. Run the code block below to view these details:"
   ]
  },
  {
   "cell_type": "code",
   "execution_count": 0,
   "metadata": {
    "application/vnd.databricks.v1+cell": {
     "cellMetadata": {},
     "inputWidgets": {},
     "nuid": "df15b9a3-f95b-4bbe-9367-11e16df06d7d",
     "showTitle": false,
     "title": ""
    }
   },
   "outputs": [],
   "source": [
    "print(f\"Username:          {DA.username}\")\n",
    "print(f\"Catalog Name:      {DA.catalog_name}\")\n",
    "print(f\"Schema Name:       {DA.schema_name}\")\n",
    "print(f\"Working Directory: {DA.paths.working_dir}\")\n",
    "print(f\"Dataset Location:  {DA.paths.datasets}\")"
   ]
  },
  {
   "cell_type": "markdown",
   "metadata": {
    "application/vnd.databricks.v1+cell": {
     "cellMetadata": {},
     "inputWidgets": {},
     "nuid": "b4cabb10-9561-4e0f-975a-29911013b9ca",
     "showTitle": false,
     "title": ""
    }
   },
   "source": [
    "## Prepare Dataset\n",
    "\n",
    "In this lab you will be using a fictional dataset from a Telecom Company, which includes customer information. This dataset encompasses **customer demographics**, including gender, as well as internet subscription details such as subscription plans and payment methods.\n",
    "\n",
    "In this lab will create and tune a model that will predict customer churn based on **`Churn`** field. \n",
    "\n",
    "A table with all features is already created for you.\n",
    "\n",
    "**Table name: `customer_churn`**"
   ]
  },
  {
   "cell_type": "code",
   "execution_count": 0,
   "metadata": {
    "application/vnd.databricks.v1+cell": {
     "cellMetadata": {},
     "inputWidgets": {},
     "nuid": "9b54a894-b6c7-481d-a34f-495775fa7857",
     "showTitle": false,
     "title": ""
    }
   },
   "outputs": [],
   "source": [
    "import mlflow.data\n",
    "from sklearn.model_selection import train_test_split\n",
    "\n",
    "# load data from the feature table\n",
    "table_name = f\"{DA.catalog_name}.{DA.schema_name}.customer_churn\"\n",
    "dataset = mlflow.data.load_delta(table_name=table_name)\n",
    "pd = dataset.df.drop(\"CustomerID\").toPandas()\n",
    "\n",
    "# split dataset to train/test \n",
    "target_col = \"Churn\"\n",
    "X_all = pd.drop(labels=target_col, axis=1)\n",
    "y_all = pd[target_col]\n",
    "\n",
    "# test / train split\n",
    "X_train, X_test, y_train, y_test = train_test_split(X_all, y_all, train_size=0.95, random_state=42)\n",
    "print(f\"We have {X_train.shape[0]} records in our training dataset\")\n",
    "print(f\"We have {X_test.shape[0]} records in our test dataset\")"
   ]
  },
  {
   "cell_type": "markdown",
   "metadata": {
    "application/vnd.databricks.v1+cell": {
     "cellMetadata": {},
     "inputWidgets": {},
     "nuid": "b3c3a8e2-5736-4db3-bab8-389db5336ce0",
     "showTitle": false,
     "title": ""
    }
   },
   "source": [
    "## Task 1:  Define Hyperparameter Search Space\n",
    "\n",
    "Define the parameter search space for hyperopt. Define these hyperparameters and search space;\n",
    "* **`max_depth`:** 2 to 30\n",
    "* **`max_features`**: 5 to 10\n",
    "\n",
    "Note that both parameters are discrete values."
   ]
  },
  {
   "cell_type": "code",
   "execution_count": 0,
   "metadata": {
    "application/vnd.databricks.v1+cell": {
     "cellMetadata": {},
     "inputWidgets": {},
     "nuid": "c25f9b04-ba20-433a-a244-a20cd1ded6d2",
     "showTitle": false,
     "title": ""
    }
   },
   "outputs": [],
   "source": [
    "from hyperopt import hp\n",
    "\n",
    "# define param search space\n",
    "\n",
    "dtc_param_space = <FILL_IN>"
   ]
  },
  {
   "cell_type": "markdown",
   "metadata": {
    "application/vnd.databricks.v1+cell": {
     "cellMetadata": {},
     "inputWidgets": {},
     "nuid": "2aec4d33-5476-40a3-900f-5f6216ffaddd",
     "showTitle": false,
     "title": ""
    }
   },
   "source": [
    "## Task 2: Define Optimization Function\n",
    "\n",
    "Next, define an optimization function that will be used by hyperopt for minimizing the loss. \n",
    "\n",
    "Make sure to follow instructions;\n",
    "\n",
    "* Make sure to enable MLflow run as **`nested`** experiment. \n",
    "\n",
    "* For each run log the cross-validation results for `accuracy`, `precision`, `recall` and `f1`\n",
    "\n",
    "* Use **3-fold** cross validation\n",
    "\n",
    "* Minimize loss based on the **`precision`** score"
   ]
  },
  {
   "cell_type": "code",
   "execution_count": 0,
   "metadata": {
    "application/vnd.databricks.v1+cell": {
     "cellMetadata": {},
     "inputWidgets": {},
     "nuid": "f440e44a-839e-4106-b119-9c7207a968b1",
     "showTitle": false,
     "title": ""
    }
   },
   "outputs": [],
   "source": [
    "from math import sqrt\n",
    "\n",
    "import mlflow\n",
    "import mlflow.data\n",
    "import mlflow.sklearn\n",
    "\n",
    "from sklearn.tree import DecisionTreeClassifier\n",
    "from sklearn.metrics import accuracy_score, precision_score, recall_score, f1_score\n",
    "from sklearn.model_selection import cross_validate\n",
    "\n",
    "from hyperopt import STATUS_OK\n",
    "\n",
    "def tuning_objective(params):\n",
    " # start an MLFlow run\n",
    " with mlflow.<FILL_IN> as mlflow_run:\n",
    "    \n",
    "   # Enable automatic logging of input samples, metrics, parameters, and models\n",
    "   mlflow.sklearn.autolog(\n",
    "       disable=False,\n",
    "       log_input_examples=True,\n",
    "       silent=True,\n",
    "       exclusive=False)\n",
    "\n",
    "   # set up our model estimator\n",
    "   dtc = <FILL_IN>\n",
    "    \n",
    "   # cross-validated on the training set\n",
    "   validation_scores = <FILL_IN>\n",
    "   cv_results = cross_validate(<FILL_IN>)\n",
    "   # log the average cross-validated results\n",
    "   cv_score_results = {}\n",
    "   for val_score in validation_scores:\n",
    "     cv_score_results[val_score] = cv_results[f'test_{val_score}'].mean()\n",
    "     mlflow.log_metric(f\"cv_{val_score}\", cv_score_results[val_score])\n",
    "\n",
    "   # return the negative of our cross-validated precision score as the loss\n",
    "   return <FILL_IN>"
   ]
  },
  {
   "cell_type": "markdown",
   "metadata": {
    "application/vnd.databricks.v1+cell": {
     "cellMetadata": {},
     "inputWidgets": {},
     "nuid": "c0b032a4-3a79-4fcb-85db-94bc96eb6138",
     "showTitle": false,
     "title": ""
    }
   },
   "source": [
    "## Task 3: Run Trials in Hyperopt\n",
    "\n",
    "After defining the *objective function*, we are ready to run this function with hyperopt. \n",
    "\n",
    "* Use `SparkTrails` and run *3 trails* in parallel.\n",
    "\n",
    "* Use **TPE** algorithm for optimization.\n",
    "\n",
    "* Use maximum 3 evaluations."
   ]
  },
  {
   "cell_type": "code",
   "execution_count": 0,
   "metadata": {
    "application/vnd.databricks.v1+cell": {
     "cellMetadata": {},
     "inputWidgets": {},
     "nuid": "af3f60da-9343-434d-8265-406eefc34965",
     "showTitle": false,
     "title": ""
    }
   },
   "outputs": [],
   "source": [
    "from hyperopt import <FILL_IN>\n",
    "\n",
    "# set the path for mlflow experiment\n",
    "mlflow.set_experiment(f\"/Users/{DA.username}/LAB-2-Hyperparameter-Tuning-with-Hyperopt\")\n",
    "\n",
    "trials = <FILL_IN>\n",
    "with mlflow.start_run(run_name=\"Model Tuning with Hyperopt Demo\") as parent_run:\n",
    "  fmin(<FILL_IN>)"
   ]
  },
  {
   "cell_type": "markdown",
   "metadata": {
    "application/vnd.databricks.v1+cell": {
     "cellMetadata": {},
     "inputWidgets": {},
     "nuid": "2d27c740-692a-461d-88a7-46b45e4af5b8",
     "showTitle": false,
     "title": ""
    }
   },
   "source": [
    "## Task 4: Show the Best Run Info"
   ]
  },
  {
   "cell_type": "code",
   "execution_count": 0,
   "metadata": {
    "application/vnd.databricks.v1+cell": {
     "cellMetadata": {},
     "inputWidgets": {},
     "nuid": "5f82dfea-904b-4bc2-9ee8-87f5fb995489",
     "showTitle": false,
     "title": ""
    }
   },
   "outputs": [],
   "source": [
    "# get best trail and show the info\n",
    "best_run = <FILL_IN>\n",
    "best_run.<FILL_IN>"
   ]
  },
  {
   "cell_type": "markdown",
   "metadata": {
    "application/vnd.databricks.v1+cell": {
     "cellMetadata": {},
     "inputWidgets": {},
     "nuid": "a66f0624-3496-4a38-ab3e-fae371ec1eca",
     "showTitle": false,
     "title": ""
    }
   },
   "source": [
    "## Task 5: Search for the Best Run with MLflow API\n",
    "\n",
    "We just got the best run based on the loss metric in the previous step. Sometimes we might need to search for runs using custom filters such as by parent run or by another metric. \n",
    "\n",
    "In this step, search for runs of `parent_run` experiment and use following filters;\n",
    "\n",
    "* Filter by runs which has `FINISHED`\n",
    "\n",
    "* Order by **cross validation precision** score from **high to low**."
   ]
  },
  {
   "cell_type": "code",
   "execution_count": 0,
   "metadata": {
    "application/vnd.databricks.v1+cell": {
     "cellMetadata": {},
     "inputWidgets": {},
     "nuid": "a39e64a3-e984-4f81-af99-1a8099ee9b0b",
     "showTitle": false,
     "title": ""
    }
   },
   "outputs": [],
   "source": [
    "from mlflow.entities import ViewType\n",
    "\n",
    "# search over all runs\n",
    "hpo_runs_pd = <FILL_IN>\n",
    "\n",
    "display(hpo_runs_pd)"
   ]
  },
  {
   "cell_type": "markdown",
   "metadata": {
    "application/vnd.databricks.v1+cell": {
     "cellMetadata": {},
     "inputWidgets": {},
     "nuid": "03ef0bef-24c3-4add-bef4-fb4f7dbf48f5",
     "showTitle": false,
     "title": ""
    }
   },
   "source": [
    "## Task 6: Search for the Best Run with MLflow UI\n",
    "\n",
    "Another way of searching for runs is to simply use the MLflow UI. In this section, we will need to review the experiment and runs and filter runs based on the same filters that are defined in the previous step but this time using the UI."
   ]
  },
  {
   "cell_type": "markdown",
   "metadata": {
    "application/vnd.databricks.v1+cell": {
     "cellMetadata": {},
     "inputWidgets": {},
     "nuid": "d0ce1d3c-c808-4f50-80a5-33ce96d57b28",
     "showTitle": false,
     "title": ""
    }
   },
   "source": [
    "\n",
    "## Clean up Classroom\n",
    "\n",
    "Run the following cell to remove lessons-specific assets created during this lesson."
   ]
  },
  {
   "cell_type": "code",
   "execution_count": 0,
   "metadata": {
    "application/vnd.databricks.v1+cell": {
     "cellMetadata": {},
     "inputWidgets": {},
     "nuid": "4300437d-e5fa-4e95-bf94-ac1e8222ff88",
     "showTitle": false,
     "title": ""
    }
   },
   "outputs": [],
   "source": [
    "DA.cleanup()"
   ]
  },
  {
   "cell_type": "markdown",
   "metadata": {
    "application/vnd.databricks.v1+cell": {
     "cellMetadata": {},
     "inputWidgets": {},
     "nuid": "2fba5480-c37c-4a42-a15a-48367f51d270",
     "showTitle": false,
     "title": ""
    }
   },
   "source": [
    "\n",
    "## Conclusion\n",
    "\n",
    "In conclusion, you have successfully completed the Hyperparameter Tuning with Hyperopt lab, gaining practical insights into optimizing machine learning models. Throughout this hands-on session, you've mastered key steps, from defining a hyperparameter search space to executing optimization trials with Spark. Additionally, you searched for and analyzed the best model runs through both the MLflow API and the user-friendly MLflow UI. The primary objective was to empower you with the skills to fine-tune models effectively using Spark, Hyperopt, and MLflow. As you conclude this lab, you are now adept at these techniques. Congratulations on your achievement!"
   ]
  },
  {
   "cell_type": "markdown",
   "metadata": {
    "application/vnd.databricks.v1+cell": {
     "cellMetadata": {},
     "inputWidgets": {},
     "nuid": "69b37cbe-be51-41de-aba5-3712d507cd30",
     "showTitle": false,
     "title": ""
    }
   },
   "source": [
    "\n",
    "&copy; 2024 Databricks, Inc. All rights reserved.<br/>\n",
    "Apache, Apache Spark, Spark and the Spark logo are trademarks of the \n",
    "<a href=\"https://www.apache.org/\">Apache Software Foundation</a>.<br/>\n",
    "<br/><a href=\"https://databricks.com/privacy-policy\">Privacy Policy</a> | \n",
    "<a href=\"https://databricks.com/terms-of-use\">Terms of Use</a> | \n",
    "<a href=\"https://help.databricks.com/\">Support</a>"
   ]
  }
 ],
 "metadata": {
  "application/vnd.databricks.v1+notebook": {
   "dashboards": [],
   "environmentMetadata": null,
   "language": "python",
   "notebookMetadata": {
    "pythonIndentUnit": 4
   },
   "notebookName": "2.LAB - Hyperparameter Tuning with Hyperopt",
   "widgets": {}
  }
 },
 "nbformat": 4,
 "nbformat_minor": 0
}
