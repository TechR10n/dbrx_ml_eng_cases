{
 "cells": [
  {
   "cell_type": "markdown",
   "metadata": {
    "application/vnd.databricks.v1+cell": {
     "cellMetadata": {},
     "inputWidgets": {},
     "nuid": "c1522e0e-7572-4c12-865c-925fb247209e",
     "showTitle": false,
     "title": ""
    }
   },
   "source": [
    "\n",
    "<div style=\"text-align: center; line-height: 0; padding-top: 9px;\">\n",
    "  <img src=\"https://databricks.com/wp-content/uploads/2018/03/db-academy-rgb-1200px.png\" alt=\"Databricks Learning\" style=\"width: 600px\">\n",
    "</div>"
   ]
  },
  {
   "cell_type": "markdown",
   "metadata": {
    "application/vnd.databricks.v1+cell": {
     "cellMetadata": {},
     "inputWidgets": {},
     "nuid": "b313a980-70a3-4e5d-8cfb-ceacf83b2fa7",
     "showTitle": false,
     "title": ""
    }
   },
   "source": [
    "\n",
    "# Using Feature Store for Feature Engineering \n",
    "\n",
    "In this demo, we will guide you to explore the use of Feature Stores to enhance feature engineering workflow and understand their crucial role in development of machine learning models. First we will create feature store tables for effective implementation in feature engineering processes and then discuss how to update features. Also, we will cover how to convert existing table to feature tables in Unity Catalog.\n",
    "\n",
    "**Learning Objectives:**\n",
    "\n",
    "*By the end of this demo, you will be able to;*\n",
    "\n",
    "1. Create a Feature Store table from a PySpark DataFrame for training/modeling data and holdout data.\n",
    "1. Identify the requirements for a Delta table in Unity Catalog to be automatically configured as a feature table.\n",
    "1. Alter an existing Delta table in Unity Catalog so that it can be used as a feature table.\n",
    "1. Add new features to an existing feature table in Unity Catalog.\n",
    "1. Explore a Feature Store table in the user interface.\n",
    "1. Upgrade a workspace feature table to a Unity Catalog feature table.\n"
   ]
  },
  {
   "cell_type": "markdown",
   "metadata": {
    "application/vnd.databricks.v1+cell": {
     "cellMetadata": {},
     "inputWidgets": {},
     "nuid": "fdfa6aa0-6c5d-46ca-b2bc-a7abf1261814",
     "showTitle": false,
     "title": ""
    }
   },
   "source": [
    "## Requirements\n",
    "\n",
    "Please review the following requirements before starting the lesson:\n",
    "\n",
    "* To run this notebook, you need to use one of the following Databricks runtime(s): **13.3.x-cpu-ml-scala2.12**"
   ]
  },
  {
   "cell_type": "markdown",
   "metadata": {
    "application/vnd.databricks.v1+cell": {
     "cellMetadata": {},
     "inputWidgets": {},
     "nuid": "f24fc006-f18e-4a3a-8d2e-973e1b9cd822",
     "showTitle": false,
     "title": ""
    }
   },
   "source": [
    "\n",
    "## Classroom Setup\n",
    "\n",
    "Before starting the demo, run the provided classroom setup script. This script will define configuration variables necessary for the demo. Execute the following cell:"
   ]
  },
  {
   "cell_type": "code",
   "execution_count": 0,
   "metadata": {
    "application/vnd.databricks.v1+cell": {
     "cellMetadata": {},
     "inputWidgets": {},
     "nuid": "e74c33bc-5aba-4947-ab88-0593b25f37ea",
     "showTitle": false,
     "title": ""
    }
   },
   "outputs": [],
   "source": [
    "%run ../Includes/Classroom-Setup-03.1"
   ]
  },
  {
   "cell_type": "markdown",
   "metadata": {
    "application/vnd.databricks.v1+cell": {
     "cellMetadata": {},
     "inputWidgets": {},
     "nuid": "07a3895a-fd33-4af4-8f7f-a3ec9db10f80",
     "showTitle": false,
     "title": ""
    }
   },
   "source": [
    "**Other Conventions:**\n",
    "\n",
    "Throughout this demo, we'll refer to the object `DA`. This object, provided by Databricks Academy, contains variables such as your username, catalog name, schema name, working directory, and dataset locations. Run the code block below to view these details:"
   ]
  },
  {
   "cell_type": "code",
   "execution_count": 0,
   "metadata": {
    "application/vnd.databricks.v1+cell": {
     "cellMetadata": {},
     "inputWidgets": {},
     "nuid": "e5c50d9d-6200-49d1-b098-22d0549465f5",
     "showTitle": false,
     "title": ""
    }
   },
   "outputs": [],
   "source": [
    "print(f\"Username:          {DA.username}\")\n",
    "print(f\"Catalog Name:      {DA.catalog_name}\")\n",
    "print(f\"Schema Name:       {DA.schema_name}\")\n",
    "print(f\"Working Directory: {DA.paths.working_dir}\")\n",
    "print(f\"Dataset Location:  {DA.paths.datasets}\")"
   ]
  },
  {
   "cell_type": "markdown",
   "metadata": {
    "application/vnd.databricks.v1+cell": {
     "cellMetadata": {},
     "inputWidgets": {},
     "nuid": "6c7619dc-0260-4876-8aa1-0ee822731882",
     "showTitle": false,
     "title": ""
    }
   },
   "source": [
    "## Feature Engineering\n",
    "\n",
    "Before we save features to a feature table we need to create features that we are interested in. Feature selection criteria depend on your project goals and business problem. Thus, in this section, we will pick some features, however, it doesn't necessarily mean that these features are significant for our purpose.\n",
    "\n",
    "**One important point is that you need to exclude the target field from the feature table and you need to define a primary key for the table.**\n"
   ]
  },
  {
   "cell_type": "markdown",
   "metadata": {
    "application/vnd.databricks.v1+cell": {
     "cellMetadata": {},
     "inputWidgets": {},
     "nuid": "ab46fbbc-6fa4-43c1-ab3a-974d2db96d61",
     "showTitle": false,
     "title": ""
    }
   },
   "source": [
    "### Load Dataset\n",
    "\n",
    "Typically, first, you will need to conduct data pre-processing and select features. As we covered data pre-processing and feature preparation, we will load a clean dataset which you would typically load from a **`silver`** table.\n",
    "\n",
    "Let's load in our dataset from a CSV file containing Telco customer churn data from the specified path using Apache Spark. **In this dataset the target column will be `Churn` and primary key will be `customerID`.** "
   ]
  },
  {
   "cell_type": "code",
   "execution_count": 0,
   "metadata": {
    "application/vnd.databricks.v1+cell": {
     "cellMetadata": {},
     "inputWidgets": {},
     "nuid": "f22d7249-ce47-4f21-b66b-13df18767bdd",
     "showTitle": false,
     "title": ""
    }
   },
   "outputs": [],
   "source": [
    "# Load dataset\n",
    "dataset_path = f\"{DA.paths.datasets}/telco/telco-customer-churn.csv\"\n",
    "telco_df = spark.read.csv(dataset_path, header=\"true\", inferSchema=\"true\", multiLine=\"true\", escape='\"')\n",
    "\n",
    "# Drop the taget column\n",
    "telco_df = telco_df.drop(\"Churn\")\n",
    "\n",
    "# View dataset\n",
    "display(telco_df)"
   ]
  },
  {
   "cell_type": "markdown",
   "metadata": {
    "application/vnd.databricks.v1+cell": {
     "cellMetadata": {},
     "inputWidgets": {},
     "nuid": "96122486-b777-4a8d-95bb-8a390c088ef6",
     "showTitle": false,
     "title": ""
    }
   },
   "source": [
    "## Save Features to Feature Table\n",
    "\n",
    "\n",
    "Let's start creating a <a href=\"https://docs.databricks.com/en/machine-learning/feature-store/uc/feature-tables-uc.html#install-feature-engineering-in-unity-catalog-python-client\" target=\"_blank\">Feature Engineering Client</a> so we can populate our feature store."
   ]
  },
  {
   "cell_type": "code",
   "execution_count": 0,
   "metadata": {
    "application/vnd.databricks.v1+cell": {
     "cellMetadata": {},
     "inputWidgets": {},
     "nuid": "a98ef8b7-8f6c-4d03-a1c6-02b1f58f4429",
     "showTitle": false,
     "title": ""
    }
   },
   "outputs": [],
   "source": [
    "from databricks.feature_engineering import FeatureEngineeringClient\n",
    "\n",
    "\n",
    "fe = FeatureEngineeringClient()\n",
    "\n",
    "help(fe.create_table)"
   ]
  },
  {
   "cell_type": "markdown",
   "metadata": {
    "application/vnd.databricks.v1+cell": {
     "cellMetadata": {},
     "inputWidgets": {},
     "nuid": "a44d1ba1-09cb-49ec-ab42-f0bbdcec4322",
     "showTitle": false,
     "title": ""
    }
   },
   "source": [
    "\n",
    "### Create Feature Table\n",
    "\n",
    "Next, we can create the Feature Table using the **`create_table`** method.\n",
    "\n",
    "This method takes a few parameters as inputs:\n",
    "* **`name`** - A feature table name of the form **`<catalog>.<schema_name>.<table_name>`**\n",
    "* **`primary_keys`** - The primary key(s). If multiple columns are required, specify a list of column names.\n",
    "* **`timestamp_col`** - [OPTIONAL] any timestamp column which can be used for `point-in-time` lookup.\n",
    "* **`df`** - Data to insert into this feature table.  The schema of **`features_df`** will be used as the feature table schema.\n",
    "* **`schema`** - Feature table schema. Note that either **`schema`** or **`features_df`** must be provided.\n",
    "* **`description`** - Description of the feature table\n",
    "* **`partition_columns`** - Column(s) used to partition the feature table.\n",
    "* **`tags`** - Tag(s) to tag feature table"
   ]
  },
  {
   "cell_type": "code",
   "execution_count": 0,
   "metadata": {
    "application/vnd.databricks.v1+cell": {
     "cellMetadata": {},
     "inputWidgets": {},
     "nuid": "4e8295ee-9058-4cf0-850e-10b53fd2ccb3",
     "showTitle": false,
     "title": ""
    }
   },
   "outputs": [],
   "source": [
    "# create a feature table from the dataset\n",
    "table_name = f\"{DA.catalog_name}.{DA.schema_name}.telco_customer_features\"\n",
    "\n",
    "fe.create_table(\n",
    "    name=table_name,\n",
    "    primary_keys=[\"customerID\"],\n",
    "    df=telco_df,\n",
    "    #partition_columns=[\"InternetService\"] for small datasets partitioning is not recommended\n",
    "    description=\"Telco customer features\",\n",
    "    tags={\"source\": \"bronze\", \"format\": \"delta\"}\n",
    ")"
   ]
  },
  {
   "cell_type": "markdown",
   "metadata": {
    "application/vnd.databricks.v1+cell": {
     "cellMetadata": {},
     "inputWidgets": {},
     "nuid": "5a6728ef-bfce-42de-9c04-659217f66be7",
     "showTitle": false,
     "title": ""
    }
   },
   "source": [
    "\n",
    "Alternatively, you can **`create_table`** with schema only (without **`df`**), and populate data to the feature table with **`fe.write_table`**, **`fe.write_table`** has **`merge`** mode ONLY (to overwrite, we should drop and then re-create the table).\n",
    "\n",
    "\n",
    "Example:\n",
    "\n",
    "```\n",
    "# One time creation\n",
    "fs.create_table(\n",
    "    name=table_name,\n",
    "    primary_keys=[\"index\"],\n",
    "    schema=telco_df.schema,\n",
    "    description=\"Original Telco data (Silver)\"\n",
    ")\n",
    "\n",
    "# Repeated/Scheduled writes\n",
    "fs.write_table(\n",
    "    name=table_name,\n",
    "    df=telco_df,\n",
    "    mode=\"merge\"\n",
    ")\n",
    "```"
   ]
  },
  {
   "cell_type": "markdown",
   "metadata": {
    "application/vnd.databricks.v1+cell": {
     "cellMetadata": {},
     "inputWidgets": {},
     "nuid": "dafdef4e-12e4-4219-8931-db37ebebbfe4",
     "showTitle": false,
     "title": ""
    }
   },
   "source": [
    "### Explore Feature Table with the UI\n",
    "\n",
    "Now let's explore the UI and see how it tracks the tables that we created.\n",
    "\n",
    "* Click of **Features** from left panel.\n",
    "\n",
    "* Select the **catalog** that you used for creating the feature table.\n",
    "\n",
    "* Click on the feature table and you should see the table details as show below.\n",
    "\n",
    "<img src=\"https://s3.us-west-2.amazonaws.com/files.training.databricks.com/images/ml-01-feature-store-feature-table-v1.png\" alt=\"Feature Store Table Details\" width=\"1000\"/>"
   ]
  },
  {
   "cell_type": "markdown",
   "metadata": {
    "application/vnd.databricks.v1+cell": {
     "cellMetadata": {},
     "inputWidgets": {},
     "nuid": "ad592ef8-cc54-4644-a05b-e5631f29c89c",
     "showTitle": false,
     "title": ""
    }
   },
   "source": [
    "\n",
    "### Load Feature Table\n",
    "\n",
    "We can also look at the metadata of the feature store via the FeatureStore client by using **`get_table()`**. *As feature table is a Delta table we can load it with Spark as normally we do for other tables*."
   ]
  },
  {
   "cell_type": "code",
   "execution_count": 0,
   "metadata": {
    "application/vnd.databricks.v1+cell": {
     "cellMetadata": {},
     "inputWidgets": {},
     "nuid": "9a73f6fb-6c22-45db-92d2-71f0c661b225",
     "showTitle": false,
     "title": ""
    }
   },
   "outputs": [],
   "source": [
    "ft = fe.get_table(name=table_name)\n",
    "print(f\"Feature Table description: {ft.description}\")\n",
    "print(ft.features)"
   ]
  },
  {
   "cell_type": "code",
   "execution_count": 0,
   "metadata": {
    "application/vnd.databricks.v1+cell": {
     "cellMetadata": {},
     "inputWidgets": {},
     "nuid": "8d918699-b600-4e42-80dd-8bcadf0aac2c",
     "showTitle": false,
     "title": ""
    }
   },
   "outputs": [],
   "source": [
    "display(fe.read_table(name=table_name))\n",
    "#display(spark.table(table_name)) # we could just read as delta table"
   ]
  },
  {
   "cell_type": "markdown",
   "metadata": {
    "application/vnd.databricks.v1+cell": {
     "cellMetadata": {},
     "inputWidgets": {},
     "nuid": "697b8649-8dce-43f2-acbd-fd9a7b438986",
     "showTitle": false,
     "title": ""
    }
   },
   "source": [
    "\n",
    "## Update Feature Table\n",
    "\n",
    "In some cases we might need to update an existing feature table by adding new features or deleting existing features. In this section, we will show to make these type of changes. "
   ]
  },
  {
   "cell_type": "markdown",
   "metadata": {
    "application/vnd.databricks.v1+cell": {
     "cellMetadata": {},
     "inputWidgets": {},
     "nuid": "8f41bc08-c94b-4b23-8981-a5aaa5207e78",
     "showTitle": false,
     "title": ""
    }
   },
   "source": [
    "### Add a New Feature\n",
    "\n",
    "To illustrate adding a new feature, let's redefine an existing one. In this case, we'll transform the `tenure` column by categorizing it into three groups: `short`, `mid`, and `long`, representing different tenure durations. \n",
    "\n",
    "Then we will write the dataset back to the feature table. The important parameter is the `mode` parameter, which we should set to `\"merge\"`."
   ]
  },
  {
   "cell_type": "code",
   "execution_count": 0,
   "metadata": {
    "application/vnd.databricks.v1+cell": {
     "cellMetadata": {},
     "inputWidgets": {},
     "nuid": "c5c7df4a-7a4d-4f72-a440-c8a3d98b623e",
     "showTitle": false,
     "title": ""
    }
   },
   "outputs": [],
   "source": [
    "from pyspark.sql.functions import when\n",
    "\n",
    "telco_df_updated = telco_df.withColumn(\"tenure_group\", \n",
    "    when((telco_df.tenure >= 0) & (telco_df.tenure <= 25), \"short\")\n",
    "    .when((telco_df.tenure > 25) & (telco_df.tenure <= 50), \"mid\")\n",
    "    .when((telco_df.tenure > 50) & (telco_df.tenure <= 75), \"long\")\n",
    "    .otherwise(\"invalid\")\n",
    ")"
   ]
  },
  {
   "cell_type": "markdown",
   "metadata": {
    "application/vnd.databricks.v1+cell": {
     "cellMetadata": {},
     "inputWidgets": {},
     "nuid": "354375f1-aa02-4e5e-ac81-4d7f9b95f727",
     "showTitle": false,
     "title": ""
    }
   },
   "source": [
    "Selecting relevant columns. Use an appropriate mode (e.g., \"merge\") and display the written table for validation."
   ]
  },
  {
   "cell_type": "code",
   "execution_count": 0,
   "metadata": {
    "application/vnd.databricks.v1+cell": {
     "cellMetadata": {},
     "inputWidgets": {},
     "nuid": "6df2ab3d-4bd9-4984-8825-5ee08bed7604",
     "showTitle": false,
     "title": ""
    }
   },
   "outputs": [],
   "source": [
    "fe.write_table(\n",
    "    name=table_name,\n",
    "    df=telco_df_updated.select(\"customerID\",\"tenure_group\"), # primary_key and column to add\n",
    "    mode=\"merge\"\n",
    ")"
   ]
  },
  {
   "cell_type": "markdown",
   "metadata": {
    "application/vnd.databricks.v1+cell": {
     "cellMetadata": {},
     "inputWidgets": {},
     "nuid": "f6f21470-7c24-43bb-9fd9-4da5aa59611c",
     "showTitle": false,
     "title": ""
    }
   },
   "source": [
    "\n",
    "### Delete Existing Feature\n",
    "\n",
    "To remove a feature column from the table you can just drop the column. Let's drop the original `tenure` column.\n",
    "\n",
    "**💡 Note:** We need to set Delta read and write protocal version manually to support column mapping. If you want to learn more about this you can check related [documentation page](https://docs.databricks.com/en/delta/delta-column-mapping.html)."
   ]
  },
  {
   "cell_type": "code",
   "execution_count": 0,
   "metadata": {
    "application/vnd.databricks.v1+cell": {
     "cellMetadata": {},
     "inputWidgets": {},
     "nuid": "cb683ee3-0e2a-44f0-a09e-94a84beb6b0a",
     "showTitle": false,
     "title": ""
    }
   },
   "outputs": [],
   "source": [
    "%sql\n",
    "ALTER TABLE telco_customer_features SET TBLPROPERTIES ('delta.columnMapping.mode' = 'name', 'delta.minReaderVersion' = '2', 'delta.minWriterVersion' = '5');\n",
    "ALTER TABLE telco_customer_features DROP COLUMNS (tenure)"
   ]
  },
  {
   "cell_type": "markdown",
   "metadata": {
    "application/vnd.databricks.v1+cell": {
     "cellMetadata": {},
     "inputWidgets": {},
     "nuid": "9f9a35a4-e0d3-425f-8d16-6e54a0e36043",
     "showTitle": false,
     "title": ""
    }
   },
   "source": [
    "## Read Feature Table by Version\n",
    "\n",
    "As feature tables are based on Delta tables, we get all nice features of Delta including versioning. To demonstrate this, let's read from a snapshot of the feature table."
   ]
  },
  {
   "cell_type": "code",
   "execution_count": 0,
   "metadata": {
    "application/vnd.databricks.v1+cell": {
     "cellMetadata": {},
     "inputWidgets": {},
     "nuid": "0049026f-cfe2-402b-9262-933471b65d0a",
     "showTitle": false,
     "title": ""
    }
   },
   "outputs": [],
   "source": [
    "# Get timestamp for initial feature table\n",
    "timestamp_v3 = spark.sql(f\"DESCRIBE HISTORY {table_name}\").orderBy(\"version\").collect()[2].timestamp\n",
    "print(timestamp_v3)"
   ]
  },
  {
   "cell_type": "code",
   "execution_count": 0,
   "metadata": {
    "application/vnd.databricks.v1+cell": {
     "cellMetadata": {},
     "inputWidgets": {},
     "nuid": "fe40b265-5772-42af-8ca6-fc2ef146cee5",
     "showTitle": false,
     "title": ""
    }
   },
   "outputs": [],
   "source": [
    "# Read previous version using native spark API\n",
    "telco_df_v3 = (spark\n",
    "        .read\n",
    "        .option(\"timestampAsOf\", timestamp_v3)\n",
    "        .table(table_name))\n",
    "\n",
    "display(telco_df_v3)"
   ]
  },
  {
   "cell_type": "code",
   "execution_count": 0,
   "metadata": {
    "application/vnd.databricks.v1+cell": {
     "cellMetadata": {},
     "inputWidgets": {},
     "nuid": "12d861d5-5538-4cb0-b59a-9ad61e5478fe",
     "showTitle": false,
     "title": ""
    }
   },
   "outputs": [],
   "source": [
    "# Display old version of feature table\n",
    "feature_df = fe.read_table(\n",
    "  name=table_name,\n",
    "  as_of_delta_timestamp=timestamp_v3\n",
    ")\n",
    "\n",
    "feature_df.printSchema()"
   ]
  },
  {
   "cell_type": "markdown",
   "metadata": {
    "application/vnd.databricks.v1+cell": {
     "cellMetadata": {},
     "inputWidgets": {},
     "nuid": "599118a2-5472-4c0e-9fe2-d46c0c83e1a7",
     "showTitle": false,
     "title": ""
    }
   },
   "source": [
    "\n",
    "## Create a Feature Table from Existing UC Table\n",
    "\n",
    "Alter/Change existing UC table to become a feature table\n",
    "Add a primary key (PK) with non-null constraint _(with timestamp if applicable)_ on any UC table to turn it into a feature table (more info [here](https://docs.databricks.com/en/machine-learning/feature-store/uc/feature-tables-uc.html#use-existing-uc-table))\n",
    "\n",
    "In this example, we have a table created in the beginning of the demo which contains security features. Let's convert this delta table to a feature table.\n",
    "\n",
    "For this, we need to do these two changes;\n",
    "\n",
    "1. Set primary key columns to `NOT NULL`.\n",
    "\n",
    "1. Alter the table to add the `Primary Key` Constraint"
   ]
  },
  {
   "cell_type": "code",
   "execution_count": 0,
   "metadata": {
    "application/vnd.databricks.v1+cell": {
     "cellMetadata": {},
     "inputWidgets": {},
     "nuid": "dc4ebbeb-7bf7-4003-b9aa-1a03e26de5c7",
     "showTitle": false,
     "title": ""
    }
   },
   "outputs": [],
   "source": [
    "display(spark.sql(\"SELECT * FROM security_features\"))"
   ]
  },
  {
   "cell_type": "code",
   "execution_count": 0,
   "metadata": {
    "application/vnd.databricks.v1+cell": {
     "cellMetadata": {},
     "inputWidgets": {},
     "nuid": "26ab28dc-81a7-4599-97d2-461ab985730d",
     "showTitle": false,
     "title": ""
    }
   },
   "outputs": [],
   "source": [
    "%sql\n",
    "ALTER TABLE security_features ALTER COLUMN customerID SET NOT NULL;\n",
    "ALTER TABLE security_features ADD CONSTRAINT security_features_pk_constraint PRIMARY KEY(customerID);"
   ]
  },
  {
   "cell_type": "markdown",
   "metadata": {
    "application/vnd.databricks.v1+cell": {
     "cellMetadata": {},
     "inputWidgets": {},
     "nuid": "e3d2ab5d-f14d-4625-95b0-aafa931417ad",
     "showTitle": false,
     "title": ""
    }
   },
   "source": [
    "\n",
    "## _[OPTIONAL]_ Migrate Workspace Feature Table to Unity Catalog\n",
    "\n",
    "If you have a classic/workspace feature table, you can migrate it to Unity Catalog feature store. To do that, first, you will need to upgarde the table to UC supported table and then use `UpgradeClient` to complete the upgrade. For instructions please visit [this documentation page](https://docs.databricks.com/en/machine-learning/feature-store/uc/feature-tables-uc.html#upgrade-a-workspace-feature-table-to-unity-catalog).\n",
    "\n",
    "A sample code snippet for upgrading classic workspace table;\n",
    "\n",
    "```\n",
    "from databricks.feature_engineering import UpgradeClient\n",
    "\n",
    "\n",
    "upgrade_client = UpgradeClient()\n",
    "\n",
    "upgrade_client.upgrade_workspace_table(\n",
    "  source_workspace_table=\"database.test_features_table\",\n",
    "  target_uc_table=f\"{CATALOG}.{SCHEMA}.test_features_table\"\n",
    ")\n",
    "```"
   ]
  },
  {
   "cell_type": "markdown",
   "metadata": {
    "application/vnd.databricks.v1+cell": {
     "cellMetadata": {},
     "inputWidgets": {},
     "nuid": "2f5a0a75-63ea-4ff2-941f-b6a849c01bb1",
     "showTitle": false,
     "title": ""
    }
   },
   "source": [
    "\n",
    "## Clean up Classroom\n",
    "\n",
    "Run the following cell to remove lessons-specific assets created during this lesson."
   ]
  },
  {
   "cell_type": "code",
   "execution_count": 0,
   "metadata": {
    "application/vnd.databricks.v1+cell": {
     "cellMetadata": {},
     "inputWidgets": {},
     "nuid": "fc86a13f-78dc-4dc6-bb08-01a6044d0dd3",
     "showTitle": false,
     "title": ""
    }
   },
   "outputs": [],
   "source": [
    "DA.cleanup()"
   ]
  },
  {
   "cell_type": "markdown",
   "metadata": {
    "application/vnd.databricks.v1+cell": {
     "cellMetadata": {},
     "inputWidgets": {},
     "nuid": "183f25ed-e505-444c-bd60-5fce6b431ba8",
     "showTitle": false,
     "title": ""
    }
   },
   "source": [
    "\n",
    "## Conclusion\n",
    "\n",
    "In this demo, we learned about Feature Stores, essential for optimizing machine learning models. We explored their benefits, compared Workspace and Unity Catalog Feature Stores, and created feature store tables for effective feature engineering. Mastering these skills empowers efficient collaboration and enhances data consistency, contributing to the development of robust machine learning models."
   ]
  },
  {
   "cell_type": "markdown",
   "metadata": {
    "application/vnd.databricks.v1+cell": {
     "cellMetadata": {},
     "inputWidgets": {},
     "nuid": "ae5a7eac-c09c-4f84-a5fb-4f89555eae0b",
     "showTitle": false,
     "title": ""
    }
   },
   "source": [
    "&copy; 2024 Databricks, Inc. All rights reserved.<br/>\n",
    "Apache, Apache Spark, Spark and the Spark logo are trademarks of the <a href=\"https://www.apache.org/\">Apache Software Foundation</a>.<br/>\n",
    "<br/>\n",
    "<a href=\"https://databricks.com/privacy-policy\">Privacy Policy</a> | <a href=\"https://databricks.com/terms-of-use\">Terms of Use</a> | <a href=\"https://help.databricks.com/\">Support</a>"
   ]
  }
 ],
 "metadata": {
  "application/vnd.databricks.v1+notebook": {
   "dashboards": [],
   "environmentMetadata": null,
   "language": "python",
   "notebookMetadata": {
    "pythonIndentUnit": 4
   },
   "notebookName": "3.1 - Using Feature Store for Feature Engineering",
   "widgets": {}
  }
 },
 "nbformat": 4,
 "nbformat_minor": 0
}
