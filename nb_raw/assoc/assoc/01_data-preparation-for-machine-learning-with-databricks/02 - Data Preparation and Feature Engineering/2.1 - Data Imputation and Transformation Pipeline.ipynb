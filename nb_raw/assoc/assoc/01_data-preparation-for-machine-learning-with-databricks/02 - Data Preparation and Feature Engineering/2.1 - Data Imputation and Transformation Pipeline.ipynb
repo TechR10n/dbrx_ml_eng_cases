{
 "cells": [
  {
   "cell_type": "markdown",
   "metadata": {
    "application/vnd.databricks.v1+cell": {
     "cellMetadata": {},
     "inputWidgets": {},
     "nuid": "73c7fa00-8a6e-444f-9198-798eb3f51030",
     "showTitle": false,
     "title": ""
    }
   },
   "source": [
    "\n",
    "<div style=\"text-align: center; line-height: 0; padding-top: 9px;\">\n",
    "  <img src=\"https://databricks.com/wp-content/uploads/2018/03/db-academy-rgb-1200px.png\" alt=\"Databricks Learning\" style=\"width: 600px\">\n",
    "</div>"
   ]
  },
  {
   "cell_type": "markdown",
   "metadata": {
    "application/vnd.databricks.v1+cell": {
     "cellMetadata": {},
     "inputWidgets": {},
     "nuid": "23d7cad2-230b-42dc-857c-9e6c0c0b7f67",
     "showTitle": false,
     "title": ""
    }
   },
   "source": [
    "\n",
    "# Data Preparation and Feature Engineering\n",
    "\n",
    "In this demo, we'll delve into techniques such as preparing modeling data, including splitting data, handling missing values, encoding categorical features, and standardizing features. We will also discuss outlier removal and coercing columns to the correct data type. By the end, you will have a comprehensive understanding of data preparation for modeling and feature preparation.\n",
    "\n",
    "**Learning Objectives:**\n",
    "\n",
    "By the end of this demo, you will be able to: \n",
    "\n",
    "- Coerce columns to be the correct data type based on feature or target variable type.\n",
    "- Identify and remove outliers from the modeling data.\n",
    "- Drop rows/columns that contain missing values.\n",
    "- Impute categorical missing values with the mode value.\n",
    "- Replace missing values with a specified replacement value.\n",
    "- One-hot encode categorical features.\n",
    "- Perform ordered indexing as an alternative categorical feature preparation for random forest modeling.\n",
    "- Apply pre-existing embeddings to categorical features.\n",
    "- Standardize features in a training set.\n",
    "- Split modeling data into a train-test-holdout split as part of a modeling process.\n",
    "- Split training data into cross-validation sets as part of a modeling process."
   ]
  },
  {
   "cell_type": "markdown",
   "metadata": {
    "application/vnd.databricks.v1+cell": {
     "cellMetadata": {},
     "inputWidgets": {},
     "nuid": "321d7c60-83cc-43d5-b7b5-319bfa70e8c6",
     "showTitle": false,
     "title": ""
    }
   },
   "source": [
    "## Requirements\n",
    "\n",
    "Please review the following requirements before starting the lesson:\n",
    "\n",
    "* To run this notebook, you need to use one of the following Databricks runtime(s): **13.3.x-cpu-ml-scala2.12**"
   ]
  },
  {
   "cell_type": "markdown",
   "metadata": {
    "application/vnd.databricks.v1+cell": {
     "cellMetadata": {},
     "inputWidgets": {},
     "nuid": "f08db8fb-379c-49ce-a2be-5da901f3efa0",
     "showTitle": false,
     "title": ""
    }
   },
   "source": [
    "\n",
    "## Classroom Setup\n",
    "\n",
    "Before starting the demo, run the provided classroom setup script. This script will define configuration variables necessary for the demo. Execute the following cell:"
   ]
  },
  {
   "cell_type": "code",
   "execution_count": 0,
   "metadata": {
    "application/vnd.databricks.v1+cell": {
     "cellMetadata": {},
     "inputWidgets": {},
     "nuid": "626aac52-4a00-43a7-84c0-801f01a929cf",
     "showTitle": false,
     "title": ""
    }
   },
   "outputs": [],
   "source": [
    "%run ../Includes/Classroom-Setup-01"
   ]
  },
  {
   "cell_type": "markdown",
   "metadata": {
    "application/vnd.databricks.v1+cell": {
     "cellMetadata": {},
     "inputWidgets": {},
     "nuid": "a93b93d5-f1af-4624-b646-a794f6dc9070",
     "showTitle": false,
     "title": ""
    }
   },
   "source": [
    "**Other Conventions:**\n",
    "\n",
    "Throughout this demo, we'll refer to the object `DA`. This object, provided by Databricks Academy, contains variables such as your username, catalog name, schema name, working directory, and dataset locations. Run the code block below to view these details:"
   ]
  },
  {
   "cell_type": "code",
   "execution_count": 0,
   "metadata": {
    "application/vnd.databricks.v1+cell": {
     "cellMetadata": {},
     "inputWidgets": {},
     "nuid": "e8b4f318-af2b-47e8-b0d5-67cf4b901594",
     "showTitle": false,
     "title": ""
    }
   },
   "outputs": [],
   "source": [
    "print(f\"Username:          {DA.username}\")\n",
    "print(f\"Catalog Name:      {DA.catalog_name}\")\n",
    "print(f\"Schema Name:       {DA.schema_name}\")\n",
    "print(f\"Working Directory: {DA.paths.working_dir}\")\n",
    "print(f\"Dataset Location:  {DA.paths.datasets}\")"
   ]
  },
  {
   "cell_type": "markdown",
   "metadata": {
    "application/vnd.databricks.v1+cell": {
     "cellMetadata": {},
     "inputWidgets": {},
     "nuid": "a8210513-bbb1-494b-a1e2-907ff71aa344",
     "showTitle": false,
     "title": ""
    }
   },
   "source": [
    "\n",
    "## Data Cleaning and Imputation\n",
    "\n",
    "- Load the dataset from the specified path using Spark and read it as a DataFrame.\n",
    "\n",
    "- Drop any rows with missing values from the DataFrame using the **`dropna()`** method.\n",
    "\n",
    "- Fill any remaining missing values in the DataFrame with the 0 using the **`fillna()`** method.\n",
    "\n",
    "- Create a temporary view named as **`telco_customer_churn`**"
   ]
  },
  {
   "cell_type": "code",
   "execution_count": 0,
   "metadata": {
    "application/vnd.databricks.v1+cell": {
     "cellMetadata": {},
     "inputWidgets": {},
     "nuid": "2c26f934-334f-4665-bcaf-3c41d693dc56",
     "showTitle": false,
     "title": ""
    }
   },
   "outputs": [],
   "source": [
    "dataset_path = f\"{DA.paths.datasets}/telco/telco-customer-churn-noisy.csv\"\n",
    "telco_df = spark.read.csv(dataset_path, header=\"true\", inferSchema=\"true\", multiLine=\"true\", escape='\"')\n",
    "\n",
    "# telco_df.printSchema()\n",
    "display(telco_df)"
   ]
  },
  {
   "cell_type": "markdown",
   "metadata": {
    "application/vnd.databricks.v1+cell": {
     "cellMetadata": {},
     "inputWidgets": {},
     "nuid": "1e675bfe-6801-4162-a675-6ddc0032a51f",
     "showTitle": false,
     "title": ""
    }
   },
   "source": [
    "\n",
    "### Coerce/Fix Data Types\n",
    "\n",
    "Even though most of the data types are correct let's do the following to have a better memory footprint of the dataframe in memory\n",
    "\n",
    "* Convert **`SeniorCitizen`** and **`Churn`** binary columns to boolean type.\n",
    "\n",
    "* Converting the **`tenure`** column to a long integer using **`.selectExpr`** and reordering the columns.\n",
    "\n",
    "* Using **`spark.sql`** to convert **`Partner`** , **`Dependents`**, **`PhoneService`** and **`PaperlessBilling`** columns to boolean, and reordering the columns. Then, saving the dataframe as a DELTA table."
   ]
  },
  {
   "cell_type": "code",
   "execution_count": 0,
   "metadata": {
    "application/vnd.databricks.v1+cell": {
     "cellMetadata": {},
     "inputWidgets": {},
     "nuid": "dcedaaae-f9b6-4129-a085-ab77c5dbb654",
     "showTitle": false,
     "title": ""
    }
   },
   "outputs": [],
   "source": [
    "from pyspark.sql.types import BooleanType, ShortType, IntegerType\n",
    "from pyspark.sql.functions import col, when\n",
    "\n",
    "\n",
    "binary_columns = [\"SeniorCitizen\", \"Churn\"]\n",
    "telco_customer_churn_df = telco_df\n",
    "for column in binary_columns:\n",
    "    telco_customer_churn_df = telco_df.withColumn(column, col(column).cast(BooleanType()))\n",
    "\n",
    "telco_customer_churn_df.select(*binary_columns).printSchema()"
   ]
  },
  {
   "cell_type": "markdown",
   "metadata": {
    "application/vnd.databricks.v1+cell": {
     "cellMetadata": {},
     "inputWidgets": {},
     "nuid": "107e0754-5770-40c4-b50a-809a091192e4",
     "showTitle": false,
     "title": ""
    }
   },
   "source": [
    "Casting didn't work on `SeniorCitizen` most probably because there was some null values or values which couldn't be encoded correctly, we ca force coerce using a simple filter method (assuming missing values in this column can be encoded as `False`)"
   ]
  },
  {
   "cell_type": "code",
   "execution_count": 0,
   "metadata": {
    "application/vnd.databricks.v1+cell": {
     "cellMetadata": {},
     "inputWidgets": {},
     "nuid": "29645827-5c47-4ffc-9118-3a6136893141",
     "showTitle": false,
     "title": ""
    }
   },
   "outputs": [],
   "source": [
    "telco_customer_churn_df = telco_customer_churn_df.withColumn(\\\n",
    "    \"SeniorCitizen\", when(col(\"SeniorCitizen\")==1, True).otherwise(False))\n",
    "\n",
    "telco_customer_churn_df.select(\"SeniorCitizen\").printSchema()"
   ]
  },
  {
   "cell_type": "code",
   "execution_count": 0,
   "metadata": {
    "application/vnd.databricks.v1+cell": {
     "cellMetadata": {},
     "inputWidgets": {},
     "nuid": "7f622fc5-4f12-4d7a-a262-9f59051e45d7",
     "showTitle": false,
     "title": ""
    }
   },
   "outputs": [],
   "source": [
    "# PhoneService & PaperlessBilling to new boolean using spark.sql and re-order columns\n",
    "telco_customer_churn_df.createOrReplaceTempView(\"telco_customer_churn_temp_view\")\n",
    "\n",
    "telco_customer_casted_df = spark.sql(\"\"\"\n",
    "    SELECT\n",
    "        customerID,\n",
    "        BOOLEAN(Dependents),\n",
    "        BOOLEAN(Partner),\n",
    "        BOOLEAN(PhoneService),\n",
    "        BOOLEAN(PaperlessBilling),\n",
    "        * \n",
    "        EXCEPT (customerID, Dependents, Partner, PhoneService, PaperlessBilling, Churn),\n",
    "        Churn\n",
    "    FROM telco_customer_churn_temp_view\n",
    "\"\"\")\n",
    "\n",
    "telco_customer_casted_df.select(\"Dependents\",\"Partner\",\"PaperlessBilling\", \"PhoneService\").printSchema()"
   ]
  },
  {
   "cell_type": "code",
   "execution_count": 0,
   "metadata": {
    "application/vnd.databricks.v1+cell": {
     "cellMetadata": {},
     "inputWidgets": {},
     "nuid": "1d88f96f-01e4-4d4e-9299-b49f7bed589f",
     "showTitle": false,
     "title": ""
    }
   },
   "outputs": [],
   "source": [
    "# Tenure months to Long/Integer using .selectExpr\n",
    "telco_customer_casted_df = telco_customer_churn_df.selectExpr(\"* except(tenure)\", \"cast(tenure as long) tenure\")\n",
    "telco_customer_casted_df.select(\"tenure\").printSchema()"
   ]
  },
  {
   "cell_type": "code",
   "execution_count": 0,
   "metadata": {
    "application/vnd.databricks.v1+cell": {
     "cellMetadata": {},
     "inputWidgets": {},
     "nuid": "40380d64-caf7-4b7e-b8c2-af193cc828c3",
     "showTitle": false,
     "title": ""
    }
   },
   "outputs": [],
   "source": [
    "telco_customer_name_full = \"telco_customer_full\"\n",
    "\n",
    "# [OPTIONAL] Save as DELTA table (silver)\n",
    "telco_customer_full_silver = f\"{telco_customer_name_full}_silver\"\n",
    "telco_customer_casted_df.write.mode(\"overwrite\").option(\"mergeSchema\",True).saveAsTable(telco_customer_full_silver)\n",
    "# print(telco_customer_casted_df)"
   ]
  },
  {
   "cell_type": "markdown",
   "metadata": {
    "application/vnd.databricks.v1+cell": {
     "cellMetadata": {},
     "inputWidgets": {},
     "nuid": "7a580c4e-b355-4ee8-874d-55554abfe533",
     "showTitle": false,
     "title": ""
    }
   },
   "source": [
    "\n",
    "### Handling Outliers\n",
    "\n",
    "We will see how to handle outliers in column by identifying and addressing data points that fall far outside the typical range of values in a dataset. Common methods for handling outliers include removing them, filtering, transforming the data, or replacing outliers with more representative values. \n",
    "\n",
    "Follow these steps for handling outliers:\n",
    "* Create a new silver table named as **`telco_customer_full_silver`** by appending **`silver`** to the original table name and then accessing it using Spark SQL.\n",
    "\n",
    "* Filtering out outliers from the **`TotalCharges`** column by removing rows where the column value exceeds the specified cutoff value."
   ]
  },
  {
   "cell_type": "markdown",
   "metadata": {
    "application/vnd.databricks.v1+cell": {
     "cellMetadata": {},
     "inputWidgets": {},
     "nuid": "9598bd3f-0322-4460-a499-6b58d8096131",
     "showTitle": false,
     "title": ""
    }
   },
   "source": [
    "Filtering out outliers from the **`TotalCharges`** column by removing rows where the column value exceeds the specified cutoff value (e.g. negative values)"
   ]
  },
  {
   "cell_type": "code",
   "execution_count": 0,
   "metadata": {
    "application/vnd.databricks.v1+cell": {
     "cellMetadata": {},
     "inputWidgets": {},
     "nuid": "959edb3d-efda-4f79-b031-f32ba381794a",
     "showTitle": false,
     "title": ""
    }
   },
   "outputs": [],
   "source": [
    "telco_customer_casted_df.select(\"TotalCharges\", \"tenure\").display()"
   ]
  },
  {
   "cell_type": "code",
   "execution_count": 0,
   "metadata": {
    "application/vnd.databricks.v1+cell": {
     "cellMetadata": {},
     "inputWidgets": {},
     "nuid": "0e78872f-5805-45c9-9492-a0086a5dabb4",
     "showTitle": false,
     "title": ""
    }
   },
   "outputs": [],
   "source": [
    "from pyspark.sql.functions import col\n",
    "\n",
    "\n",
    "# Remove customers with negative TotalCharges \n",
    "TotalCharges_cutoff = 0\n",
    "\n",
    "# Use .filter method and SQL col() function\n",
    "telco_no_outliers_df = telco_customer_casted_df.filter(\\\n",
    "    (col(\"TotalCharges\") > TotalCharges_cutoff) | \\\n",
    "    (col(\"TotalCharges\").isNull())) # Keep Nulls"
   ]
  },
  {
   "cell_type": "markdown",
   "metadata": {
    "application/vnd.databricks.v1+cell": {
     "cellMetadata": {},
     "inputWidgets": {},
     "nuid": "128029f9-a5dc-4f62-a8e7-5a8c2ab24e6b",
     "showTitle": false,
     "title": ""
    }
   },
   "source": [
    "**Removing outliers from PaymentMethod**\n",
    "* Identify the two lowest occurrence groups in the **`PaymentMethod`** column and calculating the total count and average **`MonthlyCharges`** for each group.\n",
    "\n",
    "* Removing customers from the identified low occurrence groups in the **`PaymentMethod`** column to filter out outliers.\n",
    "\n",
    "* Create a new dataframe **`telco_filtered_df`** containing the filtered data.\n",
    "\n",
    "* Comparing the count of records before and after by divinding the count of **`telco_casted_full_df`** and **`telco_no_outliers_df`** dataframe removing outliers and then materializing the resulting dataframe as a new table."
   ]
  },
  {
   "cell_type": "code",
   "execution_count": 0,
   "metadata": {
    "application/vnd.databricks.v1+cell": {
     "cellMetadata": {},
     "inputWidgets": {},
     "nuid": "e4d70017-6e65-4bbf-b54c-f9103e3cd155",
     "showTitle": false,
     "title": ""
    }
   },
   "outputs": [],
   "source": [
    "from pyspark.sql.functions import col, count, avg\n",
    "\n",
    "\n",
    "# Identify 2 lowest group occurences\n",
    "group_var = \"PaymentMethod\"\n",
    "stats_df = telco_no_outliers_df.groupBy(group_var) \\\n",
    "                      .agg(count(\"*\").alias(\"Total\"),\\\n",
    "                           avg(\"MonthlyCharges\").alias(\"MonthlyCharges\")) \\\n",
    "                      .orderBy(col(\"Total\").desc())\n",
    "\n",
    "# Display\n",
    "display(stats_df)"
   ]
  },
  {
   "cell_type": "code",
   "execution_count": 0,
   "metadata": {
    "application/vnd.databricks.v1+cell": {
     "cellMetadata": {},
     "inputWidgets": {},
     "nuid": "5512e917-373b-48b9-b7d5-c01a4ad8f34d",
     "showTitle": false,
     "title": ""
    }
   },
   "outputs": [],
   "source": [
    "# Gather 2 lowest groups name assuming count threshold is below 20% of full dataset and monthly charges <20$\n",
    "N = telco_no_outliers_df.count()  # total count\n",
    "lower_groups = [elem[group_var] for elem in stats_df.head(2) if elem['Total']/N < 0.2 and elem['MonthlyCharges'] < 20]\n",
    "print(f\"Removing groups: {','.join(lower_groups)}\")"
   ]
  },
  {
   "cell_type": "code",
   "execution_count": 0,
   "metadata": {
    "application/vnd.databricks.v1+cell": {
     "cellMetadata": {},
     "inputWidgets": {},
     "nuid": "b3dadc0a-4f66-450d-9205-a906e8ed6891",
     "showTitle": false,
     "title": ""
    }
   },
   "outputs": [],
   "source": [
    "# Filter/Remove listings from these low occurence groups while keeping null occurences\n",
    "telco_no_outliers_df = telco_no_outliers_df.filter( \\\n",
    "    ~col(group_var).isin(lower_groups) | \\\n",
    "    col(group_var).isNull())"
   ]
  },
  {
   "cell_type": "code",
   "execution_count": 0,
   "metadata": {
    "application/vnd.databricks.v1+cell": {
     "cellMetadata": {},
     "inputWidgets": {},
     "nuid": "e6fc943a-6036-4bce-9892-1dad2853896d",
     "showTitle": false,
     "title": ""
    }
   },
   "outputs": [],
   "source": [
    "# Count/Compare datasets before/after removing outliers\n",
    "print(f\"Count - Before: {telco_customer_casted_df.count()} / After: {telco_no_outliers_df.count()}\")"
   ]
  },
  {
   "cell_type": "code",
   "execution_count": 0,
   "metadata": {
    "application/vnd.databricks.v1+cell": {
     "cellMetadata": {},
     "inputWidgets": {},
     "nuid": "39fe535d-a281-47a1-a4f4-8304531734a9",
     "showTitle": false,
     "title": ""
    }
   },
   "outputs": [],
   "source": [
    "# Materialize/Snap table [OPTIONAL/for instructor only]\n",
    "telco_no_outliers_df.write.mode(\"overwrite\").saveAsTable(telco_customer_full_silver)"
   ]
  },
  {
   "cell_type": "markdown",
   "metadata": {
    "application/vnd.databricks.v1+cell": {
     "cellMetadata": {},
     "inputWidgets": {},
     "nuid": "f95158e1-518a-4920-a5eb-93c7e594937b",
     "showTitle": false,
     "title": ""
    }
   },
   "source": [
    "\n",
    "### Handling Missing Values\n",
    "\n",
    "To Handle missing values in dataset we need to identify columns with high percentages of missing data and drops those columns. Then, it removes rows with missing values. Numeric columns are imputed with 0, and string columns are imputed with 'N/A'. Overall, the code demonstrates a comprehensive approach to handling missing values in the dataset."
   ]
  },
  {
   "cell_type": "markdown",
   "metadata": {
    "application/vnd.databricks.v1+cell": {
     "cellMetadata": {},
     "inputWidgets": {},
     "nuid": "185aeb47-b0bf-4d49-8411-5f704e4e9951",
     "showTitle": false,
     "title": ""
    }
   },
   "source": [
    "\n",
    "#### Delete Columns \n",
    "\n",
    "* Create a DataFrame called **`missing_df`** to count the missing values per column in the **`telco_no_outliers_df`** dataset.\n",
    "\n",
    "* The **`missing_df`** DataFrame is then transposed for better readability using the TransposeDF function, which allows for easier analysis of missing values."
   ]
  },
  {
   "cell_type": "code",
   "execution_count": 0,
   "metadata": {
    "application/vnd.databricks.v1+cell": {
     "cellMetadata": {},
     "inputWidgets": {},
     "nuid": "3dff8a75-b058-4d5a-8442-b7bb2328654c",
     "showTitle": false,
     "title": ""
    }
   },
   "outputs": [],
   "source": [
    "from pyspark.sql.functions import col, when, count, concat_ws, collect_list # isnan\n",
    "\n",
    "\n",
    "def calculate_missing(input_df, show=True):\n",
    "  \"\"\"\n",
    "  Helper function to calculate and display missing data\n",
    "  \"\"\"\n",
    "\n",
    "  # First get count of missing values per column to get a singleton row DF\n",
    "  missing_df_ = input_df.select([count(when(col(c).contains('None') | \\\n",
    "                                                  col(c).contains('NULL') | \\\n",
    "                                                  (col(c) == '' ) | \\\n",
    "                                                  col(c).isNull(), c)).alias(c) \\\n",
    "                                                  for c in input_df.columns\n",
    "                                            ])\n",
    "\n",
    "  # Transpose for better readability\n",
    "  def TransposeDF(df, columns, pivotCol):\n",
    "    \"\"\"Helper function to transpose spark dataframe\"\"\"\n",
    "    columnsValue = list(map(lambda x: str(\"'\") + str(x) + str(\"',\")  + str(x), columns))\n",
    "    stackCols = ','.join(x for x in columnsValue)\n",
    "    df_1 = df.selectExpr(pivotCol, \"stack(\" + str(len(columns)) + \",\" + stackCols + \")\")\\\n",
    "            .select(pivotCol, \"col0\", \"col1\")\n",
    "    final_df = df_1.groupBy(col(\"col0\")).pivot(pivotCol).agg(concat_ws(\"\", collect_list(col(\"col1\"))))\\\n",
    "                  .withColumnRenamed(\"col0\", pivotCol)\n",
    "    return final_df\n",
    "\n",
    "  missing_df_out_T = TransposeDF(\n",
    "    spark.createDataFrame([{\"Column\":\"Number of Missing Values\"}]).join(missing_df_),\n",
    "    missing_df_.columns,\n",
    "    \"Column\").withColumn(\"Number of Missing Values\", col(\"Number of Missing Values\").cast(\"long\"))\n",
    "\n",
    "  if show:\n",
    "    display(missing_df_out_T.orderBy(\"Number of Missing Values\", ascending=False))\n",
    "\n",
    "  return missing_df_out_T\n",
    "\n",
    "missing_df = calculate_missing(telco_no_outliers_df)"
   ]
  },
  {
   "cell_type": "markdown",
   "metadata": {
    "application/vnd.databricks.v1+cell": {
     "cellMetadata": {},
     "inputWidgets": {},
     "nuid": "9434849a-f243-4412-a72e-795be97e1aa2",
     "showTitle": false,
     "title": ""
    }
   },
   "source": [
    "**Drop columns with more than x% of missing rows**\n",
    "\n",
    "Columns with more than 60% missing data are identified and stored in the **`to_drop_missing`** list, and these columns are subsequently dropped from the **`telco_no_outliers_df`** dataset."
   ]
  },
  {
   "cell_type": "code",
   "execution_count": 0,
   "metadata": {
    "application/vnd.databricks.v1+cell": {
     "cellMetadata": {},
     "inputWidgets": {},
     "nuid": "e6d5c703-b461-4df1-862c-f782e58fc22c",
     "showTitle": false,
     "title": ""
    }
   },
   "outputs": [],
   "source": [
    "per_thresh = 0.6  # Drop if column has more than 80% missing data\n",
    "\n",
    "N = telco_no_outliers_df.count()  # total count\n",
    "to_drop_missing = [x.asDict()['Column'] for x in missing_df.select(\"Column\").where(col(\"Number of Missing Values\") / N >= per_thresh).collect()]"
   ]
  },
  {
   "cell_type": "code",
   "execution_count": 0,
   "metadata": {
    "application/vnd.databricks.v1+cell": {
     "cellMetadata": {},
     "inputWidgets": {},
     "nuid": "740f214a-7ac5-4eb0-ba2c-05e03ee03f45",
     "showTitle": false,
     "title": ""
    }
   },
   "outputs": [],
   "source": [
    "print(f\"Dropping columns {to_drop_missing} for more than {per_thresh * 100}% missing data\")\n",
    "telco_no_missing_df = telco_no_outliers_df.drop(*to_drop_missing)\n",
    "# display(telco_no_missing_df)"
   ]
  },
  {
   "cell_type": "markdown",
   "metadata": {
    "application/vnd.databricks.v1+cell": {
     "cellMetadata": {},
     "inputWidgets": {},
     "nuid": "9abf17bc-6650-4b9e-8c72-505777efdfcf",
     "showTitle": false,
     "title": ""
    }
   },
   "source": [
    "**Drop rows containing specific numbers of missing columns/fields**\n",
    "\n",
    "Rows with more than 1/4 the columns missing values are dropped using the **`na.drop()`** and the remaining missing values in numeric columns are imputed with 0, while missing values in string columns are imputed with 'N/A'."
   ]
  },
  {
   "cell_type": "code",
   "execution_count": 0,
   "metadata": {
    "application/vnd.databricks.v1+cell": {
     "cellMetadata": {},
     "inputWidgets": {},
     "nuid": "b6a73b68-41bf-4e84-a1a2-cf6276e57cc2",
     "showTitle": false,
     "title": ""
    }
   },
   "outputs": [],
   "source": [
    "n_cols = len(telco_no_missing_df.columns)\n",
    "telco_no_missing_df = telco_no_missing_df.na.drop(how='any', thresh=round(n_cols/4)) # Drop rows where at least half values are missing, how='all' can also be used"
   ]
  },
  {
   "cell_type": "code",
   "execution_count": 0,
   "metadata": {
    "application/vnd.databricks.v1+cell": {
     "cellMetadata": {},
     "inputWidgets": {},
     "nuid": "692eae9b-08ed-4206-8f0a-3dfcb2b8d7e2",
     "showTitle": false,
     "title": ""
    }
   },
   "outputs": [],
   "source": [
    "# Count/Compare datasets before/after removing missing\n",
    "print(f\"Count - Before: {telco_no_outliers_df.count()} / After: {telco_no_missing_df.count()}\")"
   ]
  },
  {
   "cell_type": "markdown",
   "metadata": {
    "application/vnd.databricks.v1+cell": {
     "cellMetadata": {},
     "inputWidgets": {},
     "nuid": "8edce275-b72e-4564-9372-a8316a2b1d17",
     "showTitle": false,
     "title": ""
    }
   },
   "source": [
    "\n",
    "#### Impute Missing Data\n",
    "\n",
    "Replace missing values with a specified replacement value.\n",
    "\n",
    "* The **`num_cols`** and **`string_cols`** lists are created to identify numeric and string columns in the dataset, respectively.\n",
    "\n",
    "* Finally, missing values in the numeric and string columns are imputed with appropriate values using the **`na.fill()`**, resulting in the **`telco_imputed_df`** dataset."
   ]
  },
  {
   "cell_type": "markdown",
   "metadata": {
    "application/vnd.databricks.v1+cell": {
     "cellMetadata": {},
     "inputWidgets": {},
     "nuid": "6c0f21bc-75bd-4f02-8f1d-02056ba8da63",
     "showTitle": false,
     "title": ""
    }
   },
   "source": [
    "**Replace numeric missing with constant/0**\n",
    "\n",
    "NOTE: not applicable in this dataset's case"
   ]
  },
  {
   "cell_type": "code",
   "execution_count": 0,
   "metadata": {
    "application/vnd.databricks.v1+cell": {
     "cellMetadata": {},
     "inputWidgets": {},
     "nuid": "ba62a4c8-76e6-41b4-9194-fa66f51770b2",
     "showTitle": false,
     "title": ""
    }
   },
   "outputs": [],
   "source": [
    "from pyspark.sql.types import DoubleType, IntegerType\n",
    "\n",
    "\n",
    "# Get a list of numeric columns\n",
    "num_cols = [c.name for c in telco_no_missing_df.schema.fields if (c.dataType == DoubleType() or c.dataType == IntegerType())]"
   ]
  },
  {
   "cell_type": "code",
   "execution_count": 0,
   "metadata": {
    "application/vnd.databricks.v1+cell": {
     "cellMetadata": {},
     "inputWidgets": {},
     "nuid": "0ef72c1c-25ac-4274-9a8d-d77e53c4f774",
     "showTitle": false,
     "title": ""
    }
   },
   "outputs": [],
   "source": [
    "# Impute\n",
    "# telco_imputed_df = telco_no_missing_df.na.fill(value=0, subset=num_cols)"
   ]
  },
  {
   "cell_type": "markdown",
   "metadata": {
    "application/vnd.databricks.v1+cell": {
     "cellMetadata": {},
     "inputWidgets": {},
     "nuid": "cca568b8-a273-4695-aaaa-f1acd1911c80",
     "showTitle": false,
     "title": ""
    }
   },
   "source": [
    "**Replace boolean missing with `False`**"
   ]
  },
  {
   "cell_type": "code",
   "execution_count": 0,
   "metadata": {
    "application/vnd.databricks.v1+cell": {
     "cellMetadata": {},
     "inputWidgets": {},
     "nuid": "645c90cc-cc45-48f0-af15-dfe1c06828df",
     "showTitle": false,
     "title": ""
    }
   },
   "outputs": [],
   "source": [
    "from pyspark.sql.types import BooleanType\n",
    "\n",
    "\n",
    "# Get a list of boolean columns\n",
    "bool_cols = [c.name for c in telco_no_missing_df.schema.fields if (c.dataType == BooleanType())]\n",
    "\n",
    "# Impute\n",
    "telco_imputed_df = telco_no_missing_df.na.fill(value=False, subset=bool_cols)"
   ]
  },
  {
   "cell_type": "markdown",
   "metadata": {
    "application/vnd.databricks.v1+cell": {
     "cellMetadata": {},
     "inputWidgets": {},
     "nuid": "ab1bb19d-a2ad-4e5a-aafb-d89d8f538d0b",
     "showTitle": false,
     "title": ""
    }
   },
   "source": [
    "**Replace string missing with `No`**\n",
    "\n",
    "All string cols except `gender`, `Contract` and `PaymentMethod`"
   ]
  },
  {
   "cell_type": "code",
   "execution_count": 0,
   "metadata": {
    "application/vnd.databricks.v1+cell": {
     "cellMetadata": {},
     "inputWidgets": {},
     "nuid": "021684ac-d4f8-44c5-98f5-1ceb9662fc9b",
     "showTitle": false,
     "title": ""
    }
   },
   "outputs": [],
   "source": [
    "from pyspark.sql.types import StringType\n",
    "\n",
    "\n",
    "# Get list of string cols\n",
    "to_exclude = [\"customerID\", \"gender\", \"Contract\", \"PaymentMethod\"]\n",
    "string_cols = [c.name for c in telco_no_missing_df.drop(*to_exclude).schema.fields if c.dataType == StringType()]\n",
    "\n",
    "# Impute\n",
    "telco_imputed_df = telco_imputed_df.na.fill(value='No', subset=string_cols)"
   ]
  },
  {
   "cell_type": "code",
   "execution_count": 0,
   "metadata": {
    "application/vnd.databricks.v1+cell": {
     "cellMetadata": {},
     "inputWidgets": {},
     "nuid": "d4d7ba8b-d146-4e92-b48c-e607115d0218",
     "showTitle": false,
     "title": ""
    }
   },
   "outputs": [],
   "source": [
    "# Compare missing stats again\n",
    "calculate_missing(telco_imputed_df)"
   ]
  },
  {
   "cell_type": "code",
   "execution_count": 0,
   "metadata": {
    "application/vnd.databricks.v1+cell": {
     "cellMetadata": {},
     "inputWidgets": {},
     "nuid": "08aa0a85-eba0-4e22-8029-da4965e58e72",
     "showTitle": false,
     "title": ""
    }
   },
   "outputs": [],
   "source": [
    "telco_imputed_df.write.mode(\"overwrite\").saveAsTable(f\"{DA.catalog_name}.{DA.schema_name}.telco_imputed_silver\")"
   ]
  },
  {
   "cell_type": "markdown",
   "metadata": {
    "application/vnd.databricks.v1+cell": {
     "cellMetadata": {},
     "inputWidgets": {},
     "nuid": "b309de56-54e1-4cf1-a7ae-0dd85a42a0b1",
     "showTitle": false,
     "title": ""
    }
   },
   "source": [
    "\n",
    "## Encoding Categorical Features\n",
    "\n",
    "In this section, we will one-hot encode categorical/string features using Spark MLlib's `OneHotEncoder` estimator.\n",
    "\n",
    "If you are unfamiliar with one-hot encoding, there's a description below. If you're already familiar, you can skip ahead to the **One-hot encoding in Spark MLlib** section toward the bottom of the cell.\n",
    "\n",
    "#### Categorical features in machine learning\n",
    "\n",
    "Many machine learning algorithms are not able to accept categorical features as inputs. As a result, data scientists and machine learning engineers need to determine how to handle them. \n",
    "\n",
    "An easy solution would be remove the categorical features from the feature set. While this is quick, **you are removing potentially predictive information** &mdash; so this usually isn't the best strategy.\n",
    "\n",
    "Other options include ways to represent categorical features as numeric features. A few common options are:\n",
    "\n",
    "1. **One-hot encoding**: create dummy/binary variables for each category\n",
    "2. **Target/label encoding**: replace each category value with a value that represents the target variable (e.g. replace a specific category value with the mean of the target variable for rows with that category value)\n",
    "3. **Embeddings**: use/create a vector-representation of meaningful words in each category's value\n",
    "\n",
    "Each of these options can be really useful in different scenarios. We're going to focus on one-hot encoding here.\n",
    "\n",
    "#### One-hot encoding basics\n",
    "\n",
    "One-hot encoding creates a binary/dummy feature for each category in each categorical feature.\n",
    "\n",
    "In the example below, the feature **Animal** is split into three binary features &mdash; one for each value in **Animal**. Each binary feature's value is equal to 1 if its respective category value is present in **Animal** for each row. If its category value is not present in the row, the binary feature's value will be 0.\n",
    "\n",
    "![One-hot encoding image](https://s3-us-west-2.amazonaws.com/files.training.databricks.com/images/mlewd/Scaling-Machine-Learning-Pipelines/one-hot-encoding.png)\n",
    "\n",
    "#### One-hot encoding in Spark MLlib\n",
    "\n",
    "Even if you understand one-hot encoding, it's important to learn how to perform it using Spark MLlib.\n",
    "\n",
    "To one-hot encode categorical features in Spark MLlib, we are going to use two classes: [the **`StringIndexer`** class](https://spark.apache.org/docs/latest/api/python/reference/api/pyspark.ml.feature.StringIndexer.html#pyspark.ml.feature.StringIndexer) and [the **`OneHotEncoder`** class](https://spark.apache.org/docs/latest/api/python/reference/api/pyspark.ml.feature.OneHotEncoder.html#pyspark.ml.feature.OneHotEncoder).\n",
    "\n",
    "* The `StringIndexer` class indexes string-type columns to a numerical index. Each unique value in the string-type column is mapped to a unique integer.\n",
    "* The `OneHotEncoder` class accepts indexed columns and converts them to a one-hot encoded vector-type feature.\n",
    "\n",
    "#### Applying the `StringIndexer` -> `OneHotEncoder` -> `VectorAssembler`workflow\n",
    "\n",
    "First, we'll need to index the categorical features of the DataFrame. `StringIndexer` takes a few arguments:\n",
    "\n",
    "1. A list of categorical columns to index.\n",
    "2. A list names for the indexed columns being created.\n",
    "3. Directions for how to handle new categories when transforming data.\n",
    "\n",
    "Because `StringIndexer` has to learn which categories are present before indexing, it's an **estimator** &mdash; remember that means we need to call its `fit` method. Its result can then be used to transform our data."
   ]
  },
  {
   "cell_type": "code",
   "execution_count": 0,
   "metadata": {
    "application/vnd.databricks.v1+cell": {
     "cellMetadata": {},
     "inputWidgets": {},
     "nuid": "d82c9f67-931d-49ca-906b-50786f383aa1",
     "showTitle": false,
     "title": ""
    }
   },
   "outputs": [],
   "source": [
    "sample_df = telco_imputed_df.select(\"Contract\").distinct()\n",
    "sample_df.show()"
   ]
  },
  {
   "cell_type": "code",
   "execution_count": 0,
   "metadata": {
    "application/vnd.databricks.v1+cell": {
     "cellMetadata": {},
     "inputWidgets": {},
     "nuid": "5e081317-80df-46f4-8163-2d98a8194302",
     "showTitle": false,
     "title": ""
    }
   },
   "outputs": [],
   "source": [
    "from pyspark.ml.feature import StringIndexer\n",
    "from pyspark.sql.functions import col\n",
    "\n",
    "\n",
    "# StringIndexer\n",
    "string_cols = [\"Contract\"]\n",
    "index_cols = [column + \"_index\" for column in string_cols]\n",
    "\n",
    "string_indexer = StringIndexer(inputCols=string_cols, outputCols=index_cols, handleInvalid=\"skip\")\n",
    "string_indexer_model = string_indexer.fit(sample_df)\n",
    "indexed_df = string_indexer_model.transform(sample_df)\n",
    "\n",
    "indexed_df.show()"
   ]
  },
  {
   "cell_type": "markdown",
   "metadata": {
    "application/vnd.databricks.v1+cell": {
     "cellMetadata": {},
     "inputWidgets": {},
     "nuid": "f29aebdd-296b-4f21-895b-db451840ba3f",
     "showTitle": false,
     "title": ""
    }
   },
   "source": [
    "Once our data has been indexed, we are ready to use the `OneHotEncoder` estimator.\n",
    "\n",
    "<img src=\"https://files.training.databricks.com/images/icon_hint_24.png\"/>&nbsp;**Hint:** Look at the [`OneHotEncoder` documentation](https://spark.apache.org/docs/latest/api/python/reference/api/pyspark.ml.feature.OneHotEncoder.html#pyspark.ml.feature.OneHotEncoder) and our previous Spark MLlib workflows that use estimators for guidance."
   ]
  },
  {
   "cell_type": "code",
   "execution_count": 0,
   "metadata": {
    "application/vnd.databricks.v1+cell": {
     "cellMetadata": {},
     "inputWidgets": {},
     "nuid": "358ce04d-0fd0-4302-9138-067ff5e89a5e",
     "showTitle": false,
     "title": ""
    }
   },
   "outputs": [],
   "source": [
    "from pyspark.ml.feature import OneHotEncoder\n",
    "\n",
    "\n",
    "# Create a list of one-hot encoded feature names\n",
    "ohe_cols = [column + \"_ohe\" for column in string_cols]\n",
    "\n",
    "# Instantiate the OneHotEncoder with the column lists\n",
    "ohe = OneHotEncoder(inputCols=index_cols, outputCols=ohe_cols, handleInvalid=\"keep\")\n",
    "\n",
    "# Fit the OneHotEncoder on the indexed data\n",
    "ohe_model = ohe.fit(indexed_df)\n",
    "\n",
    "# Transform indexed_df using the ohe_model\n",
    "ohe_df = ohe_model.transform(indexed_df)\n",
    "ohe_df.show()"
   ]
  },
  {
   "cell_type": "code",
   "execution_count": 0,
   "metadata": {
    "application/vnd.databricks.v1+cell": {
     "cellMetadata": {},
     "inputWidgets": {},
     "nuid": "fcc82f96-7f5f-4d0c-8cb9-2e26aea44226",
     "showTitle": false,
     "title": ""
    }
   },
   "outputs": [],
   "source": [
    "from pyspark.ml.feature import VectorAssembler\n",
    "\n",
    "\n",
    "selected_ohe_cols = [\"Contract_ohe\"]\n",
    "\n",
    "# Use VectorAssembler to assemble the selected one-hot encoded columns into a dense vector\n",
    "assembler = VectorAssembler(inputCols=selected_ohe_cols, outputCol=\"features\")\n",
    "result_df_dense = assembler.transform(ohe_df)\n",
    "\n",
    "# Select relevant columns for display\n",
    "result_df_display = result_df_dense.select(\"Contract\", \"features\")\n",
    "\n",
    "result_df_display.show(truncate=False)"
   ]
  },
  {
   "cell_type": "markdown",
   "metadata": {
    "application/vnd.databricks.v1+cell": {
     "cellMetadata": {},
     "inputWidgets": {},
     "nuid": "29531a5d-dde2-49d8-89e1-42887f63acc3",
     "showTitle": false,
     "title": ""
    }
   },
   "source": [
    "\n",
    "### Apply pre-existing embeddings to categorical/discrete features"
   ]
  },
  {
   "cell_type": "markdown",
   "metadata": {
    "application/vnd.databricks.v1+cell": {
     "cellMetadata": {},
     "inputWidgets": {},
     "nuid": "d0f6c4c1-a25f-47e4-9b39-fb9cf488bf21",
     "showTitle": false,
     "title": ""
    }
   },
   "source": [
    "Let's bin **`tenure`** to convert the discrete data into bins/categories format for further analysis and modeling."
   ]
  },
  {
   "cell_type": "code",
   "execution_count": 0,
   "metadata": {
    "application/vnd.databricks.v1+cell": {
     "cellMetadata": {},
     "inputWidgets": {},
     "nuid": "e91c0e31-5be9-4fc3-9b25-752c578971bf",
     "showTitle": false,
     "title": ""
    }
   },
   "outputs": [],
   "source": [
    "column_to_bin = \"tenure\"\n",
    "display(telco_imputed_df.select(column_to_bin))"
   ]
  },
  {
   "cell_type": "code",
   "execution_count": 0,
   "metadata": {
    "application/vnd.databricks.v1+cell": {
     "cellMetadata": {},
     "inputWidgets": {},
     "nuid": "4499f712-2eef-43dd-8cd9-f02a48028255",
     "showTitle": false,
     "title": ""
    }
   },
   "outputs": [],
   "source": [
    "from pyspark.ml.feature import Bucketizer\n",
    "from pyspark.sql.functions import col\n",
    "\n",
    "\n",
    "# Specify bin ranges and column to bin\n",
    "bucketizer = Bucketizer(\n",
    "    splits=[0, 24, 48, float('Inf')],\n",
    "    inputCol=column_to_bin,\n",
    "    outputCol=f\"{column_to_bin}_bins\"\n",
    ")\n",
    "\n",
    "# Apply the bucketizer to the DataFrame\n",
    "bins_df = bucketizer.transform(telco_imputed_df.select(column_to_bin))\n",
    "\n",
    "# Recast bin numbers to integer\n",
    "bins_df = bins_df.withColumn(f\"{column_to_bin}_bins\", col(f\"{column_to_bin}_bins\").cast(\"integer\"))\n",
    "\n",
    "# Display the result\n",
    "display(bins_df)\n"
   ]
  },
  {
   "cell_type": "markdown",
   "metadata": {
    "application/vnd.databricks.v1+cell": {
     "cellMetadata": {},
     "inputWidgets": {},
     "nuid": "dcc7cb21-745e-450a-a715-4545f6152a16",
     "showTitle": false,
     "title": ""
    }
   },
   "source": [
    "Map back to human-readable embedding scores"
   ]
  },
  {
   "cell_type": "code",
   "execution_count": 0,
   "metadata": {
    "application/vnd.databricks.v1+cell": {
     "cellMetadata": {},
     "inputWidgets": {},
     "nuid": "96ccfe59-2b3d-4d6c-b17e-d2eebfe63acd",
     "showTitle": false,
     "title": ""
    }
   },
   "outputs": [],
   "source": [
    "bins_embedded_df = (\n",
    "  bins_df.withColumn(f\"{column_to_bin}_embedded\", col(f\"{column_to_bin}_bins\").cast(StringType()))\n",
    "         .replace(to_replace = \n",
    "                  {\n",
    "                    \"0\":\"<2y\",\n",
    "                    \"1\":\"2-4y\",\n",
    "                    \"2\":\">4y\"\n",
    "                  },\n",
    "                  subset=[f\"{column_to_bin}_embedded\"])\n",
    ")\n",
    "display(bins_embedded_df)"
   ]
  },
  {
   "cell_type": "markdown",
   "metadata": {
    "application/vnd.databricks.v1+cell": {
     "cellMetadata": {},
     "inputWidgets": {},
     "nuid": "cb2401ce-97fe-4f61-b65c-159080bf8643",
     "showTitle": false,
     "title": ""
    }
   },
   "source": [
    "\n",
    "### Ordered Indexing\n",
    "\n",
    "Perform ordered indexing as an alternative categorical feature preparation for random forest modeling.\n",
    "\n",
    "Some categoricals are in fact `ordinal` and thus may require additional/manual encoding"
   ]
  },
  {
   "cell_type": "code",
   "execution_count": 0,
   "metadata": {
    "application/vnd.databricks.v1+cell": {
     "cellMetadata": {},
     "inputWidgets": {},
     "nuid": "d1eca1f6-c62f-4838-8ec8-93e17496e49e",
     "showTitle": false,
     "title": ""
    }
   },
   "outputs": [],
   "source": [
    "ordinal_cat = \"Contract\"\n",
    "telco_imputed_df.select(ordinal_cat).distinct().show(truncate=False)"
   ]
  },
  {
   "cell_type": "code",
   "execution_count": 0,
   "metadata": {
    "application/vnd.databricks.v1+cell": {
     "cellMetadata": {},
     "inputWidgets": {},
     "nuid": "e56e8b66-78bc-467c-9b2e-229b87ffaed7",
     "showTitle": false,
     "title": ""
    }
   },
   "outputs": [],
   "source": [
    "# Define Ordinal (category:index) map/dict\n",
    "ordered_list = [\n",
    "    \"Month-to-month\",\n",
    "    \"One year\",\n",
    "    \"Two year\"\n",
    "]\n",
    "\n",
    "ordinal_dict = {category: f\"{index+1}\" for index, category in enumerate(ordered_list)}\n",
    "display(ordinal_dict)"
   ]
  },
  {
   "cell_type": "code",
   "execution_count": 0,
   "metadata": {
    "application/vnd.databricks.v1+cell": {
     "cellMetadata": {},
     "inputWidgets": {},
     "nuid": "06d4de74-87c7-48a6-aa7b-3200e475094d",
     "showTitle": false,
     "title": ""
    }
   },
   "outputs": [],
   "source": [
    "# Create a new column with ordered indexing\n",
    "from pyspark.sql.functions import expr\n",
    "\n",
    "\n",
    "ordinal_df = (\n",
    "    telco_imputed_df\n",
    "    .withColumn(f\"{ordinal_cat}_ord\", col(ordinal_cat)) # Duplicate\n",
    "    .replace(to_replace=ordinal_dict, subset=[f\"{ordinal_cat}_ord\"]) # Map \n",
    "    .withColumn(f\"{ordinal_cat}_ord\", col(f\"{ordinal_cat}_ord\").cast('int')) # Cast to integer\n",
    ")\n",
    "\n",
    "display(ordinal_df.select(ordinal_cat, f\"{ordinal_cat}_ord\"))"
   ]
  },
  {
   "cell_type": "markdown",
   "metadata": {
    "application/vnd.databricks.v1+cell": {
     "cellMetadata": {},
     "inputWidgets": {},
     "nuid": "06f92f8f-672b-4795-9662-750271c9939a",
     "showTitle": false,
     "title": ""
    }
   },
   "source": [
    "\n",
    "## Splitting Data (for Cross-Validation)\n",
    "\n",
    "Split modeling data into a train-test-holdout split as part of a modeling process\n",
    "\n",
    "In this section, we will perform the best-practice workflow for a train-test split using the Spark DataFrame API.\n",
    "\n",
    "Recall that due to things like changing cluster configurations and data partitioning, it can be difficult to ensure a reproducible train-test split. As a result, we recommend:\n",
    "\n",
    "1. Split the data using the **same random seed**\n",
    "2. Write out the train and test DataFrames\n",
    "\n",
    "<img src=\"https://files.training.databricks.com/images/icon_hint_24.png\"/>&nbsp;**Hint:** Check out the [**`randomSplit`** documentation](https://spark.apache.org/docs/3.1.3/api/python/reference/api/pyspark.sql.DataFrame.randomSplit.html)."
   ]
  },
  {
   "cell_type": "code",
   "execution_count": 0,
   "metadata": {
    "application/vnd.databricks.v1+cell": {
     "cellMetadata": {},
     "inputWidgets": {},
     "nuid": "34ca6650-7b3a-438a-b67b-141119bb4ab1",
     "showTitle": false,
     "title": ""
    }
   },
   "outputs": [],
   "source": [
    "# Split with 80 percent of the data in train_df and 20 percent of the data in test_df\n",
    "train_df, test_df = telco_imputed_df.randomSplit([.8, .2], seed=42)"
   ]
  },
  {
   "cell_type": "code",
   "execution_count": 0,
   "metadata": {
    "application/vnd.databricks.v1+cell": {
     "cellMetadata": {},
     "inputWidgets": {},
     "nuid": "3d31588b-53ce-4b6c-ac3c-bd66f1203311",
     "showTitle": false,
     "title": ""
    }
   },
   "outputs": [],
   "source": [
    "# Materialize (OPTIONAL)\n",
    "train_df.write.mode(\"overwrite\").option(\"overwriteSchema\", True).saveAsTable(f\"{DA.catalog_name}.{DA.schema_name}.telco_customers_train\")\n",
    "test_df.write.mode(\"overwrite\").option(\"overwriteSchema\", True).saveAsTable(f\"{DA.catalog_name}.{DA.schema_name}.telco_customers_baseline\")"
   ]
  },
  {
   "cell_type": "markdown",
   "metadata": {
    "application/vnd.databricks.v1+cell": {
     "cellMetadata": {},
     "inputWidgets": {},
     "nuid": "1d1aecd0-dc97-4b75-975b-2361b2e5db7d",
     "showTitle": false,
     "title": ""
    }
   },
   "source": [
    "\n",
    "### Standardize Features in a Training Set\n",
    "\n",
    "For sake of example, we'll pick a column without missing data (e.g. `MonthlyCharges`)"
   ]
  },
  {
   "cell_type": "code",
   "execution_count": 0,
   "metadata": {
    "application/vnd.databricks.v1+cell": {
     "cellMetadata": {},
     "inputWidgets": {},
     "nuid": "c8482ce8-501e-402f-963c-609a3bf1cadd",
     "showTitle": false,
     "title": ""
    }
   },
   "outputs": [],
   "source": [
    "from pyspark.ml.feature import StandardScaler, RobustScaler, VectorAssembler\n",
    "\n",
    "\n",
    "num_cols_to_scale = [\"MonthlyCharges\"] # num_cols\n",
    "assembler = VectorAssembler().setInputCols(num_cols_to_scale).setOutputCol(\"numerical_assembled\")\n",
    "train_assembled_df = assembler.transform(train_df.select(*num_cols_to_scale))\n",
    "test_assembled_df = assembler.transform(test_df.select(*num_cols_to_scale))\n",
    "\n",
    "# Define scaler and fit on training set\n",
    "scaler = RobustScaler(inputCol=\"numerical_assembled\", outputCol=\"numerical_scaled\")\n",
    "scaler_fitted = scaler.fit(train_assembled_df)\n",
    "\n",
    "\n",
    "# Apply to both training and test set\n",
    "train_scaled_df = scaler_fitted.transform(train_assembled_df)\n",
    "test_scaled_df = scaler_fitted.transform(test_assembled_df)"
   ]
  },
  {
   "cell_type": "code",
   "execution_count": 0,
   "metadata": {
    "application/vnd.databricks.v1+cell": {
     "cellMetadata": {},
     "inputWidgets": {},
     "nuid": "8d350871-36bd-4fa1-aca7-e2167f6d91a3",
     "showTitle": false,
     "title": ""
    }
   },
   "outputs": [],
   "source": [
    "print(\"Peek at Training set\")\n",
    "train_scaled_df.show(5)"
   ]
  },
  {
   "cell_type": "code",
   "execution_count": 0,
   "metadata": {
    "application/vnd.databricks.v1+cell": {
     "cellMetadata": {},
     "inputWidgets": {},
     "nuid": "e5a0bff0-ff42-42a8-890f-e6c12b9f6eb4",
     "showTitle": false,
     "title": ""
    }
   },
   "outputs": [],
   "source": [
    "print(\"Peek at Test set\")\n",
    "test_scaled_df.show(5)"
   ]
  },
  {
   "cell_type": "markdown",
   "metadata": {
    "application/vnd.databricks.v1+cell": {
     "cellMetadata": {},
     "inputWidgets": {},
     "nuid": "f860b9b6-fcaf-4ce5-b668-ef06a321c8b4",
     "showTitle": false,
     "title": ""
    }
   },
   "source": [
    "### Impute categorical missing values with the mode value using sparkml\n",
    "\n",
    "How to handle missing data only at training time and bake as part of inference pipeline to avoid data leakage and ensure that observation with missing data is used for training."
   ]
  },
  {
   "cell_type": "code",
   "execution_count": 0,
   "metadata": {
    "application/vnd.databricks.v1+cell": {
     "cellMetadata": {},
     "inputWidgets": {},
     "nuid": "d163caf8-ac93-45d6-ad4c-b00ac882a80e",
     "showTitle": false,
     "title": ""
    }
   },
   "outputs": [],
   "source": [
    "categorical_cols_to_impute = [\"PaymentMethod\"] # string_cols"
   ]
  },
  {
   "cell_type": "markdown",
   "metadata": {
    "application/vnd.databricks.v1+cell": {
     "cellMetadata": {},
     "inputWidgets": {},
     "nuid": "a7271236-58c6-4a5c-977b-704e90b0006c",
     "showTitle": false,
     "title": ""
    }
   },
   "source": [
    "Index categoricals first as `Imputer` doesn't handle categoricals directly"
   ]
  },
  {
   "cell_type": "code",
   "execution_count": 0,
   "metadata": {
    "application/vnd.databricks.v1+cell": {
     "cellMetadata": {},
     "inputWidgets": {},
     "nuid": "b96c8a28-88a5-4431-872d-d748b385b3f9",
     "showTitle": false,
     "title": ""
    }
   },
   "outputs": [],
   "source": [
    "from pyspark.ml.feature import StringIndexer\n",
    "from pyspark.sql.functions import col\n",
    "\n",
    "\n",
    "# Index categorical columns using StringIndexer\n",
    "cat_index_cols = [column + \"_index\" for column in categorical_cols_to_impute]\n",
    "cat_indexer = StringIndexer(\n",
    "    inputCols=categorical_cols_to_impute,\n",
    "    outputCols=cat_index_cols,\n",
    "    handleInvalid=\"keep\"\n",
    ")\n",
    "\n",
    "# Fit on training set\n",
    "cat_indexer_model = cat_indexer.fit(train_df.select(categorical_cols_to_impute))"
   ]
  },
  {
   "cell_type": "code",
   "execution_count": 0,
   "metadata": {
    "application/vnd.databricks.v1+cell": {
     "cellMetadata": {},
     "inputWidgets": {},
     "nuid": "257cea5d-bb86-49b3-a7d8-eb1335e886ed",
     "showTitle": false,
     "title": ""
    }
   },
   "outputs": [],
   "source": [
    "# Transform both train & test set using the fitted StringIndexer model\n",
    "cat_indexed_train_df = cat_indexer_model.transform(train_df.select(*categorical_cols_to_impute))\n",
    "cat_indexed_test_df = cat_indexer_model.transform(test_df.select(*categorical_cols_to_impute))\n",
    "# display(cat_indexed_train_df)"
   ]
  },
  {
   "cell_type": "code",
   "execution_count": 0,
   "metadata": {
    "application/vnd.databricks.v1+cell": {
     "cellMetadata": {},
     "inputWidgets": {},
     "nuid": "18c991e5-b92e-469f-8c01-85317628d116",
     "showTitle": false,
     "title": ""
    }
   },
   "outputs": [],
   "source": [
    "cat_indexed_train_df.display()"
   ]
  },
  {
   "cell_type": "markdown",
   "metadata": {
    "application/vnd.databricks.v1+cell": {
     "cellMetadata": {},
     "inputWidgets": {},
     "nuid": "a97ed1b3-8246-4ae3-bede-cfa3ff6ecdf5",
     "showTitle": false,
     "title": ""
    }
   },
   "source": [
    "The `StringIndexer` will create a new label (_e.g._ `4`) for missing when setting the `handleInvalid` flag to `keep` so it's important to keep track/revert indexes values back to `null` if we want to impute them, otherwise `null` will be treated as their own/separate category automatically.\n",
    "\n",
    "Alternatively for imputing categorical/strings, we can use `.fillna()` method by providing the `mode` value manually (as described above)."
   ]
  },
  {
   "cell_type": "code",
   "execution_count": 0,
   "metadata": {
    "application/vnd.databricks.v1+cell": {
     "cellMetadata": {},
     "inputWidgets": {},
     "nuid": "67bae73a-2c39-4bf7-803a-ba64d6c54390",
     "showTitle": false,
     "title": ""
    }
   },
   "outputs": [],
   "source": [
    "# Revert indexes to `null` for missing categories\n",
    "for c in categorical_cols_to_impute:\n",
    "    cat_indexed_train_df = cat_indexed_train_df.withColumn(f\"{c}_index\", when(col(c).isNull(), None).otherwise(col(f\"{c}_index\")))\n",
    "    cat_indexed_test_df = cat_indexed_test_df.withColumn(f\"{c}_index\", when(col(c).isNull(), None).otherwise(col(f\"{c}_index\")))"
   ]
  },
  {
   "cell_type": "code",
   "execution_count": 0,
   "metadata": {
    "application/vnd.databricks.v1+cell": {
     "cellMetadata": {},
     "inputWidgets": {},
     "nuid": "c7dccfee-5e9f-4ae4-83b0-dfc9fd345a59",
     "showTitle": false,
     "title": ""
    }
   },
   "outputs": [],
   "source": [
    "cat_indexed_train_df.display()"
   ]
  },
  {
   "cell_type": "markdown",
   "metadata": {
    "application/vnd.databricks.v1+cell": {
     "cellMetadata": {},
     "inputWidgets": {},
     "nuid": "79febd8e-eb14-43e5-8f33-f609c05d1da3",
     "showTitle": false,
     "title": ""
    }
   },
   "source": [
    "Fit the imputer on indexed categoricals"
   ]
  },
  {
   "cell_type": "code",
   "execution_count": 0,
   "metadata": {
    "application/vnd.databricks.v1+cell": {
     "cellMetadata": {},
     "inputWidgets": {},
     "nuid": "128465eb-7525-4c40-b827-f0ae4d4051d3",
     "showTitle": false,
     "title": ""
    }
   },
   "outputs": [],
   "source": [
    "from pyspark.ml.feature import Imputer\n",
    "\n",
    "\n",
    "# Define 'mode' imputer\n",
    "output_cat_index_cols_imputed = [col+'_imputed' for col in cat_index_cols]\n",
    "mode_imputer = Imputer(\n",
    "  inputCols=cat_index_cols,\n",
    "  outputCols=output_cat_index_cols_imputed,\n",
    "  strategy=\"mode\"\n",
    "  )\n",
    "\n",
    "# Fit on training_df\n",
    "mode_imputer_fitted = mode_imputer.fit(cat_indexed_train_df)"
   ]
  },
  {
   "cell_type": "code",
   "execution_count": 0,
   "metadata": {
    "application/vnd.databricks.v1+cell": {
     "cellMetadata": {},
     "inputWidgets": {},
     "nuid": "2d2d14f0-78ca-4005-bcc0-c1ec540618c7",
     "showTitle": false,
     "title": ""
    }
   },
   "outputs": [],
   "source": [
    "# Transform both training & test sets\n",
    "cat_indexed_train_imputed_df = mode_imputer_fitted.transform(cat_indexed_train_df)\n",
    "cat_indexed_test_imputed_df  = mode_imputer_fitted.transform(cat_indexed_test_df)"
   ]
  },
  {
   "cell_type": "code",
   "execution_count": 0,
   "metadata": {
    "application/vnd.databricks.v1+cell": {
     "cellMetadata": {},
     "inputWidgets": {},
     "nuid": "c33d924c-5b8f-42a2-abbc-64cab868f298",
     "showTitle": false,
     "title": ""
    }
   },
   "outputs": [],
   "source": [
    "# Peek at test set\n",
    "display(cat_indexed_test_imputed_df)"
   ]
  },
  {
   "cell_type": "markdown",
   "metadata": {
    "application/vnd.databricks.v1+cell": {
     "cellMetadata": {},
     "inputWidgets": {},
     "nuid": "28d247c7-930f-40a7-8a42-532bc67c816e",
     "showTitle": false,
     "title": ""
    }
   },
   "source": [
    "\n",
    "## Clean up Classroom\n",
    "\n",
    "Run the following cell to remove lessons-specific assets created during this lesson."
   ]
  },
  {
   "cell_type": "code",
   "execution_count": 0,
   "metadata": {
    "application/vnd.databricks.v1+cell": {
     "cellMetadata": {},
     "inputWidgets": {},
     "nuid": "e975402c-c9c8-4aa7-86e3-437a0ec8b6e8",
     "showTitle": false,
     "title": ""
    }
   },
   "outputs": [],
   "source": [
    "DA.cleanup()"
   ]
  },
  {
   "cell_type": "markdown",
   "metadata": {
    "application/vnd.databricks.v1+cell": {
     "cellMetadata": {},
     "inputWidgets": {},
     "nuid": "742203e1-0440-4c4d-aec4-8423a060c166",
     "showTitle": false,
     "title": ""
    }
   },
   "source": [
    "\n",
    "## Conclusion\n",
    "\n",
    "This demo successfully provided a comprehensive understanding of data preparation for modeling and feature preparation, equipping you with the knowledge and skills to effectively prepare your data for modeling and analysis. We seamlessly saw how to correct data type, identifying and removing outliers, handling missing values through imputation or replacement, encoding categorical features, and standardizing features."
   ]
  },
  {
   "cell_type": "markdown",
   "metadata": {
    "application/vnd.databricks.v1+cell": {
     "cellMetadata": {},
     "inputWidgets": {},
     "nuid": "c3b96dad-24a6-4825-b225-eae7bd951e17",
     "showTitle": false,
     "title": ""
    }
   },
   "source": [
    "&copy; 2024 Databricks, Inc. All rights reserved.<br/>\n",
    "Apache, Apache Spark, Spark and the Spark logo are trademarks of the <a href=\"https://www.apache.org/\">Apache Software Foundation</a>.<br/>\n",
    "<br/>\n",
    "<a href=\"https://databricks.com/privacy-policy\">Privacy Policy</a> | <a href=\"https://databricks.com/terms-of-use\">Terms of Use</a> | <a href=\"https://help.databricks.com/\">Support</a>"
   ]
  }
 ],
 "metadata": {
  "application/vnd.databricks.v1+notebook": {
   "dashboards": [],
   "environmentMetadata": null,
   "language": "python",
   "notebookMetadata": {
    "pythonIndentUnit": 4
   },
   "notebookName": "2.1 - Data Imputation and Transformation Pipeline",
   "widgets": {}
  }
 },
 "nbformat": 4,
 "nbformat_minor": 0
}
