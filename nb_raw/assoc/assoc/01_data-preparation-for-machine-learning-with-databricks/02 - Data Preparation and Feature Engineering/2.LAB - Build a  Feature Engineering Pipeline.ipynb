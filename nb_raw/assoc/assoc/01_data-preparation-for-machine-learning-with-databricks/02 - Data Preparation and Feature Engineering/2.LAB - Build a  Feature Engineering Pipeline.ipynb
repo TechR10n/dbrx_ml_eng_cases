{
 "cells": [
  {
   "cell_type": "markdown",
   "metadata": {
    "application/vnd.databricks.v1+cell": {
     "cellMetadata": {},
     "inputWidgets": {},
     "nuid": "00261254-9f76-4c2b-be3e-40ce4597e505",
     "showTitle": false,
     "title": ""
    }
   },
   "source": [
    "\n",
    "<div style=\"text-align: center; line-height: 0; padding-top: 9px;\">\n",
    "  <img src=\"https://databricks.com/wp-content/uploads/2018/03/db-academy-rgb-1200px.png\" alt=\"Databricks Learning\" style=\"width: 600px\">\n",
    "</div>"
   ]
  },
  {
   "cell_type": "markdown",
   "metadata": {
    "application/vnd.databricks.v1+cell": {
     "cellMetadata": {},
     "inputWidgets": {},
     "nuid": "d8a75569-4a29-46ba-9424-df5667d6b063",
     "showTitle": false,
     "title": ""
    }
   },
   "source": [
    "\n",
    "# LAB - Build a  Feature Engineering Pipeline\n",
    "\n",
    "Welcome to the \"Build a Feature Engineering Pipeline\" lab! In this hands-on session, we'll dive into the essential steps of creating a robust feature engineering pipeline. From data loading and preparation to fitting a pipeline and saving it for future use, this lab equips you with fundamental skills in crafting efficient and reproducible machine learning workflows. Let's embark on the journey of transforming raw data into meaningful features for predictive modeling.\n",
    "\n",
    "**Lab Outline**\n",
    "\n",
    "+ **Task 1:** Load Dataset and Data Preparation\n",
    "  + **1.1.** Load Dataset\n",
    "  + **1.2.** Data Preparation\n",
    "+ **Task 2:** Split Dataset\n",
    "+ **Task 3:** Create Pipeline for Data Imputation and Transformation\n",
    "+ **Task 4:** Fit the Pipeline\n",
    "+ **Task 5:** Show Transformation Results\n",
    "+ **Task 6:** Save Pipeline\n",
    "\n",
    "\n"
   ]
  },
  {
   "cell_type": "markdown",
   "metadata": {
    "application/vnd.databricks.v1+cell": {
     "cellMetadata": {},
     "inputWidgets": {},
     "nuid": "9191b308-4235-4602-b09e-66172ba12629",
     "showTitle": false,
     "title": ""
    }
   },
   "source": [
    "\n",
    "## Requirements\n",
    "\n",
    "Please review the following requirements before starting the lesson:\n",
    "\n",
    "* To run this notebook, you need to use one of the following Databricks runtime(s): **13.3.x-cpu-ml-scala2.12**"
   ]
  },
  {
   "cell_type": "markdown",
   "metadata": {
    "application/vnd.databricks.v1+cell": {
     "cellMetadata": {},
     "inputWidgets": {},
     "nuid": "f8228cd0-7d00-4d35-babe-bae9a3034417",
     "showTitle": false,
     "title": ""
    }
   },
   "source": [
    "\n",
    "## Lab Setup\n",
    "\n",
    "Before starting the Lab, run the provided classroom setup script. This script will establish necessary configuration variables tailored to each user. Execute the following code cell:"
   ]
  },
  {
   "cell_type": "code",
   "execution_count": 0,
   "metadata": {
    "application/vnd.databricks.v1+cell": {
     "cellMetadata": {},
     "inputWidgets": {},
     "nuid": "4c505f66-c156-449f-937c-3e33a7337e15",
     "showTitle": false,
     "title": ""
    }
   },
   "outputs": [],
   "source": [
    "%run ../Includes/Classroom-Setup-01"
   ]
  },
  {
   "cell_type": "markdown",
   "metadata": {
    "application/vnd.databricks.v1+cell": {
     "cellMetadata": {},
     "inputWidgets": {},
     "nuid": "915bbde0-629b-4764-87a5-131f37c6ed5d",
     "showTitle": false,
     "title": ""
    }
   },
   "source": [
    "**Other Conventions:**\n",
    "\n",
    "Throughout this demo, we'll refer to the object `DA`. This object, provided by Databricks Academy, contains variables such as your username, catalog name, schema name, working directory, and dataset locations. Run the code block below to view these details:"
   ]
  },
  {
   "cell_type": "code",
   "execution_count": 0,
   "metadata": {
    "application/vnd.databricks.v1+cell": {
     "cellMetadata": {},
     "inputWidgets": {},
     "nuid": "b5c2a3e4-2e44-4bea-8df4-b8f41eb308a6",
     "showTitle": false,
     "title": ""
    }
   },
   "outputs": [],
   "source": [
    "print(f\"Username:          {DA.username}\")\n",
    "print(f\"Catalog Name:      {DA.catalog_name}\")\n",
    "print(f\"Schema Name:       {DA.schema_name}\")\n",
    "print(f\"Working Directory: {DA.paths.working_dir}\")\n",
    "print(f\"Dataset Location:  {DA.paths.datasets}\")"
   ]
  },
  {
   "cell_type": "markdown",
   "metadata": {
    "application/vnd.databricks.v1+cell": {
     "cellMetadata": {},
     "inputWidgets": {},
     "nuid": "b8cd9443-50d9-4df9-a00a-b8bb8a02501a",
     "showTitle": false,
     "title": ""
    }
   },
   "source": [
    "## Task 1: Load Dataset and Data Preparation\n",
    "\n",
    "\n",
    "**1.1. Load Dataset:**\n",
    "+ Load a dataset with features that require imputation and transformation\n",
    "+ Display basic information about the dataset (e.g., schema, summary statistics)\n",
    "\n",
    "**1.2. Data Preparation:**\n",
    "\n",
    "+ Examine the dataset.\n",
    "+ Identify and discuss the features that need data preparation.\n",
    "+ Convert data types: Demonstrate converting data types for selected columns (e.g., String to Int, Int to Boolean).\n",
    "+ Remove a column: Discuss and remove a column with too many missing values.\n",
    "+ Remove outliers: Implement a threshold-based approach to remove outlier records for a specific column.\n",
    "+ Save cleaned dataset as \"silver table.\""
   ]
  },
  {
   "cell_type": "markdown",
   "metadata": {
    "application/vnd.databricks.v1+cell": {
     "cellMetadata": {},
     "inputWidgets": {},
     "nuid": "ce550471-d967-4ba8-a8fc-54316aae28d6",
     "showTitle": false,
     "title": ""
    }
   },
   "source": [
    "**1.1. Load Dataset:**\n",
    "\n",
    "+ Load a dataset with features that require imputation and transformation\n",
    "+ Display basic information about the dataset (e.g., schema, summary statistics)\n"
   ]
  },
  {
   "cell_type": "code",
   "execution_count": 0,
   "metadata": {
    "application/vnd.databricks.v1+cell": {
     "cellMetadata": {},
     "inputWidgets": {},
     "nuid": "937ccc0c-ed7f-4684-a449-9c7a3a388321",
     "showTitle": false,
     "title": ""
    }
   },
   "outputs": [],
   "source": [
    "# TODO\n",
    "Set the path of the dataset\n",
    "dataset_path = f\"{DA.paths.datasets}/cdc-diabetes/diabetes_binary_5050_raw.csv\"\n",
    "\n",
    "Read the CSV file using the Spark read.csv function\n",
    "Set the header parameter to True to indicate that the CSV file has a header\n",
    "Set the inferSchema option to True for Spark to automatically detect the data types\n",
    "Set the multiLine option to True to ensure that Spark reads multi-line fields properly\n",
    "cdc_df = <FILL_IN>\n",
    "\n",
    "Display the resulting dataframe\n",
    "<FILL_IN>"
   ]
  },
  {
   "cell_type": "markdown",
   "metadata": {
    "application/vnd.databricks.v1+cell": {
     "cellMetadata": {},
     "inputWidgets": {},
     "nuid": "fdc67fa6-aa32-43d1-a3b1-0c53e70086eb",
     "showTitle": false,
     "title": ""
    }
   },
   "source": [
    "**1.2. Data Preparation:**\n",
    "\n",
    "+ Examine the dataset.\n",
    "+ Identify the features that need data preparation.\n",
    "+ Convert data types: Demonstrate converting data types for selected columns (e.g., String to Int, Double to Boolean)."
   ]
  },
  {
   "cell_type": "code",
   "execution_count": 0,
   "metadata": {
    "application/vnd.databricks.v1+cell": {
     "cellMetadata": {},
     "inputWidgets": {},
     "nuid": "a53530d5-0f8c-4067-88fa-fdce407b73e5",
     "showTitle": false,
     "title": ""
    }
   },
   "outputs": [],
   "source": [
    "# TODO\n",
    "Convert string columns to integer type\n",
    "from pyspark.sql.types import IntegerType, BooleanType, StringType, DoubleType\n",
    "from pyspark.sql.functions import col\n",
    "\n",
    "List of string columns to convert: (HighBP, CholCheck, PhysActivity)\n",
    "string_columns = <FILL_IN>\n",
    "\n",
    "Iterate over string columns and cast to integer type\n",
    "for column in string_columns:\n",
    "   cdc_df = <FILL_IN>\n",
    "\n",
    "Convert double columns to BooleanType (Diabetes_binary, GenHlth)\n",
    "double_columns = <FILL_IN>\n",
    "for column in double_columns:\n",
    "    cdc_df = <FILL_IN>\n",
    "\n",
    "Print the schema\n",
    "cdc_df.<FILL_IN>\n",
    "Examine the printed schema to verify the changes."
   ]
  },
  {
   "cell_type": "markdown",
   "metadata": {
    "application/vnd.databricks.v1+cell": {
     "cellMetadata": {},
     "inputWidgets": {},
     "nuid": "a60d62b4-62a6-45e3-8e06-5d18c5db794d",
     "showTitle": false,
     "title": ""
    }
   },
   "source": [
    "+ **Remove a column with too many missing values.**"
   ]
  },
  {
   "cell_type": "code",
   "execution_count": 0,
   "metadata": {
    "application/vnd.databricks.v1+cell": {
     "cellMetadata": {},
     "inputWidgets": {},
     "nuid": "8b023f7b-7246-40f7-ab0a-1da04debd405",
     "showTitle": false,
     "title": ""
    }
   },
   "outputs": [],
   "source": [
    "# TODO \n",
    "from pyspark.sql.functions import col, when, count, concat_ws, collect_list\n",
    "\n",
    "First, get the count of missing values per column to create a singleton row DataFrame\n",
    "missing_cdc_df = cdc_df.select([count(when(col(c).contains('null') | (col(c) == '') | col(c).isNull(), c)).alias(c) for c in cdc_df.columns])\n",
    "\n",
    "Define a helper function to transpose the DataFrame for better readability\n",
    "def TransposeDF(df, columns, pivotCol):\n",
    "    \"\"\"Helper function to transpose Spark DataFrame\"\"\"\n",
    "    columnsValue = <FILL_IN>\n",
    "    stackCols = ','.join(x for x in columnsValue)\n",
    "    df_1 = df.selectExpr(pivotCol, \"stack(\" + str(len(columns)) + \",\" + stackCols + \")\")\\\n",
    "              .select(pivotCol, \"col0\", \"col1\")\n",
    "    final_df = <FILL_IN>\n",
    "    return final_df\n",
    "\n",
    "Transpose the missing_cdc_df for better readability\n",
    "missing_df_T = TransposeDF(spark.createDataFrame(<FILL_IN>)\n",
    "\n",
    "Display the count of missing values per column\n",
    "display(missing_cdc_df)\n",
    "\n",
    "Set a threshold for missing data to drop columns\n",
    "per_thresh = 0.6\n",
    "\n",
    "Calculate the total count of rows in the DataFrame\n",
    "N = <FILL_IN>\n",
    "\n",
    "Identify columns with more than the specified percentage of missing data\n",
    "to_drop_missing = <FILL_IN>\n",
    "\n",
    "Drop columns with more than 60% missing data\n",
    "print(f\"Dropping columns {to_drop_missing} with more than {per_thresh * 100}% missing data\")\n",
    "cdc_no_missing_df = cdc_df.drop(*to_drop_missing)\n",
    "\n",
    "Display the DataFrame after dropping columns with excessive missing data\n",
    "<FILL_IN>\n"
   ]
  },
  {
   "cell_type": "markdown",
   "metadata": {
    "application/vnd.databricks.v1+cell": {
     "cellMetadata": {},
     "inputWidgets": {},
     "nuid": "604a9b5e-0622-468a-98b1-b061f46335e6",
     "showTitle": false,
     "title": ""
    }
   },
   "source": [
    "+ **Remove outliers: Implement a threshold-based approach to remove outlier records for a specific column.**"
   ]
  },
  {
   "cell_type": "code",
   "execution_count": 0,
   "metadata": {
    "application/vnd.databricks.v1+cell": {
     "cellMetadata": {},
     "inputWidgets": {},
     "nuid": "af3f5ba4-4d8d-4b05-bc39-fa44130288be",
     "showTitle": false,
     "title": ""
    }
   },
   "outputs": [],
   "source": [
    "# TODO\n",
    "Remove listings with MentHlth > -40\n",
    "MentHlth_cutoff = -40\n",
    "cdc_no_outliers_df = <FILL_IN> \n",
    "\n",
    "Remove listings with BMI > 110\n",
    "BMI_cutoff = 110\n",
    "cdc_no_outliers_df = <FILL_IN>\n",
    "\n",
    "Display the count before and after removing outliers\n",
    "print(<FILL_IN>)\n",
    "\n",
    "Display the DataFrame after removing outliers\n",
    "<FILL_IN>"
   ]
  },
  {
   "cell_type": "markdown",
   "metadata": {
    "application/vnd.databricks.v1+cell": {
     "cellMetadata": {},
     "inputWidgets": {},
     "nuid": "1fb7036c-a9a7-4ed4-ad2a-398d3ae8551a",
     "showTitle": false,
     "title": ""
    }
   },
   "source": [
    "+ **Save the cleaned dataset as the \"silver table\" for further analysis**"
   ]
  },
  {
   "cell_type": "code",
   "execution_count": 0,
   "metadata": {
    "application/vnd.databricks.v1+cell": {
     "cellMetadata": {},
     "inputWidgets": {},
     "nuid": "0f83ce0c-9f5f-4eef-86f6-66f48ebe6394",
     "showTitle": false,
     "title": ""
    }
   },
   "outputs": [],
   "source": [
    "# TODO\n",
    "cdc_df_full = \"cdc_df_full\"\n",
    "\n",
    "Save as DELTA table (silver)\n",
    "cdc_df_full_silver = <FILL_IN>\n",
    "cdc_no_outliers_df.write.mode(\"overwrite\").option(\"mergeSchema\", True).saveAsTable(cdc_df_full_silver)\n",
    "\n",
    "Print the resulting DataFrame\n",
    "<FILL_IN>"
   ]
  },
  {
   "cell_type": "markdown",
   "metadata": {
    "application/vnd.databricks.v1+cell": {
     "cellMetadata": {},
     "inputWidgets": {},
     "nuid": "62c0f9fe-d2f8-4af6-bd9b-81f2719eb8e9",
     "showTitle": false,
     "title": ""
    }
   },
   "source": [
    "## Task 2: Split Dataset\n",
    "\n",
    "**2.1. Split Dataset:**\n",
    "\n",
    "+ Split the cleaned dataset into training and testing sets in 80:20 ratio"
   ]
  },
  {
   "cell_type": "code",
   "execution_count": 0,
   "metadata": {
    "application/vnd.databricks.v1+cell": {
     "cellMetadata": {},
     "inputWidgets": {},
     "nuid": "90d8a0c2-2fe4-4bc4-b9d1-6a83a5dc1042",
     "showTitle": false,
     "title": ""
    }
   },
   "outputs": [],
   "source": [
    "# TODO\n",
    "Split with 80 percent of the data in train_df and 20 percent of the data in test_df\n",
    "train_df, test_df = cdc_no_outliers_df.<FILL_IN>\n",
    "\n",
    "Materialize the split DataFrames as DELTA tables\n",
    "train_df.write.mode(\"overwrite\").<FILL_IN>\n",
    "test_df.write.mode(\"overwrite\").<FILL_IN>"
   ]
  },
  {
   "cell_type": "code",
   "execution_count": 0,
   "metadata": {
    "application/vnd.databricks.v1+cell": {
     "cellMetadata": {},
     "inputWidgets": {},
     "nuid": "1130756f-19b5-46f4-836b-504123dc73be",
     "showTitle": false,
     "title": ""
    }
   },
   "outputs": [],
   "source": [
    "# TODO\n",
    "from pyspark.ml.feature import StandardScaler, RobustScaler, VectorAssembler\n",
    "\n",
    "Assuming 'train_data' is your training set DataFrame\n",
    "feature_columns = [\"income\"]  # Add your actual feature column names\n",
    "\n",
    "Assemble features into a vector\n",
    "assembler = VectorAssembler(<FILL_IN>)\n",
    "train_assembled_df = assembler.transform(<FILL_IN>)\n",
    "test_assembled_df = assembler.transform(<FILL_IN>)\n",
    "\n",
    "Define scaler and fit on the training set\n",
    "scaler = RobustScaler(inputCol=<FILL_IN>, outputCol=<FILL_IN>)\n",
    "scaler_fitted = scaler.<FILL_IN>\n",
    "\n",
    "Apply to both training and test sets\n",
    "train_scaled_df = scaler_fitted.transform(<FILL_IN>)\n",
    "test_scaled_df = scaler_fitted.transform(<FILL_IN>)\n",
    "\n",
    "Show the resulting DataFrames\n",
    "print(\"This is the Training set:\")\n",
    "<FILL_IN>\n",
    "print(\"This is the Testing set:\")\n",
    "<FILL_IN>"
   ]
  },
  {
   "cell_type": "markdown",
   "metadata": {
    "application/vnd.databricks.v1+cell": {
     "cellMetadata": {},
     "inputWidgets": {},
     "nuid": "a5b95566-a9f3-479f-bd08-07c9fbebc02c",
     "showTitle": false,
     "title": ""
    }
   },
   "source": [
    "## Task 3: Create Pipeline using Data Imputation and Transformation\n",
    "\n",
    "**3.1. Create Pipeline:**\n",
    "\n",
    "+ Create a pipeline with the following tasks:\n",
    "  + StringIndexer\n",
    "  + Imputer\n",
    "  + Scaler\n",
    "  + One-Hot Encoder\n"
   ]
  },
  {
   "cell_type": "code",
   "execution_count": 0,
   "metadata": {
    "application/vnd.databricks.v1+cell": {
     "cellMetadata": {},
     "inputWidgets": {},
     "nuid": "40fab40a-25fe-44aa-be30-2517835a38de",
     "showTitle": false,
     "title": ""
    }
   },
   "outputs": [],
   "source": [
    "# TODO\n",
    "from pyspark.sql.types import IntegerType, BooleanType, StringType, DoubleType\n",
    "from pyspark.sql.functions import col, count, when\n",
    "\n",
    "Get a list of integer & boolean columns\n",
    "integer_cols = [column.name for column in train_df.schema.fields if (column.dataType == IntegerType() or column.dataType == BooleanType())]\n",
    "\n",
    "Loop through integer columns to cast each one to double\n",
    "Convert integer columns to double\n",
    "for column in integer_cols:\n",
    "    train_df = <FILL_IN>\n",
    "    test_df = <FILL_IN>\n",
    "\n",
    "Get a list of string, numeric columns\n",
    "string_cols = <FILL_IN>\n",
    "num_cols = <FILL_IN>\n",
    "\n",
    "Get a list of columns with missing values\n",
    "Numerical\n",
    "num_missing_values_logic = <FILL_IN>\n",
    "row_dict_num = train_df.<FILL_IN>\n",
    "num_missing_cols = <FILL_IN>\n",
    "\n",
    "String\n",
    "string_missing_values_logic = [count(when(col(column).isNull(), column)).alias(column) for column in string_cols]\n",
    "row_dict_string = train_df.<FILL_IN>\n",
    "string_missing_cols = <FILL_IN>\n",
    "\n",
    "Print columns with missing values\n",
    "print(f\"Numeric columns with missing values: <FILL_IN>\")\n",
    "print(f\"String columns with missing values: <FILL_IN>\")"
   ]
  },
  {
   "cell_type": "code",
   "execution_count": 0,
   "metadata": {
    "application/vnd.databricks.v1+cell": {
     "cellMetadata": {},
     "inputWidgets": {},
     "nuid": "ac6cc37f-8905-453b-8f50-e3e01ea2525e",
     "showTitle": false,
     "title": ""
    }
   },
   "outputs": [],
   "source": [
    "# TODO\n",
    "import required libraries\n",
    "from pyspark.ml import Pipeline\n",
    "from pyspark.ml.feature import Imputer, VectorAssembler, RobustScaler, StringIndexer, OneHotEncoder\n",
    "\n",
    "String/Cat Indexer\n",
    "create an additional column to index string columns\n",
    "these columns will retain their original null values via 'handleInvalid=\"keep\"'\n",
    "string_cols_indexed = [c + '_index' for c in string_cols]\n",
    "string_indexer = StringIndexer(<FILL_IN>)\n",
    "\n",
    "Imputer (same strategy for all double/indexes)\n",
    "create a list of columns containing missing values\n",
    "utilize the mode strategy to impute all the missing columns\n",
    "string_missing_cols_indexed = <FILL_IN>\n",
    "to_impute = <FILL_IN>\n",
    "\n",
    "imputer = Imputer(inputCols=to_impute, outputCols=to_impute, strategy='mode')\n",
    "\n",
    "Scale numerical\n",
    "create a vector of numerical columns as an array in the 'numerical_assembled' column\n",
    "robustly scale all the numerical_scaled values for this array in the 'numerical_scaled' column\n",
    "numerical_assembler = VectorAssembler(<FILL_IN>)\n",
    "numerical_scaler = RobustScaler(<FILL_IN>)\n",
    "\n",
    "OHE categoricals\n",
    "create an OHE encoder to turn the indexed string columns into binary vectors\n",
    "ohe_cols = [column + '_ohe' for column in string_cols]\n",
    "one_hot_encoder = OneHotEncoder(<FILL_IN>)\n",
    "\n",
    "Assembler (All)\n",
    "re-collect all columns and create a 'features' column from them\n",
    "feature_cols = [\"numerical_scaled\"] + <FILL_IN>\n",
    "vector_assembler = VectorAssembler(inputCols=feature_cols, outputCol=\"features\")\n",
    "\n",
    "Instantiate the pipeline\n",
    "instantiate a pipeline with all the above stages\n",
    "stages_list = [\n",
    "    string_indexer,\n",
    "    imputer,\n",
    "    numerical_assembler,\n",
    "    numerical_scaler,\n",
    "    one_hot_encoder,\n",
    "    vector_assembler\n",
    "]\n",
    "\n",
    "pipeline = <FILL_IN>"
   ]
  },
  {
   "cell_type": "markdown",
   "metadata": {
    "application/vnd.databricks.v1+cell": {
     "cellMetadata": {},
     "inputWidgets": {},
     "nuid": "731093fc-a158-48d8-8952-137e25c31a5f",
     "showTitle": false,
     "title": ""
    }
   },
   "source": [
    "##Task 4: Fit the Pipeline\n",
    "**4.1. Fit the Pipeline:**\n",
    "\n",
    "+ Use the training dataset to fit the created pipeline."
   ]
  },
  {
   "cell_type": "code",
   "execution_count": 0,
   "metadata": {
    "application/vnd.databricks.v1+cell": {
     "cellMetadata": {},
     "inputWidgets": {},
     "nuid": "65e75c5c-bee1-46fd-b1ca-d2a0b01d38ae",
     "showTitle": false,
     "title": ""
    }
   },
   "outputs": [],
   "source": [
    "# TODO\n",
    "Fit the pipeline using the training dataset\n",
    "pipeline_model = <FILL_IN>\n"
   ]
  },
  {
   "cell_type": "markdown",
   "metadata": {
    "application/vnd.databricks.v1+cell": {
     "cellMetadata": {},
     "inputWidgets": {},
     "nuid": "7ca23baa-7ca0-49f8-9fbb-e7465dbcfbb5",
     "showTitle": false,
     "title": ""
    }
   },
   "source": [
    "##Task 5: Show Transformation Results\n",
    "**5.1. Transform Datasets:**\n",
    "\n",
    "+ Apply the fitted pipeline to transform the training and testing datasets.\n",
    "+ Apply these transformations to different sets (e.g., train, test, validation)."
   ]
  },
  {
   "cell_type": "code",
   "execution_count": 0,
   "metadata": {
    "application/vnd.databricks.v1+cell": {
     "cellMetadata": {},
     "inputWidgets": {},
     "nuid": "615069c2-b7d9-4946-ab1e-4a2df46bc3cf",
     "showTitle": false,
     "title": ""
    }
   },
   "outputs": [],
   "source": [
    "# TODO\n",
    "Transform both the training and test datasets using the previously fitted pipeline model\n",
    "train_transformed_df = pipeline_model.<FILL_IN>\n",
    "test_transformed_df = <FILL_IN>\n",
    "\n",
    "Display the transformed features from the training dataset\n",
    "<FILL_IN>"
   ]
  },
  {
   "cell_type": "markdown",
   "metadata": {
    "application/vnd.databricks.v1+cell": {
     "cellMetadata": {},
     "inputWidgets": {},
     "nuid": "56b1bba4-4d57-4572-9e73-f1437e7020e8",
     "showTitle": false,
     "title": ""
    }
   },
   "source": [
    "##Task 6: Save Pipeline\n",
    "**6.1. Save Pipeline:**\n",
    "\n",
    "+ Save the fitted pipeline to the working directory.\n",
    "+ Explore the saved pipeline."
   ]
  },
  {
   "cell_type": "code",
   "execution_count": 0,
   "metadata": {
    "application/vnd.databricks.v1+cell": {
     "cellMetadata": {},
     "inputWidgets": {},
     "nuid": "20943e28-99b5-41c6-9f33-1fa1e7d85833",
     "showTitle": false,
     "title": ""
    }
   },
   "outputs": [],
   "source": [
    "# TODO \n",
    "Save the trained pipeline model to the specified directory in the working directory\n",
    "pipeline_model.<FILL_IN>"
   ]
  },
  {
   "cell_type": "code",
   "execution_count": 0,
   "metadata": {
    "application/vnd.databricks.v1+cell": {
     "cellMetadata": {},
     "inputWidgets": {},
     "nuid": "8e59c4ed-b4c4-45cd-98d9-d371b33533bb",
     "showTitle": false,
     "title": ""
    }
   },
   "outputs": [],
   "source": [
    "# TODO \n",
    "Load the previously saved pipeline model from the specified directory in the working directory\n",
    "from pyspark.ml import PipelineModel\n",
    "\n",
    "Load the pipeline model\n",
    "loaded_pipeline = <FILL_IN>\n",
    "\n",
    "Display the stages of the loaded pipeline\n",
    "<FILL_IN>"
   ]
  },
  {
   "cell_type": "markdown",
   "metadata": {
    "application/vnd.databricks.v1+cell": {
     "cellMetadata": {},
     "inputWidgets": {},
     "nuid": "4d62d7f2-e99c-4fed-846c-62285995e96f",
     "showTitle": false,
     "title": ""
    }
   },
   "source": [
    "\n",
    "## Clean up Classroom\n",
    "\n",
    "Run the following cell to remove lessons-specific assets created during this lesson."
   ]
  },
  {
   "cell_type": "code",
   "execution_count": 0,
   "metadata": {
    "application/vnd.databricks.v1+cell": {
     "cellMetadata": {},
     "inputWidgets": {},
     "nuid": "ae606bdc-b3b7-427e-b5e6-7f31f03615a1",
     "showTitle": false,
     "title": ""
    }
   },
   "outputs": [],
   "source": [
    "DA.cleanup()"
   ]
  },
  {
   "cell_type": "markdown",
   "metadata": {
    "application/vnd.databricks.v1+cell": {
     "cellMetadata": {},
     "inputWidgets": {},
     "nuid": "77112c7f-65b2-4c87-aa6f-34f66f437503",
     "showTitle": false,
     "title": ""
    }
   },
   "source": [
    "## Conclusion\n",
    "\n",
    "In conclusion, this lab demonstrated the crucial steps in preparing and transforming a dataset for machine learning. We covered data cleaning, splitting, and created a pipeline for tasks like imputation and scaling. Saving the pipeline ensures reproducibility, and these foundational concepts can be applied in various machine learning workflows."
   ]
  },
  {
   "cell_type": "markdown",
   "metadata": {
    "application/vnd.databricks.v1+cell": {
     "cellMetadata": {},
     "inputWidgets": {},
     "nuid": "f3313d6e-63ea-49f2-bfe7-811ec9fc61eb",
     "showTitle": false,
     "title": ""
    }
   },
   "source": [
    "&copy; 2024 Databricks, Inc. All rights reserved.<br/>\n",
    "Apache, Apache Spark, Spark and the Spark logo are trademarks of the <a href=\"https://www.apache.org/\">Apache Software Foundation</a>.<br/>\n",
    "<br/>\n",
    "<a href=\"https://databricks.com/privacy-policy\">Privacy Policy</a> | <a href=\"https://databricks.com/terms-of-use\">Terms of Use</a> | <a href=\"https://help.databricks.com/\">Support</a>"
   ]
  }
 ],
 "metadata": {
  "application/vnd.databricks.v1+notebook": {
   "dashboards": [],
   "environmentMetadata": null,
   "language": "python",
   "notebookMetadata": {
    "pythonIndentUnit": 4
   },
   "notebookName": "2.LAB - Build a  Feature Engineering Pipeline",
   "widgets": {}
  }
 },
 "nbformat": 4,
 "nbformat_minor": 0
}
