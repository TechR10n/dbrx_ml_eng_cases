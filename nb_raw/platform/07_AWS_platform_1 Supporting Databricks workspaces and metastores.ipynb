{
 "cells": [
  {
   "cell_type": "markdown",
   "metadata": {
    "application/vnd.databricks.v1+cell": {
     "cellMetadata": {},
     "inputWidgets": {},
     "nuid": "10729b5e-c531-46fa-b972-ba3cbb843ea6",
     "showTitle": false,
     "title": ""
    }
   },
   "source": [
    "\n",
    "<div style=\"text-align: center; line-height: 0; padding-top: 9px;\">\n",
    "  <img src=\"https://databricks.com/wp-content/uploads/2018/03/db-academy-rgb-1200px.png\" alt=\"Databricks Learning\" style=\"width: 600px\">\n",
    "</div>"
   ]
  },
  {
   "cell_type": "markdown",
   "metadata": {
    "application/vnd.databricks.v1+cell": {
     "cellMetadata": {},
     "inputWidgets": {},
     "nuid": "c942782e-ffd4-4095-b1f0-5ae949acc5bf",
     "showTitle": false,
     "title": ""
    }
   },
   "source": [
    "# Supporting Databricks workspaces and metastores\n",
    "\n",
    "In this lab you will learn how to:\n",
    "* Create AWS resources needed to support a Databricks workspace\n",
    "* Create AWS resources needed to support a Unity Catalog metastore\n",
    "* Create cloud resources to bring awareness of these AWS resources to Databricks"
   ]
  },
  {
   "cell_type": "markdown",
   "metadata": {
    "application/vnd.databricks.v1+cell": {
     "cellMetadata": {},
     "inputWidgets": {},
     "nuid": "02733e11-2289-4666-a366-78323d7b13f3",
     "showTitle": false,
     "title": ""
    }
   },
   "source": [
    "## Prerequisites\n",
    "\n",
    "If you would like to follow along with this lab, you will need:\n",
    "* administrator access to your AWS console, with the ability to create buckets and IAM roles\n",
    "* account administrator capabilities in your Databricks account in order to access the account console"
   ]
  },
  {
   "cell_type": "markdown",
   "metadata": {
    "application/vnd.databricks.v1+cell": {
     "cellMetadata": {},
     "inputWidgets": {},
     "nuid": "e2a29bdd-552c-4246-9e97-598b42a2b5a0",
     "showTitle": false,
     "title": ""
    }
   },
   "source": [
    "## Supporting a workspace\n",
    "\n",
    "A Databricks workspace is an environment for accessing all of your Databricks assets. The workspace organizes objects (notebooks, libraries, and experiments) into folders, integrates revision control, and provides access to data and computational resources such as clusters and jobs. A workspace also provides access to Databricks SQL, a simple experience for SQL users who want to query, explore and visualize queries on their data lake.\n",
    "\n",
    "There are some underlying AWS resources that must be set up first in order to support the workspace. These include:\n",
    "* A cross-account credential that allows Databricks to launch clusters in the account (in AWS, this means an IAM role)\n",
    "* An S3 bucket to provide workspace root storage. This will require a specialized policy to permit Databricks to access the bucket.\n",
    "\n",
    "We will create these elements in this demo, however note that this procedure is also documented <a href=\"https://docs.databricks.com/administration-guide/account-settings-e2/workspaces.html\" target=\"_blank\">here</a>. We will be referencing this documentation throughout the demo."
   ]
  },
  {
   "cell_type": "markdown",
   "metadata": {
    "application/vnd.databricks.v1+cell": {
     "cellMetadata": {},
     "inputWidgets": {},
     "nuid": "0465e7ef-1476-4d4f-8df1-f33702f93e74",
     "showTitle": false,
     "title": ""
    }
   },
   "source": [
    "### Creating a credential configuration\n",
    "\n",
    "In order for the software running in the Databricks control plane to create and manage compute resources like clusters and VPCs within your account, limited access to your AWS account is required, which is enabled through a cross account IAM role. In this section, we'll create and appropriately configure such a credential, then wrap it into a credential configuration that can be used by Databricks when deploying a workpace."
   ]
  },
  {
   "cell_type": "markdown",
   "metadata": {
    "application/vnd.databricks.v1+cell": {
     "cellMetadata": {},
     "inputWidgets": {},
     "nuid": "a5040184-f00a-42a0-8141-d134e95cddbe",
     "showTitle": false,
     "title": ""
    }
   },
   "source": [
    "#### Creating a cross-account IAM role\n",
    "\n",
    "In this section, we'll create and appropriately configure cross-account IAM role to allow Databricks to create and manage VPCs and cluster in your own AWS account. Note that the policy we use applies to the default Databricks-managed VPC. A different policy is needed if providing your own VPC; we talk about this in a separate course.\n",
    "\n",
    "1. In the AWS IAM console, let's select **Roles**.\n",
    "1. Click **Create role**.\n",
    "1. Select **AWS account**. This will let us set up a cross-account trust relationship that will allow Databricks, running in its own account, to assume the role to access services in our account.\n",
    "   * Select **Another AWS account**.\n",
    "   * For **Account ID**, let's substitute in the Databricks account ID, *414351767826*.\n",
    "   * Select **Require external ID**.\n",
    "   * For **External ID**, let's paste our Databricks account ID. We can easily get this from the user menu in the account console.\n",
    "   * Now let's click **Next** until we get to the final page.\n",
    "   * Let's assign the name for our role (use *dbacademy-test-cross-account-role*).\n",
    "   * Click **Create role**.\n",
    "1. Now let's view the role we just created.\n",
    "1. In the **Permissions** tab, let's select **Add permissions > Create inline policy**.\n",
    "1. In the **JSON** tab, replace the default policy with the following:\n",
    "    ```\n",
    "    {\n",
    "      \"Version\": \"2012-10-17\",\n",
    "      \"Statement\": [\n",
    "        {\n",
    "          \"Sid\": \"Stmt1403287045000\",\n",
    "          \"Effect\": \"Allow\",\n",
    "          \"Action\": [\n",
    "            \"ec2:AllocateAddress\",\n",
    "            \"ec2:AssociateDhcpOptions\",\n",
    "            \"ec2:AssociateIamInstanceProfile\",\n",
    "            \"ec2:AssociateRouteTable\",\n",
    "            \"ec2:AttachInternetGateway\",\n",
    "            \"ec2:AttachVolume\",\n",
    "            \"ec2:AuthorizeSecurityGroupEgress\",\n",
    "            \"ec2:AuthorizeSecurityGroupIngress\",\n",
    "            \"ec2:CancelSpotInstanceRequests\",\n",
    "            \"ec2:CreateDhcpOptions\",\n",
    "            \"ec2:CreateInternetGateway\",\n",
    "            \"ec2:CreateNatGateway\",\n",
    "            \"ec2:CreateRoute\",\n",
    "            \"ec2:CreateRouteTable\",\n",
    "            \"ec2:CreateSecurityGroup\",\n",
    "            \"ec2:CreateSubnet\",\n",
    "            \"ec2:CreateTags\",\n",
    "            \"ec2:CreateVolume\",\n",
    "            \"ec2:CreateVpc\",\n",
    "            \"ec2:CreateVpcEndpoint\",\n",
    "            \"ec2:DeleteDhcpOptions\",\n",
    "            \"ec2:DeleteInternetGateway\",\n",
    "            \"ec2:DeleteNatGateway\",\n",
    "            \"ec2:DeleteRoute\",\n",
    "            \"ec2:DeleteRouteTable\",\n",
    "            \"ec2:DeleteSecurityGroup\",\n",
    "            \"ec2:DeleteSubnet\",\n",
    "            \"ec2:DeleteTags\",\n",
    "            \"ec2:DeleteVolume\",\n",
    "            \"ec2:DeleteVpc\",\n",
    "            \"ec2:DeleteVpcEndpoints\",\n",
    "            \"ec2:DescribeAvailabilityZones\",\n",
    "            \"ec2:DescribeIamInstanceProfileAssociations\",\n",
    "            \"ec2:DescribeInstanceStatus\",\n",
    "            \"ec2:DescribeInstances\",\n",
    "            \"ec2:DescribeInternetGateways\",\n",
    "            \"ec2:DescribeNatGateways\",\n",
    "            \"ec2:DescribePrefixLists\",\n",
    "            \"ec2:DescribeReservedInstancesOfferings\",\n",
    "            \"ec2:DescribeRouteTables\",\n",
    "            \"ec2:DescribeSecurityGroups\",\n",
    "            \"ec2:DescribeSpotInstanceRequests\",\n",
    "            \"ec2:DescribeSpotPriceHistory\",\n",
    "            \"ec2:DescribeSubnets\",\n",
    "            \"ec2:DescribeVolumes\",\n",
    "            \"ec2:DescribeVpcs\",\n",
    "            \"ec2:DetachInternetGateway\",\n",
    "            \"ec2:DisassociateIamInstanceProfile\",\n",
    "            \"ec2:DisassociateRouteTable\",\n",
    "            \"ec2:ModifyVpcAttribute\",\n",
    "            \"ec2:ReleaseAddress\",\n",
    "            \"ec2:ReplaceIamInstanceProfileAssociation\",\n",
    "            \"ec2:RequestSpotInstances\",\n",
    "            \"ec2:RevokeSecurityGroupEgress\",\n",
    "            \"ec2:RevokeSecurityGroupIngress\",\n",
    "            \"ec2:RunInstances\",\n",
    "            \"ec2:TerminateInstances\"\n",
    "          ],\n",
    "          \"Resource\": [\n",
    "            \"*\"\n",
    "          ]\n",
    "        },\n",
    "        {\n",
    "          \"Effect\": \"Allow\",\n",
    "          \"Action\": [\n",
    "              \"iam:CreateServiceLinkedRole\",\n",
    "              \"iam:PutRolePolicy\"\n",
    "          ],\n",
    "          \"Resource\": \"arn:aws:iam::*:role/aws-service-role/spot.amazonaws.com/AWSServiceRoleForEC2Spot\",\n",
    "          \"Condition\": {\n",
    "            \"StringLike\": {\n",
    "                \"iam:AWSServiceName\": \"spot.amazonaws.com\"\n",
    "            }\n",
    "          }\n",
    "        }\n",
    "      ]\n",
    "    }\n",
    "    ```\n",
    "1. Now let's click **Review policy** to get to the final page.\n",
    "1. Let's assign the name for our policy (use *dbacademy-test-cross-account-policy*).\n",
    "1. Click **Create policy**.\n",
    "1. Let's take note of the **ARN**; the account administrator will need this in order to create a credential configuration that captures this IAM role."
   ]
  },
  {
   "cell_type": "markdown",
   "metadata": {
    "application/vnd.databricks.v1+cell": {
     "cellMetadata": {},
     "inputWidgets": {},
     "nuid": "70d6d4ae-1ad9-419d-8078-0348dc07a87f",
     "showTitle": false,
     "title": ""
    }
   },
   "source": [
    "### Creating the credential configuration\n",
    "\n",
    "With a cross account IAM role create, we need a way to represent that in Databricks. For this reason, we have *credential configurations*, which we create in this section using the account console.\n",
    "\n",
    "1. In the account console, let's click on the **Cloud Resources** icon in the left sidebar.\n",
    "1. Let's click the **Credential configuration** tab.\n",
    "1. Let's click **Add credential configuration**.\n",
    "1. Let's provide a name for the configuration. This name will have no user visibility (use *dbacademy-test-credential-configuration*).\n",
    "1. Paste the **ARN** for the role we created moments ago.\n",
    "1. Finally, let's click **Add**."
   ]
  },
  {
   "cell_type": "markdown",
   "metadata": {
    "application/vnd.databricks.v1+cell": {
     "cellMetadata": {},
     "inputWidgets": {},
     "nuid": "c1f7ddb7-4c34-48b5-9051-f966dace41c1",
     "showTitle": false,
     "title": ""
    }
   },
   "source": [
    "### Creating a storage configuration\n",
    "\n",
    "Workspaces need an S3 bucket collocated in the same region to store objects that are generated as the platform is used. These stored objects include:\n",
    "* Cluster logs\n",
    "* Notebook revisions\n",
    "* Job results\n",
    "* Libraries\n",
    "* Any files written to the DBFS root, either by a job or uploaded from the user interface\n",
    "* Tables written to the legacy metastore\n",
    "\n",
    "With an appropriately configured bucket in place, we then need to create a *storage configuration* in the account console to represent this bucket.\n",
    "\n",
    "Note that you can share a bucket between more than one workspace, though Databricks advises against this."
   ]
  },
  {
   "cell_type": "markdown",
   "metadata": {
    "application/vnd.databricks.v1+cell": {
     "cellMetadata": {},
     "inputWidgets": {},
     "nuid": "1e21a6da-ec3b-4d85-bad1-d55d28b9ec7a",
     "showTitle": false,
     "title": ""
    }
   },
   "source": [
    "#### Creating the workspace root storage bucket\n",
    "\n",
    "Let's create an S3 bucket to function as the workspace root storage.\n",
    "\n",
    "1. In the AWS S3 console, let's click **Create bucket**.\n",
    "1. Let's specify a name. When choosing your own names, be mindful to not include dots in your names. Bucket names must also be globally unique. In this example we use *dbacademy-test-workspace-bucket*, but you should include a suffix or prefix that uniquely ties the name to your organization; for example, replace *dbacademy* with your domain name (using hyphens instead of dots).\n",
    "1. Let's choose the region where we plan on creating our workspace.\n",
    "1. For this example, let's accept the default settings for the rest, and create the bucket. We will need to revisit it in a moment to add a policy."
   ]
  },
  {
   "cell_type": "markdown",
   "metadata": {
    "application/vnd.databricks.v1+cell": {
     "cellMetadata": {},
     "inputWidgets": {},
     "nuid": "18192445-8266-4a3a-ac45-68834e08079d",
     "showTitle": false,
     "title": ""
    }
   },
   "source": [
    "#### Creating a storage configuration\n",
    "\n",
    "Now let's create the piece that links Databricks to the storage container for the workspace we will create.\n",
    "1. In the account console, let's click on the **Cloud Resources** icon in the left sidebar.\n",
    "1. Let's click the **Storage configuration** tab.\n",
    "1. Let's click **Add storage configuration**.\n",
    "1. Let's provide a name for the configuration. This name will have no user visibility (use *dbacademy-test-storage-configuration*).\n",
    "1. Let's enter the name for the bucket we created moments ago (*dbacademy-test-workspace-bucket*).\n",
    "1. Now we need to add a policy to that bucket. Let's click the **Generate policy** link and copy the JSON policy description.\n",
    "1. Finally, let's click **Add**."
   ]
  },
  {
   "cell_type": "markdown",
   "metadata": {
    "application/vnd.databricks.v1+cell": {
     "cellMetadata": {},
     "inputWidgets": {},
     "nuid": "25043148-246b-4ebe-8edc-e6fb6c393578",
     "showTitle": false,
     "title": ""
    }
   },
   "source": [
    "#### Adding the policy to the bucket\n",
    "\n",
    "With a policy on the clipboard, let's revisit the S3 console to add that policy to the bucket we created earlier.\n",
    "\n",
    "1. In the AWS S3 console, let's find the bucket we created and select it.\n",
    "1. Let's click the **Permissions** tab.\n",
    "1. In the **Bucket policy** area, click **Edit**.\n",
    "1. Let's paste the JSON policy.\n",
    "1. Finally, let's click **Save changes**."
   ]
  },
  {
   "cell_type": "markdown",
   "metadata": {
    "application/vnd.databricks.v1+cell": {
     "cellMetadata": {},
     "inputWidgets": {},
     "nuid": "54263f16-1ec0-4a96-b35a-29ba07133040",
     "showTitle": false,
     "title": ""
    }
   },
   "source": [
    "## Supporting a metastore\n",
    "\n",
    "A metastore is the top-level container of data objects in Unity Catalog. The metastore contains metadata about your tables and, in the case of managed tables, the table data itself. \n",
    "\n",
    "Account administrators create metastores and assign them to workspaces to allow workloads in those workspaces to access the data represented in the metastore. This can be done in the account console, through REST APIs, or using <a href=\"https://registry.terraform.io/providers/databrickSlabs/databricks/latest/docs\" target=\"_blank\">Terraform</a>. In this demo, we will explore the creation and management of metastores interactively using the account console.\n",
    "\n",
    "There are some underlying cloud resources that must be set up first in order to support the metastore. This includes:\n",
    "* An S3 bucket for storing metastore artifacts located in your own AWS account\n",
    "* An IAM role that allows Databricks to access the bucket\n",
    "\n",
    "We will create these elements in this demo, but note that this procedure is also documented <a href=\"https://docs.databricks.com/data-governance/unity-catalog/get-started.html#configure-aws-objects\" target=\"_blank\">here</a>. We will be referencing this documentation throughout the demo.\n",
    "\n",
    "It's important to keep the following constraints in mind when creating and managing metastores:\n",
    "* You can create only one metastore per region\n",
    "* Metastores can only be associated with workspaces in the same region\n",
    "* There can be as many workspaces as needed associated with a metastore located within the same region."
   ]
  },
  {
   "cell_type": "markdown",
   "metadata": {
    "application/vnd.databricks.v1+cell": {
     "cellMetadata": {},
     "inputWidgets": {},
     "nuid": "85f6b89a-e51f-4146-9b63-6fa0ebc40d02",
     "showTitle": false,
     "title": ""
    }
   },
   "source": [
    "### Creating the metastore bucket\n",
    "\n",
    "Databricks recommends creating a dedicated bucket for each metastore. We do not recommended sharing this bucket for any other purpose than hosting the metastore. Here we will create a bucket named *dbacademy-test-metastore-bucket* for this purpose. \n",
    "\n",
    "1. Still in the AWS S3 console, let's click **Create bucket**.\n",
    "1. Let's specify our name. Once again, be mindful to not include dots in your names, and that names must be globally unique. For this example we use *dbacademy-test-metastore-bucket*, but adjust your name accordingly.\n",
    "1. Let's choose a region that matches with the workspace bucket we created earlier.\n",
    "1. For this example, let's accept the default settings for the rest, and create the bucket."
   ]
  },
  {
   "cell_type": "markdown",
   "metadata": {
    "application/vnd.databricks.v1+cell": {
     "cellMetadata": {},
     "inputWidgets": {},
     "nuid": "fea915da-05a3-4700-abd6-b9262ca8215f",
     "showTitle": false,
     "title": ""
    }
   },
   "source": [
    "### Creating an IAM policy\n",
    "\n",
    "Before creating the IAM role that Unity Catalog needs, we need to create a policy that defines how this bucket can be accessed. This must be done using the same AWS account as the bucket.\n",
    "\n",
    "1. In the AWS IAM console, let's select **Policies**.\n",
    "1. Click **Create policy**.\n",
    "1. Let's select the **JSON** tab and replace the default policy with the following, which we use as a starting point:\n",
    "    ```\n",
    "    {\n",
    "     \"Version\": \"2012-10-17\",\n",
    "     \"Statement\": [\n",
    "         {\n",
    "             \"Action\": [\n",
    "                 \"s3:GetObject\",\n",
    "                 \"s3:PutObject\",\n",
    "                 \"s3:DeleteObject\",\n",
    "                 \"s3:ListBucket\",\n",
    "                 \"s3:GetBucketLocation\",\n",
    "                 \"s3:GetLifecycleConfiguration\",\n",
    "                 \"s3:PutLifecycleConfiguration\"\n",
    "             ],\n",
    "             \"Resource\": [\n",
    "                 \"arn:aws:s3:::<BUCKET>/*\",\n",
    "                 \"arn:aws:s3:::<BUCKET>\"\n",
    "             ],\n",
    "             \"Effect\": \"Allow\"\n",
    "         },\n",
    "         {\n",
    "             \"Action\": [\n",
    "                 \"sts:AssumeRole\"\n",
    "             ],\n",
    "             \"Resource\": [\n",
    "                 \"arn:aws:iam::<AWS_ACCOUNT_ID>:role/<AWS_IAM_ROLE_NAME>\"\n",
    "             ],\n",
    "             \"Effect\": \"Allow\"\n",
    "         }\n",
    "       ]\n",
    "    }\n",
    "    ```\n",
    "1. Now let's customize the policy.\n",
    "   * Replace instances of **`<BUCKET>`** with the name of the bucket we created.\n",
    "   * Replace **`<AWS_ACCOUNT_ID>`** with the account ID of the current AWS account, which is accessible from the user menu in the AWS console.\n",
    "   * Replace **`<AWS_IAM_ROLE_NAME>`** with the name of the IAM role that we will create, *dbacademy-test-metastore-role*.\n",
    "1. Let's click through accepting the default settings for the rest and specifying a suitable name (use *dbacademy-test-metastore-policy*), then create the policy."
   ]
  },
  {
   "cell_type": "markdown",
   "metadata": {
    "application/vnd.databricks.v1+cell": {
     "cellMetadata": {},
     "inputWidgets": {},
     "nuid": "faa93fb8-0737-4785-b990-199b887f22df",
     "showTitle": false,
     "title": ""
    }
   },
   "source": [
    "### Creating an IAM role\n",
    "\n",
    "Let's create an IAM role that will allow Databricks to access this bucket residing in your own account.\n",
    "1. In the AWS console, let's go to **IAM > Roles**.\n",
    "1. Click **Create role**.\n",
    "1. Select **Custom trust policy**. This will let us set up a cross-account trust relationship that will allow Unity Catalog to assume the role to acccess the bucket on our behalf.\n",
    "   * In the **Custom trust policy** area, let's paste the following policy as a starting point.\n",
    "    ```\n",
    "    {\n",
    "      \"Version\": \"2012-10-17\",\n",
    "      \"Statement\": [\n",
    "        {\n",
    "          \"Effect\": \"Allow\",\n",
    "          \"Principal\": {\n",
    "            \"AWS\": \"arn:aws:iam::414351767826:role/unity-catalog-prod-UCMasterRole-14S5ZJVKOTYTL\"\n",
    "          },\n",
    "          \"Action\": \"sts:AssumeRole\",\n",
    "          \"Condition\": {\n",
    "            \"StringEquals\": {\n",
    "              \"sts:ExternalId\": \"<DATABRICKS_ACCOUNT_ID>\"\n",
    "            }\n",
    "          }\n",
    "        }\n",
    "      ]\n",
    "    }\n",
    "    ```\n",
    "   * For **`<DATABRICKS_ACCOUNT_ID>`** let's substitute in our Databricks account ID. We can easily get this from the account console as we did earlier. Treat this value carefully like you would any other credential.\n",
    "   * Now let's click **Next**.\n",
    "1. Now let's locate and select the policy we created.\n",
    "1. Finally, let's assign the name for our role. Let's use *dbacademy-test-metastore-role* and create the role.\n",
    "1. Let's take note of the **ARN** as the account administrator will need this when creating the metastore."
   ]
  },
  {
   "cell_type": "markdown",
   "metadata": {
    "application/vnd.databricks.v1+cell": {
     "cellMetadata": {},
     "inputWidgets": {},
     "nuid": "3b85505e-dd12-4e0d-a2ce-55f99dde8867",
     "showTitle": false,
     "title": ""
    }
   },
   "source": [
    "&copy; 2023 Databricks, Inc. All rights reserved.<br/>\n",
    "Apache, Apache Spark, Spark and the Spark logo are trademarks of the <a href=\"https://www.apache.org/\">Apache Software Foundation</a>.<br/>\n",
    "<br/>\n",
    "<a href=\"https://databricks.com/privacy-policy\">Privacy Policy</a> | <a href=\"https://databricks.com/terms-of-use\">Terms of Use</a> | <a href=\"https://help.databricks.com/\">Support</a>"
   ]
  }
 ],
 "metadata": {
  "application/vnd.databricks.v1+notebook": {
   "dashboards": [],
   "environmentMetadata": null,
   "language": "python",
   "notebookMetadata": {
    "pythonIndentUnit": 2
   },
   "notebookName": "1 Supporting Databricks workspaces and metastores",
   "widgets": {}
  }
 },
 "nbformat": 4,
 "nbformat_minor": 0
}
