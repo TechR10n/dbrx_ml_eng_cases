{
 "cells": [
  {
   "cell_type": "code",
   "execution_count": 0,
   "metadata": {
    "application/vnd.databricks.v1+cell": {
     "cellMetadata": {},
     "inputWidgets": {},
     "nuid": "371827be-d8af-465e-af5b-871c02cbd2da",
     "showTitle": false,
     "title": ""
    }
   },
   "outputs": [],
   "source": [
    "# INCLUDE_HEADER_TRUE\n",
    "# INCLUDE_FOOTER_TRUE"
   ]
  },
  {
   "cell_type": "markdown",
   "metadata": {
    "application/vnd.databricks.v1+cell": {
     "cellMetadata": {},
     "inputWidgets": {},
     "nuid": "aa9d630d-100a-4191-9c4f-363c064de26e",
     "showTitle": false,
     "title": ""
    }
   },
   "source": [
    "# Using Databricks APIs\n",
    "\n",
    "In this lab you will learn how to:\n",
    "* Authenticate and use Databricks REST APIs to remotely administer Databricks"
   ]
  },
  {
   "cell_type": "markdown",
   "metadata": {
    "application/vnd.databricks.v1+cell": {
     "cellMetadata": {},
     "inputWidgets": {},
     "nuid": "ede0d076-e16d-41df-be1b-3b46e5742076",
     "showTitle": false,
     "title": ""
    }
   },
   "source": [
    "##Prerequisites\n",
    "\n",
    "If you would like to follow along with this lab, you will need:\n",
    "* Ability to create new schemas in the *main* catalog (**`CREATE`** and **`USAGE`** privileges)\n",
    "* Ability to create clusters (**`Allow unrestricted cluster creation`** entitlement)"
   ]
  },
  {
   "cell_type": "markdown",
   "metadata": {
    "application/vnd.databricks.v1+cell": {
     "cellMetadata": {},
     "inputWidgets": {},
     "nuid": "cbe90229-649b-46fa-9e80-5c92172cee75",
     "showTitle": false,
     "title": ""
    }
   },
   "source": [
    "## Overview\n",
    "\n",
    "Databricks exposes all its major functionality as a collection of REST APIs, whose documentation can be found <a href=\"https://docs.databricks.com/reference/api.html\" target=\"_blank\">here</a>.  Anything you can do in the user interface (and in some cases, things you can't even do in the user interface) can be done remotely using carefully constructed API calls. The Databricks CLI, as covered in the *Using Databricks Utilities and CLI* lab, uses REST APIs under the covers, as do automation frameworks like Terraform.\n",
    "\n",
    "There are a number of ways to gain direct access to these APIs:\n",
    "\n",
    "* Implement code that uses a low level web access API (like Python's **requests** module for example) to issue REST calls and interpret the results\n",
    "* Use a client that provides low level web access (like **curl**, **wget** or **Postman**) to issue calls and view the results\n",
    "\n",
    "When using a non-interactive client like **curl** or **wget**, users typically run the client in their own interactive shell environment. They may invoke commands manually or chain those commands into a higher-level script or automation framework of some sort. In this lab, we will take advantage of the execution environment provided by the attached all-purpose cluster for the purpose of demonstrating API usage with **curl**.\n",
    "\n",
    "Regardless of which client you use, you need to include the following items with each call:\n",
    "* The **URL** of the API endpoint you are calling, which is based on your Databricks instance. The endpoints are to be found in the documentation.\n",
    "* The **HTTP method** to use in submitting the request, which depends on the endpoint and type of operation you are doing. For example, querying resources is done using **GET** while creating new resources is done with **POST**. Appropriate methods for each endpoint are to be found in the documentation.\n",
    "* A **token** used to authenticate with the server. Though you can use a username and password to authenticate, it's recommended to use a bearer token instead.\n",
    "\n",
    "Depending on the operation, you may need to specify additional data to fulfill the request."
   ]
  },
  {
   "cell_type": "markdown",
   "metadata": {
    "application/vnd.databricks.v1+cell": {
     "cellMetadata": {},
     "inputWidgets": {},
     "nuid": "70105632-cb18-4f23-8419-21e40102fb3a",
     "showTitle": false,
     "title": ""
    }
   },
   "source": [
    "## Setup\n",
    "\n",
    "As stated previously, we need a base URL for the APIs and a token for API authentication before we can proceed. Run the following cell to create a landing zone for the needed inputs, then follow the instructions below."
   ]
  },
  {
   "cell_type": "code",
   "execution_count": 0,
   "metadata": {
    "application/vnd.databricks.v1+cell": {
     "cellMetadata": {},
     "inputWidgets": {},
     "nuid": "372676d4-c4a0-4628-b57e-ed49297af820",
     "showTitle": false,
     "title": ""
    }
   },
   "outputs": [],
   "source": [
    "dbutils.widgets.text(name='url', defaultValue='')\n",
    "dbutils.widgets.text(name='token', defaultValue='')\n",
    "\n",
    "from urllib.parse import urlparse,urlunsplit\n",
    "\n",
    "u = urlparse(dbutils.widgets.get('url'))\n",
    "\n",
    "import os\n",
    "\n",
    "os.environ[\"DBACADEMY_API_TOKEN\"] = f\"Authorization: Bearer {dbutils.widgets.get('token')}\"\n",
    "os.environ[\"DBACADEMY_API_URL\"] = urlunsplit((u.scheme, u.netloc, f\"/api/2.0\", \"\", \"\"))"
   ]
  },
  {
   "cell_type": "markdown",
   "metadata": {
    "application/vnd.databricks.v1+cell": {
     "cellMetadata": {},
     "inputWidgets": {},
     "nuid": "9bb30692-a235-44f3-8638-59abace8be82",
     "showTitle": false,
     "title": ""
    }
   },
   "source": [
    "Now let's populate the two fields as follows.\n",
    "1. Go to <a href=\"#setting/account\" target=\"_blank\">User Settings</a> (which is also accessible from the left sidebar by selecting **Settings > User Settings**).\n",
    "1. Select the **Access tokens** tab.\n",
    "1. Click **Generate new token**.\n",
    "    1. Specify a **Comment** such as *API Test*. Choose a short value for **Lifetime**; for the purpose of this lab, one or two days is sufficient.\n",
    "    1. Click **Generate**.\n",
    "    1. Copy the resulting token to the *token* field.\n",
    "    1. Click **Done**.\n",
    "1. Copy the URL of your workspace (the contents of the address bar in your current browser session is sufficient) into the *url* field."
   ]
  },
  {
   "cell_type": "markdown",
   "metadata": {
    "application/vnd.databricks.v1+cell": {
     "cellMetadata": {},
     "inputWidgets": {},
     "nuid": "512fb2bc-d180-444a-b6d9-7b571ce5261a",
     "showTitle": false,
     "title": ""
    }
   },
   "source": [
    "## Exploring and managing the data hierarchy\n",
    "\n",
    "Let's examine the data hierarchy beginning at the metastore level. First, let's list the metastores available. From the documentation of the Unity Catalog API, we must invoke the **listMetastores** endpoint using the **GET** method."
   ]
  },
  {
   "cell_type": "code",
   "execution_count": 0,
   "metadata": {
    "application/vnd.databricks.v1+cell": {
     "cellMetadata": {},
     "inputWidgets": {},
     "nuid": "8455b2f5-65e8-4bae-806f-fc5835d66904",
     "showTitle": false,
     "title": ""
    }
   },
   "outputs": [],
   "source": [
    "%sh curl -s -X GET -H \"${DBACADEMY_API_TOKEN}\" \"${DBACADEMY_API_URL}/unity-catalog/metastores\" | json_pp"
   ]
  },
  {
   "cell_type": "markdown",
   "metadata": {
    "application/vnd.databricks.v1+cell": {
     "cellMetadata": {},
     "inputWidgets": {},
     "nuid": "58286afb-0ccf-4a5c-af66-ade1bf5f9327",
     "showTitle": false,
     "title": ""
    }
   },
   "source": [
    "This lists information about *all* metastores defined in the Databricks account governing this workspace. The following cell retrieves information regarding the metastore currently assigned to the workspace."
   ]
  },
  {
   "cell_type": "code",
   "execution_count": 0,
   "metadata": {
    "application/vnd.databricks.v1+cell": {
     "cellMetadata": {},
     "inputWidgets": {},
     "nuid": "13954d6d-da63-4a5e-b658-97110b41b4d6",
     "showTitle": false,
     "title": ""
    }
   },
   "outputs": [],
   "source": [
    "%sh curl -s -X GET -H \"${DBACADEMY_API_TOKEN}\" \"${DBACADEMY_API_URL}/unity-catalog/metastore_summary\" | json_pp"
   ]
  },
  {
   "cell_type": "markdown",
   "metadata": {
    "application/vnd.databricks.v1+cell": {
     "cellMetadata": {},
     "inputWidgets": {},
     "nuid": "a9ca6c2d-bbd2-46e0-951c-d1d275f5418a",
     "showTitle": false,
     "title": ""
    }
   },
   "source": [
    "Now let's browse the structure within the currently assigned metastore, starting with the catalogs."
   ]
  },
  {
   "cell_type": "code",
   "execution_count": 0,
   "metadata": {
    "application/vnd.databricks.v1+cell": {
     "cellMetadata": {},
     "inputWidgets": {},
     "nuid": "dc803c52-b8a3-4b23-b155-b5e189579f17",
     "showTitle": false,
     "title": ""
    }
   },
   "outputs": [],
   "source": [
    "%sh curl -s -X GET -H \"${DBACADEMY_API_TOKEN}\" \"${DBACADEMY_API_URL}/unity-catalog/catalogs\" | json_pp"
   ]
  },
  {
   "cell_type": "markdown",
   "metadata": {
    "application/vnd.databricks.v1+cell": {
     "cellMetadata": {},
     "inputWidgets": {},
     "nuid": "fc89a6b2-d7ec-47b7-8b21-babacfaf5ff1",
     "showTitle": false,
     "title": ""
    }
   },
   "source": [
    "Notice that *hive_metastore* and *samples* are not listed, since these are not real catalogs. They are virtual entries mapped into the catalog namespace by Unity Catalog for convenient access to the local Hive metastore and Databricks sample datasets.\n",
    "\n",
    "Now let's list the schemas within the catalog *main*. As per the documentation, the **`catalog_name`** parameter is required. For **GET** requests, parameters are encoded at the end of the URL."
   ]
  },
  {
   "cell_type": "code",
   "execution_count": 0,
   "metadata": {
    "application/vnd.databricks.v1+cell": {
     "cellMetadata": {},
     "inputWidgets": {},
     "nuid": "cd4ee383-2f99-495e-8c1e-7aa232274b1d",
     "showTitle": false,
     "title": ""
    }
   },
   "outputs": [],
   "source": [
    "%sh curl -s -X GET -H \"${DBACADEMY_API_TOKEN}\" \"${DBACADEMY_API_URL}/unity-catalog/schemas?catalog_name=main\" | json_pp"
   ]
  },
  {
   "cell_type": "markdown",
   "metadata": {
    "application/vnd.databricks.v1+cell": {
     "cellMetadata": {},
     "inputWidgets": {},
     "nuid": "55954ebd-428a-42b4-9745-53d3c16b1c5d",
     "showTitle": false,
     "title": ""
    }
   },
   "source": [
    "Now let's see the tables within the *default* schema of *main*. As per the documentation, the **`catalog_name`** and **`schema_name`** parameters are required."
   ]
  },
  {
   "cell_type": "code",
   "execution_count": 0,
   "metadata": {
    "application/vnd.databricks.v1+cell": {
     "cellMetadata": {},
     "inputWidgets": {},
     "nuid": "e8901439-52eb-4ea7-9949-03812793894e",
     "showTitle": false,
     "title": ""
    }
   },
   "outputs": [],
   "source": [
    "%sh curl -s -X GET -H \"${DBACADEMY_API_TOKEN}\" \"${DBACADEMY_API_URL}/unity-catalog/tables?catalog_name=main&schema_name=default\" | json_pp"
   ]
  },
  {
   "cell_type": "markdown",
   "metadata": {
    "application/vnd.databricks.v1+cell": {
     "cellMetadata": {},
     "inputWidgets": {},
     "nuid": "4f4a1d66-d507-4f7d-84ab-539c47db8887",
     "showTitle": false,
     "title": ""
    }
   },
   "source": [
    "Now that we've browsed the data structures, let's create a new schema named *myschema_api* within the *main* catalog. This is a little different, since we must use **`POST`** to do this, which in turn requires us to specify JSON data using the **`-d`** option. Using a combination of shell features, we are inlining the JSON data below the command itself.\n",
    "\n",
    "As per the documentation, the JSON data must specify:\n",
    "* *name:* the name of the schema to create\n",
    "* *catalog_name:* the name of the catalog in which to create the schema\n",
    "\n",
    "Note that this will fail if you don't have appropriate privileges on *main*."
   ]
  },
  {
   "cell_type": "code",
   "execution_count": 0,
   "metadata": {
    "application/vnd.databricks.v1+cell": {
     "cellMetadata": {},
     "inputWidgets": {},
     "nuid": "75ebebc3-b743-4522-b39a-d18df1e2bdec",
     "showTitle": false,
     "title": ""
    }
   },
   "outputs": [],
   "source": [
    "%sh cat << EOF | curl -s -X POST -H \"${DBACADEMY_API_TOKEN}\" \"${DBACADEMY_API_URL}/unity-catalog/schemas\" -d @- | json_pp\n",
    "{\n",
    "  \"name\": \"myschema_api\",\n",
    "  \"catalog_name\": \"main\"\n",
    "}\n",
    "EOF"
   ]
  },
  {
   "cell_type": "markdown",
   "metadata": {
    "application/vnd.databricks.v1+cell": {
     "cellMetadata": {},
     "inputWidgets": {},
     "nuid": "f1bde4a3-3f31-4fac-b5d1-2adfa2b69c08",
     "showTitle": false,
     "title": ""
    }
   },
   "source": [
    "Open the **Data** page to validate the creation of the schema."
   ]
  },
  {
   "cell_type": "markdown",
   "metadata": {
    "application/vnd.databricks.v1+cell": {
     "cellMetadata": {},
     "inputWidgets": {},
     "nuid": "9945fe0c-040c-473e-add4-9cae9ada4057",
     "showTitle": false,
     "title": ""
    }
   },
   "source": [
    "#### Exploring and managing workspace assets\n",
    "\n",
    "So far we've used the APIs to browse and manage data assets, but it's also possible to automate the management of workspace assets and compute resources. As an example, let's create an all-purpose cluster. The parameters specified here are explained in the <a href=\"https://docs.databricks.com/api/latest/clusters.html#create\" target=\"_blank\">API documentation</a>, though you can also obtain sample JSON from the cluster creation UI as well."
   ]
  },
  {
   "cell_type": "code",
   "execution_count": 0,
   "metadata": {
    "application/vnd.databricks.v1+cell": {
     "cellMetadata": {},
     "inputWidgets": {},
     "nuid": "45d87d1c-5efa-49b8-b515-6247d1747f9a",
     "showTitle": false,
     "title": ""
    }
   },
   "outputs": [],
   "source": [
    "%sh cat << EOF | curl -s -X POST -H \"${DBACADEMY_API_TOKEN}\" \"${DBACADEMY_API_URL}/clusters/create\" -d @- | json_pp\n",
    "{\n",
    "  \"num_workers\": 1,\n",
    "  \"cluster_name\": \"mycluster_api\",\n",
    "  \"spark_version\": \"11.1.x-scala2.12\",\n",
    "  \"node_type_id\": \"i3.xlarge\",\n",
    "  \"autotermination_minutes\": 120,\n",
    "  \"data_security_mode\": \"USER_ISOLATION\",\n",
    "  \"runtime_engine\": \"STANDARD\"\n",
    "}\n",
    "EOF"
   ]
  },
  {
   "cell_type": "markdown",
   "metadata": {
    "application/vnd.databricks.v1+cell": {
     "cellMetadata": {},
     "inputWidgets": {},
     "nuid": "fafe8f80-8c64-4eb1-8755-51b06e9f5761",
     "showTitle": false,
     "title": ""
    }
   },
   "source": [
    "Note the value for *cluster_id* from the output; we will need this shortly.\n",
    "\n",
    "Now open the <a href=\"#setting/clusters\" target=\"_blank\">Compute</a> page (which is also accessible from the left sidebar) to validate the creation of the cluster."
   ]
  },
  {
   "cell_type": "markdown",
   "metadata": {
    "application/vnd.databricks.v1+cell": {
     "cellMetadata": {},
     "inputWidgets": {},
     "nuid": "7e50aaf7-889c-44a7-9584-9928d1f92f55",
     "showTitle": false,
     "title": ""
    }
   },
   "source": [
    "## Cleanup\n",
    "\n",
    "Run the following cells to remove the resources we created throughout this lab. This further illustrates how APIs can be used to manage resources.\n",
    "\n",
    "First, let's use an API to delete the schema we created."
   ]
  },
  {
   "cell_type": "code",
   "execution_count": 0,
   "metadata": {
    "application/vnd.databricks.v1+cell": {
     "cellMetadata": {},
     "inputWidgets": {},
     "nuid": "d07f10b9-0874-4bc4-a094-5e994f14d0e8",
     "showTitle": false,
     "title": ""
    }
   },
   "outputs": [],
   "source": [
    "%sh curl -s -X DELETE -H \"${DBACADEMY_API_TOKEN}\" \"${DBACADEMY_API_URL}/unity-catalog/schemas/main.myschema_api\""
   ]
  },
  {
   "cell_type": "markdown",
   "metadata": {
    "application/vnd.databricks.v1+cell": {
     "cellMetadata": {},
     "inputWidgets": {},
     "nuid": "eaefbb7f-9f2a-4ca4-9115-14192c079885",
     "showTitle": false,
     "title": ""
    }
   },
   "source": [
    "Now let's call an API to delete the cluster we created. Note that you must subsitute the text *CLUSTER_ID* with the value of *cluster_id* from the cluster creation output."
   ]
  },
  {
   "cell_type": "code",
   "execution_count": 0,
   "metadata": {
    "application/vnd.databricks.v1+cell": {
     "cellMetadata": {},
     "inputWidgets": {},
     "nuid": "2422bb0e-137d-4956-b1dd-9e2bd811a51f",
     "showTitle": false,
     "title": ""
    }
   },
   "outputs": [],
   "source": [
    "%sh cat << EOF | curl -s -X POST -H \"${DBACADEMY_API_TOKEN}\" \"${DBACADEMY_API_URL}/clusters/permanent-delete\" -d @-\n",
    "{\n",
    "  \"cluster_id\": \"CLUSTER_ID\"\n",
    "}\n",
    "EOF"
   ]
  }
 ],
 "metadata": {
  "application/vnd.databricks.v1+notebook": {
   "dashboards": [],
   "environmentMetadata": null,
   "language": "python",
   "notebookMetadata": {
    "pythonIndentUnit": 2
   },
   "notebookName": "3 Using Databricks APIs",
   "widgets": {}
  }
 },
 "nbformat": 4,
 "nbformat_minor": 0
}
