{
 "cells": [
  {
   "cell_type": "markdown",
   "metadata": {
    "application/vnd.databricks.v1+cell": {
     "cellMetadata": {},
     "inputWidgets": {},
     "nuid": "b29ab8d6-e451-493c-a938-081972eaf0cf",
     "showTitle": false,
     "title": ""
    }
   },
   "source": [
    "\n",
    "<div style=\"text-align: center; line-height: 0; padding-top: 9px;\">\n",
    "  <img src=\"https://databricks.com/wp-content/uploads/2018/03/db-academy-rgb-1200px.png\" alt=\"Databricks Learning\" style=\"width: 600px\">\n",
    "</div>"
   ]
  },
  {
   "cell_type": "markdown",
   "metadata": {
    "application/vnd.databricks.v1+cell": {
     "cellMetadata": {},
     "inputWidgets": {},
     "nuid": "5b76bfa4-56da-4246-8951-60802e720742",
     "showTitle": false,
     "title": ""
    }
   },
   "source": [
    "# Using the Account API\n",
    "\n",
    "In this lab you will learn how to:\n",
    "* Create your own AWS customer-managed keys\n",
    "* Apply an AWS key to a new workspace to provide security across:\n",
    "   * the data plane (root storage and cluster local storage)\n",
    "   * the control plane\n",
    "* Apply an AWS key to an existing workspace"
   ]
  },
  {
   "cell_type": "markdown",
   "metadata": {
    "application/vnd.databricks.v1+cell": {
     "cellMetadata": {},
     "inputWidgets": {},
     "nuid": "78ce1532-e771-464a-8c3b-7853616d0e6d",
     "showTitle": false,
     "title": ""
    }
   },
   "source": [
    "## Prerequisites\n",
    "\n",
    "If you would like to follow along with this lab, you will need account administrator capabilities in your Databricks account. \n",
    "\n",
    "You'll also need a tool or environment to issue REST API calls. In this lab, we'll use a cluster execution environment to issue the commands using cURL though you can use cURL or a similar tool in your own environment if you like.\n",
    "\n",
    "If you're following along and leveraging a cluster execution environment, then let's create a cluster if we don't have one already, then attach it to this notebook."
   ]
  },
  {
   "cell_type": "markdown",
   "metadata": {
    "application/vnd.databricks.v1+cell": {
     "cellMetadata": {},
     "inputWidgets": {},
     "nuid": "2a9c2e0d-3cc0-4e0b-af09-80ad343003b1",
     "showTitle": false,
     "title": ""
    }
   },
   "source": [
    "## Setting up authentication\n",
    "\n",
    "The Account API requires three elements for authentication:\n",
    "* the Databricks account id\n",
    "* the username corresponding to a user with account administrator capabilities\n",
    "* the password for that user\n",
    "\n",
    "The following cell will establish some text fields at the top of this notebook to provide this information. When you enter your credentials into these fields, code will execute on the cluster to set up environment variables with this information. This setup greatly simplifies the API calls we will be making.\n",
    "\n",
    "If you're using your own tool, then you can forego the following cell and configure your tool as follows:\n",
    "* Use **Basic** authentication with the username and password separated by a colon (:)\n",
    "* Use a base URL of *https://accounts.cloud.databricks.com/api/2.0/accounts/* followed by your Databricks account id; all API endpoints will be added to the end of this base URL"
   ]
  },
  {
   "cell_type": "code",
   "execution_count": 0,
   "metadata": {
    "application/vnd.databricks.v1+cell": {
     "cellMetadata": {},
     "inputWidgets": {},
     "nuid": "0ff4b062-dbc7-48a4-99a3-2cf36948c118",
     "showTitle": false,
     "title": ""
    }
   },
   "outputs": [],
   "source": [
    "dbutils.widgets.text(name='account_id', defaultValue='')\n",
    "dbutils.widgets.text(name='username', defaultValue='')\n",
    "dbutils.widgets.text(name='password', defaultValue='')\n",
    "\n",
    "import base64,os\n",
    "\n",
    "os.environ[\"DBACADEMY_API_URL\"] = f\"https://accounts.cloud.databricks.com/api/2.0/accounts/{dbutils.widgets.get('account_id')}\"\n",
    "os.environ[\"DBACADEMY_API_AUTHENTICATION\"] = f\"Authorization: Basic {base64.b64encode(('%s:%s' % (dbutils.widgets.get('username'),dbutils.widgets.get('password'))).encode('ascii')).decode('ascii')}\""
   ]
  },
  {
   "cell_type": "markdown",
   "metadata": {
    "application/vnd.databricks.v1+cell": {
     "cellMetadata": {},
     "inputWidgets": {},
     "nuid": "f09355fe-e450-4659-a262-f17722fe1dfe",
     "showTitle": false,
     "title": ""
    }
   },
   "source": [
    "## Querying workspaces\n",
    "Let's issue the following call, which displays a list of existing workspaces. This call accomplishes two things:\n",
    "1. it provides us with useful information that we can use later in the exercise\n",
    "1. it validates your authentication information and determines if it provides administrative capabilities\n",
    "\n",
    "If using your own tool, specify the **`GET`** method and an API endpoint of */workspaces*."
   ]
  },
  {
   "cell_type": "code",
   "execution_count": 0,
   "metadata": {
    "application/vnd.databricks.v1+cell": {
     "cellMetadata": {},
     "inputWidgets": {},
     "nuid": "c69d3db3-a549-4bbc-a408-d887efb1683e",
     "showTitle": false,
     "title": ""
    }
   },
   "outputs": [],
   "source": [
    "%sh curl -s -X GET -H \"${DBACADEMY_API_AUTHENTICATION}\" \"${DBACADEMY_API_URL}/workspaces\" | json_pp"
   ]
  },
  {
   "cell_type": "markdown",
   "metadata": {
    "application/vnd.databricks.v1+cell": {
     "cellMetadata": {},
     "inputWidgets": {},
     "nuid": "55fa512e-ec1a-434a-80a3-75cc3da51920",
     "showTitle": false,
     "title": ""
    }
   },
   "source": [
    "Scrolling through the response, let's locate the workspace that we can experiement with. Let's take note of the *credentials_id* and *storage_configuration_id*. Since workspaces can share these configurations, we'll reuse them momentarily to create a new workspace."
   ]
  },
  {
   "cell_type": "markdown",
   "metadata": {
    "application/vnd.databricks.v1+cell": {
     "cellMetadata": {},
     "inputWidgets": {},
     "nuid": "b3e815c5-6a7a-4d54-8dfa-82410301256b",
     "showTitle": false,
     "title": ""
    }
   },
   "source": [
    "## Creating a workspace\n",
    "\n",
    "Let's create a new workspace. Though we may have created workspaces before using the account console, this time we're doing it programmatically using the Account API.\n",
    "\n",
    "Prior to executing the following cell, be sure to perform the following subsitutions in the JSON payload:\n",
    "* replace *&lt;CREDENTIALS_ID&gt;* and *&lt;STORAGE_CONFIGURATION_ID&gt;* with the values gathered earlier\n",
    "* modify the value of *aws_region* to match the value of the workspace you're copying from, if it's not *us-east-1*\n",
    "\n",
    "If using your own tool, configure it as follows:\n",
    "* Use an API endpoint of */workspaces*\n",
    "* Use the **`POST`** method\n",
    "* Include the modified JSON payload from the following cell in your request"
   ]
  },
  {
   "cell_type": "code",
   "execution_count": 0,
   "metadata": {
    "application/vnd.databricks.v1+cell": {
     "cellMetadata": {},
     "inputWidgets": {},
     "nuid": "42a5db53-9da1-415a-9b6e-a48fd0b21e24",
     "showTitle": false,
     "title": ""
    }
   },
   "outputs": [],
   "source": [
    "%sh cat << EOF | curl -s -X POST -H \"${DBACADEMY_API_AUTHENTICATION}\" \"${DBACADEMY_API_URL}/workspaces\" -d @- | json_pp\n",
    "{\n",
    "  \"workspace_name\": \"dbacademy-test-workspace-api\",\n",
    "  \"deployment_name\": \"dbacademy-test-workspace-api\",\n",
    "  \"aws_region\" : \"us-east-1\",\n",
    "  \"credentials_id\": \"<CREDENTIALS_ID>\",\n",
    "  \"storage_configuration_id\": \"<STORAGE_CONFIGURATION_ID>\"\n",
    "}\n",
    "EOF"
   ]
  },
  {
   "cell_type": "markdown",
   "metadata": {
    "application/vnd.databricks.v1+cell": {
     "cellMetadata": {},
     "inputWidgets": {},
     "nuid": "d62c4cc1-c221-4bad-9cac-1c03b2535831",
     "showTitle": false,
     "title": ""
    }
   },
   "source": [
    "### Monitoring a workspace\n",
    "\n",
    "You can query an individual workspace with a simple **`GET`** request as follows. This is useful for querying information for just a single workspace, or to monitor the status of the workspace we just requested. Be sure to replace *&lt;WORKSPACE_ID&gt;* with the value from the response to creating the workspace earlier."
   ]
  },
  {
   "cell_type": "code",
   "execution_count": 0,
   "metadata": {
    "application/vnd.databricks.v1+cell": {
     "cellMetadata": {},
     "inputWidgets": {},
     "nuid": "22d2e278-93b1-4d60-bd06-117158605eae",
     "showTitle": false,
     "title": ""
    }
   },
   "outputs": [],
   "source": [
    "%sh curl -s -X GET -H \"${DBACADEMY_API_AUTHENTICATION}\" \"${DBACADEMY_API_URL}/workspaces/<WORKSPACE_ID>\" | json_pp"
   ]
  },
  {
   "cell_type": "markdown",
   "metadata": {
    "application/vnd.databricks.v1+cell": {
     "cellMetadata": {},
     "inputWidgets": {},
     "nuid": "dceefdbe-3b33-428e-a56f-43f159ae70dd",
     "showTitle": false,
     "title": ""
    }
   },
   "source": [
    "## Conclusion\n",
    "\n",
    "Here we've presented a few examples of Account API usage. This by no means is an exhaustive list. For more information please refer to the <a href=\"https://docs.databricks.com/dev-tools/api/latest/account.html\" target=\"_blank\">documentation</a>."
   ]
  },
  {
   "cell_type": "markdown",
   "metadata": {
    "application/vnd.databricks.v1+cell": {
     "cellMetadata": {},
     "inputWidgets": {},
     "nuid": "771f1d80-5ab9-4b61-ba4e-e9cba959507b",
     "showTitle": false,
     "title": ""
    }
   },
   "source": [
    "&copy; 2023 Databricks, Inc. All rights reserved.<br/>\n",
    "Apache, Apache Spark, Spark and the Spark logo are trademarks of the <a href=\"https://www.apache.org/\">Apache Software Foundation</a>.<br/>\n",
    "<br/>\n",
    "<a href=\"https://databricks.com/privacy-policy\">Privacy Policy</a> | <a href=\"https://databricks.com/terms-of-use\">Terms of Use</a> | <a href=\"https://help.databricks.com/\">Support</a>"
   ]
  }
 ],
 "metadata": {
  "application/vnd.databricks.v1+notebook": {
   "dashboards": [],
   "environmentMetadata": null,
   "language": "python",
   "notebookMetadata": {
    "pythonIndentUnit": 2
   },
   "notebookName": "3 Using the Account API",
   "widgets": {}
  }
 },
 "nbformat": 4,
 "nbformat_minor": 0
}
