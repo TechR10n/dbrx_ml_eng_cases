{
 "cells": [
  {
   "cell_type": "markdown",
   "metadata": {
    "application/vnd.databricks.v1+cell": {
     "cellMetadata": {},
     "inputWidgets": {},
     "nuid": "e35ef449-1c09-4ffe-b78a-cd257fa833f0",
     "showTitle": false,
     "title": ""
    }
   },
   "source": [
    "\n",
    "<div style=\"text-align: center; line-height: 0; padding-top: 9px;\">\n",
    "  <img src=\"https://databricks.com/wp-content/uploads/2018/03/db-academy-rgb-1200px.png\" alt=\"Databricks Learning\" style=\"width: 600px\">\n",
    "</div>"
   ]
  },
  {
   "cell_type": "markdown",
   "metadata": {
    "application/vnd.databricks.v1+cell": {
     "cellMetadata": {},
     "inputWidgets": {},
     "nuid": "35c07244-7f62-4456-a931-e1fd4fbc7f12",
     "showTitle": false,
     "title": ""
    }
   },
   "source": [
    "# Deploying a workspace in a customer-managed VPC\n",
    "\n",
    "In this lab you will learn how to:\n",
    "* Create your own VPC\n",
    "* Integrate your VPC into the Databricks account console\n",
    "* Create new workspaces using that VPC"
   ]
  },
  {
   "cell_type": "markdown",
   "metadata": {
    "application/vnd.databricks.v1+cell": {
     "cellMetadata": {},
     "inputWidgets": {},
     "nuid": "0c4f98f7-d874-4401-8eac-49911e9bf720",
     "showTitle": false,
     "title": ""
    }
   },
   "source": [
    "## Prerequisites\n",
    "\n",
    "If you would like to follow along with this lab, you will need:\n",
    "* administrator access to your AWS console, with the ability to create VPCs, buckets and IAM roles\n",
    "* account administrator capabilities in your Databricks account in order to access the account console\n",
    "* performing the *Supporting Databricks workspaces and metastores* lab from the *AWS Databricks Platform Administration Fundamentals* course will be a benefit, as this lab is largely an extension of that one"
   ]
  },
  {
   "cell_type": "markdown",
   "metadata": {
    "application/vnd.databricks.v1+cell": {
     "cellMetadata": {},
     "inputWidgets": {},
     "nuid": "2de7f354-121b-4b51-a0e0-d4af7a142f5b",
     "showTitle": false,
     "title": ""
    }
   },
   "source": [
    "## Supporting a workspace in a custom VPC\n",
    "\n",
    "You will recall from the *Supporting Databricks workspaces and metastores* lab from the *AWS Databricks Platform Administration Fundamentals* course, we created the AWS and Databricks elements needed to support the creation of a Databricks workspace using the default VPC configuration. In this lab, we'll work through a modified approach that enable us to have full control of the VPC. While some of this may seem familiar, there are differences to accomodate for the custom VPC.\n",
    "\n",
    "With that said, let's proceed."
   ]
  },
  {
   "cell_type": "markdown",
   "metadata": {
    "application/vnd.databricks.v1+cell": {
     "cellMetadata": {},
     "inputWidgets": {},
     "nuid": "2b053e7b-828b-4271-b841-1d2a1d7ef958",
     "showTitle": false,
     "title": ""
    }
   },
   "source": [
    "## Creating a VPC\n",
    "\n",
    "The first thing we need in this scenario is a VPC. In the *Supporting Databricks workspaces and metastores* lab, we allowed Databricks to manage this aspect for us, but here we must create and configure a suitable VPC for workspace deployment.\n",
    "\n",
    "1. In the AWS VPC console, let's select the region in which we're deploying our workspaces; let's use *us-east-1*.\n",
    "1. Click **Create VPC**.\n",
    "1. Let's select **VPC and more**.\n",
    "1. Let's specify a value for **Name tag auto-generation**. Databricks recommends including the region in the name. Let's use *dbacademy-test-vpc-us-east-1*.\n",
    "1. Let's leave the IPv4 and IPv6 CIDR block settings as they are, though we could modify these if needed.\n",
    "1. Select *2* for the nubmer of public subnets. Databricks doesn't need them both, but they are required to enable NATs.\n",
    "1. Select *2* for the number of private subnets. Each workspace needs two, so two will be sufficient to get started with one workspace.\n",
    "1. Select *In 1 AZ* for **NAT gateways**.\n",
    "1. Ensure that both **Enable DNS hostnames** and **Enable DNS resolution** are enabled.\n",
    "1. Finally, let's click **Create VPC**. \n",
    "\n",
    "This will trigger the creation of the VPC and all related resources, and will take a few moments to complete. Once done, you can proceed."
   ]
  },
  {
   "cell_type": "markdown",
   "metadata": {
    "application/vnd.databricks.v1+cell": {
     "cellMetadata": {},
     "inputWidgets": {},
     "nuid": "90e127da-fe38-47e0-9ebf-e09fb0517eaa",
     "showTitle": false,
     "title": ""
    }
   },
   "source": [
    "### Configuring the VPC\n",
    "\n",
    "Databricks has some requirements for its VPCs at outlined in the <a href=\"https://docs.databricks.com/administration-guide/cloud-configurations/aws/customer-managed-vpc.html#vpc-requirements-1\" target=\"_blank\">documentation</a>. Though the default parameters will work for Databricks workspaces, you'll likely want to reconfigure various aspects of your VPC at some point.\n",
    "\n",
    "In the **VPC Management Console** let's use the filter functionality to isolate items related to the VPC we created. From here we can review or configure elements related to the VPC, which we will do shortly. For now, let's proceed to create a workspace using this VPC."
   ]
  },
  {
   "cell_type": "markdown",
   "metadata": {
    "application/vnd.databricks.v1+cell": {
     "cellMetadata": {},
     "inputWidgets": {},
     "nuid": "1696bea7-199d-4061-aba2-3289e9042f79",
     "showTitle": false,
     "title": ""
    }
   },
   "source": [
    "## Creating a cross-account IAM role\n",
    "\n",
    "In this section, we'll create the cross-acount role. Rather than using the one we created in the *Supporting Databricks workspaces and metastores* lab, we'll create a new one with fewer permissions, since we do not need to allow Databricks to manage VPCs or their associated resources. The policy we use here is a watered-down version of the policy needed when using Databricks default VPCs. This policy does not allow Databricks to manage VPCs or the associated resources like addresses, routes and tables, subnets, gateways, and security groups.\n",
    "\n",
    "1. In the AWS IAM console, let's select **Roles**.\n",
    "1. Click **Create role**.\n",
    "1. Select **AWS account**. This will let us set up a cross-account trust relationship that will allow Databricks to provision resources in our account.\n",
    "   * Select **Another AWS account**.\n",
    "   * For **Account ID**, let's substitute in the Databricks account ID, *414351767826*.\n",
    "   * Select **Require external ID**.\n",
    "   * For **External ID**, let's paste our Databricks account ID. We can easily get this from the user menu in the account console.\n",
    "   * Now let's click **Next** until we get to the final page.\n",
    "   * Let's assign the name for our role (use *dbacademy-test-cross-account-role-novpc*).\n",
    "   * Click **Create role**.\n",
    "1. Now let's view the role we just created.\n",
    "1. Let's click the **Permissions** tab.\n",
    "1. Let's select **Add permissions > Create inline policy**.\n",
    "1. Click the **JSON** tab.\n",
    "1. Replace the default policy with the following:\n",
    "    ```\n",
    "    {\n",
    "      \"Version\": \"2012-10-17\",\n",
    "      \"Statement\": [\n",
    "        {\n",
    "          \"Sid\": \"Stmt1403287045000\",\n",
    "          \"Effect\": \"Allow\",\n",
    "          \"Action\": [\n",
    "            \"ec2:AssociateIamInstanceProfile\",\n",
    "            \"ec2:AttachVolume\",\n",
    "            \"ec2:AuthorizeSecurityGroupEgress\",\n",
    "            \"ec2:AuthorizeSecurityGroupIngress\",\n",
    "            \"ec2:CancelSpotInstanceRequests\",\n",
    "            \"ec2:CreateTags\",\n",
    "            \"ec2:CreateVolume\",\n",
    "            \"ec2:DeleteTags\",\n",
    "            \"ec2:DeleteVolume\",\n",
    "            \"ec2:DescribeAvailabilityZones\",\n",
    "            \"ec2:DescribeIamInstanceProfileAssociations\",\n",
    "            \"ec2:DescribeInstanceStatus\",\n",
    "            \"ec2:DescribeInstances\",\n",
    "            \"ec2:DescribeInternetGateways\",\n",
    "            \"ec2:DescribeNatGateways\",\n",
    "            \"ec2:DescribeNetworkAcls\",\n",
    "            \"ec2:DescribePrefixLists\",\n",
    "            \"ec2:DescribeReservedInstancesOfferings\",\n",
    "            \"ec2:DescribeRouteTables\",\n",
    "            \"ec2:DescribeSecurityGroups\",\n",
    "            \"ec2:DescribeSpotInstanceRequests\",\n",
    "            \"ec2:DescribeSpotPriceHistory\",\n",
    "            \"ec2:DescribeSubnets\",\n",
    "            \"ec2:DescribeVolumes\",\n",
    "            \"ec2:DescribeVpcAttribute\",\n",
    "            \"ec2:DescribeVpcs\",\n",
    "            \"ec2:DetachInternetGateway\",\n",
    "            \"ec2:DetachVolume\",\n",
    "            \"ec2:DisassociateIamInstanceProfile\",\n",
    "            \"ec2:ReplaceIamInstanceProfileAssociation\",\n",
    "            \"ec2:RequestSpotInstances\",\n",
    "            \"ec2:RevokeSecurityGroupEgress\",\n",
    "            \"ec2:RevokeSecurityGroupIngress\",\n",
    "            \"ec2:RunInstances\",\n",
    "            \"ec2:TerminateInstances\"\n",
    "          ],\n",
    "          \"Resource\": [\n",
    "            \"*\"\n",
    "          ]\n",
    "        },\n",
    "        {\n",
    "          \"Effect\": \"Allow\",\n",
    "          \"Action\": [\n",
    "              \"iam:CreateServiceLinkedRole\",\n",
    "              \"iam:PutRolePolicy\"\n",
    "          ],\n",
    "          \"Resource\": \"arn:aws:iam::*:role/aws-service-role/spot.amazonaws.com/AWSServiceRoleForEC2Spot\",\n",
    "          \"Condition\": {\n",
    "            \"StringLike\": {\n",
    "                \"iam:AWSServiceName\": \"spot.amazonaws.com\"\n",
    "            }\n",
    "          }\n",
    "        }\n",
    "      ]\n",
    "    }\n",
    "    ```\n",
    "1. Now let's click **Review policy** to get to the final page.\n",
    "1. Let's assign the name for our policy (use *dbacademy-test-cross-account-policy-novpc*).\n",
    "1. Click **Create policy**.\n",
    "1. Let's take note of the **ARN**; the account administrator will need this in order to create a credential configuration that captures this IAM role."
   ]
  },
  {
   "cell_type": "markdown",
   "metadata": {
    "application/vnd.databricks.v1+cell": {
     "cellMetadata": {},
     "inputWidgets": {},
     "nuid": "63f5be50-2fe0-4c40-908c-e9cc00c45cb6",
     "showTitle": false,
     "title": ""
    }
   },
   "source": [
    "## Creating the workspace root storage bucket\n",
    "\n",
    "As we did in the *Supporting Databricks workspaces and metastore* lab, let's create an S3 bucket to function as the workspace root storage.\n",
    "\n",
    "1. In the AWS S3 console, click **Create bucket**.\n",
    "1. Let's specify a name. When choosing your own names, be mindful to not include dots in your names (use *dbacademy-test-workspace-bucket-novpc*).\n",
    "1. Let's choose the region where we created the VPC.\n",
    "1. For this example, let's accept the default settings for the rest, and create the bucket. We will need to revisit it in a moment to add a policy."
   ]
  },
  {
   "cell_type": "markdown",
   "metadata": {
    "application/vnd.databricks.v1+cell": {
     "cellMetadata": {},
     "inputWidgets": {},
     "nuid": "7e462c96-07f1-452d-868d-c7b7bda18fd4",
     "showTitle": false,
     "title": ""
    }
   },
   "source": [
    "## Creating Databricks cloud resources\n",
    "\n",
    "With everything created on the AWS side, let's go to the Databricks account console to create the resources needed to set up a new workspace."
   ]
  },
  {
   "cell_type": "markdown",
   "metadata": {
    "application/vnd.databricks.v1+cell": {
     "cellMetadata": {},
     "inputWidgets": {},
     "nuid": "6c5b5811-9e85-4b33-9709-e65a4dc9b564",
     "showTitle": false,
     "title": ""
    }
   },
   "source": [
    "### Creating the credential configuration\n",
    "\n",
    "If you'll recall, the credential configuration is the piece that encapsulates the cross account IAM role. As we did in the *Supporting Databricks workspaces and metastores* lab, let's create a credential configuration for the cross-account IAM role we just created.\n",
    "\n",
    "1. In the account console, let's click on the **Cloud Resources** icon in the left sidebar.\n",
    "1. Let's click the **Credential configuration** tab.\n",
    "1. Let's click **Add credential configuration**.\n",
    "1. Let's provide a name for the configuration. This name will have no user visibility (use *dbacademy-test-credential-configuration-novpc*).\n",
    "1. Paste the **ARN** for the role we created moments ago.\n",
    "1. Finally, let's click **Add**."
   ]
  },
  {
   "cell_type": "markdown",
   "metadata": {
    "application/vnd.databricks.v1+cell": {
     "cellMetadata": {},
     "inputWidgets": {},
     "nuid": "a9e2da9a-6dbf-42ba-b61a-991c65aee701",
     "showTitle": false,
     "title": ""
    }
   },
   "source": [
    "### Creating a storage configuration\n",
    "\n",
    "If you'll recall, the storage configuration is the piece that encapsulates the S3 bucket that will store workspace-related objects. Let's create that now.\n",
    "\n",
    "1. Still in the **Cloud Resources** page, let's click the **Storage configuration** tab.\n",
    "1. Let's click **Add storage configuration**.\n",
    "1. Let's provide a name for the configuration. This name will have no user visibility (use *dbacademy-test-storage-configuration-novpc*).\n",
    "1. Let's enter the name for the bucket we created moments ago (*dbacademy-test-workspace-bucket-novpc*).\n",
    "1. Now we need to add a policy to that bucket. Let's click the **Generate policy** link and copy the JSON policy description.\n",
    "1. Finally, let's click **Add**.\n",
    "\n",
    "With a policy on the clipboard, let's revisit the S3 console to add that policy to the bucket we created earlier.\n",
    "\n",
    "1. In the AWS S3 console, let's find the bucket we created and select it.\n",
    "1. Let's click the **Permissions** tab.\n",
    "1. In the **Bucket policy** area, click **Edit**.\n",
    "1. Let's paste the JSON policy.\n",
    "1. Finally, let's click **Save changes**."
   ]
  },
  {
   "cell_type": "markdown",
   "metadata": {
    "application/vnd.databricks.v1+cell": {
     "cellMetadata": {},
     "inputWidgets": {},
     "nuid": "102fd103-f938-4038-84c1-ecd7b4d143d9",
     "showTitle": false,
     "title": ""
    }
   },
   "source": [
    "### Creating the network configuration\n",
    "\n",
    "The network configuration encapsulates the VPC and subnets which the workspace will use. In order to create this we will need, at a minimum, the following pieces of information related to the VPC we created earler:\n",
    "* the VPC ID\n",
    "* the IDs of the two private subnets\n",
    "* the security group ID\n",
    "\n",
    "Let's obtain that information now.\n",
    "\n",
    "1. In the VPC Management Console let's filter on our VPC.\n",
    "1. Let's take note of the VPC ID.\n",
    "1. Select **Subnets**. The 4 subnets related to our VPC are displayed. Two of these are public and two are private; we are primarily interested in the private ones for now, which can be identified by their names. Let's take note of the Subnet IDs for both.\n",
    "1. Finally, let's select **Security groups** and take note of the Security group ID.\n",
    "\n",
    "Let's return to the **Cloud Resources** page of the account console.\n",
    "\n",
    "1. In the **Network** tab, let's click **Add network configuration**.\n",
    "1. Let's provide a name for the configuration. This name will have no user visibility (use *dbacademy-test-network-configuration-ws1*).\n",
    "1. Supply the values we gathered for **VPC ID**, **Subnet IDs** and **Security group IDs**.\n",
    "1. Finally, let's click **Add**."
   ]
  },
  {
   "cell_type": "markdown",
   "metadata": {
    "application/vnd.databricks.v1+cell": {
     "cellMetadata": {},
     "inputWidgets": {},
     "nuid": "5c0ee5f3-35b1-40e1-9e40-6f869c254b6f",
     "showTitle": false,
     "title": ""
    }
   },
   "source": [
    "## Creating a workspace\n",
    "\n",
    "With all the supporting resources in place, we are now ready to create a workspace.\n",
    "\n",
    "1. In the account console, let's click on the **Workspaces** icon in the left sidebar.\n",
    "1. Let's click **Create workspace**.\n",
    "1. Let's provide the **Workspace name** (let's use *dbacademy-test-workspace-ws1* for this example).\n",
    "1. Let's fill out the **Workspace URL**.\n",
    "1. Let's choose the region that matches the region in which we created the other resources.\n",
    "1. Let's choose the credential configuration and storage configuration we created previously.\n",
    "1. Let's leave **Unity Catalog** disabled. The VPC configuration in this example does not impact the procedure for creating and setting up a metastore, which we did in the *Supporting Databricks workspaces and metastores* lab.\n",
    "1. Let's open **Advanced configurations**.\n",
    "1. For **Network configuration**, let's select the network configuration we created earlier.\n",
    "1. Finally, let's click **Save**.\n",
    "\n",
    "The workspace will take a few moments to provision. Apart from completing faster, there will no apparent difference. But remember that in this scenario, the Databricks control plane is creating the workspace under a significantly reduced set of permissions, using a VPC that we created ourselves."
   ]
  },
  {
   "cell_type": "markdown",
   "metadata": {
    "application/vnd.databricks.v1+cell": {
     "cellMetadata": {},
     "inputWidgets": {},
     "nuid": "8910353d-2239-4887-98d4-644d0f6e75ea",
     "showTitle": false,
     "title": ""
    }
   },
   "source": [
    "## Creating additional workspaces\n",
    "\n",
    "Housing multiple workspaces is a common use case for customer-managed VPCs. But it's important to note that each workspace requires two private subnets that cannot be shared. Because of this, we must:\n",
    "* Create two additional subnets in our VPC\n",
    "* Create a new network configuration (since the account console will not allow a second workspace to be created using the same network configuration)\n",
    "\n",
    "Before we proceed, note the following constraints:\n",
    "* The subnets must be private (that is, IP addresses are private, with routing to the outside provided via a NAT)\n",
    "* The subnets must be assigned an address block that doesn't overlap with any other subnets in the VPC\n",
    "* The two must be in different availability zones\n",
    "* Both must have a routing to the outside using the VPC's NAT\n",
    "\n",
    "Let's do this now."
   ]
  },
  {
   "cell_type": "markdown",
   "metadata": {
    "application/vnd.databricks.v1+cell": {
     "cellMetadata": {},
     "inputWidgets": {},
     "nuid": "ff0512f7-38c7-4886-8e4b-da78c45d8cc3",
     "showTitle": false,
     "title": ""
    }
   },
   "source": [
    "### Creating subnets\n",
    "\n",
    "Let's go ahead and create the subnets.\n",
    "\n",
    "1. In the **VPC Management Console** let's filter on our VPC.\n",
    "1. Now let's select **Subnets**. Note the IPv4 CIDR blocks of the existing subnets, for we must create two new subnets that do not overlap. Based on the standard configuration offered by the VPC wizard, *10.0.160.0/20* and *10.0.176.0/20* are available.\n",
    "1. Let's click **Create subnet**.\n",
    "1. Let's select our VPC, *dbacademy-test-vpc-us-east-1-vpc*.\n",
    "1. Let's specify a name. If we wish, we can adopt the convention used by the VPC creation wizard, or we can use a simpler approach. For the purpose of this exercise, let's simply use *my-subnet-01*.\n",
    "1. Let's select *us-east-1a* for the **Availability Zone**.\n",
    "1. Let's specify *10.0.160.0/20* for the **IPv4 CIDR block**.\n",
    "1. Now let's click **Add new subnet** to fill in information for the second subnet:\n",
    "   * *my-subnet-02* for the name\n",
    "   * *us-east-1b* for the **Availability Zone**\n",
    "   * *10.0.176.0/20* for the **IPv4 CIDR block**\n",
    "1. Finally, let's click **Create subnet**."
   ]
  },
  {
   "cell_type": "markdown",
   "metadata": {
    "application/vnd.databricks.v1+cell": {
     "cellMetadata": {},
     "inputWidgets": {},
     "nuid": "0e4e7fc4-2f4a-4622-af13-d1acb66d3e4f",
     "showTitle": false,
     "title": ""
    }
   },
   "source": [
    "#### Creating route tables\n",
    "\n",
    "The two subnets we created will by default be associated with the VPC's default route table. However this route table lacks the needed routing to the outside world to communicate\n",
    "\n",
    "According to the <a href=\"https://docs.databricks.com/administration-guide/cloud-configurations/aws/customer-managed-vpc.html#subnets\" target=\"_blank\">documentation</a>, the route table for workspace subnets must have quad-zero (0.0.0.0/0) traffic that targets a NAT Gateway or your own managed NAT device or proxy appliance.\n",
    "\n",
    "Let's set up a new route table that will accomplish this now.\n",
    "\n",
    "1. In the **VPC Management Console** let's select **Route tables**.\n",
    "1. Let's click **Create route table**.\n",
    "1. Let's specify a name. Once again, we can keep the naming simple by choosing a name like *my-route-table-01*.\n",
    "1. Let's select our VPC, *dbacademy-test-vpc-us-east-1-vpc*.\n",
    "1. Let's click **Create route table**.\n",
    "1. With the newly create table display, let's click **Edit routes**.\n",
    "1. Now let's click **Add route**.\n",
    "1. Specify *0.0.0.0/0* for the **Destination**.\n",
    "1. For the **Target**, let's select *NAT gateway*. This will present the one and only NAT gateway available in the VPC, so let's choose that.\n",
    "1. Let's click **Save changes**.\n",
    "\n",
    "With a route table configured let's associate that with one of our subnets.\n",
    "\n",
    "1. In the **VPC Management Console** let's select **Subnets**.\n",
    "1. Let's locate and select the first subnet we created (*my-subnet-01*).\n",
    "1. Select **Actions > Edit route table association**.\n",
    "1. Select the route table we just created (*my-route-table-01*) and then click **Save**.\n",
    "\n",
    "Now, let's repeat this process once more to create a similarly configured second route table, *my-route-table-02*, and associated that with *my-subnet-02*."
   ]
  },
  {
   "cell_type": "markdown",
   "metadata": {
    "application/vnd.databricks.v1+cell": {
     "cellMetadata": {},
     "inputWidgets": {},
     "nuid": "5980c922-9715-4dcc-927a-e9d2bd4b4dae",
     "showTitle": false,
     "title": ""
    }
   },
   "source": [
    "Before proceeding, let's take note of the two new subnet IDs that we will need to create a new network configuration. The VPC and security group IDs remain unchanged from before."
   ]
  },
  {
   "cell_type": "markdown",
   "metadata": {
    "application/vnd.databricks.v1+cell": {
     "cellMetadata": {},
     "inputWidgets": {},
     "nuid": "d60e927d-f745-46a2-87af-080a179af85e",
     "showTitle": false,
     "title": ""
    }
   },
   "source": [
    "### Creating a new network configuration\n",
    "\n",
    "Let's return to the **Cloud Resources** page of the account console to create a new network configuration encapsulating our new subnets.\n",
    "\n",
    "1. In the **Network** tab, let's click **Add network configuration**.\n",
    "1. Let's provide a name for the configuration (use *dbacademy-test-network-configuration-ws2*).\n",
    "1. Supply the values for **VPC ID**, the **Subnet IDs** for the two subnets we just created, and **Security group IDs**.\n",
    "1. Finally, let's click **Add**."
   ]
  },
  {
   "cell_type": "markdown",
   "metadata": {
    "application/vnd.databricks.v1+cell": {
     "cellMetadata": {},
     "inputWidgets": {},
     "nuid": "16481b4a-0c2c-4938-a06d-807cc238d748",
     "showTitle": false,
     "title": ""
    }
   },
   "source": [
    "### Creating a second workspace\n",
    "\n",
    "Finally, let's create a new workspace.\n",
    "\n",
    "1. In the account console, let's click on the **Workspaces** icon in the left sidebar.\n",
    "1. Let's click **Create workspace**.\n",
    "1. Let's provide the **Workspace name** (let's use *dbacademy-test-workspace-ws2* for this example).\n",
    "1. Let's fill out the **Workspace URL**.\n",
    "1. Let's choose the region that matches the region in which we created the other resources.\n",
    "1. Let's choose the credential configuration and storage configuration we used for the previous workspace.\n",
    "1. As before, let's leave **Unity Catalog** disabled.\n",
    "1. Let's open **Advanced configurations** and select the new network configuration.\n",
    "1. Finally, let's click **Save**.\n",
    "\n",
    "Once again, there will no apparent difference, but now the two workspaces will be sharing a VPC, its configuration, and all AWS resources within it. The ability to architect your Databricks setup in this way provides a significant amount of flexibility."
   ]
  },
  {
   "cell_type": "markdown",
   "metadata": {
    "application/vnd.databricks.v1+cell": {
     "cellMetadata": {},
     "inputWidgets": {},
     "nuid": "3f974f9d-33ac-4f4d-bbf3-aaf0bde40a1a",
     "showTitle": false,
     "title": ""
    }
   },
   "source": [
    "&copy; 2023 Databricks, Inc. All rights reserved.<br/>\n",
    "Apache, Apache Spark, Spark and the Spark logo are trademarks of the <a href=\"https://www.apache.org/\">Apache Software Foundation</a>.<br/>\n",
    "<br/>\n",
    "<a href=\"https://databricks.com/privacy-policy\">Privacy Policy</a> | <a href=\"https://databricks.com/terms-of-use\">Terms of Use</a> | <a href=\"https://help.databricks.com/\">Support</a>"
   ]
  }
 ],
 "metadata": {
  "application/vnd.databricks.v1+notebook": {
   "dashboards": [],
   "environmentMetadata": null,
   "language": "python",
   "notebookMetadata": {
    "pythonIndentUnit": 2
   },
   "notebookName": "1 Deploying a workspace in a customer-managed VPC",
   "widgets": {}
  }
 },
 "nbformat": 4,
 "nbformat_minor": 0
}
