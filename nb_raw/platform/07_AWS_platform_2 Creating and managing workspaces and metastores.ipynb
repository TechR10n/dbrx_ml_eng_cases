{
 "cells": [
  {
   "cell_type": "markdown",
   "metadata": {
    "application/vnd.databricks.v1+cell": {
     "cellMetadata": {},
     "inputWidgets": {},
     "nuid": "f5ac9dbd-965a-4bd9-ad9c-362fca84d446",
     "showTitle": false,
     "title": ""
    }
   },
   "source": [
    "\n",
    "<div style=\"text-align: center; line-height: 0; padding-top: 9px;\">\n",
    "  <img src=\"https://databricks.com/wp-content/uploads/2018/03/db-academy-rgb-1200px.png\" alt=\"Databricks Learning\" style=\"width: 600px\">\n",
    "</div>"
   ]
  },
  {
   "cell_type": "markdown",
   "metadata": {
    "application/vnd.databricks.v1+cell": {
     "cellMetadata": {},
     "inputWidgets": {},
     "nuid": "8ecea2e3-bac7-492d-a9aa-66613832d143",
     "showTitle": false,
     "title": ""
    }
   },
   "source": [
    "# Creating and managing workspaces and metastores\n",
    "\n",
    "In this lab you will learn how to use the account console to:\n",
    "* Create and manage workspaces\n",
    "* Create and manage metastores\n",
    "* Manage metastore assignments"
   ]
  },
  {
   "cell_type": "markdown",
   "metadata": {
    "application/vnd.databricks.v1+cell": {
     "cellMetadata": {},
     "inputWidgets": {},
     "nuid": "16e67e75-d267-4e77-8bfd-b80c1a621a7e",
     "showTitle": false,
     "title": ""
    }
   },
   "source": [
    "## Prerequisites\n",
    "\n",
    "If you would like to follow along with this demo, you will need:\n",
    "* account administrator capabilities in your Databricks account in order to access the account console\n",
    "* resources created as a product of performing the *Supporting Databricks workspaces and metastores* lab. Specifically, you will need:\n",
    "   * a bucket path and IAM role ARN to create a metastore\n",
    "   * a credential cofiguration and storage configuration to create a workspace "
   ]
  },
  {
   "cell_type": "markdown",
   "metadata": {
    "application/vnd.databricks.v1+cell": {
     "cellMetadata": {},
     "inputWidgets": {},
     "nuid": "1674bceb-cb05-4f87-9195-f4566cf08888",
     "showTitle": false,
     "title": ""
    }
   },
   "source": [
    "## Metastores\n",
    "\n",
    "A metastore is the top-level container of data objects in Unity Catalog, the data governance solution for the Databricks Lakehouse platform. The metastore contains metadata about your tables and, in the case of managed tables, the table data itself.\n",
    "\n",
    "Account administrators create metastores and assign them to workspaces to allow workloads in those workspaces to access the data represented in the metastore. This can be done in the account console, through REST APIs, or using an automation framework like <a href=\"https://registry.terraform.io/providers/databrickSlabs/databricks/latest/docs\" target=\"_blank\">Terraform</a>. In this demo, we will explore the creation and management of metastores interactively using the account console."
   ]
  },
  {
   "cell_type": "markdown",
   "metadata": {
    "application/vnd.databricks.v1+cell": {
     "cellMetadata": {},
     "inputWidgets": {},
     "nuid": "a85305c6-48c4-42e1-8cd4-6e01625c4666",
     "showTitle": false,
     "title": ""
    }
   },
   "source": [
    "### Creating a metastore\n",
    "\n",
    "With all the supporting resources in place, we are now ready to create a metastore.\n",
    "\n",
    "1. In the account console, let's click on the **Data** icon in the left sidebar. This will display a list of currently created metastores.\n",
    "1. Let's click **Create metastore**.\n",
    "1. Let's provide a name for the metastore. Only account administrators will have visibility into the metastore name; users will only see catalogs, schemas and other entities within the metastore. In this example I will use the name *dbacademy-test-metastore*.\n",
    "1. Since some metadata is maintained in the control plane, the **Region** setting allows us to align the storage of that metadata with the bucket backing this metastore. So let's choose the same region we used when creating the bucket backing the metastore.\n",
    "1. Specify the path of the bucket created for the metastore (for example, *s3://dbacademy-test-metastore-bucket*).\n",
    "1. Let's paste the **ARN** of the IAM role we created for the metastore bucket.\n",
    "1. Finally, let's click **Create**.\n",
    "\n",
    "From here we can assign the newly created metastore to any of the workspaces available in this account. But for now let's click **Skip** as this can be done at any time in the future.\n",
    "\n",
    "While we're here, let's configure the metastore admin property. By default, the administrator is the user who created the metastore, but it's best practice to delegate administative capabilities to a group, so let's now change this to the *metastore_admins* group."
   ]
  },
  {
   "cell_type": "markdown",
   "metadata": {
    "application/vnd.databricks.v1+cell": {
     "cellMetadata": {},
     "inputWidgets": {},
     "nuid": "a21ab4bd-0901-46ca-a67e-e60ec5cd0452",
     "showTitle": false,
     "title": ""
    }
   },
   "source": [
    "### Deleting a metastore\n",
    "\n",
    "When metastores are no longer needed, we can delete them using the account console.\n",
    "\n",
    "1. In the **Data** page, let's select the desired metastore.\n",
    "1. Click **Delete**.\n",
    "1. As this is a fairly destructive operation, we will need to confirm before proceeding. For now, let's cancel."
   ]
  },
  {
   "cell_type": "markdown",
   "metadata": {
    "application/vnd.databricks.v1+cell": {
     "cellMetadata": {},
     "inputWidgets": {},
     "nuid": "3c43cfde-4750-4ee7-9488-cf9effdca8d8",
     "showTitle": false,
     "title": ""
    }
   },
   "source": [
    "## Workspaces\n",
    "\n",
    "A Databricks workspace is an environment for accessing all of your Databricks assets. The workspace organizes objects (notebooks, libraries, and experiments) into folders, integrates revision control, and provides access to data and computational resources such as clusters and jobs. A workspace also provides access to Databricks SQL, a simple experience for SQL users who want to query, explore and visualize queries on their data lake."
   ]
  },
  {
   "cell_type": "markdown",
   "metadata": {
    "application/vnd.databricks.v1+cell": {
     "cellMetadata": {},
     "inputWidgets": {},
     "nuid": "cdf7de96-717e-45ca-8416-da79056d6dc3",
     "showTitle": false,
     "title": ""
    }
   },
   "source": [
    "## Creating a workspace\n",
    "\n",
    "With all the supporting resources in place, we are now ready to create a workspace.\n",
    "\n",
    "1. In the account console, let's click on the **Workspaces** icon in the left sidebar. This will display a list of currently created workspaces.\n",
    "1. Let's click **Create workspace**.\n",
    "1. Let's provide the **Workspace name**. This will have user visibility (let's use *dbacademy-test-workspace* for this example).\n",
    "1. Let's fill out the **Workspace URL**. If left blank, the system will choose a name though it may not be as human-readable. In this case, let's repeat the value we specified for the name.\n",
    "1. Let's choose the region that matches the region in which we created the root storage bucket.\n",
    "1. Let's choose the credential configuration and storage configuration we created previously.\n",
    "1. Ensure that **Unity Catalog** is enabled. This feature allows the workspace to be integrated with a Unity Catalog metastore, as well as the account console for identity federation.\n",
    "1. Let's choose the metastore we created previously. This can be swapped out at any time as needed.\n",
    "1. Finally, let's click **Save**.\n",
    "\n",
    "The workspace will take a few moments to provision. Once complete, the platform will issue a notication to the email address of the user who created the workspace. That same user will automatically be assigned as a workspace admin."
   ]
  },
  {
   "cell_type": "markdown",
   "metadata": {
    "application/vnd.databricks.v1+cell": {
     "cellMetadata": {},
     "inputWidgets": {},
     "nuid": "3363df70-5efb-4096-9392-92c95bbd27fb",
     "showTitle": false,
     "title": ""
    }
   },
   "source": [
    "### Deleting a workspace\n",
    "\n",
    "When workspaces are no longer needed, we can delete them using the account console.\n",
    "\n",
    "1. In the **Workspaces** page, let's locate the desired workspace (using the **Search** field, if desired).\n",
    "1. Click the three dots in the rightmost column.\n",
    "1. Select **Delete**.\n",
    "1. As this is a fairly destructive operation, we will need to confirm before proceeding. For now, let's cancel."
   ]
  },
  {
   "cell_type": "markdown",
   "metadata": {
    "application/vnd.databricks.v1+cell": {
     "cellMetadata": {},
     "inputWidgets": {},
     "nuid": "35aebbc7-ccbc-4375-b936-a51c45e73b83",
     "showTitle": false,
     "title": ""
    }
   },
   "source": [
    "### Assigning a metastore\n",
    "\n",
    "In order to use a metastore, it must be assigned to a workspace. A metastore can be assigned to multiple workspaces, though any given workspace can only have one metastore assigned to it at any given time, and the metastore and workspace must reside in the same region.\n",
    "\n",
    "1. In the **Data** page of the account console, let's choose the metastore we want to assign.\n",
    "1. Let's click the **Workspaces** tab. This displays a list of workspaces to which the metastore is currently assigned.\n",
    "1. Let's click **Assign to workspace**.\n",
    "1. Let's select the desired workspace (more can be chosen, if desired).\n",
    "1. Finally, we click **Assign**.\n",
    "\n",
    "We can detach the metastore from any currently assigned workspace.\n",
    "\n",
    "1. In the **Data** page of the account console, let's choose the metastore we want to detach.\n",
    "1. Let's click the **Workspaces** tab. This displays a list of workspaces to which the metastore is currently assigned.\n",
    "1. Let's click the three dots at the far right side of the row representing the workspace.\n",
    "1. Let's select **Remove from this metastore**.\n",
    "\n",
    "Warning: when reassigning metastores, be mindful of the impact this could have on scheduled or running jobs."
   ]
  },
  {
   "cell_type": "markdown",
   "metadata": {
    "application/vnd.databricks.v1+cell": {
     "cellMetadata": {},
     "inputWidgets": {},
     "nuid": "7e0c5d7f-24ea-4ac8-8e43-90b5df80fc72",
     "showTitle": false,
     "title": ""
    }
   },
   "source": [
    "&copy; 2023 Databricks, Inc. All rights reserved.<br/>\n",
    "Apache, Apache Spark, Spark and the Spark logo are trademarks of the <a href=\"https://www.apache.org/\">Apache Software Foundation</a>.<br/>\n",
    "<br/>\n",
    "<a href=\"https://databricks.com/privacy-policy\">Privacy Policy</a> | <a href=\"https://databricks.com/terms-of-use\">Terms of Use</a> | <a href=\"https://help.databricks.com/\">Support</a>"
   ]
  }
 ],
 "metadata": {
  "application/vnd.databricks.v1+notebook": {
   "dashboards": [],
   "environmentMetadata": null,
   "language": "python",
   "notebookMetadata": {
    "pythonIndentUnit": 2
   },
   "notebookName": "2 Creating and managing workspaces and metastores",
   "widgets": {}
  }
 },
 "nbformat": 4,
 "nbformat_minor": 0
}
