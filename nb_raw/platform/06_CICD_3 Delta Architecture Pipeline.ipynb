{
 "cells": [
  {
   "cell_type": "code",
   "execution_count": 0,
   "metadata": {
    "application/vnd.databricks.v1+cell": {
     "cellMetadata": {},
     "inputWidgets": {},
     "nuid": "ebcf710f-fbbf-409e-a5c6-14b3a0853e66",
     "showTitle": false,
     "title": ""
    }
   },
   "outputs": [],
   "source": [
    "# INCLUDE_HEADER_TRUE\n",
    "# INCLUDE_FOOTER_TRUE"
   ]
  },
  {
   "cell_type": "markdown",
   "metadata": {
    "application/vnd.databricks.v1+cell": {
     "cellMetadata": {},
     "inputWidgets": {},
     "nuid": "8f91088c-a077-405f-8f2a-831b7ece1865",
     "showTitle": false,
     "title": ""
    }
   },
   "source": [
    "# Overview\n",
    "\n",
    "This notebook constitutes a Delta Live Tables implementation of *Building automating a Data Pipeline*. This notebook is intended to be run as a DLT pipeline, not interactively.\n",
    "\n",
    "The result will consist of the following collection of tables:\n",
    "* A bronze table that ingests raw data\n",
    "* A silver table representing the bronze table with a cleaned up schema and basic standardization of the column values\n",
    "* A couple gold tables performing various aggregations against the silver table\n",
    "\n",
    "The dataset is provided as part of the collection of Databricks sample datasets and contains information related to movie productions."
   ]
  },
  {
   "cell_type": "code",
   "execution_count": 0,
   "metadata": {
    "application/vnd.databricks.v1+cell": {
     "cellMetadata": {},
     "inputWidgets": {},
     "nuid": "29d81514-cd01-4cc3-b9a2-2d78af44a3c8",
     "showTitle": false,
     "title": ""
    }
   },
   "outputs": [],
   "source": [
    "import dlt\n",
    "from pyspark.sql.functions import *\n",
    "from pyspark.sql.types import *\n",
    "\n",
    "@dlt.table(\n",
    "  comment=\"The raw movie dataset, ingested from /databricks-datasets.\"\n",
    ")\n",
    "def bronze_movies():\n",
    "  return (spark.read.format(\"csv\")\n",
    "          .option(\"header\", \"true\")\n",
    "          .option(\"sep\", \",\")\n",
    "          .load(\"/databricks-datasets/Rdatasets/data-001/csv/ggplot2/movies.csv\"))\n",
    "\n",
    "@dlt.table(\n",
    "  comment=\"Cleaned up schema and imposed some standards on the data.\"\n",
    ")\n",
    "@dlt.expect(\"valid_mpaa_rating\", \"mpaa IN ('NR','G','PG','PG-13','R','NC-17')\")\n",
    "def silver_movies():\n",
    "  return (\n",
    "    dlt.read(\"bronze_movies\")\n",
    "      .withColumnRenamed(\"_c0\", \"idx\")\n",
    "      .withColumn(\"year\", expr(\"CAST(year AS INT)\"))\n",
    "      .withColumn(\"length\", expr(\"CAST(length AS INT)\"))\n",
    "      .withColumn(\"budget\", expr(\"CASE WHEN budget = 'NA' THEN 0 ELSE CAST(budget AS INT) END\"))\n",
    "      .withColumn(\"rating\", expr(\"CAST(rating AS DOUBLE)\"))\n",
    "      .withColumn(\"votes\", expr(\"CAST(votes AS INT)\"))\n",
    "      .withColumn(\"mpaa\", expr(\"CASE WHEN mpaa is null THEN 'NR' ELSE mpaa END\"))\n",
    "      .withColumn(\"Action\", expr(\"CAST(Action AS BOOLEAN)\"))\n",
    "      .withColumn(\"Comedy\", expr(\"CAST(Comedy AS BOOLEAN)\"))\n",
    "      .withColumn(\"Drama\", expr(\"CAST(Drama AS BOOLEAN)\"))\n",
    "      .withColumn(\"Documentary\", expr(\"CAST(Documentary AS BOOLEAN)\"))\n",
    "      .withColumn(\"Romance\", expr(\"CAST(Romance AS BOOLEAN)\"))\n",
    "      .withColumn(\"Short\", expr(\"CAST(Short AS BOOLEAN)\"))\n",
    "      .select(\"year\", \"title\", \"length\", \"budget\", \"rating\", \"votes\", \"mpaa\", \"Action\", \"Drama\", \"Documentary\", \"Romance\", \"Short\")\n",
    "  )\n",
    "\n",
    "@dlt.table(\n",
    "  comment=\"Average production budget year over year.\"\n",
    ")\n",
    "def gold_average_budget_by_year():\n",
    "  return (\n",
    "    dlt.read(\"silver_movies\")\n",
    "      .filter(expr(\"budget > 0\"))\n",
    "      .groupBy(\"year\")\n",
    "      .agg(avg(\"budget\").alias(\"average_budget\"))\n",
    "      .orderBy(\"year\")\n",
    "      .select(\"year\", \"average_budget\")\n",
    "  )\n",
    "\n",
    "@dlt.table(\n",
    "  comment=\"Average production count year over year.\"\n",
    ")\n",
    "def gold_movies_made_by_year():\n",
    "  return (\n",
    "    dlt.read(\"silver_movies\")\n",
    "      .groupBy(\"year\")\n",
    "      .agg(sum(\"year\").alias(\"movies_made\"))\n",
    "      .orderBy(\"year\")\n",
    "      .select(\"year\", \"movies_made\")\n",
    "  )"
   ]
  }
 ],
 "metadata": {
  "application/vnd.databricks.v1+notebook": {
   "dashboards": [],
   "environmentMetadata": null,
   "language": "python",
   "notebookMetadata": {
    "pythonIndentUnit": 2
   },
   "notebookName": "3 Delta Architecture Pipeline",
   "widgets": {}
  }
 },
 "nbformat": 4,
 "nbformat_minor": 0
}
