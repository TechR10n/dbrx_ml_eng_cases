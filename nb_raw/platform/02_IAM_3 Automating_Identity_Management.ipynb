{
 "cells": [
  {
   "cell_type": "code",
   "execution_count": 0,
   "metadata": {
    "application/vnd.databricks.v1+cell": {
     "cellMetadata": {},
     "inputWidgets": {},
     "nuid": "24cabeb3-6bc3-4266-ad8e-ce7ff6c1a1f4",
     "showTitle": false,
     "title": ""
    }
   },
   "outputs": [],
   "source": [
    "# INCLUDE_HEADER_TRUE\n",
    "# INCLUDE_FOOTER_TRUE"
   ]
  },
  {
   "cell_type": "markdown",
   "metadata": {
    "application/vnd.databricks.v1+cell": {
     "cellMetadata": {},
     "inputWidgets": {},
     "nuid": "65900a90-8462-44dd-89bd-936f050a3794",
     "showTitle": false,
     "title": ""
    }
   },
   "source": [
    "# Automating identity management\n",
    "\n",
    "In this lab you will learn how to:\n",
    "* Remotely administer account level users and groups using the SCIM API"
   ]
  },
  {
   "cell_type": "markdown",
   "metadata": {
    "application/vnd.databricks.v1+cell": {
     "cellMetadata": {},
     "inputWidgets": {},
     "nuid": "ae303717-8a57-4c8a-bdd0-cdd1edea4b35",
     "showTitle": false,
     "title": ""
    }
   },
   "source": [
    "##Prerequisites\n",
    "\n",
    "If you would like to follow along with this lab, you will need account administrator capabilities over your Databricks account."
   ]
  },
  {
   "cell_type": "markdown",
   "metadata": {
    "application/vnd.databricks.v1+cell": {
     "cellMetadata": {},
     "inputWidgets": {},
     "nuid": "92233e97-8f04-4485-a716-6d69098c5a71",
     "showTitle": false,
     "title": ""
    }
   },
   "source": [
    "## Overview\n",
    "\n",
    "Databricks exposes all its major functionality as a collection of REST APIs. In this lab, we will focus on using the SCIM API to remotely create and delete users, service principals and groups.\n",
    "\n",
    "There are a number of ways to apply usage of this API:\n",
    "\n",
    "* Implement code that uses a low level web access API (like Python's **requests** module for example) to issue REST calls and interpret the results\n",
    "* Use a client that provides low level web access (like **curl**, **wget** or **Postman**) to issue calls and view the results\n",
    "* Integrate a higher level automation framework that supports SCIM. SCIM is an open standard implemented by many identity provider frameworks. For general info on SCIM, refer to the <a href=\"http://www.simplecloud.info/\" target=\"_blank\">SCIM website</a>.\n",
    "\n",
    "Regardless of which approach you take to hook into your Databricks account using SCIM, you need the following:\n",
    "* The URL of the Databricks SCIM interface. This is the top-level URL on which all API endpoints are based.\n",
    "* A SCIM token for authenticating with the server.\n",
    "\n",
    "Depending on the operation, you may need to specify additional data to fulfill the request."
   ]
  },
  {
   "cell_type": "markdown",
   "metadata": {
    "application/vnd.databricks.v1+cell": {
     "cellMetadata": {},
     "inputWidgets": {},
     "nuid": "124ef4ed-4111-4b6c-a02d-3503be5b973d",
     "showTitle": false,
     "title": ""
    }
   },
   "source": [
    "## Setup\n",
    "\n",
    "In order to invoke the Databricks account SCIM API, we need:\n",
    "* To enable user provisioning\n",
    "* The SCIM API URL, which includes your Databricks account URL and account ID\n",
    "* A SCIM token\n",
    "\n",
    "Run the following cell to create a landing zone for the needed inputs, then follow the instructions below."
   ]
  },
  {
   "cell_type": "code",
   "execution_count": 0,
   "metadata": {
    "application/vnd.databricks.v1+cell": {
     "cellMetadata": {},
     "inputWidgets": {},
     "nuid": "df933b69-afeb-42a3-bc15-e2b7e9eac72d",
     "showTitle": false,
     "title": ""
    }
   },
   "outputs": [],
   "source": [
    "dbutils.widgets.text(name='url', defaultValue='')\n",
    "dbutils.widgets.text(name='token', defaultValue='')\n",
    "\n",
    "import os\n",
    "os.environ[\"DBACADEMY_SCIM_TOKEN\"] = f\"Authorization: Bearer {dbutils.widgets.get('token')}\"\n",
    "os.environ[\"DBACADEMY_SCIM_URL\"] = dbutils.widgets.get('url')"
   ]
  },
  {
   "cell_type": "markdown",
   "metadata": {
    "application/vnd.databricks.v1+cell": {
     "cellMetadata": {},
     "inputWidgets": {},
     "nuid": "ed6695a0-c63c-4c37-870f-6f47a53a83eb",
     "showTitle": false,
     "title": ""
    }
   },
   "source": [
    "Now let's populate the two fields as follows.\n",
    "\n",
    "1. In the account console, click **Settings** in the left sidebar.\n",
    "1. Select the **User provisioning** tab.\n",
    "1. Enable user provisioning, if it isn't already enabled.\n",
    "1. Click **Regenerate token**, copy the resulting token to the clipboard, click **Done** and paste the token to the *token* field.\n",
    "1. Copy the value for **Account SCIM URL** into the *url* field\n",
    "\n",
    "Pasting these values into their associated fields will automatically trigger the previous cell, which will populate OS environment variables that will be used by the commands throughout this lab."
   ]
  },
  {
   "cell_type": "markdown",
   "metadata": {
    "application/vnd.databricks.v1+cell": {
     "cellMetadata": {},
     "inputWidgets": {},
     "nuid": "959288eb-60fb-48d5-86f0-e70c260d0919",
     "showTitle": false,
     "title": ""
    }
   },
   "source": [
    "## Users and service principals\n",
    "\n",
    "In the lab *Managing Account Identities*, we saw how to manage users and service prinicpals using the account console. Let's perform a similar set of tasks using the SCIM API. For more info, refer to the <a href=\"https://docs.databricks.com/dev-tools/api/latest/scim/account-scim.html\" target=\"_blank\">Account SCIM API documentation</a>."
   ]
  },
  {
   "cell_type": "markdown",
   "metadata": {
    "application/vnd.databricks.v1+cell": {
     "cellMetadata": {},
     "inputWidgets": {},
     "nuid": "1f5b2526-c927-4950-a8b3-665772e75d6f",
     "showTitle": false,
     "title": ""
    }
   },
   "source": [
    "### Querying users\n",
    "Let's get a list of users in the account."
   ]
  },
  {
   "cell_type": "code",
   "execution_count": 0,
   "metadata": {
    "application/vnd.databricks.v1+cell": {
     "cellMetadata": {},
     "inputWidgets": {},
     "nuid": "e76cd1f0-8286-410f-9e2b-67478322acf6",
     "showTitle": false,
     "title": ""
    }
   },
   "outputs": [],
   "source": [
    "%sh curl -s -X GET -H \"${DBACADEMY_SCIM_TOKEN}\" \"${DBACADEMY_SCIM_URL}/Users\" | json_pp"
   ]
  },
  {
   "cell_type": "markdown",
   "metadata": {
    "application/vnd.databricks.v1+cell": {
     "cellMetadata": {},
     "inputWidgets": {},
     "nuid": "da9e439e-f0e4-4dd5-9a70-c589f1a1d96e",
     "showTitle": false,
     "title": ""
    }
   },
   "source": [
    "We can get an expanded view of a specific user. From the output above, identify a user and copy the value for *id*. Substitute that value for *ID* in the following cell and run it."
   ]
  },
  {
   "cell_type": "code",
   "execution_count": 0,
   "metadata": {
    "application/vnd.databricks.v1+cell": {
     "cellMetadata": {},
     "inputWidgets": {},
     "nuid": "813b3db2-97f6-4aaf-bbcc-062486eebc3d",
     "showTitle": false,
     "title": ""
    }
   },
   "outputs": [],
   "source": [
    "%sh curl -s -X GET -H \"${DBACADEMY_SCIM_TOKEN}\" \"${DBACADEMY_SCIM_URL}/Users/ID\" | json_pp"
   ]
  },
  {
   "cell_type": "markdown",
   "metadata": {
    "application/vnd.databricks.v1+cell": {
     "cellMetadata": {},
     "inputWidgets": {},
     "nuid": "7ebb302d-ea96-4c15-9345-31b2ed5952de",
     "showTitle": false,
     "title": ""
    }
   },
   "source": [
    "### Creating a user\n",
    "Let 's add a new user to our account. For this we need to **`POST`** to the same endpoint that we queried earlier. We'll need to specify JSON data describing the new user; at a minimum, a *userName*. Using a combination of shell features, we are inlining the JSON data below the command itself.\n",
    "\n",
    "For the purposes of this training exercise, I am using a temporary email address courtesy of <a href=\"https://www.dispostable.com/\" target=\"_blank\">dispostable.com</a>. When following along, feel free to use an email address of your choosing."
   ]
  },
  {
   "cell_type": "code",
   "execution_count": 0,
   "metadata": {
    "application/vnd.databricks.v1+cell": {
     "cellMetadata": {},
     "inputWidgets": {},
     "nuid": "2a0f732b-3d65-4fe9-b085-14626e71e7d0",
     "showTitle": false,
     "title": ""
    }
   },
   "outputs": [],
   "source": [
    "%sh cat << EOF | curl -s -X POST -H \"${DBACADEMY_SCIM_TOKEN}\" -H \"Content-type: text/json\" \"${DBACADEMY_SCIM_URL}/Users\" -d @- | json_pp\n",
    "{\n",
    "  \"userName\": \"dbanalyst0906_curl@dispostable.com\"\n",
    "}\n",
    "EOF"
   ]
  },
  {
   "cell_type": "markdown",
   "metadata": {
    "application/vnd.databricks.v1+cell": {
     "cellMetadata": {},
     "inputWidgets": {},
     "nuid": "e9b4ea78-9dfb-4d6e-8c91-04433d83bd57",
     "showTitle": false,
     "title": ""
    }
   },
   "source": [
    "As we would expect when creating a user in the account console, the new user will be issued an email inviting them to join and set their password.\n",
    "\n",
    "As a reminder, this operation creates an identity at the account level only. This user will not be able to access Databricks services yet since they have not been assigned to any workspaces."
   ]
  },
  {
   "cell_type": "markdown",
   "metadata": {
    "application/vnd.databricks.v1+cell": {
     "cellMetadata": {},
     "inputWidgets": {},
     "nuid": "aed07d0e-b912-45e5-b657-f09f9ef6a521",
     "showTitle": false,
     "title": ""
    }
   },
   "source": [
    "### Querying service principals\n",
    "Let's get a list of service principals in the account."
   ]
  },
  {
   "cell_type": "code",
   "execution_count": 0,
   "metadata": {
    "application/vnd.databricks.v1+cell": {
     "cellMetadata": {},
     "inputWidgets": {},
     "nuid": "fe4b63ac-1545-4d98-85ec-27bb7d94c959",
     "showTitle": false,
     "title": ""
    }
   },
   "outputs": [],
   "source": [
    "%sh curl -s -X GET -H \"${DBACADEMY_SCIM_TOKEN}\" \"${DBACADEMY_SCIM_URL}/ServicePrincipals\" | json_pp"
   ]
  },
  {
   "cell_type": "markdown",
   "metadata": {
    "application/vnd.databricks.v1+cell": {
     "cellMetadata": {},
     "inputWidgets": {},
     "nuid": "d186306f-4c98-496d-9d0f-87402585436f",
     "showTitle": false,
     "title": ""
    }
   },
   "source": [
    "We can get a view of a specific service principal. From the output above, identify a service principal and copy the value for *id* (not *applicationId*). Substitute that value for *ID* in the following cell and run it."
   ]
  },
  {
   "cell_type": "code",
   "execution_count": 0,
   "metadata": {
    "application/vnd.databricks.v1+cell": {
     "cellMetadata": {},
     "inputWidgets": {},
     "nuid": "47369e1d-a34e-4d5e-99bd-50fa4d62c31c",
     "showTitle": false,
     "title": ""
    }
   },
   "outputs": [],
   "source": [
    "%sh curl -s -X GET -H \"${DBACADEMY_SCIM_TOKEN}\" \"${DBACADEMY_SCIM_URL}/ServicePrincipals/ID\" | json_pp"
   ]
  },
  {
   "cell_type": "markdown",
   "metadata": {
    "application/vnd.databricks.v1+cell": {
     "cellMetadata": {},
     "inputWidgets": {},
     "nuid": "1e119562-0666-4753-8446-d24e7b959918",
     "showTitle": false,
     "title": ""
    }
   },
   "source": [
    "### Creating a service principal\n",
    "Let 's add a new service principal to our account. For this we need to **`POST`** to the same endpoint that we queried earlier. We need to specify JSON data describing the new service principal; at a minimum, a *displayName*. To do this we'll apply the same pattern we used earlier."
   ]
  },
  {
   "cell_type": "code",
   "execution_count": 0,
   "metadata": {
    "application/vnd.databricks.v1+cell": {
     "cellMetadata": {},
     "inputWidgets": {},
     "nuid": "aff37a13-bb54-4338-b514-d69e03a69f25",
     "showTitle": false,
     "title": ""
    }
   },
   "outputs": [],
   "source": [
    "%sh cat << EOF | curl -s -X POST -H \"${DBACADEMY_SCIM_TOKEN}\" -H \"Content-type: text/json\" \"${DBACADEMY_SCIM_URL}/ServicePrincipals\" -d @- | json_pp\n",
    "{\n",
    "  \"displayName\": \"service_principal_curl\"\n",
    "}\n",
    "EOF"
   ]
  },
  {
   "cell_type": "markdown",
   "metadata": {
    "application/vnd.databricks.v1+cell": {
     "cellMetadata": {},
     "inputWidgets": {},
     "nuid": "1f05fe4f-6d1a-4f1f-b169-5f6e73c514a1",
     "showTitle": false,
     "title": ""
    }
   },
   "source": [
    "## Groups\n",
    "\n",
    "Now that we know the basics of querying and creating users and service principals, let's turn our attention to groups."
   ]
  },
  {
   "cell_type": "markdown",
   "metadata": {
    "application/vnd.databricks.v1+cell": {
     "cellMetadata": {},
     "inputWidgets": {},
     "nuid": "f588a648-70dc-4ddb-a826-b8c99c361370",
     "showTitle": false,
     "title": ""
    }
   },
   "source": [
    "### Querying groups\n",
    "Let's get a list of groups in the account."
   ]
  },
  {
   "cell_type": "code",
   "execution_count": 0,
   "metadata": {
    "application/vnd.databricks.v1+cell": {
     "cellMetadata": {},
     "inputWidgets": {},
     "nuid": "f96cb616-9fd4-4239-bd72-9b869afd40b6",
     "showTitle": false,
     "title": ""
    }
   },
   "outputs": [],
   "source": [
    "%sh curl -s -X GET -H \"${DBACADEMY_SCIM_TOKEN}\" \"${DBACADEMY_SCIM_URL}/Groups\" | json_pp"
   ]
  },
  {
   "cell_type": "markdown",
   "metadata": {
    "application/vnd.databricks.v1+cell": {
     "cellMetadata": {},
     "inputWidgets": {},
     "nuid": "9876fb0a-fa31-4548-8700-38318c94cd47",
     "showTitle": false,
     "title": ""
    }
   },
   "source": [
    "We can get a view of a specific group. From the output above, identify a group and copy the value for *id*. Substitute that value for *ID* in the following cell and run it."
   ]
  },
  {
   "cell_type": "code",
   "execution_count": 0,
   "metadata": {
    "application/vnd.databricks.v1+cell": {
     "cellMetadata": {},
     "inputWidgets": {},
     "nuid": "ee86e498-7010-4304-8546-fb368c37f68f",
     "showTitle": false,
     "title": ""
    }
   },
   "outputs": [],
   "source": [
    "%sh curl -s -X GET -H \"${DBACADEMY_SCIM_TOKEN}\" \"${DBACADEMY_SCIM_URL}/Groups/ID\" | json_pp"
   ]
  },
  {
   "cell_type": "markdown",
   "metadata": {
    "application/vnd.databricks.v1+cell": {
     "cellMetadata": {},
     "inputWidgets": {},
     "nuid": "c7bbf009-4988-4696-b6a1-bfa146c017c7",
     "showTitle": false,
     "title": ""
    }
   },
   "source": [
    "### Creating a group\n",
    "Let 's add a new group to our account. For this we need to **`POST`** to the same endpoint that we queried earlier. We'll need to specify JSON data describing the new group; at a minimum, a *displayName*. To do this we'll apply the same pattern we used earlier."
   ]
  },
  {
   "cell_type": "code",
   "execution_count": 0,
   "metadata": {
    "application/vnd.databricks.v1+cell": {
     "cellMetadata": {},
     "inputWidgets": {},
     "nuid": "2b3d21b6-4f7c-4e5d-8141-97ebfe9b47ff",
     "showTitle": false,
     "title": ""
    }
   },
   "outputs": [],
   "source": [
    "%sh cat << EOF | curl -s -X POST -H \"${DBACADEMY_SCIM_TOKEN}\" -H \"Content-type: text/json\" \"${DBACADEMY_SCIM_URL}/Groups\" -d @- | json_pp\n",
    "{\n",
    "  \"displayName\": \"group_curl\"\n",
    "}\n",
    "EOF"
   ]
  },
  {
   "cell_type": "markdown",
   "metadata": {
    "application/vnd.databricks.v1+cell": {
     "cellMetadata": {},
     "inputWidgets": {},
     "nuid": "6c8b5536-7bc6-45db-91d3-d02a14f24319",
     "showTitle": false,
     "title": ""
    }
   },
   "source": [
    "This creates an empty group. The API allows you to specify members at create time, but we'll see how to do this in a separate call now."
   ]
  },
  {
   "cell_type": "markdown",
   "metadata": {
    "application/vnd.databricks.v1+cell": {
     "cellMetadata": {},
     "inputWidgets": {},
     "nuid": "7045e86d-aae0-4f97-87b7-b7252b0b2eb2",
     "showTitle": false,
     "title": ""
    }
   },
   "source": [
    "### Adding group members\n",
    "Let's add a the user and service principal we created earlier to this new group. For this we need to **`PATCH`** the group-specific endpoint. The JSON data required to support this operation is a little more complex than the previous examples, and we'll need to perform three substitutions before executing the following cell:\n",
    "* Replace *GROUP* with the *id* value from the group creation output\n",
    "* Replace *USER* with the *id* value from the user creation output\n",
    "* Replace *SERVICEPRINCIPAL* with the *id* value from the service principal creation output"
   ]
  },
  {
   "cell_type": "code",
   "execution_count": 0,
   "metadata": {
    "application/vnd.databricks.v1+cell": {
     "cellMetadata": {},
     "inputWidgets": {},
     "nuid": "277890bf-c230-4562-8377-c360c501d7db",
     "showTitle": false,
     "title": ""
    }
   },
   "outputs": [],
   "source": [
    "%sh cat << EOF | curl -s -X PATCH -H \"${DBACADEMY_SCIM_TOKEN}\" -H \"Content-type: text/json\" \"${DBACADEMY_SCIM_URL}/Groups/GROUP\" -d @- | json_pp\n",
    "{\n",
    "  \"Operations\": [\n",
    "    {\n",
    "      \"op\": \"add\",\n",
    "      \"value\": {\n",
    "        \"members\": [\n",
    "          {\n",
    "            \"value\": \"USER\"\n",
    "          },\n",
    "          {\n",
    "            \"value\": \"SERVICEPRINCIPAL\"\n",
    "          }\n",
    "        ]\n",
    "      }\n",
    "    }\n",
    "  ]\n",
    "}\n",
    "EOF"
   ]
  },
  {
   "cell_type": "markdown",
   "metadata": {
    "application/vnd.databricks.v1+cell": {
     "cellMetadata": {},
     "inputWidgets": {},
     "nuid": "edc2b37a-019a-4816-906b-27e6c1029fdd",
     "showTitle": false,
     "title": ""
    }
   },
   "source": [
    "### Removing group members\n",
    "Removing members from a group is done with a similar **`PATCH`** operation, but the JSON syntax is different. Let's see this in action by removing the service principal from the group. We'll need to perform two substitutions before executing the following cell:\n",
    "* Replace *GROUP* with the *id* value from the group creation output\n",
    "* Replace *SERVICEPRINCIPAL* with the *id* value from the service principal creation output"
   ]
  },
  {
   "cell_type": "code",
   "execution_count": 0,
   "metadata": {
    "application/vnd.databricks.v1+cell": {
     "cellMetadata": {},
     "inputWidgets": {},
     "nuid": "c3db65c3-2f72-4346-9201-834ab0d3a474",
     "showTitle": false,
     "title": ""
    }
   },
   "outputs": [],
   "source": [
    "%sh cat << EOF | curl -s -X PATCH -H \"${DBACADEMY_SCIM_TOKEN}\" -H \"Content-type: text/json\" \"${DBACADEMY_SCIM_URL}/Groups/GROUP\" -d @- | json_pp\n",
    "{\n",
    "  \"Operations\": [\n",
    "    {\n",
    "      \"op\": \"remove\",\n",
    "      \"path\": \"members[value eq \\\"SERVICEPRINCIPAL\\\"]\"\n",
    "    }\n",
    "  ]\n",
    "}\n",
    "EOF"
   ]
  },
  {
   "cell_type": "markdown",
   "metadata": {
    "application/vnd.databricks.v1+cell": {
     "cellMetadata": {},
     "inputWidgets": {},
     "nuid": "186f3e86-b6f8-4e95-a2ee-2781a620645b",
     "showTitle": false,
     "title": ""
    }
   },
   "source": [
    "## Cleanup\n",
    "\n",
    "Let's now explore how to remove principals by cleaning up those that we created in this lab."
   ]
  },
  {
   "cell_type": "markdown",
   "metadata": {
    "application/vnd.databricks.v1+cell": {
     "cellMetadata": {},
     "inputWidgets": {},
     "nuid": "2b7d0b7c-752a-430b-93d1-e2c1258a1c69",
     "showTitle": false,
     "title": ""
    }
   },
   "source": [
    "### Deleting groups\n",
    "Let's delete the group we created. For this we use **`DELETE`** against the same endpoint that we used earlier for adding and removing members. Replace *GROUP* with the *id* value from the group creation output.\n",
    "\n",
    "Note that this only deletes the group but leaves its members behind. We will delete those explicitly."
   ]
  },
  {
   "cell_type": "code",
   "execution_count": 0,
   "metadata": {
    "application/vnd.databricks.v1+cell": {
     "cellMetadata": {},
     "inputWidgets": {},
     "nuid": "a4b597bf-42d1-4a80-ae5c-791977e33a3d",
     "showTitle": false,
     "title": ""
    }
   },
   "outputs": [],
   "source": [
    "%sh curl -s -X DELETE -H \"${DBACADEMY_SCIM_TOKEN}\" \"${DBACADEMY_SCIM_URL}/Groups/GROUP\" "
   ]
  },
  {
   "cell_type": "markdown",
   "metadata": {
    "application/vnd.databricks.v1+cell": {
     "cellMetadata": {},
     "inputWidgets": {},
     "nuid": "b0dd811d-5235-48c4-9ef3-9613adb5b1f3",
     "showTitle": false,
     "title": ""
    }
   },
   "source": [
    "### Deleting users\n",
    "Let's delete the user we created. Again we use **`DELETE`** against the same endpoint we'd use to query a user. Replace *USER* with the *id* value from the user creation output."
   ]
  },
  {
   "cell_type": "code",
   "execution_count": 0,
   "metadata": {
    "application/vnd.databricks.v1+cell": {
     "cellMetadata": {},
     "inputWidgets": {},
     "nuid": "33f2a6ed-4715-442c-933d-bb76d28eaf53",
     "showTitle": false,
     "title": ""
    }
   },
   "outputs": [],
   "source": [
    "%sh curl -s -X DELETE -H \"${DBACADEMY_SCIM_TOKEN}\" \"${DBACADEMY_SCIM_URL}/Users/USER\" "
   ]
  },
  {
   "cell_type": "markdown",
   "metadata": {
    "application/vnd.databricks.v1+cell": {
     "cellMetadata": {},
     "inputWidgets": {},
     "nuid": "c7b15623-a114-4deb-88d2-9738cf1018c7",
     "showTitle": false,
     "title": ""
    }
   },
   "source": [
    "### Deleting service principals\n",
    "Finally, let's delete the service principal we created. Again we use **`DELETE`** against the same endpoint we'd use to query a service principal. Replace *SERVICEPRINCIPAL* with the *id* value from the service principal creation output."
   ]
  },
  {
   "cell_type": "code",
   "execution_count": 0,
   "metadata": {
    "application/vnd.databricks.v1+cell": {
     "cellMetadata": {},
     "inputWidgets": {},
     "nuid": "cef2e458-c544-43a4-ba98-a1d64be35418",
     "showTitle": false,
     "title": ""
    }
   },
   "outputs": [],
   "source": [
    "%sh curl -s -X DELETE -H \"${DBACADEMY_SCIM_TOKEN}\" \"${DBACADEMY_SCIM_URL}/ServicePrincipals/SERVICEPRINCIPAL\" "
   ]
  }
 ],
 "metadata": {
  "application/vnd.databricks.v1+notebook": {
   "dashboards": [],
   "environmentMetadata": null,
   "language": "python",
   "notebookMetadata": {
    "pythonIndentUnit": 2
   },
   "notebookName": "3 Automating Identity Management",
   "widgets": {}
  }
 },
 "nbformat": 4,
 "nbformat_minor": 0
}
