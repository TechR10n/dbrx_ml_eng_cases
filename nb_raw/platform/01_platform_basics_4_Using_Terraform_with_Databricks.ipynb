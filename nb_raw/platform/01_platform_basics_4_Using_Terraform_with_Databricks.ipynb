{
 "cells": [
  {
   "cell_type": "code",
   "execution_count": 0,
   "metadata": {
    "application/vnd.databricks.v1+cell": {
     "cellMetadata": {},
     "inputWidgets": {},
     "nuid": "3a591ba0-6770-406e-9246-31979fcdbb39",
     "showTitle": false,
     "title": ""
    }
   },
   "outputs": [],
   "source": [
    "# INCLUDE_HEADER_TRUE\n",
    "# INCLUDE_FOOTER_TRUE"
   ]
  },
  {
   "cell_type": "markdown",
   "metadata": {
    "application/vnd.databricks.v1+cell": {
     "cellMetadata": {},
     "inputWidgets": {},
     "nuid": "467db806-02a0-4f43-9abb-2ab8468ce033",
     "showTitle": false,
     "title": ""
    }
   },
   "source": [
    "# Using Terraform with Databricks\n",
    "\n",
    "In this lab you will learn how to:\n",
    "* Install and configure open source Terraform\n",
    "* Remotely administer Databricks using open source Terraform and Terraform Cloud"
   ]
  },
  {
   "cell_type": "markdown",
   "metadata": {
    "application/vnd.databricks.v1+cell": {
     "cellMetadata": {},
     "inputWidgets": {},
     "nuid": "cfc90f67-6e3e-4611-ae33-3c89a1ed9e21",
     "showTitle": false,
     "title": ""
    }
   },
   "source": [
    "##Prerequisites\n",
    "\n",
    "If you would like to follow along with this lab, you will need access to a cluster with *Single user* access mode. The *Shared* access mode does not support the operations required by this lab."
   ]
  },
  {
   "cell_type": "markdown",
   "metadata": {
    "application/vnd.databricks.v1+cell": {
     "cellMetadata": {},
     "inputWidgets": {},
     "nuid": "add9bf6f-2ffd-4f51-9492-e2ae81d77fbc",
     "showTitle": false,
     "title": ""
    }
   },
   "source": [
    "## Overview\n",
    "\n",
    "Terraform is a software tool that allows you to define infrastructure as code. Terraform integrates with hundreds of upstream APIs including Databricks. Most of the resources exposed by Databricks APIs can be managed with Terraform.\n",
    "\n",
    "Terraform is accessible in two ways:\n",
    "* A free, open source self-managed tool available in binary form that can be run in a variety of operating systems\n",
    "* A managed SaaS platform known as **Terraform Cloud** that offers free and paid tiers\n",
    "\n",
    "We will explore both options in this lab, but we'll starting with the self-managed version. During that time, we'll also get acquainted with the constructs of a Terraform environment and its operation, before seeing how it all fits in with Terraform Cloud."
   ]
  },
  {
   "cell_type": "markdown",
   "metadata": {
    "application/vnd.databricks.v1+cell": {
     "cellMetadata": {},
     "inputWidgets": {},
     "nuid": "1e9160f3-7268-4a84-969b-ee6929126879",
     "showTitle": false,
     "title": ""
    }
   },
   "source": [
    "## Open source Terraform\n",
    "\n",
    "Hashicorp offers a completely free version of Terraform that you download and manage on your own. Users typically install it in their own environment, where they can invoke it manually or integrate it with upstream CI/CD processes. In this lab, we will take advantage of the execution environment provided by the attached all-purpose cluster for the purpose of demonstrating installation and usage.\n",
    "\n",
    "When managing Terraform on your own, there's a couple important considerations to keep in mind. The details of these fall outside the scope of this lab, but we mention them here so that you will be aware of them if you choose to go down this route.\n",
    "\n",
    "* **Configuration files:** Terraform configurations are defined by a collection of text files written in Terraform language. Since this is infrastructure as code, these files should be treated like any other code. It's definitely a good idea to manage them using revision control.\n",
    "* **Authentication:** because Terraform uses Databricks APIs, it needs authentication credentials. If you happen to be using the Databricks CLI in the same environment, Terraform can use its authentication setup. Otherwise, environment variables are generally considered the safest option. As a final resort, credentials can be embedded in the configuration files themselves, but be careful with this since it's easy to inadvertently distribute to others directly or through revision control.\n",
    "* **State management:** Terraform tracks and records the current state of the system using a *backend*, and this part is crucial for Terraform to function correctly and reliably. The backend storage must be persistent (at least for the life of the resources it manages) and accessible by all who may be managing the configuration."
   ]
  },
  {
   "cell_type": "markdown",
   "metadata": {
    "application/vnd.databricks.v1+cell": {
     "cellMetadata": {},
     "inputWidgets": {},
     "nuid": "f786b7ff-5b25-44af-8d56-9a224b5918ec",
     "showTitle": false,
     "title": ""
    }
   },
   "source": [
    "### Setup\n",
    "\n",
    "Before we begin we need to perform some setup, first to install the tool itself, then to begin setting up a Terraform environment."
   ]
  },
  {
   "cell_type": "markdown",
   "metadata": {
    "application/vnd.databricks.v1+cell": {
     "cellMetadata": {},
     "inputWidgets": {},
     "nuid": "6d194af3-b9cf-4b22-8660-a614a36583de",
     "showTitle": false,
     "title": ""
    }
   },
   "source": [
    "#### Installing Terraform\n",
    "\n",
    "Terraform Open Source is available from the <a href=\"https://www.terraform.io/downloads\" target=\"_blank\">downloads page</a> and is offered in a number of formats to accomodate most mainstream operating systems. For this lab, however, we will simply download the raw binary and install it manually. Note that we are downloading version 1.2.8, which was the most current version at the time of this writing. We'll use **`wget`** to download the archive and stash it in the */tmp* directory of the cluster file system."
   ]
  },
  {
   "cell_type": "code",
   "execution_count": 0,
   "metadata": {
    "application/vnd.databricks.v1+cell": {
     "cellMetadata": {},
     "inputWidgets": {},
     "nuid": "2745a485-0d39-4ed6-b2c2-60495d5f1a49",
     "showTitle": false,
     "title": ""
    }
   },
   "outputs": [],
   "source": [
    "%sh wget -P /tmp https://releases.hashicorp.com/terraform/1.2.8/terraform_1.2.8_linux_amd64.zip"
   ]
  },
  {
   "cell_type": "markdown",
   "metadata": {
    "application/vnd.databricks.v1+cell": {
     "cellMetadata": {},
     "inputWidgets": {},
     "nuid": "e6973b8a-0d8a-4193-aafc-7fd20c895bbc",
     "showTitle": false,
     "title": ""
    }
   },
   "source": [
    "Now let's extract the binary to our ephemeral execution environment. Because this environment is temporary, you will need to reinstall if the cluster is restarted, or even if you simply reattach to it. In a conventional environment, users would typically install to a persistent area of the file system."
   ]
  },
  {
   "cell_type": "code",
   "execution_count": 0,
   "metadata": {
    "application/vnd.databricks.v1+cell": {
     "cellMetadata": {},
     "inputWidgets": {},
     "nuid": "7c92d04d-9650-4dc8-b018-7e5375146c69",
     "showTitle": false,
     "title": ""
    }
   },
   "outputs": [],
   "source": [
    "%sh unzip -d $VIRTUAL_ENV/bin /tmp/terraform_1.2.8_linux_amd64.zip "
   ]
  },
  {
   "cell_type": "markdown",
   "metadata": {
    "application/vnd.databricks.v1+cell": {
     "cellMetadata": {},
     "inputWidgets": {},
     "nuid": "6140a277-7018-4f4c-a10d-bbabab1f4314",
     "showTitle": false,
     "title": ""
    }
   },
   "source": [
    "Now let's perform a basic test of the installation by invoking the **`terraform`** command."
   ]
  },
  {
   "cell_type": "code",
   "execution_count": 0,
   "metadata": {
    "application/vnd.databricks.v1+cell": {
     "cellMetadata": {},
     "inputWidgets": {},
     "nuid": "6cfafb44-8fd4-407c-9993-f92afb35566c",
     "showTitle": false,
     "title": ""
    }
   },
   "outputs": [],
   "source": [
    "%sh terraform -v"
   ]
  },
  {
   "cell_type": "markdown",
   "metadata": {
    "application/vnd.databricks.v1+cell": {
     "cellMetadata": {},
     "inputWidgets": {},
     "nuid": "43cbb3a0-7620-418a-b88c-87777594b6c5",
     "showTitle": false,
     "title": ""
    }
   },
   "source": [
    "#### Configuring authentication\n",
    "\n",
    "There are three different ways to configure authentication for open source Terraform.\n",
    "\n",
    "The first option is to specify the credentials as parameters in a configuration file. This is easy to set up (and for this reason, it's the method we'll use in this lab), but in a production system you need to be very careful about embedding authentication credentials in your configuration files since it's easy to accidentally leak them, either directly or by checking them in to revision control. Also, since the credentials become part of that configuration, they will not be available to other configurations.\n",
    "\n",
    "The other two methods are safer in general, and have global effect (that is, they will be inherited by all configurations being managed by Terraform in that environment):\n",
    "* Configure the Databricks CLI like we did in the lab *Using Databricks Utilities and CLI*. Terraform will use this setup to authenticate by default.\n",
    "* Set up the environment variables *DATABRICKS_HOST* and *DATABRICKS_TOKEN*, which Terraform also checks when authenticating.\n",
    "\n",
    "To begin, let's create landing zones to specify the workspace URL and token. "
   ]
  },
  {
   "cell_type": "code",
   "execution_count": 0,
   "metadata": {
    "application/vnd.databricks.v1+cell": {
     "cellMetadata": {},
     "inputWidgets": {},
     "nuid": "3dfbbac1-01cb-4e0b-94d4-57caf09cb698",
     "showTitle": false,
     "title": ""
    }
   },
   "outputs": [],
   "source": [
    "dbutils.widgets.text(name='token', defaultValue='')\n",
    "dbutils.widgets.text(name='url', defaultValue='')"
   ]
  },
  {
   "cell_type": "markdown",
   "metadata": {
    "application/vnd.databricks.v1+cell": {
     "cellMetadata": {},
     "inputWidgets": {},
     "nuid": "c107ed39-db45-458b-8b90-97726337a8ed",
     "showTitle": false,
     "title": ""
    }
   },
   "source": [
    "Now let's establish a Terraform configuration in the */terraform* folder of DBFS and write the authentication credentials to configuration file within named *databricks.tf*.\n",
    "\n",
    "Once again, while this approach is simple for the purpose of a training exercise,  hardcoding authentication information like this in a configuration file is not considered best practice in a production environment. Consider instead using variables that allow you to define the actual values elsewhere, or configuring authentication using the Databricks CLI or environment variables."
   ]
  },
  {
   "cell_type": "code",
   "execution_count": 0,
   "metadata": {
    "application/vnd.databricks.v1+cell": {
     "cellMetadata": {},
     "inputWidgets": {},
     "nuid": "98e11243-91d7-438a-9d4f-013a4ef4a1fb",
     "showTitle": false,
     "title": ""
    }
   },
   "outputs": [],
   "source": [
    "dbutils.fs.put(\n",
    "    \"/terraform/databricks.tf\",\n",
    "    f\"\"\"\n",
    "    provider databricks {{\n",
    "        host  = \"{dbutils.widgets.get('url')}\"\n",
    "        token = \"{dbutils.widgets.get('token')}\"\n",
    "    }}\n",
    "    \"\"\",\n",
    "    True)"
   ]
  },
  {
   "cell_type": "markdown",
   "metadata": {
    "application/vnd.databricks.v1+cell": {
     "cellMetadata": {},
     "inputWidgets": {},
     "nuid": "e72aa024-39f4-4268-a111-fa666b1b83c8",
     "showTitle": false,
     "title": ""
    }
   },
   "source": [
    "Before we go any further, let's supply the needed authentication information.\n",
    "\n",
    "First, create a personal access token and paste its value into the *token* widget.\n",
    "1. Go to <a href=\"#setting/account\" target=\"_blank\">User Settings</a> (which is also accessible from the left sidebar by selecting **Settings > User Settings**).\n",
    "1. Select the **Access tokens** tab.\n",
    "1. Click **Generate new token**.\n",
    "    1. Specify a **Comment** such as *Terraform Test*. Choose a short value for **Lifetime**; for the purpose of this lab, one or two days is sufficient.\n",
    "    1. Click **Generate**.\n",
    "    1. Copy the resulting token to the clipboard and click **Done**.\n",
    "1. Paste the generated token into the *token* widget.\n",
    "\n",
    "Now, supply the *url* value by copying the address of the workspace, stripping off the path component.\n",
    "\n",
    "Whenever you update the values of these widgets, the file will be automatically updated."
   ]
  },
  {
   "cell_type": "markdown",
   "metadata": {
    "application/vnd.databricks.v1+cell": {
     "cellMetadata": {},
     "inputWidgets": {},
     "nuid": "5836479e-0c64-456c-8e87-9e07c0bd16e3",
     "showTitle": false,
     "title": ""
    }
   },
   "source": [
    "#### Configuring the provider\n",
    "\n",
    "Next, we'll need to specify information for Terraform to be able to look up the Databricks *provider* (that is, the Terraform plugin that integrates with Databricks).\n",
    "\n",
    "We're also going to configure the backend to use the */tmp* area of the cluster file system. This would be a terrible choice in a production environment, but for the purpose of a training lab it's sufficent and convenient. In a production system, seriously consider using a remote backend as documented <a href=\"https://www.terraform.io/language/settings/backends/configuration\" target=\"_blank\">here</a>."
   ]
  },
  {
   "cell_type": "code",
   "execution_count": 0,
   "metadata": {
    "application/vnd.databricks.v1+cell": {
     "cellMetadata": {},
     "inputWidgets": {},
     "nuid": "3ab35c4d-af97-474e-b4e3-49d378db1959",
     "showTitle": false,
     "title": ""
    }
   },
   "outputs": [],
   "source": [
    "dbutils.fs.put(\n",
    "    \"/terraform/terraform.tf\",\n",
    "    \"\"\"\n",
    "    terraform {\n",
    "        required_providers {\n",
    "            databricks = {\n",
    "                source  = \"databricks/databricks\"\n",
    "                version = \"1.0.1\"\n",
    "            }\n",
    "        }\n",
    "        backend \"local\" {\n",
    "            path = \"/tmp/terraform/terraform.tfstate\"\n",
    "        }\n",
    "    }\n",
    "    \"\"\",\n",
    "    True)"
   ]
  },
  {
   "cell_type": "markdown",
   "metadata": {
    "application/vnd.databricks.v1+cell": {
     "cellMetadata": {},
     "inputWidgets": {},
     "nuid": "18b7b06d-22c0-4078-b528-892a7ecadb1b",
     "showTitle": false,
     "title": ""
    }
   },
   "source": [
    "#### Initializing Terraform\n",
    "With all the basic structure in place, let's initialize this configuration using Terraform's **`init`** command. This triggers the download of additional software bits needed to support the configuration (in this case, the Databricks provider) and sets up an initial state. Once that's complete we are ready to start defining our system and actually using Terraform to build it. "
   ]
  },
  {
   "cell_type": "code",
   "execution_count": 0,
   "metadata": {
    "application/vnd.databricks.v1+cell": {
     "cellMetadata": {},
     "inputWidgets": {},
     "nuid": "ca17cc87-4680-46cb-8f3e-5327f8a34f8e",
     "showTitle": false,
     "title": ""
    }
   },
   "outputs": [],
   "source": [
    "%sh terraform -chdir=/dbfs/terraform init"
   ]
  },
  {
   "cell_type": "markdown",
   "metadata": {
    "application/vnd.databricks.v1+cell": {
     "cellMetadata": {},
     "inputWidgets": {},
     "nuid": "6506d248-1343-4fb2-ba35-8aa45933e5c4",
     "showTitle": false,
     "title": ""
    }
   },
   "source": [
    "### Declaring a new schema\n",
    "\n",
    "For those who followed along with the labs *Using Databricks Utilities and CLI* and *Using Databricks APIs*, let's work toward definined a Terraform configuration that builds the elements that we created in those labs. As a first step, let's establish a new schema in the *main* catalog named *myschema_tfos*.\n",
    "\n",
    "To add elements to a Terraform configuration, we can simply add an arbitrarily named **`.tf`** file to the folder. In this case we will simply add the file *schema.tf* to specify the schema.\n",
    "\n",
    "Terraform configuration files are written in the Terraform language, which is built on a simple, declarative syntax. The configuration files describe the desired state of the system, which makes defining and managing the system extremely easy for an admin since Terraform manages all the changes needed to get the system to the desired state.\n",
    "\n",
    "Because we're running this in the context of a notebook, there's some extra code wrapped around the actual configuration; the essence of the configuration is found within the triple-quotation fences. The actual configuration reads:\n",
    "\n",
    "    resource \"databricks_schema\" \"myschema\" {\n",
    "        catalog_name = \"main\"\n",
    "        name         = \"myschema_tfos\"\n",
    "        comment      = \"This schema is managed by Terraform Open Source\"\n",
    "    }"
   ]
  },
  {
   "cell_type": "code",
   "execution_count": 0,
   "metadata": {
    "application/vnd.databricks.v1+cell": {
     "cellMetadata": {},
     "inputWidgets": {},
     "nuid": "53109a70-ea95-4484-8ea4-c04acfd5de24",
     "showTitle": false,
     "title": ""
    }
   },
   "outputs": [],
   "source": [
    "dbutils.fs.put(\n",
    "    \"/terraform/schema.tf\",\n",
    "    \"\"\"\n",
    "    resource \"databricks_schema\" \"myschema\" {\n",
    "        catalog_name = \"main\"\n",
    "        name         = \"myschema_tfos\"\n",
    "        comment      = \"This schema is managed by Terraform Open Source\"\n",
    "    }\n",
    "    \"\"\",\n",
    "    True)"
   ]
  },
  {
   "cell_type": "markdown",
   "metadata": {
    "application/vnd.databricks.v1+cell": {
     "cellMetadata": {},
     "inputWidgets": {},
     "nuid": "84d71821-5482-46d9-a3db-32e1053dac79",
     "showTitle": false,
     "title": ""
    }
   },
   "source": [
    "####Examining the plan\n",
    "\n",
    "To get the system to the desired state, Terraform analyzes the current state of the system, compares it with the desired state as defined in the configuration files, and builds a plan to get it there. Terraform's **`plan`** command allows us to review the proposed changes without actually effecting them. Let's try that now."
   ]
  },
  {
   "cell_type": "code",
   "execution_count": 0,
   "metadata": {
    "application/vnd.databricks.v1+cell": {
     "cellMetadata": {},
     "inputWidgets": {},
     "nuid": "23161c81-e579-40c2-b7af-33b5e03fa7bf",
     "showTitle": false,
     "title": ""
    }
   },
   "outputs": [],
   "source": [
    "%sh terraform -chdir=/dbfs/terraform plan"
   ]
  },
  {
   "cell_type": "markdown",
   "metadata": {
    "application/vnd.databricks.v1+cell": {
     "cellMetadata": {},
     "inputWidgets": {},
     "nuid": "3dbff68e-9e68-47f9-8f20-bd1cb11004a6",
     "showTitle": false,
     "title": ""
    }
   },
   "source": [
    "This displays a summary of the actions Terraform will take if we applied the plan. This gives us the opportunity to do a sanity check, and can be a big timesaver when dealing with large and complex systems. Here we see that a new schema will be created."
   ]
  },
  {
   "cell_type": "markdown",
   "metadata": {
    "application/vnd.databricks.v1+cell": {
     "cellMetadata": {},
     "inputWidgets": {},
     "nuid": "b8d07b1e-103a-4f0a-933e-844de8c3b141",
     "showTitle": false,
     "title": ""
    }
   },
   "source": [
    "####Applying the plan\n",
    "\n",
    "Once satisfied with the plan, let's now run the **`apply`** command to effect the changes. Here we use the **`-auto-approve`** option since we are running the command in a non-interactive shell and therefore do not want to be prompted to confirm.\n",
    "\n",
    "And now, a quick note about atomicity: in a dynamic production environment, be aware that when viewing and applying a plan in separate steps, there is a potential for the plan to change in the time in between. Terraform does issue a notification to this effect, with instructions on how to deal with this situation.\n",
    "\n",
    "In a constrained environment like this where no one else is interacting with the system, we don't have to worry too much about atomicity."
   ]
  },
  {
   "cell_type": "code",
   "execution_count": 0,
   "metadata": {
    "application/vnd.databricks.v1+cell": {
     "cellMetadata": {},
     "inputWidgets": {},
     "nuid": "2a78cfb1-9b6a-4c44-9460-17c098288370",
     "showTitle": false,
     "title": ""
    }
   },
   "outputs": [],
   "source": [
    "%sh terraform -chdir=/dbfs/terraform apply -auto-approve"
   ]
  },
  {
   "cell_type": "markdown",
   "metadata": {
    "application/vnd.databricks.v1+cell": {
     "cellMetadata": {},
     "inputWidgets": {},
     "nuid": "5bcd752e-32d9-40fb-b98b-3f4ed1cd4e3e",
     "showTitle": false,
     "title": ""
    }
   },
   "source": [
    "Once this completes, open the **Data** page to validate the creation of the schema."
   ]
  },
  {
   "cell_type": "markdown",
   "metadata": {
    "application/vnd.databricks.v1+cell": {
     "cellMetadata": {},
     "inputWidgets": {},
     "nuid": "d75657d5-b4da-49a4-9a1f-51e4388208f2",
     "showTitle": false,
     "title": ""
    }
   },
   "source": [
    "### Declaring a compute resource\n",
    "\n",
    "Now let's add a cluster to our desired configuration in a new file, *cluster.tf*. The configuration looks like this:\n",
    "\n",
    "    resource \"databricks_cluster\" \"mycluster\" {\n",
    "        num_workers = 1\n",
    "        cluster_name = \"mycluster_tfos\"\n",
    "        idempotency_token = \"mycluster_tfos\"\n",
    "        spark_version = \"11.1.x-scala2.12\"\n",
    "        node_type_id = \"i3.xlarge\"\n",
    "        autotermination_minutes = 120\n",
    "        data_security_mode = \"USER_ISOLATION\"\n",
    "    }\n",
    "\n",
    "If you followed along with the lab *Using Databricks APIs*, I will draw your attention to three things:\n",
    "* We are describing a cluster with an identical configuration to that used in the lab, differing only by the name\n",
    "* The parameter names used in Terraform are designed to match with those defined by the corresponding API\n",
    "* We introduce an additional parameter, *idempotency_token*. This parameter is used by Terraform to uniquely identify the cluster it created, since *cluster_name* does not have to be unique and is thus not sufficient for this purpose"
   ]
  },
  {
   "cell_type": "code",
   "execution_count": 0,
   "metadata": {
    "application/vnd.databricks.v1+cell": {
     "cellMetadata": {},
     "inputWidgets": {},
     "nuid": "6addab08-2e8d-40ec-9221-122a963aa399",
     "showTitle": false,
     "title": ""
    }
   },
   "outputs": [],
   "source": [
    "dbutils.fs.put(\n",
    "    \"/terraform/cluster.tf\",\n",
    "    \"\"\"\n",
    "    resource \"databricks_cluster\" \"mycluster\" {\n",
    "        num_workers = 1\n",
    "        cluster_name = \"mycluster_tfos\"\n",
    "        idempotency_token = \"mycluster_tfos\"\n",
    "        spark_version = \"11.1.x-scala2.12\"\n",
    "        node_type_id = \"i3.xlarge\"\n",
    "        autotermination_minutes = 120\n",
    "        data_security_mode = \"USER_ISOLATION\"\n",
    "    }\n",
    "    \"\"\",\n",
    "    True)"
   ]
  },
  {
   "cell_type": "markdown",
   "metadata": {
    "application/vnd.databricks.v1+cell": {
     "cellMetadata": {},
     "inputWidgets": {},
     "nuid": "bfb7b2b2-6039-4a5a-b62d-d1af082a41b5",
     "showTitle": false,
     "title": ""
    }
   },
   "source": [
    "####Examining the plan\n",
    "\n",
    "Once again, let's view the plan first."
   ]
  },
  {
   "cell_type": "code",
   "execution_count": 0,
   "metadata": {
    "application/vnd.databricks.v1+cell": {
     "cellMetadata": {},
     "inputWidgets": {},
     "nuid": "3f8f0f5e-2c72-4dd7-a03b-86d3071215fa",
     "showTitle": false,
     "title": ""
    }
   },
   "outputs": [],
   "source": [
    "%sh terraform -chdir=/dbfs/terraform plan"
   ]
  },
  {
   "cell_type": "markdown",
   "metadata": {
    "application/vnd.databricks.v1+cell": {
     "cellMetadata": {},
     "inputWidgets": {},
     "nuid": "ad54758c-475b-4bf1-889b-1f814699c0a7",
     "showTitle": false,
     "title": ""
    }
   },
   "source": [
    "We see that Terraform plans to create the cluster, but has no plans to do anything with the schema since nothing has changed with it since the last apply."
   ]
  },
  {
   "cell_type": "markdown",
   "metadata": {
    "application/vnd.databricks.v1+cell": {
     "cellMetadata": {},
     "inputWidgets": {},
     "nuid": "bf38b249-aaa4-4b72-860f-ec86934e9931",
     "showTitle": false,
     "title": ""
    }
   },
   "source": [
    "#### Applying the plan\n",
    "\n",
    "Now let's apply the plan. Note that this operation is synchronous, and so it will take some time while it waits for the cluster to be created."
   ]
  },
  {
   "cell_type": "code",
   "execution_count": 0,
   "metadata": {
    "application/vnd.databricks.v1+cell": {
     "cellMetadata": {},
     "inputWidgets": {},
     "nuid": "2d269eef-0fa4-4714-93b5-0502b59c160a",
     "showTitle": false,
     "title": ""
    }
   },
   "outputs": [],
   "source": [
    "%sh terraform -chdir=/dbfs/terraform apply -auto-approve"
   ]
  },
  {
   "cell_type": "markdown",
   "metadata": {
    "application/vnd.databricks.v1+cell": {
     "cellMetadata": {},
     "inputWidgets": {},
     "nuid": "07324c94-3fbe-449b-9aef-cdc0f4bc7b31",
     "showTitle": false,
     "title": ""
    }
   },
   "source": [
    "#### Making changes\n",
    "\n",
    "We've seen how Terraform applies changes incrementally; this is, it examines the current state of the system, compares it with the desired state, and factors out items that have not changed. Therefore, unchanged items are not unnecessarily recreated.\n",
    "\n",
    "Let's now witness how Terraform treats changes to existing resources. Let's update *cluster.tf*, changing only the value for *autotermination_minutes*."
   ]
  },
  {
   "cell_type": "code",
   "execution_count": 0,
   "metadata": {
    "application/vnd.databricks.v1+cell": {
     "cellMetadata": {},
     "inputWidgets": {},
     "nuid": "2777503f-9f02-4f65-b3d9-7a74a814a611",
     "showTitle": false,
     "title": ""
    }
   },
   "outputs": [],
   "source": [
    "dbutils.fs.put(\n",
    "    \"/terraform/cluster.tf\",\n",
    "    \"\"\"\n",
    "    resource \"databricks_cluster\" \"mycluster\" {\n",
    "        num_workers = 1\n",
    "        cluster_name = \"mycluster_tfos\"\n",
    "        idempotency_token = \"mycluster_tfos\"\n",
    "        spark_version = \"11.1.x-scala2.12\"\n",
    "        node_type_id = \"i3.xlarge\"\n",
    "        autotermination_minutes = 30\n",
    "        data_security_mode = \"USER_ISOLATION\"\n",
    "    }\n",
    "    \"\"\",\n",
    "    True)"
   ]
  },
  {
   "cell_type": "markdown",
   "metadata": {
    "application/vnd.databricks.v1+cell": {
     "cellMetadata": {},
     "inputWidgets": {},
     "nuid": "ad342127-bdc9-468f-8c65-dff3b5ebbd29",
     "showTitle": false,
     "title": ""
    }
   },
   "source": [
    "Let's view Terraform's plan to see the impact this change will have."
   ]
  },
  {
   "cell_type": "code",
   "execution_count": 0,
   "metadata": {
    "application/vnd.databricks.v1+cell": {
     "cellMetadata": {},
     "inputWidgets": {},
     "nuid": "d59eb84d-818a-4ccb-a8b9-dccfda891ea5",
     "showTitle": false,
     "title": ""
    }
   },
   "outputs": [],
   "source": [
    "%sh terraform -chdir=/dbfs/terraform plan"
   ]
  },
  {
   "cell_type": "markdown",
   "metadata": {
    "application/vnd.databricks.v1+cell": {
     "cellMetadata": {},
     "inputWidgets": {},
     "nuid": "a24c9548-4e71-46c5-b8ee-b8c874a48d30",
     "showTitle": false,
     "title": ""
    }
   },
   "source": [
    "In this instance, we see that no resources are being destroyed or created. Rather, the affected resource will be modified in place."
   ]
  },
  {
   "cell_type": "markdown",
   "metadata": {
    "application/vnd.databricks.v1+cell": {
     "cellMetadata": {},
     "inputWidgets": {},
     "nuid": "462e3422-8f6d-439c-8d60-c902affd8946",
     "showTitle": false,
     "title": ""
    }
   },
   "source": [
    "### Cleanup\n",
    "\n",
    "Run the following cells to remove the resources we created throughout this section of the lab. First, let's use Terraform to destroy the configuration we created."
   ]
  },
  {
   "cell_type": "code",
   "execution_count": 0,
   "metadata": {
    "application/vnd.databricks.v1+cell": {
     "cellMetadata": {},
     "inputWidgets": {},
     "nuid": "b6a7e9b2-1564-4166-b3f9-81f72f9269b2",
     "showTitle": false,
     "title": ""
    }
   },
   "outputs": [],
   "source": [
    "%sh terraform -chdir=/dbfs/terraform apply -destroy -auto-approve"
   ]
  },
  {
   "cell_type": "markdown",
   "metadata": {
    "application/vnd.databricks.v1+cell": {
     "cellMetadata": {},
     "inputWidgets": {},
     "nuid": "e6396c81-eae7-449c-84b2-e81a021c56ec",
     "showTitle": false,
     "title": ""
    }
   },
   "source": [
    "With that, we can verify in the user interface that the schema and cluster have been removed.\n",
    "\n",
    "Now let's remove the */terraform* folder in DBFS and remove the widgets."
   ]
  },
  {
   "cell_type": "code",
   "execution_count": 0,
   "metadata": {
    "application/vnd.databricks.v1+cell": {
     "cellMetadata": {},
     "inputWidgets": {},
     "nuid": "9e4a26cc-b4c8-4feb-8b24-0c9b3c4068f8",
     "showTitle": false,
     "title": ""
    }
   },
   "outputs": [],
   "source": [
    "dbutils.widgets.removeAll()\n",
    "dbutils.fs.rm(\"/terraform\", True)"
   ]
  },
  {
   "cell_type": "markdown",
   "metadata": {
    "application/vnd.databricks.v1+cell": {
     "cellMetadata": {},
     "inputWidgets": {},
     "nuid": "79862452-93f0-4066-adfb-0bb547735755",
     "showTitle": false,
     "title": ""
    }
   },
   "source": [
    "Note that the artifacts we created in the */tmp* folder of the cluster (that is, downloaded archive and Terraform state) remain, though these will be forgotten when the cluster is terminated. For a long-running cluster, we might consider explicitly removing them but for this exercise we will not bother."
   ]
  },
  {
   "cell_type": "markdown",
   "metadata": {
    "application/vnd.databricks.v1+cell": {
     "cellMetadata": {},
     "inputWidgets": {},
     "nuid": "13d8f773-f1d6-4b7f-bc3e-305778218a09",
     "showTitle": false,
     "title": ""
    }
   },
   "source": [
    "## Terraform Cloud\n",
    "\n",
    "With a better understanding of all that goes into managing Terraform and its associated configurations, let's now see how this fits in with the managed version of Terraform, which is freely accessible in a limited capacity. For more information on free versus paid plans, refer to <a href=\"https://www.terraform.io/cloud-docs/overview\" target=\"_blank\">this page</a>."
   ]
  },
  {
   "cell_type": "markdown",
   "metadata": {
    "application/vnd.databricks.v1+cell": {
     "cellMetadata": {},
     "inputWidgets": {},
     "nuid": "82cacdb5-2747-4b0e-b14e-80bf30f68f8e",
     "showTitle": false,
     "title": ""
    }
   },
   "source": [
    "### Setup\n",
    "\n",
    "Before we begin we need to perform some setup. If you wish to follow along, create a Terraform account of your own and follow the instructions to log in. From there, we will see that there are a number of workflow options, but we'll follow a common one here with the following high-level steps:\n",
    "1. Choose the **Start from Scratch** workflow to get started. This will prompt us for an organization name, which is simply a space in which to collaborate with others in Terraform Cloud.\n",
    "1. Select the **Version control workflow**. In this workflow, your Terraform configuration will be driven by an upstream git repository. In this exercise, we will push configuration files that we developed in the previous section with Open Source Terraform.\n",
    "1. Choose a version control provider. In this example, we'll choose **GitHub > GitHub.com**.\n",
    "1. From here, we'll need a GitHub account and repository to host the Terraform configuration.\n",
    "    * If you don't have a GitHub account, create that now.\n",
    "    * Create a new repository (include a README so that the repository will be initialized). For this exercise the visiblity is unimportant.\n",
    "1. Let's authorize Terraform Cloud to connect with our GitHub account.\n",
    "1. Select the repository you just created, which will trigger the creation of a correspondingly named *workspace* - that is, a representation of the configuration that we will store in the GitHub repository. There are a number of options that can be configured, but for now let's accept the default settings and create the workspace."
   ]
  },
  {
   "cell_type": "markdown",
   "metadata": {
    "application/vnd.databricks.v1+cell": {
     "cellMetadata": {},
     "inputWidgets": {},
     "nuid": "6f6b67de-bcfd-4b11-8aad-e0cd271b8a5a",
     "showTitle": false,
     "title": ""
    }
   },
   "source": [
    "#### Configuring authentication\n",
    "\n",
    "Just like we did for open source Terraform, we must configure Terraform Cloud to be able to authenticate with Databricks. Here, we configure authentication using environment variables. This isn't the only way to accomplish this, but it's a fairly secure approach.\n",
    "\n",
    "We define variables in the workspace overview page. Variables can be shared across workspaces by defining them as *variable sets* or they can be defined within a workspace.  In order to limit the scope of this sensitive information, let's go with the latter and define them at the workspace level. Let's add two environment variables, flagging both as sensitive:\n",
    "* *DATABRICKS_HOST:* set the value to the URL of the workspace with the path component removed\n",
    "* *DATABRICKS_TOKEN:* set the value to the token you created in the previous section. If you lost the token, then revisit the <a href=\"#setting/account\" target=\"_blank\">User Settings</a> page and create a new one as you did in the previous section."
   ]
  },
  {
   "cell_type": "markdown",
   "metadata": {
    "application/vnd.databricks.v1+cell": {
     "cellMetadata": {},
     "inputWidgets": {},
     "nuid": "5fbb0470-42eb-42f1-b064-7b7bfc7b06f4",
     "showTitle": false,
     "title": ""
    }
   },
   "source": [
    "#### Configuring the provider\n",
    "\n",
    "In the GitHub repository backing the workspace, create a new filed named *versions.tf* that contains information for Terraform to be able to identify and locate the Databricks *provider*. This file is similar in function to the *terraform.tf* file we created in the previous section, though in this case we do not need to configure a backend since that is managed by Terraform Cloud.\n",
    "\n",
    "Paste the following text into *versions.tf* and commit the file:\n",
    "\n",
    "    terraform {\n",
    "        required_providers {\n",
    "            databricks = {\n",
    "                source  = \"databricks/databricks\"\n",
    "                version = \"1.0.1\"\n",
    "            }\n",
    "        }\n",
    "    }"
   ]
  },
  {
   "cell_type": "markdown",
   "metadata": {
    "application/vnd.databricks.v1+cell": {
     "cellMetadata": {},
     "inputWidgets": {},
     "nuid": "8166c548-a996-4486-a623-3b736a53f95e",
     "showTitle": false,
     "title": ""
    }
   },
   "source": [
    "If you followed the previous section, you may also notice that we're not going to create a corresponding *databricks.tf* file in this section. The sole purpose of this file in the previous section related to setting up the authentication credentials, which we are now handling with environment variables; so this file is no longer necessary."
   ]
  },
  {
   "cell_type": "markdown",
   "metadata": {
    "application/vnd.databricks.v1+cell": {
     "cellMetadata": {},
     "inputWidgets": {},
     "nuid": "4818b451-dcae-4ff7-9005-66993dfbda1d",
     "showTitle": false,
     "title": ""
    }
   },
   "source": [
    "### Declaring a new schema\n",
    "\n",
    "As we did in the previous section, let's declare a new schema in the *main* catalog named *myschema_tfc*.\n",
    "\n",
    "In the GitHub repository, create a new file named *schema.tf* containing the following text, and commit the file:\n",
    "\n",
    "    resource \"databricks_schema\" \"myschema\" {\n",
    "        catalog_name = \"main\"\n",
    "        name         = \"myschema_tfc\"\n",
    "        comment      = \"This schema is managed by Terraform Cloud\"\n",
    "    }"
   ]
  },
  {
   "cell_type": "markdown",
   "metadata": {
    "application/vnd.databricks.v1+cell": {
     "cellMetadata": {},
     "inputWidgets": {},
     "nuid": "c3baa22a-d283-4f06-a6f6-81d290f779b0",
     "showTitle": false,
     "title": ""
    }
   },
   "source": [
    "####Examining the plan\n",
    "In the workspace overview page, select **Actions > Start new run**, leaving *Plan and apply* selected for the run type. Providing you worked through the previous section, what we see displayed in the user interface will seem familiar: Terraform displays the schema it will create."
   ]
  },
  {
   "cell_type": "markdown",
   "metadata": {
    "application/vnd.databricks.v1+cell": {
     "cellMetadata": {},
     "inputWidgets": {},
     "nuid": "7c1d42fe-d158-47ba-b9e8-5b721a6505c9",
     "showTitle": false,
     "title": ""
    }
   },
   "source": [
    "#### Applying the plan\n",
    "Still in the **Runs** page from the previous step, click **Confirm & Apply**. Specify a comment and clik **Confirm Plan**. Once this completes, open the **Data** page to validate the creation of the schema."
   ]
  },
  {
   "cell_type": "markdown",
   "metadata": {
    "application/vnd.databricks.v1+cell": {
     "cellMetadata": {},
     "inputWidgets": {},
     "nuid": "69dbe465-d57d-49ad-be35-00e8e9722269",
     "showTitle": false,
     "title": ""
    }
   },
   "source": [
    "### Declaring a compute resource\n",
    "\n",
    "Now let's add a cluster to our desired configuration. Create and commit a new file named *cluster.tf* in the GitHub repository, with the following contents:\n",
    "\n",
    "    resource \"databricks_cluster\" \"mycluster\" {\n",
    "        num_workers = 1\n",
    "        cluster_name = \"mycluster_tfc\"\n",
    "        idempotency_token = \"mycluster_tfc\"\n",
    "        spark_version = \"11.1.x-scala2.12\"\n",
    "        node_type_id = \"i3.xlarge\"\n",
    "        autotermination_minutes = 120\n",
    "        data_security_mode = \"USER_ISOLATION\"\n",
    "    }"
   ]
  },
  {
   "cell_type": "markdown",
   "metadata": {
    "application/vnd.databricks.v1+cell": {
     "cellMetadata": {},
     "inputWidgets": {},
     "nuid": "93095f41-2bc0-4f4a-b415-5614b51dadb0",
     "showTitle": false,
     "title": ""
    }
   },
   "source": [
    "####Examining the plan\n",
    "Notice that committing the new file triggers a new run automatically. While this behavior can be handy, you can also override it or control it with branching strategies, depending on your organization's CI/CD processes.\n",
    "\n",
    "In the **Runs** page, select the newly triggered run. Once again, we see that Terraform plans to create the cluster, but has no plans to do anything with the schema since nothing has changed with it since the last apply."
   ]
  },
  {
   "cell_type": "markdown",
   "metadata": {
    "application/vnd.databricks.v1+cell": {
     "cellMetadata": {},
     "inputWidgets": {},
     "nuid": "cb83ff4f-71e4-4cd0-a5f5-c9632b282f08",
     "showTitle": false,
     "title": ""
    }
   },
   "source": [
    "####Applying the plan\n",
    "As before, Terraform will not apply the plan until you explicitly confirm (a behavior that can also be changed). Let's confirm as we did in the previous step. As we saw before, this is a synchronous operation that waits for the cluster to be created, so it will take some time to complete. Let's wait for that to happen before proceeding."
   ]
  },
  {
   "cell_type": "markdown",
   "metadata": {
    "application/vnd.databricks.v1+cell": {
     "cellMetadata": {},
     "inputWidgets": {},
     "nuid": "751fb3cf-c86f-400e-8de1-8dc5e6fda0af",
     "showTitle": false,
     "title": ""
    }
   },
   "source": [
    "#### Making changes\n",
    "\n",
    "Now let's make a minor change to the cluster. In the GitHub repository, edit *cluster.tf*. Change the value for *autotermination_minutes* to *30* and commit the change. Again, a new run will be automatically triggered in response to the commit. Reviewing the changes, we see that Terraform will simply modify the cluster in place.\n",
    "\n",
    "In this case we don't need to confirm; we can simply click **Discard Run**."
   ]
  },
  {
   "cell_type": "markdown",
   "metadata": {
    "application/vnd.databricks.v1+cell": {
     "cellMetadata": {},
     "inputWidgets": {},
     "nuid": "a41f0ae1-3681-4431-b642-4ee7438e39d6",
     "showTitle": false,
     "title": ""
    }
   },
   "source": [
    "### Cleanup\n",
    "\n",
    "As everything is managed in Terraform Cloud, the only thing we need to do is destroy the resources it created. To do this, select **Settings > Destruction and Deletion** from the workspace overview page. Click **Queue destroy plan**, where you will be prompted to confirm.\n",
    "\n",
    "Optionally, you can also delete the workspace by clicking **Delete from Terraform Cloud**."
   ]
  },
  {
   "cell_type": "markdown",
   "metadata": {
    "application/vnd.databricks.v1+cell": {
     "cellMetadata": {},
     "inputWidgets": {},
     "nuid": "a9413809-b723-4f49-a336-dbc1e60e6183",
     "showTitle": false,
     "title": ""
    }
   },
   "source": [
    "## Summary\n",
    "\n",
    "In this lab, we were introduced to Terraform constructs and operation. We learned how to apply these concepts to both the self-managed open source version of Terraform, as well as the Terraform Cloud managed service. As intricate as this lab may have seemed, it only touched on basic configurations and workflows. There are many more options available, too numerous to address in the context of a simple lab. To learn more, please refer to the following resources:\n",
    "* The <a href=\"https://docs.databricks.com/dev-tools/terraform/index.html\" target=\"_blank\">Databricks Terraform provider</a> page in the Databricks documentation\n",
    "* The <a href=\"https://registry.terraform.io/providers/databricks/databricks/latest/docs\" target=\"_blank\">Databricks Provider</a> page in the Terraform registry\n",
    "* The <a href=\"https://www.terraform.io/docs\" target=\"_blank\">Terraform documentation</a>\n",
    "* The online collection of Terraform tutorials, <a href=\"https://learn.hashicorp.com/terraform\" target=\"_blank\">HashiCorp Learn</a>"
   ]
  }
 ],
 "metadata": {
  "application/vnd.databricks.v1+notebook": {
   "dashboards": [],
   "environmentMetadata": null,
   "language": "python",
   "notebookMetadata": {
    "pythonIndentUnit": 2
   },
   "notebookName": "4 Using Terraform with Databricks",
   "widgets": {}
  }
 },
 "nbformat": 4,
 "nbformat_minor": 0
}
