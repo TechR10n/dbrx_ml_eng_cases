{
 "cells": [
  {
   "cell_type": "code",
   "execution_count": 0,
   "metadata": {
    "application/vnd.databricks.v1+cell": {
     "cellMetadata": {},
     "inputWidgets": {},
     "nuid": "13f1c73c-31d7-4f4a-a582-98bf542d18da",
     "showTitle": false,
     "title": ""
    }
   },
   "outputs": [],
   "source": [
    "# INCLUDE_HEADER_TRUE\n",
    "# INCLUDE_FOOTER_TRUE"
   ]
  },
  {
   "cell_type": "markdown",
   "metadata": {
    "application/vnd.databricks.v1+cell": {
     "cellMetadata": {},
     "inputWidgets": {},
     "nuid": "2267eab6-925e-4941-a077-683b9919f66f",
     "showTitle": false,
     "title": ""
    }
   },
   "source": [
    "# Implementing security best practices in your notebooks\n",
    "\n",
    "In this lab you will learn how to:\n",
    "* Apply parametrization to improve the security and maintainability of your notebooks\n",
    "* Set up and use Databricks secrets to secure sensitive information"
   ]
  },
  {
   "cell_type": "markdown",
   "metadata": {
    "application/vnd.databricks.v1+cell": {
     "cellMetadata": {},
     "inputWidgets": {},
     "nuid": "937580c2-3876-4c2e-8248-de8c386af11a",
     "showTitle": false,
     "title": ""
    }
   },
   "source": [
    "##Prerequisites\n",
    "\n",
    "If you would like to follow along with this lab, you will need access to an organization in GitHub, with the ability to create an API token."
   ]
  },
  {
   "cell_type": "markdown",
   "metadata": {
    "application/vnd.databricks.v1+cell": {
     "cellMetadata": {},
     "inputWidgets": {},
     "nuid": "e7487f2d-1e91-48ca-ae0c-e67f53fda355",
     "showTitle": false,
     "title": ""
    }
   },
   "source": [
    "## Overview\n",
    "\n",
    "We often need to write notebooks that interact with services that require credentials. We don't want sensitive information like passwords or tokens to fall into the wrong hands. As easy as it is to embed such credentials into the code of your notebook, doing so is a very bad idea from a security standpoint, because you can easily leak credentials if you share the notebook with someone else, or place it under revision control where it's visible to anyone with access to the repository.\n",
    "\n",
    "Parametrizing credentials is a better idea, but we need an approach that is secure, and that works equally well when running the notebook interactively versus as a scheduled job. This is where Databricks secrets fits in. Databricks secrets abstracts the complexity of hiding sensitive information, and makes it accessible through the CLI, APIs, or through Databricks utilities.\n",
    "\n",
    "In this lab, we'll encounter a fairly typical authentication challenge and work through these two approaches to overcome it."
   ]
  },
  {
   "cell_type": "markdown",
   "metadata": {
    "application/vnd.databricks.v1+cell": {
     "cellMetadata": {},
     "inputWidgets": {},
     "nuid": "b53e38a9-08dd-4d23-9a4c-752480216abe",
     "showTitle": false,
     "title": ""
    }
   },
   "source": [
    "## Implementing a simple GitHub application\n",
    "\n",
    "Let's examine the beginnings of an application that uses the GitHub REST API to query some repository metrics. Before proceeding, edit the following cell:\n",
    "* Replace *ORG* with your GitHub organization name\n",
    "* Replace *TOKEN* with a personal access token. Obtain one by following these high-level steps:\n",
    "    1. In the <a href=\"https://www.github.com\" target=\"_blank\">GitHub dashboard</a>, click on the avatar dropdown at the top-right corner of the page.\n",
    "    1. Select **Settings**.\n",
    "    1. Select **Developer settings** at the bottom of the menu.\n",
    "    1. Select **Personal access tokens**.\n",
    "    1. Click **Generate new token**.\n",
    "    1. Specify a **Note** and **Expiration**, and select **repo** for the scope.\n",
    "    1. Click **Generate token**.\n",
    "    1. Copy the generated token. Depending on how your organization is set up, you may additionally have to authorize the token by clicking **Configure SSO** and following the prompts.\n",
    "    \n",
    "Once you've made these two substitutions, run the cell."
   ]
  },
  {
   "cell_type": "code",
   "execution_count": 0,
   "metadata": {
    "application/vnd.databricks.v1+cell": {
     "cellMetadata": {},
     "inputWidgets": {},
     "nuid": "0004eb7f-f9bd-4b8e-b29d-731f4b210af4",
     "showTitle": false,
     "title": ""
    }
   },
   "outputs": [],
   "source": [
    "DBACADEMY_GITHUB_ORG = \"ORG\"\n",
    "DBACADEMY_GITHUB_TOKEN = \"TOKEN\""
   ]
  },
  {
   "cell_type": "markdown",
   "metadata": {
    "application/vnd.databricks.v1+cell": {
     "cellMetadata": {},
     "inputWidgets": {},
     "nuid": "05d2dbe0-8797-47d0-91b2-6ea4b8631fef",
     "showTitle": false,
     "title": ""
    }
   },
   "source": [
    "Using a combination of Python *requests* and PySpark, let's query repositories using the organization name and token for authorization, and store some results in a DataFrame."
   ]
  },
  {
   "cell_type": "code",
   "execution_count": 0,
   "metadata": {
    "application/vnd.databricks.v1+cell": {
     "cellMetadata": {},
     "inputWidgets": {},
     "nuid": "0d633b16-0fa0-49ee-8317-80c06683d5a4",
     "showTitle": false,
     "title": ""
    }
   },
   "outputs": [],
   "source": [
    "import requests\n",
    "\n",
    "# Request a list of repository organizations as per https://docs.github.com/en/rest/repos/repos#list-organization-repositories\n",
    "r = requests.get(f\"https://api.github.com/orgs/{DBACADEMY_GITHUB_ORG}/repos\",\n",
    "                 params = { \"per_page\": 100 },\n",
    "                 headers = { \"Authorization\": f\"Bearer {DBACADEMY_GITHUB_TOKEN}\" }\n",
    "                )\n",
    "\n",
    "# Read the JSON output into a DataFrame with select columns. No error checking in this simple example. If the above request failed,\n",
    "# the following statement will fail.\n",
    "df = spark.read.json(sc.parallelize([ r.text ])).select(\"name\",\"git_url\",\"created_at\",\"open_issues_count\",\"visibility\",\"watchers_count\")\n",
    "display(df)"
   ]
  },
  {
   "cell_type": "markdown",
   "metadata": {
    "application/vnd.databricks.v1+cell": {
     "cellMetadata": {},
     "inputWidgets": {},
     "nuid": "12bde88e-c465-4cc5-aef8-b82fcc3fdd14",
     "showTitle": false,
     "title": ""
    }
   },
   "source": [
    "As we can see, this works, however it should be apparent that the above pattern is terrible practice, for two reasons:\n",
    "* Two sensitive pieces of information (your token, and less cricitally, your organization's name) are exposed in clear text within the notebook. Anyone with whom this notebook is shared, either deliberately or inadvertently, will be able to access the service using your credentials.\n",
    "* It also introduces maintenance challenges if you have multiple notebooks using the same credentials. When credentials are updated (in this case, when the token is rolled over), each notebook would have to be manually updated."
   ]
  },
  {
   "cell_type": "markdown",
   "metadata": {
    "application/vnd.databricks.v1+cell": {
     "cellMetadata": {},
     "inputWidgets": {},
     "nuid": "d82909f6-c405-4556-bb68-23332d6592a1",
     "showTitle": false,
     "title": ""
    }
   },
   "source": [
    "## Solving the problem with parametrization\n",
    "\n",
    "Parametrizing the sensitive elements is a more secure and scalable option. To demonstrate this, let's run the following cell."
   ]
  },
  {
   "cell_type": "code",
   "execution_count": 0,
   "metadata": {
    "application/vnd.databricks.v1+cell": {
     "cellMetadata": {},
     "inputWidgets": {},
     "nuid": "d9f76240-25c8-45aa-9255-46f34fcf9138",
     "showTitle": false,
     "title": ""
    }
   },
   "outputs": [],
   "source": [
    "dbutils.widgets.text(name='github_org', defaultValue='')\n",
    "dbutils.widgets.text(name='github_token', defaultValue='')"
   ]
  },
  {
   "cell_type": "markdown",
   "metadata": {
    "application/vnd.databricks.v1+cell": {
     "cellMetadata": {},
     "inputWidgets": {},
     "nuid": "52652232-f63f-4363-9126-f64b0e5737bf",
     "showTitle": false,
     "title": ""
    }
   },
   "source": [
    "Now, referring back to the cell you modified earlier, copy the following values into the fields above:\n",
    "* Copy the value for *DBACADEMY_GITHUB_ORG* into the *github_org* field\n",
    "* Copy the value for *DBACADEMY_GITHUB_TOKEN* into the *github_token* field\n",
    "\n",
    "The cell below is a rephrasing of the code we saw earlier, adjusted to use the field values rather than the hardcoded variables. Modifying the values in the fields will automatically trigger the execution of the cell, which will succeed if the organization and token are both valid."
   ]
  },
  {
   "cell_type": "code",
   "execution_count": 0,
   "metadata": {
    "application/vnd.databricks.v1+cell": {
     "cellMetadata": {},
     "inputWidgets": {},
     "nuid": "fbdd788d-8b92-4ff7-8771-14a3db555e1e",
     "showTitle": false,
     "title": ""
    }
   },
   "outputs": [],
   "source": [
    "import requests\n",
    "\n",
    "# Request a list of repository organizations as per https://docs.github.com/en/rest/repos/repos#list-organization-repositories\n",
    "r = requests.get(f\"https://api.github.com/orgs/{dbutils.widgets.get('github_org')}/repos\",\n",
    "                 params = { \"per_page\": 100 },\n",
    "                 headers = { \"Authorization\": f\"Bearer {dbutils.widgets.get('github_token')}\" }\n",
    "                )\n",
    "\n",
    "# Read the JSON output into a DataFrame with select columns. No error checking in this simple example. If the above request failed,\n",
    "# the following statement will fail.\n",
    "df = spark.read.json(sc.parallelize([ r.text ])).select(\"name\",\"git_url\",\"created_at\",\"open_issues_count\",\"visibility\",\"watchers_count\")\n",
    "display(df)"
   ]
  },
  {
   "cell_type": "markdown",
   "metadata": {
    "application/vnd.databricks.v1+cell": {
     "cellMetadata": {},
     "inputWidgets": {},
     "nuid": "7dfee1b9-75a4-4f73-adc9-64ac6b70d76c",
     "showTitle": false,
     "title": ""
    }
   },
   "source": [
    "The values are now parametrized. They are no longer hardcoded which in itself is a massive improvement from a security standpoint. This change also improves usability, because now the values can be dynamically specified in one of three ways:\n",
    "* When running the notebook interactively as we are doing here, values can be specified by filling in the fields\n",
    "* When running the notebook from another notebook, values can be specified as part of the invocation\n",
    "* When running the notebook from a job, values can be specified in the **Parameters** section of the job configuration\n",
    "\n",
    "While this is definitely more secure, let's look at one final option that presents the most secure option: Databricks secrets."
   ]
  },
  {
   "cell_type": "markdown",
   "metadata": {
    "application/vnd.databricks.v1+cell": {
     "cellMetadata": {},
     "inputWidgets": {},
     "nuid": "b3890312-de44-49c2-afc8-0c0c25561ff9",
     "showTitle": false,
     "title": ""
    }
   },
   "source": [
    "## Solving the problem with Databricks secrets\n",
    "\n",
    "Databricks secrets provides a mechanism to securely store sensitive information in a way that it can be made available across the workspace. Notebooks can then pull in the information they need directly using the **`secrets`** command provided by **dbutils**.\n",
    "\n",
    "Secrets provides some important security benefits over simple parametrization:\n",
    "* Secrets are scoped, allowing you to categorize sensitive information into distinct namespaces\n",
    "* Secrets can be access controlled, allowing you to restrict which users have access to which secrets\n",
    "\n",
    "As we'll see, there's slightly more setup effort involved, however we'll also see that using secrets in your notebooks is no more difficult than parameters."
   ]
  },
  {
   "cell_type": "markdown",
   "metadata": {
    "application/vnd.databricks.v1+cell": {
     "cellMetadata": {},
     "inputWidgets": {},
     "nuid": "43a1b53d-2cd8-41bc-819a-648f41092031",
     "showTitle": false,
     "title": ""
    }
   },
   "source": [
    "### Setup\n",
    "\n",
    "At a mininum, setting up secrets involves defining a scope, then adding secrets to the scope. Both of these tasks can only be done using the Databricks CLI or the secrets API. For this lab, we'll use the API. Full information on the API can be found <a href=\"https://docs.databricks.com/dev-tools/api/latest/secrets.html\" target=\"_blank\">here</a>."
   ]
  },
  {
   "cell_type": "markdown",
   "metadata": {
    "application/vnd.databricks.v1+cell": {
     "cellMetadata": {},
     "inputWidgets": {},
     "nuid": "09c5cc15-d239-4b77-abb7-3996611360be",
     "showTitle": false,
     "title": ""
    }
   },
   "source": [
    "####Setting up API credentials\n",
    "\n",
    "If you followed the lab *Using Databricks APIs*, you'll recall that we need a base URL for the APIs and a token for API authentication before we can proceed. Run the following cell to create a landing zone for the needed inputs, then follow the instructions below."
   ]
  },
  {
   "cell_type": "code",
   "execution_count": 0,
   "metadata": {
    "application/vnd.databricks.v1+cell": {
     "cellMetadata": {},
     "inputWidgets": {},
     "nuid": "cde1c278-e344-4832-8846-ad15f8b58703",
     "showTitle": false,
     "title": ""
    }
   },
   "outputs": [],
   "source": [
    "dbutils.widgets.text(name='url', defaultValue='')\n",
    "dbutils.widgets.text(name='token', defaultValue='')\n",
    "\n",
    "from urllib.parse import urlparse,urlunsplit\n",
    "\n",
    "u = urlparse(dbutils.widgets.get('url'))\n",
    "\n",
    "import os\n",
    "\n",
    "os.environ[\"DBACADEMY_API_TOKEN\"] = f\"Authorization: Bearer {dbutils.widgets.get('token')}\"\n",
    "os.environ[\"DBACADEMY_API_URL\"] = urlunsplit((u.scheme, u.netloc, f\"/api/2.0\", \"\", \"\"))\n",
    "\n",
    "os.environ[\"DBACADEMY_GITHUB_ORG\"] = dbutils.widgets.get('github_org')\n",
    "os.environ[\"DBACADEMY_GITHUB_TOKEN\"] = dbutils.widgets.get('github_token')"
   ]
  },
  {
   "cell_type": "markdown",
   "metadata": {
    "application/vnd.databricks.v1+cell": {
     "cellMetadata": {},
     "inputWidgets": {},
     "nuid": "b89c6a17-7919-4281-ab42-e263902b744c",
     "showTitle": false,
     "title": ""
    }
   },
   "source": [
    "Now let's populate the two fields as follows.\n",
    "1. Go to <a href=\"#setting/account\" target=\"_blank\">User Settings</a> (which is also accessible from the left sidebar by selecting **Settings > User Settings**).\n",
    "1. Select the **Access tokens** tab.\n",
    "1. Click **Generate new token**.\n",
    "    1. Specify a **Comment** such as *Security lab*. Choose a short value for **Lifetime**; for the purpose of this lab, one or two days is sufficient.\n",
    "    1. Click **Generate**.\n",
    "    1. Copy the resulting token to the *token* field.\n",
    "    1. Click **Done**.\n",
    "1. Copy the URL of your workspace (the contents of the address bar in your current browser session is sufficient) into the *url* field."
   ]
  },
  {
   "cell_type": "markdown",
   "metadata": {
    "application/vnd.databricks.v1+cell": {
     "cellMetadata": {},
     "inputWidgets": {},
     "nuid": "dd51d1d7-752f-4fe8-9fee-fb98a9b55d38",
     "showTitle": false,
     "title": ""
    }
   },
   "source": [
    "### Creating a secret scope\n",
    "\n",
    "Now that we have API access, let's invoke the API for creating a new secret scope.\n",
    "\n",
    "If we were using the CLI, an equivalent command for this would be **`databricks secrets create-scope --scope mysecrets_cli`**."
   ]
  },
  {
   "cell_type": "code",
   "execution_count": 0,
   "metadata": {
    "application/vnd.databricks.v1+cell": {
     "cellMetadata": {},
     "inputWidgets": {},
     "nuid": "0f1a78cf-1f27-4c2a-99c3-9e2930086e93",
     "showTitle": false,
     "title": ""
    }
   },
   "outputs": [],
   "source": [
    "%sh cat << EOF | curl -s -X POST -H \"${DBACADEMY_API_TOKEN}\" \"${DBACADEMY_API_URL}/secrets/scopes/create\" -d @- | json_pp\n",
    "{\n",
    "  \"scope\": \"mysecrets_api\"\n",
    "}\n",
    "EOF"
   ]
  },
  {
   "cell_type": "markdown",
   "metadata": {
    "application/vnd.databricks.v1+cell": {
     "cellMetadata": {},
     "inputWidgets": {},
     "nuid": "d847c60f-6c99-467a-9f49-0d54efbb616d",
     "showTitle": false,
     "title": ""
    }
   },
   "source": [
    "#### Listing scopes\n",
    "Let's validate the scope creation by invoking the API to list scopes. The equivalent CLI command for this would be **`databricks secrets list-scopes`**."
   ]
  },
  {
   "cell_type": "code",
   "execution_count": 0,
   "metadata": {
    "application/vnd.databricks.v1+cell": {
     "cellMetadata": {},
     "inputWidgets": {},
     "nuid": "faf7c2a2-9a0b-4f15-b44b-febd882294f7",
     "showTitle": false,
     "title": ""
    }
   },
   "outputs": [],
   "source": [
    "%sh curl -s -X GET -H \"${DBACADEMY_API_TOKEN}\" \"${DBACADEMY_API_URL}/secrets/scopes/list\" | json_pp"
   ]
  },
  {
   "cell_type": "markdown",
   "metadata": {
    "application/vnd.databricks.v1+cell": {
     "cellMetadata": {},
     "inputWidgets": {},
     "nuid": "80018b94-d667-44eb-92a1-9f575835657b",
     "showTitle": false,
     "title": ""
    }
   },
   "source": [
    "### Adding secrets\n",
    "With a scope prepared, let's add two secrets containing the GitHub organization and token. In this case we will take advantage of the fact that we have widgets already populated with these values.\n",
    "\n",
    "If we were using the CLI, the equivalent command for this would be **`databricks secrets put --scope mysecrets_cli --key github_org`**. This would require an interactive shell, as it will open an editor application for you to fill in the value."
   ]
  },
  {
   "cell_type": "code",
   "execution_count": 0,
   "metadata": {
    "application/vnd.databricks.v1+cell": {
     "cellMetadata": {},
     "inputWidgets": {},
     "nuid": "19309125-ed98-4d3f-8987-282d64cadf8c",
     "showTitle": false,
     "title": ""
    }
   },
   "outputs": [],
   "source": [
    "%sh cat << EOF | curl -s -X POST -H \"${DBACADEMY_API_TOKEN}\" \"${DBACADEMY_API_URL}/secrets/put\" -d @- | json_pp\n",
    "{\n",
    "  \"scope\": \"mysecrets_api\",\n",
    "  \"key\": \"github_org\",\n",
    "  \"string_value\": \"${DBACADEMY_GITHUB_ORG}\"\n",
    "}\n",
    "EOF"
   ]
  },
  {
   "cell_type": "code",
   "execution_count": 0,
   "metadata": {
    "application/vnd.databricks.v1+cell": {
     "cellMetadata": {},
     "inputWidgets": {},
     "nuid": "68ed2c7d-6399-4d53-8f83-62ad5b4edafc",
     "showTitle": false,
     "title": ""
    }
   },
   "outputs": [],
   "source": [
    "%sh cat << EOF | curl -s -X POST -H \"${DBACADEMY_API_TOKEN}\" \"${DBACADEMY_API_URL}/secrets/put\" -d @- | json_pp\n",
    "{\n",
    "  \"scope\": \"mysecrets_api\",\n",
    "  \"key\": \"github_token\",\n",
    "  \"string_value\": \"${DBACADEMY_GITHUB_TOKEN}\"\n",
    "}\n",
    "EOF"
   ]
  },
  {
   "cell_type": "markdown",
   "metadata": {
    "application/vnd.databricks.v1+cell": {
     "cellMetadata": {},
     "inputWidgets": {},
     "nuid": "4302e6ed-b441-437f-a769-add4045c9ba5",
     "showTitle": false,
     "title": ""
    }
   },
   "source": [
    "#### Listing secrets\n",
    "Let's validate the secrets creation by invoking the API to list secrets. The equivalent CLI command for this is **`databricks secrets list mysecrets_cli`**."
   ]
  },
  {
   "cell_type": "code",
   "execution_count": 0,
   "metadata": {
    "application/vnd.databricks.v1+cell": {
     "cellMetadata": {},
     "inputWidgets": {},
     "nuid": "b91347a0-704c-413c-8481-a7b108ace049",
     "showTitle": false,
     "title": ""
    }
   },
   "outputs": [],
   "source": [
    "%sh curl -s -X GET -H \"${DBACADEMY_API_TOKEN}\" \"${DBACADEMY_API_URL}/secrets/list?scope=mysecrets_api\" | json_pp"
   ]
  },
  {
   "cell_type": "markdown",
   "metadata": {
    "application/vnd.databricks.v1+cell": {
     "cellMetadata": {},
     "inputWidgets": {},
     "nuid": "22adc984-b8b4-4308-a4f1-b08f5a013056",
     "showTitle": false,
     "title": ""
    }
   },
   "source": [
    "### Using secrets\n",
    "With our sensitive values now stored as secrets, let's update the original application to use these secrets instead. As compared to the parametrization example, the changes are minimal. Here's what needed to happen:\n",
    "* Replace **`dbutils.widgets.get()`** calls with **`dbutils.secrets.get()`**\n",
    "* To those calls, add the scope name as the first parameter\n",
    "* Ensure that the second parameter matches to the *key* value of the secret"
   ]
  },
  {
   "cell_type": "code",
   "execution_count": 0,
   "metadata": {
    "application/vnd.databricks.v1+cell": {
     "cellMetadata": {},
     "inputWidgets": {},
     "nuid": "cfcbf575-dce9-4f08-87d2-74a49452ddf0",
     "showTitle": false,
     "title": ""
    }
   },
   "outputs": [],
   "source": [
    "import requests\n",
    "dbutils.secrets.get\n",
    "# Request a list of repository organizations as per https://docs.github.com/en/rest/repos/repos#list-organization-repositories\n",
    "r = requests.get(f\"https://api.github.com/orgs/{dbutils.secrets.get('mysecrets_api', 'github_org')}/repos\",\n",
    "                 params = { \"per_page\": 100 },\n",
    "                 headers = { \"Authorization\": f\"Bearer {dbutils.secrets.get('mysecrets_api', 'github_token')}\" }\n",
    "                )\n",
    "\n",
    "# Read the JSON output into a DataFrame with select columns. No error checking in this simple example. If the above request failed,\n",
    "# the following statement will fail.\n",
    "df = spark.read.json(sc.parallelize([ r.text ])).select(\"name\",\"git_url\",\"created_at\",\"open_issues_count\",\"visibility\",\"watchers_count\")\n",
    "display(df)"
   ]
  },
  {
   "cell_type": "markdown",
   "metadata": {
    "application/vnd.databricks.v1+cell": {
     "cellMetadata": {},
     "inputWidgets": {},
     "nuid": "417992a9-049b-4d8a-b117-db8521ef6af7",
     "showTitle": false,
     "title": ""
    }
   },
   "source": [
    "That seems simple enough, but is it really secure? Let's try to access the contents of one of the secrets directly."
   ]
  },
  {
   "cell_type": "code",
   "execution_count": 0,
   "metadata": {
    "application/vnd.databricks.v1+cell": {
     "cellMetadata": {},
     "inputWidgets": {},
     "nuid": "c95c5bd2-2e20-4d1a-9802-7bd65557f293",
     "showTitle": false,
     "title": ""
    }
   },
   "outputs": [],
   "source": [
    "print(dbutils.secrets.get('mysecrets_api', 'github_token'))"
   ]
  },
  {
   "cell_type": "markdown",
   "metadata": {
    "application/vnd.databricks.v1+cell": {
     "cellMetadata": {},
     "inputWidgets": {},
     "nuid": "83905aff-79dd-4a21-b457-42953ed6fe8f",
     "showTitle": false,
     "title": ""
    }
   },
   "source": [
    "We see that the output is redacted, improving security by eliminating the chance of the real secret value accidently being included in cell output."
   ]
  },
  {
   "cell_type": "markdown",
   "metadata": {
    "application/vnd.databricks.v1+cell": {
     "cellMetadata": {},
     "inputWidgets": {},
     "nuid": "e4efcea2-4049-45df-90f8-d0030f5bfe32",
     "showTitle": false,
     "title": ""
    }
   },
   "source": [
    "### Access control\n",
    "If you followed along with the *Securing the Workspace* lab, we went over how to use access control to secure assets within the workspace. Access control extends to secrets and is managed at the scope level. Like the secrets and scopes themselves, access control lists (ACLs) for secrets must be manipulated using the CLI or API.\n",
    "\n",
    "Let's see that in action now."
   ]
  },
  {
   "cell_type": "markdown",
   "metadata": {
    "application/vnd.databricks.v1+cell": {
     "cellMetadata": {},
     "inputWidgets": {},
     "nuid": "94301c39-c6fc-4fd5-9fdb-57a2f037ad9f",
     "showTitle": false,
     "title": ""
    }
   },
   "source": [
    "### Granting access to secrets\n",
    "\n",
    "Let's grant **`READ`** access to everyone in the workspace (denoted by the special workspace local group named *users*) on the secret scope we created earlier, by invoking the API for creating a new ACL.\n",
    "\n",
    "If we were using the CLI, an equivalent command for this would be **`databricks secrets put-acl --scope mysecrets_cli --principal users --permission READ`**."
   ]
  },
  {
   "cell_type": "code",
   "execution_count": 0,
   "metadata": {
    "application/vnd.databricks.v1+cell": {
     "cellMetadata": {},
     "inputWidgets": {},
     "nuid": "a8af6aaa-312f-4bfe-8589-4a5f0c8e49a4",
     "showTitle": false,
     "title": ""
    }
   },
   "outputs": [],
   "source": [
    "%sh cat << EOF | curl -s -X POST -H \"${DBACADEMY_API_TOKEN}\" \"${DBACADEMY_API_URL}/secrets/acls/put\" -d @- | json_pp\n",
    "{\n",
    "  \"scope\": \"mysecrets_api\",\n",
    "  \"principal\": \"users\",\n",
    "  \"permission\": \"READ\"\n",
    "}\n",
    "EOF"
   ]
  },
  {
   "cell_type": "markdown",
   "metadata": {
    "application/vnd.databricks.v1+cell": {
     "cellMetadata": {},
     "inputWidgets": {},
     "nuid": "ce6ee29c-bf31-4b1b-994b-f328e73cb226",
     "showTitle": false,
     "title": ""
    }
   },
   "source": [
    "#### Listing grants\n",
    "Let's validate the ACL creation by invoking the API to list secret ACLs. The equivalent CLI command for this is **`databricks secrets list-acls mysecrets_cli`**."
   ]
  },
  {
   "cell_type": "code",
   "execution_count": 0,
   "metadata": {
    "application/vnd.databricks.v1+cell": {
     "cellMetadata": {},
     "inputWidgets": {},
     "nuid": "b2b23472-cc25-4d40-93d3-99365e7f9b8b",
     "showTitle": false,
     "title": ""
    }
   },
   "outputs": [],
   "source": [
    "%sh curl -s -X GET -H \"${DBACADEMY_API_TOKEN}\" \"${DBACADEMY_API_URL}/secrets/acls/list?scope=mysecrets_api\" | json_pp"
   ]
  },
  {
   "cell_type": "markdown",
   "metadata": {
    "application/vnd.databricks.v1+cell": {
     "cellMetadata": {},
     "inputWidgets": {},
     "nuid": "c36f3b7a-761b-4bab-b0e3-f6773dc7ae2c",
     "showTitle": false,
     "title": ""
    }
   },
   "source": [
    "Here we see the **`READ`** grant we just issued, as well as the default grant allowing the creator to **`MANAGE`** the scope."
   ]
  },
  {
   "cell_type": "markdown",
   "metadata": {
    "application/vnd.databricks.v1+cell": {
     "cellMetadata": {},
     "inputWidgets": {},
     "nuid": "5a6dff83-851b-48f3-9a85-711e8a2868b7",
     "showTitle": false,
     "title": ""
    }
   },
   "source": [
    "###Revoking grants\n",
    "The ability to revoke previously issued grants is important; let's see how to do that now.\n",
    "\n",
    "If we were using the CLI, an equivalent command for this would be **`databricks secrets delete-acl --scope mysecrets_cli --principal users`**."
   ]
  },
  {
   "cell_type": "code",
   "execution_count": 0,
   "metadata": {
    "application/vnd.databricks.v1+cell": {
     "cellMetadata": {},
     "inputWidgets": {},
     "nuid": "309c3885-4c98-43af-bd4f-9c35ef811d88",
     "showTitle": false,
     "title": ""
    }
   },
   "outputs": [],
   "source": [
    "%sh cat << EOF | curl -s -X POST -H \"${DBACADEMY_API_TOKEN}\" \"${DBACADEMY_API_URL}/secrets/acls/delete\" -d @- | json_pp\n",
    "{\n",
    "  \"scope\": \"mysecrets_api\",\n",
    "  \"principal\": \"users\"\n",
    "}\n",
    "EOF"
   ]
  },
  {
   "cell_type": "markdown",
   "metadata": {
    "application/vnd.databricks.v1+cell": {
     "cellMetadata": {},
     "inputWidgets": {},
     "nuid": "982fe4e0-b21c-4e0b-97e7-3e822a262305",
     "showTitle": false,
     "title": ""
    }
   },
   "source": [
    "Let's list the ACLs once again to validate the removal."
   ]
  },
  {
   "cell_type": "code",
   "execution_count": 0,
   "metadata": {
    "application/vnd.databricks.v1+cell": {
     "cellMetadata": {},
     "inputWidgets": {},
     "nuid": "58ef2248-944b-449e-8285-2dd22c7c49bc",
     "showTitle": false,
     "title": ""
    }
   },
   "outputs": [],
   "source": [
    "%sh curl -s -X GET -H \"${DBACADEMY_API_TOKEN}\" \"${DBACADEMY_API_URL}/secrets/acls/list?scope=mysecrets_api\" | json_pp"
   ]
  },
  {
   "cell_type": "markdown",
   "metadata": {
    "application/vnd.databricks.v1+cell": {
     "cellMetadata": {},
     "inputWidgets": {},
     "nuid": "1b8448f7-b944-4545-b4b3-f3fe7b780fc9",
     "showTitle": false,
     "title": ""
    }
   },
   "source": [
    "## Cleanup\n",
    "\n",
    "Run the following cell to delete the scope we created, which will remove the contained secrets and any associated ACLs. If using the CLI, the equivalent command would be **`databricks secrets delete-scope --scope mysecrets_cli`**."
   ]
  },
  {
   "cell_type": "code",
   "execution_count": 0,
   "metadata": {
    "application/vnd.databricks.v1+cell": {
     "cellMetadata": {},
     "inputWidgets": {},
     "nuid": "0bd7bc0c-1653-4076-a96b-5a28c312e9ec",
     "showTitle": false,
     "title": ""
    }
   },
   "outputs": [],
   "source": [
    "%sh cat << EOF | curl -s -X POST -H \"${DBACADEMY_API_TOKEN}\" \"${DBACADEMY_API_URL}/secrets/scopes/delete\" -d @- | json_pp\n",
    "{\n",
    "  \"scope\": \"mysecrets_api\"\n",
    "}\n",
    "EOF"
   ]
  }
 ],
 "metadata": {
  "application/vnd.databricks.v1+notebook": {
   "dashboards": [],
   "environmentMetadata": null,
   "language": "python",
   "notebookMetadata": {
    "pythonIndentUnit": 2
   },
   "notebookName": "4 Implementing security best practices in your notebooks",
   "widgets": {}
  }
 },
 "nbformat": 4,
 "nbformat_minor": 0
}
