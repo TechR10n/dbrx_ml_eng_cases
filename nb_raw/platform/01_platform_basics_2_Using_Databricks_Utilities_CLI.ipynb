{
 "cells": [
  {
   "cell_type": "code",
   "execution_count": 0,
   "metadata": {
    "application/vnd.databricks.v1+cell": {
     "cellMetadata": {},
     "inputWidgets": {},
     "nuid": "a43fe644-2b50-4c27-85b4-d884d3f3ee2c",
     "showTitle": false,
     "title": ""
    }
   },
   "outputs": [],
   "source": [
    "# INCLUDE_HEADER_TRUE\n",
    "# INCLUDE_FOOTER_TRUE"
   ]
  },
  {
   "cell_type": "markdown",
   "metadata": {
    "application/vnd.databricks.v1+cell": {
     "cellMetadata": {},
     "inputWidgets": {},
     "nuid": "1a04f08e-0b64-441d-a7d6-ebc13d0e3ec9",
     "showTitle": false,
     "title": ""
    }
   },
   "source": [
    "# Using Databricks Utilities and CLI\n",
    "\n",
    "In this lab you will learn how to:\n",
    "* Use Databricks utilities (**dbutils**) to perform various tasks from within your notebooks\n",
    "* Install, configure and use the Databricks CLI to remotely administer Databricks"
   ]
  },
  {
   "cell_type": "markdown",
   "metadata": {
    "application/vnd.databricks.v1+cell": {
     "cellMetadata": {},
     "inputWidgets": {},
     "nuid": "651ca7d4-b224-454c-be03-954989bd7397",
     "showTitle": false,
     "title": ""
    }
   },
   "source": [
    "##Prerequisites\n",
    "\n",
    "If you would like to follow along with this lab, you will need access to a cluster with *Single user* access mode. The *Shared* access mode does not support the operations required by this lab."
   ]
  },
  {
   "cell_type": "markdown",
   "metadata": {
    "application/vnd.databricks.v1+cell": {
     "cellMetadata": {},
     "inputWidgets": {},
     "nuid": "572c8c1c-5a82-4bbc-ab12-3b916ec5d47e",
     "showTitle": false,
     "title": ""
    }
   },
   "source": [
    "## Databricks Utilities\n",
    "\n",
    "**dbutils** is a collection of utility functions that empowers you to do more within your notebooks, making it easy to perform powerful combinations of tasks. You can use the utilities to work with object storage efficiently, chain and parametrize notebooks, and to work with secrets. dbutils are only available in the context of a notebook and have Python, R and Scala bindings.\n",
    "\n",
    "In this lab, we will explore usage using Python. Refer to the <a href=\"https://docs.databricks.com/dev-tools/databricks-utils.html\" target=\"_blank\">documentation</a> for other languages.\n",
    "\n",
    "For starters, let's invoke the online help to see available commands."
   ]
  },
  {
   "cell_type": "code",
   "execution_count": 0,
   "metadata": {
    "application/vnd.databricks.v1+cell": {
     "cellMetadata": {},
     "inputWidgets": {},
     "nuid": "9ef9ef12-c015-4966-9503-c2a751a3063b",
     "showTitle": false,
     "title": ""
    }
   },
   "outputs": [],
   "source": [
    "dbutils.help()"
   ]
  },
  {
   "cell_type": "markdown",
   "metadata": {
    "application/vnd.databricks.v1+cell": {
     "cellMetadata": {},
     "inputWidgets": {},
     "nuid": "337a23b0-1413-40f3-9bdb-ed3ae5d92822",
     "showTitle": false,
     "title": ""
    }
   },
   "source": [
    "### Parametrizing notebooks with widgets\n",
    "\n",
    "Let's look at an example usage of dbutils: creating input widgets that allow you to add parameters to your notebooks and dashboards. Let's try a simple example that creates a text input field named *token*."
   ]
  },
  {
   "cell_type": "code",
   "execution_count": 0,
   "metadata": {
    "application/vnd.databricks.v1+cell": {
     "cellMetadata": {},
     "inputWidgets": {},
     "nuid": "31dc3521-b68a-421d-97fc-846ee00e4e59",
     "showTitle": false,
     "title": ""
    }
   },
   "outputs": [],
   "source": [
    "dbutils.widgets.text(name='token', defaultValue='')"
   ]
  },
  {
   "cell_type": "markdown",
   "metadata": {
    "application/vnd.databricks.v1+cell": {
     "cellMetadata": {},
     "inputWidgets": {},
     "nuid": "f65e47ce-361d-4d47-90e7-b20a1debc5c6",
     "showTitle": false,
     "title": ""
    }
   },
   "source": [
    "#### Widgets in Python applications\n",
    "\n",
    "As of DBR 11.0, Databricks recommends using **ipywidgets** for interactive widgets in Python applications. **ipywidgets** provides a broader suite of widgets with a richer programming interface.\n",
    "\n",
    "In this lab, we'll stick to Databricks widgets, but for the sake of illustration, the code below exemplifies usage that is roughly equivalent to what we're doing here:\n",
    "```\n",
    "import ipywidgets as w\n",
    "token_widget = w.Text(description='Token:')\n",
    "token_widget\n",
    "```\n",
    "The input value can be retrieved as follows:\n",
    "```\n",
    "token_widget.value\n",
    "```"
   ]
  },
  {
   "cell_type": "markdown",
   "metadata": {
    "application/vnd.databricks.v1+cell": {
     "cellMetadata": {},
     "inputWidgets": {},
     "nuid": "aefeedc2-5415-4f68-9f25-dfb622608463",
     "showTitle": false,
     "title": ""
    }
   },
   "source": [
    "### Accessing DBFS\n",
    "\n",
    "Let's look at another example usage of dbutils: accessing and managing DBFS (Databricks File System). DBFS is a distributed file system mounted into a Databricks workspace and available on all Databricks clusters associated with that workspace. DBFS is an abstraction on top of scalable object storage that provides an optimized interface that maps to native cloud storage API calls. It's peristent, unlike the ephemeral file systems that clusters use, and provides a convenient location for exchanging information between the workspace and running clusters.\n",
    "\n",
    "Let's access the online help for the **`fs`** command."
   ]
  },
  {
   "cell_type": "code",
   "execution_count": 0,
   "metadata": {
    "application/vnd.databricks.v1+cell": {
     "cellMetadata": {},
     "inputWidgets": {},
     "nuid": "e2cbe959-a792-48ea-9754-7dccd0bb69bf",
     "showTitle": false,
     "title": ""
    }
   },
   "outputs": [],
   "source": [
    "dbutils.fs.help()"
   ]
  },
  {
   "cell_type": "markdown",
   "metadata": {
    "application/vnd.databricks.v1+cell": {
     "cellMetadata": {},
     "inputWidgets": {},
     "nuid": "3fa2b876-3d25-4519-9485-5ee0faefb4d7",
     "showTitle": false,
     "title": ""
    }
   },
   "source": [
    "#### Reading from DBFS\n",
    "\n",
    "Now let's invoke the **`fs`** command to display the contents of the topmost folder in DBFS. Wrapping this into a call to **`display()`** nicely formats it as a table."
   ]
  },
  {
   "cell_type": "code",
   "execution_count": 0,
   "metadata": {
    "application/vnd.databricks.v1+cell": {
     "cellMetadata": {},
     "inputWidgets": {},
     "nuid": "ab32c6f5-dd08-4815-aea7-6521a57264d8",
     "showTitle": false,
     "title": ""
    }
   },
   "outputs": [],
   "source": [
    "display(dbutils.fs.ls(\"/\"))"
   ]
  },
  {
   "cell_type": "markdown",
   "metadata": {
    "application/vnd.databricks.v1+cell": {
     "cellMetadata": {},
     "inputWidgets": {},
     "nuid": "b52fdf8d-cf31-4276-8e49-cb6b2992f2de",
     "showTitle": false,
     "title": ""
    }
   },
   "source": [
    "#### Creating a file in DBFS\n",
    "\n",
    "Let's create a file in DBFS, */tmp/token* (overwriting, if needed) that contains the value specified in the widget we created earlier."
   ]
  },
  {
   "cell_type": "code",
   "execution_count": 0,
   "metadata": {
    "application/vnd.databricks.v1+cell": {
     "cellMetadata": {},
     "inputWidgets": {},
     "nuid": "7718dc74-3550-4079-be6f-773063e7e454",
     "showTitle": false,
     "title": ""
    }
   },
   "outputs": [],
   "source": [
    "dbutils.fs.put('/tmp/token', dbutils.widgets.get('token'), True)"
   ]
  },
  {
   "cell_type": "markdown",
   "metadata": {
    "application/vnd.databricks.v1+cell": {
     "cellMetadata": {},
     "inputWidgets": {},
     "nuid": "425aaffd-2dad-4e4a-89bb-d0cb3506e6cf",
     "showTitle": false,
     "title": ""
    }
   },
   "source": [
    "Before proceeding, create a personal access token and paste its value into the *token* widget.\n",
    "1. Go to <a href=\"#setting/account\" target=\"_blank\">User Settings</a> (which is also accessible from the left sidebar by selecting **Settings > User Settings**).\n",
    "1. Select the **Access tokens** tab.\n",
    "1. Click **Generate new token**.\n",
    "    1. Specify a **Comment** such as *CLI Test*. Choose a short value for **Lifetime**; for the purpose of this lab, one or two days is sufficient.\n",
    "    1. Click **Generate**.\n",
    "    1. Copy the resulting token to the clipboard and click **Done**.\n",
    "1. Paste the generated token into the *token* widget and proceed.\n",
    "\n",
    "Default widget behavior will automatically trigger the execution of any cell that references the widget's value; thus the */tmp/token* file will automatically be rewritten after you paste the token."
   ]
  },
  {
   "cell_type": "markdown",
   "metadata": {
    "application/vnd.databricks.v1+cell": {
     "cellMetadata": {},
     "inputWidgets": {},
     "nuid": "bba027a2-c4ca-499c-b626-971d5af337e5",
     "showTitle": false,
     "title": ""
    }
   },
   "source": [
    "## Databricks command-line interface\n",
    "\n",
    "The Databricks command-line interface (CLI) enables you to automate tasks through an easy-to-use interface to the Databricks platform. Built on top of the Databricks REST APIs, Databricks CLI is organized into command groups allowing you to perform a variety of tasks.\n",
    "\n",
    "Users typically install and run the client in their own environment, where they can invoke commands manually or integrate the CLI with an automation framework of some sort. The CLI is implemented in Python and can be used from any shell-based environment that has Python support (2.7.9+ or 3.7+).\n",
    "\n",
    "In this lab, we will take advantage of the execution environment provided by the attached all-purpose cluster for the purpose of demonstrating installation and usage."
   ]
  },
  {
   "cell_type": "markdown",
   "metadata": {
    "application/vnd.databricks.v1+cell": {
     "cellMetadata": {},
     "inputWidgets": {},
     "nuid": "08406fb9-661a-4058-b072-38b26ebb07a2",
     "showTitle": false,
     "title": ""
    }
   },
   "source": [
    "### Installing the CLI\n",
    "\n",
    "Let 's install the CLI using **`pip`**. Please note the following peculiarites that relate to performing this on a Databricks cluster using a notebook:\n",
    "\n",
    "* We precede the actual command with the **`%sh`** magic command to run it in a command-line shell on the cluster. In a conventional shell environment, this would not be necessary and we would simply issue the **`pip install`** command directly.\n",
    "* The resulting software is installed as part of an ephemeral execution environment. You will need to reinstall and reconfigure the CLI if the cluster is restarted, or even if you simply reattach to it. In a conventional environment, the installation and configuration would be persistent."
   ]
  },
  {
   "cell_type": "code",
   "execution_count": 0,
   "metadata": {
    "application/vnd.databricks.v1+cell": {
     "cellMetadata": {},
     "inputWidgets": {},
     "nuid": "49eaa2e4-bcbb-435c-a28f-d52af7027795",
     "showTitle": false,
     "title": ""
    }
   },
   "outputs": [],
   "source": [
    "%sh pip install databricks-cli"
   ]
  },
  {
   "cell_type": "markdown",
   "metadata": {
    "application/vnd.databricks.v1+cell": {
     "cellMetadata": {},
     "inputWidgets": {},
     "nuid": "42889118-9b07-41af-8db4-e3c6dae9462f",
     "showTitle": false,
     "title": ""
    }
   },
   "source": [
    "Let's perform a basic test of the installation by invoking the **`databricks`** command. Once again, we need to precede the command with the **`%sh`** magic command since we are running this in the context of a notebook cell."
   ]
  },
  {
   "cell_type": "code",
   "execution_count": 0,
   "metadata": {
    "application/vnd.databricks.v1+cell": {
     "cellMetadata": {},
     "inputWidgets": {},
     "nuid": "40ada246-a659-4a69-9a77-05d3981b52e7",
     "showTitle": false,
     "title": ""
    }
   },
   "outputs": [],
   "source": [
    "%sh databricks --help"
   ]
  },
  {
   "cell_type": "markdown",
   "metadata": {
    "application/vnd.databricks.v1+cell": {
     "cellMetadata": {},
     "inputWidgets": {},
     "nuid": "27af8288-3806-4b2f-b6ff-9954033d167c",
     "showTitle": false,
     "title": ""
    }
   },
   "source": [
    "### Configuring the CLI\n",
    "\n",
    "Before we can run any commands that interact with the Databricks environment, we need to configure the CLI, which sets up authentication. Let's review the options available."
   ]
  },
  {
   "cell_type": "code",
   "execution_count": 0,
   "metadata": {
    "application/vnd.databricks.v1+cell": {
     "cellMetadata": {},
     "inputWidgets": {},
     "nuid": "919f3fe9-21e8-436a-bdfe-b4ae1c90dfbd",
     "showTitle": false,
     "title": ""
    }
   },
   "outputs": [],
   "source": [
    "%sh databricks configure --help"
   ]
  },
  {
   "cell_type": "markdown",
   "metadata": {
    "application/vnd.databricks.v1+cell": {
     "cellMetadata": {},
     "inputWidgets": {},
     "nuid": "850a4aa7-5d13-493e-9015-7a92053e7a6b",
     "showTitle": false,
     "title": ""
    }
   },
   "source": [
    "Let's configure the CLI now by specifying the URL of our workspace and a personal access token as authentication credentials.\n",
    "\n",
    "Before running this cell, replace the string *URL* with the URL of your workspace, stripping off the path (that is, everything after the host).\n",
    "\n",
    "For the token, we're using the file created earlier in conjunction with the **`--token-file`** option. When running this in an interactive shell environment, you would have the option using the **`--token`** option and specifying the token interactively."
   ]
  },
  {
   "cell_type": "code",
   "execution_count": 0,
   "metadata": {
    "application/vnd.databricks.v1+cell": {
     "cellMetadata": {},
     "inputWidgets": {},
     "nuid": "d5eae546-79e8-42cf-89fa-ff1ddb9cb391",
     "showTitle": false,
     "title": ""
    }
   },
   "outputs": [],
   "source": [
    "%sh databricks configure --host URL --token-file /dbfs/tmp/token"
   ]
  },
  {
   "cell_type": "markdown",
   "metadata": {
    "application/vnd.databricks.v1+cell": {
     "cellMetadata": {},
     "inputWidgets": {},
     "nuid": "eccd5ba5-eb42-496f-8d8a-aed69ed6727c",
     "showTitle": false,
     "title": ""
    }
   },
   "source": [
    "With this simple configuration complete, you can now begin managing your Databricks environment through the CLI. Note that in this lab we are administering the current workspace, though we can administer any workspace this way with the appropriate URL and token generated from that workspace."
   ]
  },
  {
   "cell_type": "markdown",
   "metadata": {
    "application/vnd.databricks.v1+cell": {
     "cellMetadata": {},
     "inputWidgets": {},
     "nuid": "c4198f93-1d4e-4b63-b862-a4f04c0d789f",
     "showTitle": false,
     "title": ""
    }
   },
   "source": [
    "### Using the CLI\n",
    "\n",
    "The CLI essentially provides an interface to the APIs that's easy to use from a command-line shell. Not all of the APIs are covered, but there's a lot you can do with the command-line interface, and we're only going to scratch the surface here. For a full discourse on all the options available, refer to the <a href=\"https://docs.databricks.com/dev-tools/cli/index.html\" target=\"_blank\">documentation</a>."
   ]
  },
  {
   "cell_type": "markdown",
   "metadata": {
    "application/vnd.databricks.v1+cell": {
     "cellMetadata": {},
     "inputWidgets": {},
     "nuid": "dd32de68-b2c2-4672-bc39-79b1ab911572",
     "showTitle": false,
     "title": ""
    }
   },
   "source": [
    "#### Exploring and managing the data hierarchy\n",
    "\n",
    "Let's examine the data hierarchy beginning at the metastore level. First, let's list the metastores available."
   ]
  },
  {
   "cell_type": "code",
   "execution_count": 0,
   "metadata": {
    "application/vnd.databricks.v1+cell": {
     "cellMetadata": {},
     "inputWidgets": {},
     "nuid": "a251601a-fe4a-45f9-89ca-fc4cebaf3a7b",
     "showTitle": false,
     "title": ""
    }
   },
   "outputs": [],
   "source": [
    "%sh databricks unity-catalog metastores list"
   ]
  },
  {
   "cell_type": "markdown",
   "metadata": {
    "application/vnd.databricks.v1+cell": {
     "cellMetadata": {},
     "inputWidgets": {},
     "nuid": "7f4fcfed-0a7b-480a-8b13-cf8becf96c4d",
     "showTitle": false,
     "title": ""
    }
   },
   "source": [
    "This lists information about *all* metastores defined in the Databricks account governing this workspace. The following cell retrieves information regarding the metastore currently assigned to the workspace."
   ]
  },
  {
   "cell_type": "code",
   "execution_count": 0,
   "metadata": {
    "application/vnd.databricks.v1+cell": {
     "cellMetadata": {},
     "inputWidgets": {},
     "nuid": "4ec9db7f-adc8-4ecc-b6d3-a42c2bf52a06",
     "showTitle": false,
     "title": ""
    }
   },
   "outputs": [],
   "source": [
    "%sh databricks unity-catalog metastores get-summary"
   ]
  },
  {
   "cell_type": "markdown",
   "metadata": {
    "application/vnd.databricks.v1+cell": {
     "cellMetadata": {},
     "inputWidgets": {},
     "nuid": "7530964c-079d-498a-b1e5-551631ad4453",
     "showTitle": false,
     "title": ""
    }
   },
   "source": [
    "Now let's browse the structure within the currently assigned metastore, starting with the catalogs."
   ]
  },
  {
   "cell_type": "code",
   "execution_count": 0,
   "metadata": {
    "application/vnd.databricks.v1+cell": {
     "cellMetadata": {},
     "inputWidgets": {},
     "nuid": "376cf53d-c154-4579-87d7-40e59d77ed19",
     "showTitle": false,
     "title": ""
    }
   },
   "outputs": [],
   "source": [
    "%sh databricks unity-catalog catalogs list"
   ]
  },
  {
   "cell_type": "markdown",
   "metadata": {
    "application/vnd.databricks.v1+cell": {
     "cellMetadata": {},
     "inputWidgets": {},
     "nuid": "50728a8b-98a0-465c-844d-e17122718382",
     "showTitle": false,
     "title": ""
    }
   },
   "source": [
    "Notice that *hive_metastore* and *samples* are not listed, since these are not real catalogs. They are virtual entries mapped into the catalog namespace by Unity Catalog for convenient access to the local Hive metastore and Databricks sample datasets.\n",
    "\n",
    "Now let's list the schemas within the catalog *main*."
   ]
  },
  {
   "cell_type": "code",
   "execution_count": 0,
   "metadata": {
    "application/vnd.databricks.v1+cell": {
     "cellMetadata": {},
     "inputWidgets": {},
     "nuid": "61deb851-fea9-4a5f-8ff1-cd2e2aa6f99e",
     "showTitle": false,
     "title": ""
    }
   },
   "outputs": [],
   "source": [
    "%sh databricks unity-catalog schemas list --catalog-name main"
   ]
  },
  {
   "cell_type": "markdown",
   "metadata": {
    "application/vnd.databricks.v1+cell": {
     "cellMetadata": {},
     "inputWidgets": {},
     "nuid": "e9efb437-fd2a-4ac0-bf4a-ea0dec642416",
     "showTitle": false,
     "title": ""
    }
   },
   "source": [
    "Now let's see the tables within the *default* schema of *main*."
   ]
  },
  {
   "cell_type": "code",
   "execution_count": 0,
   "metadata": {
    "application/vnd.databricks.v1+cell": {
     "cellMetadata": {},
     "inputWidgets": {},
     "nuid": "269357ec-ab63-4864-bae5-82db9b54cdf6",
     "showTitle": false,
     "title": ""
    }
   },
   "outputs": [],
   "source": [
    "%sh databricks unity-catalog tables list --catalog-name main --schema-name default"
   ]
  },
  {
   "cell_type": "markdown",
   "metadata": {
    "application/vnd.databricks.v1+cell": {
     "cellMetadata": {},
     "inputWidgets": {},
     "nuid": "a4791c22-6d26-4dfb-9309-f5c9fb542ad5",
     "showTitle": false,
     "title": ""
    }
   },
   "source": [
    "Now that we've browsed the data structures, let's create a new schema named *myschema_cli* within the *main* catalog. Note that this will fail if you don't have appropriate privileges on *main*."
   ]
  },
  {
   "cell_type": "code",
   "execution_count": 0,
   "metadata": {
    "application/vnd.databricks.v1+cell": {
     "cellMetadata": {},
     "inputWidgets": {},
     "nuid": "5adcc4a3-f2e9-4a70-ba0d-6fcfa1c39a80",
     "showTitle": false,
     "title": ""
    }
   },
   "outputs": [],
   "source": [
    "%sh databricks unity-catalog schemas create --catalog-name main --name myschema_cli"
   ]
  },
  {
   "cell_type": "markdown",
   "metadata": {
    "application/vnd.databricks.v1+cell": {
     "cellMetadata": {},
     "inputWidgets": {},
     "nuid": "9bffc367-0e04-4a39-9993-688694312f45",
     "showTitle": false,
     "title": ""
    }
   },
   "source": [
    "Open the **Data** page to validate the creation of the schema."
   ]
  },
  {
   "cell_type": "markdown",
   "metadata": {
    "application/vnd.databricks.v1+cell": {
     "cellMetadata": {},
     "inputWidgets": {},
     "nuid": "96dfccca-e6a0-4a65-a087-47893ab4b5d4",
     "showTitle": false,
     "title": ""
    }
   },
   "source": [
    "#### Exploring and managing workspace assets\n",
    "\n",
    "So far we've used the CLI to browse and manage data assets, but it's also possible to automate the management of workspace assets and compute resources through the CLI. As an example, let's use the CLI to create an all-purpose cluster. Let's first take a look at the options available."
   ]
  },
  {
   "cell_type": "code",
   "execution_count": 0,
   "metadata": {
    "application/vnd.databricks.v1+cell": {
     "cellMetadata": {},
     "inputWidgets": {},
     "nuid": "3e284914-970a-4277-a7f0-130861506bf5",
     "showTitle": false,
     "title": ""
    }
   },
   "outputs": [],
   "source": [
    "%sh databricks clusters create --help"
   ]
  },
  {
   "cell_type": "markdown",
   "metadata": {
    "application/vnd.databricks.v1+cell": {
     "cellMetadata": {},
     "inputWidgets": {},
     "nuid": "be3463d9-1d3c-4f48-a244-4ec99a43a6df",
     "showTitle": false,
     "title": ""
    }
   },
   "source": [
    "Let's create a JSON file in DBFS to describe the cluster configuration. The parameters specified herre are explained in the <a href=\"https://docs.databricks.com/api/latest/clusters.html#create\" target=\"_blank\">API documentation</a>, though you can also obtain sample JSON from the cluster creation UI as well.\n",
    "\n",
    "Note that the configuration file is not strictly necessary; the **`--json`** option allows us to specify JSON inline, however this is cumbersome to use so we use a file instead."
   ]
  },
  {
   "cell_type": "code",
   "execution_count": 0,
   "metadata": {
    "application/vnd.databricks.v1+cell": {
     "cellMetadata": {},
     "inputWidgets": {},
     "nuid": "1b9f2a8c-7132-418f-80d6-ab27a4662803",
     "showTitle": false,
     "title": ""
    }
   },
   "outputs": [],
   "source": [
    "dbutils.fs.put(\n",
    "    \"/tmp/cluster.json\",\n",
    "    \"\"\"{\n",
    "        \"num_workers\": 1,\n",
    "        \"cluster_name\": \"mycluster_cli\",\n",
    "        \"spark_version\": \"11.1.x-scala2.12\",\n",
    "        \"node_type_id\": \"i3.xlarge\",\n",
    "        \"autotermination_minutes\": 120,\n",
    "        \"data_security_mode\": \"USER_ISOLATION\",\n",
    "        \"runtime_engine\": \"STANDARD\"\n",
    "    }\"\"\",\n",
    "    True)"
   ]
  },
  {
   "cell_type": "markdown",
   "metadata": {
    "application/vnd.databricks.v1+cell": {
     "cellMetadata": {},
     "inputWidgets": {},
     "nuid": "2d14944c-8a6f-49ea-9756-3b344c09e50c",
     "showTitle": false,
     "title": ""
    }
   },
   "source": [
    "With the configuration file in place, let's create the cluster."
   ]
  },
  {
   "cell_type": "code",
   "execution_count": 0,
   "metadata": {
    "application/vnd.databricks.v1+cell": {
     "cellMetadata": {},
     "inputWidgets": {},
     "nuid": "7c3f25cb-a516-40ea-87c1-085d08e8acd9",
     "showTitle": false,
     "title": ""
    }
   },
   "outputs": [],
   "source": [
    "%sh databricks clusters create --json-file /dbfs/tmp/cluster.json"
   ]
  },
  {
   "cell_type": "markdown",
   "metadata": {
    "application/vnd.databricks.v1+cell": {
     "cellMetadata": {},
     "inputWidgets": {},
     "nuid": "dfbd1e27-7464-4ad5-9ac5-1047445c0913",
     "showTitle": false,
     "title": ""
    }
   },
   "source": [
    "Note the value for *cluster_id*; we will need this shortly.\n",
    "\n",
    "Now open the <a href=\"#setting/clusters\" target=\"_blank\">Compute</a> page (which is also accessible from the left sidebar) to validate the creation of the cluster."
   ]
  },
  {
   "cell_type": "markdown",
   "metadata": {
    "application/vnd.databricks.v1+cell": {
     "cellMetadata": {},
     "inputWidgets": {},
     "nuid": "41137513-1468-41f5-ba5e-c4af6d997f9a",
     "showTitle": false,
     "title": ""
    }
   },
   "source": [
    "## Cleanup\n",
    "\n",
    "Run the following cells to remove the resources we created throughout this lab. This further illustrates how dbtuils and CLI can be used to manage resources."
   ]
  },
  {
   "cell_type": "markdown",
   "metadata": {
    "application/vnd.databricks.v1+cell": {
     "cellMetadata": {},
     "inputWidgets": {},
     "nuid": "34f6df05-85ac-48ee-b91b-fd28644b2b61",
     "showTitle": false,
     "title": ""
    }
   },
   "source": [
    "First, let's clean up the DBFS files."
   ]
  },
  {
   "cell_type": "code",
   "execution_count": 0,
   "metadata": {
    "application/vnd.databricks.v1+cell": {
     "cellMetadata": {},
     "inputWidgets": {},
     "nuid": "9460fc1b-afad-4c86-9ecf-2758791d3116",
     "showTitle": false,
     "title": ""
    }
   },
   "outputs": [],
   "source": [
    "dbutils.fs.rm(\"/tmp/cluster.json\")\n",
    "dbutils.fs.rm(\"/tmp/token\")"
   ]
  },
  {
   "cell_type": "markdown",
   "metadata": {
    "application/vnd.databricks.v1+cell": {
     "cellMetadata": {},
     "inputWidgets": {},
     "nuid": "d03f97b8-8113-45c8-b5f5-7e3dd1025938",
     "showTitle": false,
     "title": ""
    }
   },
   "source": [
    "Let's use the CLI to delete the schema we created."
   ]
  },
  {
   "cell_type": "code",
   "execution_count": 0,
   "metadata": {
    "application/vnd.databricks.v1+cell": {
     "cellMetadata": {},
     "inputWidgets": {},
     "nuid": "5be70d70-fac8-493b-bbf3-3556407cbaac",
     "showTitle": false,
     "title": ""
    }
   },
   "outputs": [],
   "source": [
    "%sh databricks unity-catalog schemas delete --full-name main.myschema_cli"
   ]
  },
  {
   "cell_type": "markdown",
   "metadata": {
    "application/vnd.databricks.v1+cell": {
     "cellMetadata": {},
     "inputWidgets": {},
     "nuid": "657f2b78-ec26-47a2-91ad-36f1114ab24e",
     "showTitle": false,
     "title": ""
    }
   },
   "source": [
    "Finally, let's use the CLI to delete the cluster we created. Note that you must subsitute the text *CLUSTER_ID* with the actual cluster id, which was output from the cluster create command earlier. Let's perform that substitution, then run the cell."
   ]
  },
  {
   "cell_type": "code",
   "execution_count": 0,
   "metadata": {
    "application/vnd.databricks.v1+cell": {
     "cellMetadata": {},
     "inputWidgets": {},
     "nuid": "0ed68021-3a07-42c5-9de9-4778b6ad03ae",
     "showTitle": false,
     "title": ""
    }
   },
   "outputs": [],
   "source": [
    "%sh databricks clusters permanent-delete --cluster-id \"CLUSTER_ID\""
   ]
  }
 ],
 "metadata": {
  "application/vnd.databricks.v1+notebook": {
   "dashboards": [],
   "environmentMetadata": null,
   "language": "python",
   "notebookMetadata": {
    "pythonIndentUnit": 2
   },
   "notebookName": "2 Using Databricks Utilities and CLI",
   "widgets": {}
  }
 },
 "nbformat": 4,
 "nbformat_minor": 0
}
