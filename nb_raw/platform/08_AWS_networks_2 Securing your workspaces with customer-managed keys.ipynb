{
 "cells": [
  {
   "cell_type": "markdown",
   "metadata": {
    "application/vnd.databricks.v1+cell": {
     "cellMetadata": {},
     "inputWidgets": {},
     "nuid": "237ced7f-af6f-4e73-a881-d876ccb16178",
     "showTitle": false,
     "title": ""
    }
   },
   "source": [
    "\n",
    "<div style=\"text-align: center; line-height: 0; padding-top: 9px;\">\n",
    "  <img src=\"https://databricks.com/wp-content/uploads/2018/03/db-academy-rgb-1200px.png\" alt=\"Databricks Learning\" style=\"width: 600px\">\n",
    "</div>"
   ]
  },
  {
   "cell_type": "markdown",
   "metadata": {
    "application/vnd.databricks.v1+cell": {
     "cellMetadata": {},
     "inputWidgets": {},
     "nuid": "1eccb68c-26e2-426a-a948-ce1282d4ee08",
     "showTitle": false,
     "title": ""
    }
   },
   "source": [
    "# Securing your workspaces with customer-managed keys\n",
    "\n",
    "In this lab you will learn how to:\n",
    "* Create your own AWS customer-managed keys\n",
    "* Apply an AWS key to a new workspace to provide security across:\n",
    "   * the data plane (root storage and cluster local storage)\n",
    "   * the control plane\n",
    "* Apply an AWS key to an existing workspace"
   ]
  },
  {
   "cell_type": "markdown",
   "metadata": {
    "application/vnd.databricks.v1+cell": {
     "cellMetadata": {},
     "inputWidgets": {},
     "nuid": "aaa72676-90e5-48df-a51a-0dcbd459c387",
     "showTitle": false,
     "title": ""
    }
   },
   "source": [
    "## Prerequisites\n",
    "\n",
    "If you would like to follow along with this lab, you will need:\n",
    "* administrator access to your AWS console, with the ability to create keys\n",
    "* account with Enterprise pricing tier\n",
    "* account administrator capabilities in your Databricks account\n",
    "* an application of your choice to launch REST API commands (cURL, Postman, or others). In this lab we will use cURL within the execution environment provided by an existing workspace"
   ]
  },
  {
   "cell_type": "markdown",
   "metadata": {
    "application/vnd.databricks.v1+cell": {
     "cellMetadata": {},
     "inputWidgets": {},
     "nuid": "cd1b3840-9448-4e2c-8db3-a26e40d4d52e",
     "showTitle": false,
     "title": ""
    }
   },
   "source": [
    "## Creating a key\n",
    "\n",
    "Customer-managed keys are KMS keys in your AWS account that you create, own, and manage. You have full control over these KMS keys, including the ability to enable and disable them, maintain their policies, rotating their cryptographic material, and more.\n",
    "\n",
    "These keys are useful for a variety of purposes, including the ability to apply them to your workspaces to maintain control of the encryption of all related resources.\n",
    "\n",
    "Let's create one now.\n",
    "\n",
    "1. In the AWS KMS console, let's select the region in which we're deploying our workspaces; let's use *us-east-1*.\n",
    "1. Click **Create key**.\n",
    "1. For **Key type** and **Key usage**, select *Symmetric* and *Encrypt and decrypt* respectively.\n",
    "1. In the next page, let's specify and alias (use *dbacademy-test-cmk*).\n",
    "1. For now, let's skip key administrotrors and permissions and create the key.\n",
    "1. Let's take note of the **Alias** and **ARN** values, as we'll need those to create the key credential momentarily."
   ]
  },
  {
   "cell_type": "markdown",
   "metadata": {
    "application/vnd.databricks.v1+cell": {
     "cellMetadata": {},
     "inputWidgets": {},
     "nuid": "1c50984a-7b8d-4972-a815-3f7e36b5f292",
     "showTitle": false,
     "title": ""
    }
   },
   "source": [
    "### Configuring the key policy\n",
    "\n",
    "With a key configured, we need to adjust the policy to enable Databricks to encrypt and decrypt using the key. The policy template we provide below is a comprehensive policy that covers all use cases:\n",
    "* Encrypting data in the control plane\n",
    "* Encrypting workspace root storage\n",
    "* Encrypting cluster EBS volumes\n",
    "\n",
    "The policy can be trimmed down accordingly if you aren't planning to apply your key across all these use cases.\n",
    "\n",
    "1. Let's click **Switch to policy view**, then click **Edit**.\n",
    "1. Now let's insert the following JSON as a new element in the *Statement* array, replacing instances of *<DATABRICKS_ACCOUNT_ID>* with your your actual Databricks account id:\n",
    "   ```\n",
    "   {\n",
    "     \"Sid\": \"Allow Databricks to use KMS key for DBFS\",\n",
    "     \"Effect\": \"Allow\",\n",
    "     \"Principal\":{\n",
    "       \"AWS\":\"arn:aws:iam::414351767826:root\"\n",
    "     },\n",
    "     \"Action\": [\n",
    "       \"kms:Encrypt\",\n",
    "       \"kms:Decrypt\",\n",
    "       \"kms:ReEncrypt*\",\n",
    "       \"kms:GenerateDataKey*\",\n",
    "       \"kms:DescribeKey\"\n",
    "     ],\n",
    "     \"Resource\": \"*\",\n",
    "     \"Condition\": {\n",
    "       \"StringEquals\": {\n",
    "         \"aws:PrincipalTag/DatabricksAccountId\": \"<DATABRICKS_ACCOUNT_ID>\"\n",
    "       }\n",
    "     }\n",
    "   },\n",
    "   {\n",
    "     \"Sid\": \"Allow Databricks to use KMS key for DBFS (Grants)\",\n",
    "     \"Effect\": \"Allow\",\n",
    "     \"Principal\":{\n",
    "       \"AWS\":\"arn:aws:iam::414351767826:root\"\n",
    "     },\n",
    "     \"Action\": [\n",
    "       \"kms:CreateGrant\",\n",
    "       \"kms:ListGrants\",\n",
    "       \"kms:RevokeGrant\"\n",
    "     ],\n",
    "     \"Resource\": \"*\",\n",
    "     \"Condition\": {\n",
    "       \"StringEquals\": {\n",
    "         \"aws:PrincipalTag/DatabricksAccountId\": \"<DATABRICKS_ACCOUNT_ID>\"\n",
    "       },\n",
    "       \"Bool\": {\n",
    "         \"kms:GrantIsForAWSResource\": \"true\"\n",
    "       }\n",
    "     }\n",
    "   },\n",
    "   {\n",
    "     \"Sid\": \"Allow Databricks to use KMS key for EBS\",\n",
    "     \"Effect\": \"Allow\",\n",
    "     \"Principal\": {\n",
    "       \"AWS\": \"arn:aws:iam::414351767826:root\"\n",
    "     },\n",
    "     \"Action\": [\n",
    "       \"kms:Decrypt\",\n",
    "       \"kms:GenerateDataKey*\",\n",
    "       \"kms:CreateGrant\",\n",
    "       \"kms:DescribeKey\"\n",
    "     ],\n",
    "     \"Resource\": \"*\",\n",
    "     \"Condition\": {\n",
    "       \"ForAnyValue:StringLike\": {\n",
    "         \"kms:ViaService\": \"ec2.*.amazonaws.com\"\n",
    "       }\n",
    "     }\n",
    "   },\n",
    "   {\n",
    "     \"Sid\": \"Allow Databricks to use KMS key for managed services in the control plane\",\n",
    "     \"Effect\": \"Allow\",\n",
    "     \"Principal\": {\n",
    "       \"AWS\": \"arn:aws:iam::414351767826:root\"\n",
    "     },\n",
    "     \"Action\": [\n",
    "       \"kms:Encrypt\",\n",
    "       \"kms:Decrypt\"\n",
    "     ],\n",
    "     \"Resource\": \"*\",\n",
    "     \"Condition\": {\n",
    "       \"StringEquals\": {\n",
    "         \"aws:PrincipalTag/DatabricksAccountId\": \"<DATABRICKS_ACCOUNT_ID>\"\n",
    "       }\n",
    "     }\n",
    "   }\n",
    "   ```\n",
    "1. Finally, let's save our changes."
   ]
  },
  {
   "cell_type": "markdown",
   "metadata": {
    "application/vnd.databricks.v1+cell": {
     "cellMetadata": {},
     "inputWidgets": {},
     "nuid": "a6dad4ae-7c37-4b0c-b5fb-b01d25ccb9f7",
     "showTitle": false,
     "title": ""
    }
   },
   "source": [
    "## Using the Accounts API\n",
    "\n",
    "In order to use a customer-managed key in a workspace, we must create a key configuration. Managing key configurations and applying them to workspaces cannot currently be done in the account console UI, so we must instead use the Accounts API. This API requires three elements for authentication:\n",
    "* the Databricks account id\n",
    "* the username corresponding to a user with account administrator capabilities\n",
    "* the password for that user\n",
    "\n",
    "Of course, you're free to use whichever tool you like to issue the REST API calls but in this lab, we'll use a cluster execution environment to issue the commands using cURL. With that said, if you don't already have access to a cluster and are following along, let's create one now and return to the next cell and run it to perform some setup."
   ]
  },
  {
   "cell_type": "markdown",
   "metadata": {
    "application/vnd.databricks.v1+cell": {
     "cellMetadata": {},
     "inputWidgets": {},
     "nuid": "fb09259a-3a85-46d8-9a9d-c2deca9cc3e0",
     "showTitle": false,
     "title": ""
    }
   },
   "source": [
    "### Setting up authentication\n",
    "\n",
    "The following cell will establish some text fields at the top of this notebook, which you can fill in with your Databricks account id, username and password. Whenever you update the values of these fields, this will trigger the update of environment variables in the cluster execution environment."
   ]
  },
  {
   "cell_type": "code",
   "execution_count": 0,
   "metadata": {
    "application/vnd.databricks.v1+cell": {
     "cellMetadata": {},
     "inputWidgets": {},
     "nuid": "a7ac0f02-5eb6-4a05-a1f9-1e6d120f925f",
     "showTitle": false,
     "title": ""
    }
   },
   "outputs": [],
   "source": [
    "dbutils.widgets.text(name='account_id', defaultValue='')\n",
    "dbutils.widgets.text(name='username', defaultValue='')\n",
    "dbutils.widgets.text(name='password', defaultValue='')\n",
    "\n",
    "import base64,os\n",
    "\n",
    "os.environ[\"DBACADEMY_API_URL\"] = f\"https://accounts.cloud.databricks.com/api/2.0/accounts/{dbutils.widgets.get('account_id')}\"\n",
    "os.environ[\"DBACADEMY_API_AUTHENTICATION\"] = f\"Authorization: Basic {base64.b64encode(('%s:%s' % (dbutils.widgets.get('username'),dbutils.widgets.get('password'))).encode('ascii')).decode('ascii')}\""
   ]
  },
  {
   "cell_type": "markdown",
   "metadata": {
    "application/vnd.databricks.v1+cell": {
     "cellMetadata": {},
     "inputWidgets": {},
     "nuid": "b16ff671-cdb2-4637-8b58-1374b16d039f",
     "showTitle": false,
     "title": ""
    }
   },
   "source": [
    "### Querying workspaces\n",
    "Let's verify we can now authenticate with the REST API by executing the following cells, which displays a list of existing workspaces."
   ]
  },
  {
   "cell_type": "code",
   "execution_count": 0,
   "metadata": {
    "application/vnd.databricks.v1+cell": {
     "cellMetadata": {},
     "inputWidgets": {},
     "nuid": "ad146885-fd79-453c-9e79-9785abca5fd1",
     "showTitle": false,
     "title": ""
    }
   },
   "outputs": [],
   "source": [
    "%sh curl -s -X GET -H \"${DBACADEMY_API_AUTHENTICATION}\" \"${DBACADEMY_API_URL}/workspaces\" | json_pp"
   ]
  },
  {
   "cell_type": "markdown",
   "metadata": {
    "application/vnd.databricks.v1+cell": {
     "cellMetadata": {},
     "inputWidgets": {},
     "nuid": "d90cfba9-149d-4a2e-ac85-8fed8b6c004a",
     "showTitle": false,
     "title": ""
    }
   },
   "source": [
    "This call accomplishes two things:\n",
    "1. it validates your authentication information and determines if it provides administrative capabilities\n",
    "1. it provides us with information we will need shortly to create a new workspace\n",
    "\n",
    "Scrolling through the list, let's locate the workspace we created in the *Deploying a workspace in a customer-managed VPC* lab (or we can use any workspace for that matter). Let's take note of the *credentials_id* and *storage_configuration_id*. Since workspaces can share these configurations, we'll reuse them shortly to create a workspace with our managed key."
   ]
  },
  {
   "cell_type": "markdown",
   "metadata": {
    "application/vnd.databricks.v1+cell": {
     "cellMetadata": {},
     "inputWidgets": {},
     "nuid": "fcb95551-5839-470a-a147-5f7dbc36479c",
     "showTitle": false,
     "title": ""
    }
   },
   "source": [
    "## Creating a key configuration\n",
    "\n",
    "Before we can apply an AWS key to a new or existing workspace, we must make Databricks aware of the key by creating a key configuration. Similar to how credential configurations, storage configurations, and network configurations all bring awareness of AWS constructs into Databricks, key configurations accomplish the same goal for AWS keys. Using the Account console API, let's create a new key configuration. Here we are creating the key for use with both managed services (control plane) and storage (data plane). And in that context, we're also providing for encryption on your cluster's EBS volumes.\n",
    "\n",
    "Prior to executing the following cell, be sure to replace <KEY_ARN> and <KEY_ALIAS> to the proper values from the key we created earlier."
   ]
  },
  {
   "cell_type": "code",
   "execution_count": 0,
   "metadata": {
    "application/vnd.databricks.v1+cell": {
     "cellMetadata": {},
     "inputWidgets": {},
     "nuid": "1d4abef6-ec3f-49bc-8d1d-87bb472bc69d",
     "showTitle": false,
     "title": ""
    }
   },
   "outputs": [],
   "source": [
    "%sh cat << EOF | curl -s -X POST -H \"${DBACADEMY_API_AUTHENTICATION}\" \"${DBACADEMY_API_URL}/customer-managed-keys\" -d @- | json_pp\n",
    "{\n",
    "  \"use_cases\": [\"STORAGE\",\"MANAGED_SERVICES\"],\n",
    "  \"aws_key_info\": {\n",
    "    \"key_arn\": \"<KEY_ARN>\",\n",
    "    \"key_alias\": \"<KEY_ALIAS>\",\n",
    "    \"reuse_key_for_cluster_volumes\": true\n",
    "  }\n",
    "EOF"
   ]
  },
  {
   "cell_type": "markdown",
   "metadata": {
    "application/vnd.databricks.v1+cell": {
     "cellMetadata": {},
     "inputWidgets": {},
     "nuid": "cffa4ae4-f972-4645-a7a6-89462a7ba3af",
     "showTitle": false,
     "title": ""
    }
   },
   "source": [
    "Once this executes successfully, take note of the  *customer_managed_key_id*. We will additionally need this value to create our workspace."
   ]
  },
  {
   "cell_type": "markdown",
   "metadata": {
    "application/vnd.databricks.v1+cell": {
     "cellMetadata": {},
     "inputWidgets": {},
     "nuid": "f64fc20e-0f3d-491a-9dbf-f68b57943770",
     "showTitle": false,
     "title": ""
    }
   },
   "source": [
    "## Creating a workspace\n",
    "\n",
    "Now let's now create a new workspace using our key configuration. Though we've created workspaces before, this time we're using the Account API to do so since key configurations aren't currently handled by the UI.\n",
    "\n",
    "Prior to executing the following cell, be sure to replace *&lt;<CREDENTIALS_ID&gt;* and *&lt;STORAGE_CONFIGURATION_ID&gt;* with the values gathered earlier, and replace both instances of *&lt;CSK_ID&gt;* with the customer managed key id you just created."
   ]
  },
  {
   "cell_type": "code",
   "execution_count": 0,
   "metadata": {
    "application/vnd.databricks.v1+cell": {
     "cellMetadata": {},
     "inputWidgets": {},
     "nuid": "2b338bb2-d289-4dd0-b7a9-6080692262f7",
     "showTitle": false,
     "title": ""
    }
   },
   "outputs": [],
   "source": [
    "%sh cat << EOF | curl -s -X POST -H \"${DBACADEMY_API_AUTHENTICATION}\" \"${DBACADEMY_API_URL}/workspaces\" -d @- | json_pp\n",
    "{\n",
    "  \"workspace_name\": \"dbacademy_test_workspace_csk\",\n",
    "  \"deployment_name\": \"workspace_csk\",\n",
    "  \"credentials_id\": \"<CREDENTIALS_ID>\",\n",
    "  \"storage_configuration_id\": \"<STORAGE_CONFIGURATION_ID>\",\n",
    "  \"managed_services_customer_managed_key_id\": \"<CSK_ID>\",\n",
    "  \"storage_customer_managed_key_id\": \"<CSK_ID>\"\n",
    "}\n",
    "EOF"
   ]
  },
  {
   "cell_type": "markdown",
   "metadata": {
    "application/vnd.databricks.v1+cell": {
     "cellMetadata": {},
     "inputWidgets": {},
     "nuid": "46fac376-183a-45ea-8afd-de72b5c1ac08",
     "showTitle": false,
     "title": ""
    }
   },
   "source": [
    "That's all there is to it! Functionally, this workspace is no different than others; data in both the control and data planes is always always secure and encrypted at rest. In this case, however, we retain full control of the key used in the encryption. Disabling the key in the AWS console will immediately render all data in the the control and data planes inaccessible."
   ]
  },
  {
   "cell_type": "markdown",
   "metadata": {
    "application/vnd.databricks.v1+cell": {
     "cellMetadata": {},
     "inputWidgets": {},
     "nuid": "7b821ef3-f984-40f1-b080-97ac73183aeb",
     "showTitle": false,
     "title": ""
    }
   },
   "source": [
    "## Applying a customer-managed key to an existing workspace\n",
    "\n",
    "If the desire is to apply a customer-managed key to an existing workspace, this can be done with a **`PATCH`** request, taking the form as follows. Be sure to substitute\n",
    "*&lt;WORKSPACE_ID&gt;* with an appropriate value like we saw earlier when listing workpaces. Furthermore, replace both instances of <CSK_ID> with the customer managed key id you just created.\n",
    "\n",
    "Note that if you're updating storage encryption, be sure to shutdown any clusters prior to updating, and wait at least 20 minutes after updating to start new clusters or use the DBFS API."
   ]
  },
  {
   "cell_type": "code",
   "execution_count": 0,
   "metadata": {
    "application/vnd.databricks.v1+cell": {
     "cellMetadata": {},
     "inputWidgets": {},
     "nuid": "e1142046-8aaa-4699-82b2-0bdd8bf1f726",
     "showTitle": false,
     "title": ""
    }
   },
   "outputs": [],
   "source": [
    "%sh cat << EOF | curl -s -X PATCH -H \"${DBACADEMY_API_AUTHENTICATION}\" \"${DBACADEMY_API_URL}/workspaces/<WORKSPACE_ID>\" -d @- | json_pp\n",
    "{\n",
    "  \"managed_services_customer_managed_key_id\": \"<CSK_ID>\",\n",
    "  \"storage_customer_managed_key_id\": \"<CSK_ID>\"\n",
    "}\n",
    "EOF"
   ]
  },
  {
   "cell_type": "markdown",
   "metadata": {
    "application/vnd.databricks.v1+cell": {
     "cellMetadata": {},
     "inputWidgets": {},
     "nuid": "4df58d44-deb7-4d37-bece-379bef10822b",
     "showTitle": false,
     "title": ""
    }
   },
   "source": [
    "&copy; 2023 Databricks, Inc. All rights reserved.<br/>\n",
    "Apache, Apache Spark, Spark and the Spark logo are trademarks of the <a href=\"https://www.apache.org/\">Apache Software Foundation</a>.<br/>\n",
    "<br/>\n",
    "<a href=\"https://databricks.com/privacy-policy\">Privacy Policy</a> | <a href=\"https://databricks.com/terms-of-use\">Terms of Use</a> | <a href=\"https://help.databricks.com/\">Support</a>"
   ]
  }
 ],
 "metadata": {
  "application/vnd.databricks.v1+notebook": {
   "dashboards": [],
   "environmentMetadata": null,
   "language": "python",
   "notebookMetadata": {
    "pythonIndentUnit": 2
   },
   "notebookName": "2 Securing your workspaces with customer-managed keys",
   "widgets": {}
  }
 },
 "nbformat": 4,
 "nbformat_minor": 0
}
